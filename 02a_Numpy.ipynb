{
 "cells": [
  {
   "cell_type": "markdown",
   "id": "98a7eb51",
   "metadata": {},
   "source": [
    "<br />\n",
    "\n",
    "***\n",
    "\n",
    "## **NumPy**\n",
    "\n",
    "NumPy (Numerical Python) to biblioteka Python służąca do efektywnego wykonywania operacji na tablicach n-wymiarowych (strukturach danych zawierających liczby). Wykorzystuje ciągłe bloki pamięci i implementacje w językach niskiego poziomu (C/C++), dzięki czemu operacje na tablicach NumPy są **wielokrotnie szybsze** niż ekwiwalentne operacje na standardowych listach Pythona. Poniżej przypomnimy najważniejsze cechy i funkcjonalności NumPy.\n",
    "\n",
    "### **Tworzenie tablic i podstawowe atrybuty `.shape` i `.dtype`**\n",
    "\n",
    "Aby skorzystać z NumPy, najpierw należy zaimportować bibliotekę, zazwyczaj z aliasem **`np`**:\n"
   ]
  },
  {
   "cell_type": "code",
   "execution_count": 1,
   "id": "5e5bf4d4",
   "metadata": {},
   "outputs": [],
   "source": [
    "import numpy as np  # standardowa konwencja aliasu"
   ]
  },
  {
   "cell_type": "markdown",
   "id": "da0ec1c0",
   "metadata": {},
   "source": [
    "Podstawowym typem danych w NumPy jest **ndarray** (wielowymiarowa tablica). Najprostszym sposobem utworzenia tablicy jest przekazanie listy (lub zagnieżdżonych list) do funkcji **`np.array`**. Poniżej utworzymy proste tablice i sprawdzimy ich atrybuty:\n"
   ]
  },
  {
   "cell_type": "code",
   "execution_count": 3,
   "id": "5bb3ce6a",
   "metadata": {},
   "outputs": [
    {
     "data": {
      "text/plain": [
       "[1, 2, 3, 4, 5]"
      ]
     },
     "execution_count": 3,
     "metadata": {},
     "output_type": "execute_result"
    }
   ],
   "source": [
    "[1, 2, 3, 4, 5]"
   ]
  },
  {
   "cell_type": "code",
   "execution_count": 2,
   "id": "ade7869e",
   "metadata": {},
   "outputs": [
    {
     "name": "stdout",
     "output_type": "stream",
     "text": [
      "[1 2 3 4 5]\n",
      "<class 'numpy.ndarray'>\n"
     ]
    }
   ],
   "source": [
    "\n",
    "# Tworzenie 1-wymiarowej tablicy z listy Python\n",
    "vector = np.array([1, 2, 3, 4, 5])\n",
    "print(vector)        # Wyświetlenie zawartości tablicy\n",
    "print(type(vector))  # Typ obiektu (numpy.ndarray)"
   ]
  },
  {
   "cell_type": "code",
   "execution_count": 7,
   "id": "15be1e8f",
   "metadata": {},
   "outputs": [
    {
     "data": {
      "text/plain": [
       "array([1, 2, 3, 4, 5])"
      ]
     },
     "execution_count": 7,
     "metadata": {},
     "output_type": "execute_result"
    }
   ],
   "source": [
    "vector"
   ]
  },
  {
   "cell_type": "code",
   "execution_count": 4,
   "id": "f53410f8",
   "metadata": {},
   "outputs": [
    {
     "name": "stdout",
     "output_type": "stream",
     "text": [
      "Shape: (5,)\n",
      "Dtype: int64\n"
     ]
    }
   ],
   "source": [
    "# Atrybuty tablicy 1D\n",
    "print(\"Shape:\", vector.shape)   # kształt tablicy (tu: (5,), czyli 5 elementów w jednym wymiarze)\n",
    "print(\"Dtype:\", vector.dtype)   # typ danych przechowywanych w tablicy (np. int64, float64)\n"
   ]
  },
  {
   "cell_type": "markdown",
   "id": "06fc6a65",
   "metadata": {},
   "source": [
    "\n",
    "\n",
    "Wynik działania powyższego kodu (po uruchomieniu) powinien pokazać, że **`vector`** to **`numpy.ndarray`** o kształcie **`(5,)`** i określonym typie danych (domyślnie NumPy wybierze typ najbardziej dopasowany do przekazanych wartości, w tym przypadku zapewne **`int64`** lub **`int32`** w zależności od platformy). Atrybut **`.shape`** zwraca krotkę z rozmiarami tablicy w każdym wymiarze. Jednowymiarowa tablica o 5 elementach ma **`.shape == (5,)`**. Natomiast **`.dtype`** opisuje typ każdego elementu (np. liczby całkowite 64-bitowe, liczby zmiennoprzecinkowe 32-bitowe, itp.).\n",
    "\n",
    "Możemy tworzyć również tablice wielowymiarowe przekazując zagnieżdżone sekwencje (np. listy list). NumPy automatycznie zinterpretuje strukturę zagnieżdżonych list jako wymiary tablicy:\n"
   ]
  },
  {
   "cell_type": "code",
   "execution_count": null,
   "id": "db7f361f",
   "metadata": {},
   "outputs": [
    {
     "name": "stdout",
     "output_type": "stream",
     "text": [
      "[[10. 20. 30.]\n",
      " [40. 50. 60.]\n",
      " [70. 80. 90.]]\n",
      "Shape: (3, 3)\n",
      "Dtype: float64\n"
     ]
    }
   ],
   "source": [
    "\n",
    "# Tworzenie 2-wymiarowej tablicy (macierzy) z list zagnieżdżonych\n",
    "matrix = np.array([[10, 20, 30],\n",
    "                   [40, 50, 60],\n",
    "                   [70, 80, 90]])\n",
    "print(matrix)\n",
    "print(\"Shape:\", matrix.shape)  # (3, 3) - 3 wiersze, 3 kolumny\n",
    "print(\"Dtype:\", matrix.dtype)  # typ danych, np. int64\n"
   ]
  },
  {
   "cell_type": "code",
   "execution_count": 9,
   "id": "42933747",
   "metadata": {},
   "outputs": [
    {
     "data": {
      "text/plain": [
       "2"
      ]
     },
     "execution_count": 9,
     "metadata": {},
     "output_type": "execute_result"
    }
   ],
   "source": [
    "matrix.ndim"
   ]
  },
  {
   "cell_type": "markdown",
   "id": "6936cdb3",
   "metadata": {},
   "source": [
    "\n",
    "\n",
    "W powyższym przykładzie **`matrix`** jest tablicą 3x3 (3 wiersze, 3 kolumny). Zwróć uwagę, że NumPy wyświetla tablicę 2D w postaci wierszy i kolumn. Atrybut **`.shape`** zwraca **`(3, 3)`**. Jeśli chodzi o typ danych, w tablicy NumPy wszystkie elementy **muszą być tego samego typu** (jest to różnica w porównaniu do list Pythona, które mogą zawierać elementy różnych typów). NumPy dobierze typ wystarczająco pojemny, by pomieścić wszystkie wartości – w naszym przypadku wszystkie liczby to całkowite, więc typem będzie któryś z całkowitych (**`int`**).\n",
    "\n",
    "Jeśli podamy dane różnych typów, NumPy zastosuje **upcasting** do typu mogącego reprezentować wszystkie podane wartości. Np. jeśli w liście jest mieszanka int i float, wynikowa tablica będzie typu **`float`** (bo float może reprezentować int, ale nie odwrotnie bez utraty informacji).\n"
   ]
  },
  {
   "cell_type": "code",
   "execution_count": 18,
   "id": "921910c9",
   "metadata": {},
   "outputs": [
    {
     "name": "stdout",
     "output_type": "stream",
     "text": [
      "[1.  2.5 3. ]\n",
      "Dtype: float64\n"
     ]
    }
   ],
   "source": [
    "\n",
    "mixed = np.array([1, 2.5, 3])  # jeden element jest float, reszta int\n",
    "print(mixed)\n",
    "print(\"Dtype:\", mixed.dtype)   # spodziewany dtype: float64 (wszystkie elementy zostaną przekonwertowane na float)\n"
   ]
  },
  {
   "cell_type": "markdown",
   "id": "4003e989",
   "metadata": {},
   "source": [
    "\n",
    "Często przy tworzeniu tablic używa się także funkcji wbudowanych NumPy do generowania danych, np.:\n",
    "\n",
    "* **`np.zeros(shape)`** – tworzy tablicę wypełnioną zerami o zadanym kształcie,\n",
    "* **`np.ones(shape)`** – tablica wypełniona jedynkami,\n",
    "* **`np.full(shape, fill_value)`** – tablica wypełniona stałą wartością,\n",
    "* **`np.arange(start, stop, step)`** – analogiczne do wbudowanego **`range`**, tworzy tablicę z ciągiem liczb w podanym zakresie,\n",
    "* **`np.linspace(start, stop, num)`** – generuje **`num`** równomiernie rozłożonych wartości od **`start`** do **`stop`** włącznie,\n",
    "* **`np.random.rand(d0, d1, ...)`** – generuje tablicę o podanych wymiarach wypełnioną losowymi liczbami z przedziału \\[0,1).\n"
   ]
  },
  {
   "cell_type": "code",
   "execution_count": null,
   "id": "9634d797",
   "metadata": {},
   "outputs": [
    {
     "name": "stdout",
     "output_type": "stream",
     "text": [
      "rand:\n",
      " [[0.41235137 0.55320189 0.79661393]\n",
      " [0.88517262 0.85976623 0.73685889]]\n",
      "randint:\n",
      " [[ 9 10  7]\n",
      " [ 6  5  7]]\n"
     ]
    }
   ],
   "source": [
    "zeros = np.zeros((2, 5))            # 2x5 zera (float64 domyślnie)\n",
    "ones = np.ones((3, 2), dtype=int)   # 3x2 jedynki, wymuszamy dtype=int\n",
    "vals = np.full((2, 3), 7.5)         # 2x3 stała wartość 7.5\n",
    "\n",
    "seq  = np.arange(0, 10, 2)          # sekwencja: 0, 2, 4, 6, 8 (jak range, koniec 10 nie wchodzi)\n",
    "lin  = np.linspace(0, 1, 5)         # 5 liczb od 0 do 1: [0.   0.25 0.5  0.75 1.  ]\n",
    "\n",
    "rand = np.random.rand(2, 3)         # 2x3 losowe wartości (zmiennoprzecinkowe z [0,1))\n",
    "randint = np.random.randint(1, 11, (2, 3))  # 2x3 losowe liczby całkowite z zakresu [1, 11)\n",
    "\n",
    "print(\"zeros:\\n\", zeros)\n",
    "print(\"ones:\\n\", ones)\n",
    "print(\"vals:\\n\", vals)\n",
    "print(\"seq:\\n\", seq)\n",
    "print(\"lin:\\n\", lin)\n",
    "print(\"rand:\\n\", rand)\n",
    "print(\"randint:\\n\", randint)\n"
   ]
  },
  {
   "cell_type": "markdown",
   "id": "71a1fe95",
   "metadata": {},
   "source": [
    "\n",
    "\n",
    "W powyższym kodzie:\n",
    "\n",
    "* Zmienna **`zeros`** to tablica 2x5 z samymi zerami.\n",
    "* **`ones`** to tablica 3x2 z jedynkami typu całkowitego (dzięki parametrowi **`dtype=int`**).\n",
    "* **`vals`** to tablica 2x3, gdzie każdy element ma wartość 7.5 (typ zostanie float64).\n",
    "* **`seq`** to jednowymiarowa tablica z ciągiem **`[0, 2, 4, 6, 8]`**.\n",
    "* **`lin`** to 1D z pięcioma wartościami od 0 do 1 (włącznie) liniowo rozmieszczonymi.\n",
    "* **`rand`** to tablica 2x3 z losowymi liczbami zmiennoprzecinkowymi z zakresu \\[0,1)."
   ]
  },
  {
   "cell_type": "markdown",
   "id": "a07089d6",
   "metadata": {},
   "source": [
    "\n",
    "**Wskazówka:** Przydatnym atrybutem jest też **`.ndim`** (liczba wymiarów tablicy). Np. **`matrix.ndim`** dla tablicy 2D wyniesie 2, a **`vector.ndim`** dla wektora 1D wyniesie 1. Ponadto **`.size`** zwraca **całkowitą liczbę elementów** w tablicy (iloczyn wielkości wzdłuż wszystkich wymiarów).\n"
   ]
  },
  {
   "cell_type": "code",
   "execution_count": 35,
   "id": "c96709aa",
   "metadata": {},
   "outputs": [
    {
     "name": "stdout",
     "output_type": "stream",
     "text": [
      "ndim vector: 1  size: 5\n",
      "ndim matrix: 2  size: 9\n"
     ]
    }
   ],
   "source": [
    "print(\"ndim vector:\", vector.ndim, \" size:\", vector.size)\n",
    "print(\"ndim matrix:\", matrix.ndim, \" size:\", matrix.size)\n"
   ]
  },
  {
   "cell_type": "markdown",
   "id": "0f555c20",
   "metadata": {},
   "source": [
    "\n",
    "\n",
    "\n",
    "Teraz gdy znamy podstawy tworzenia tablic, przejdźmy do pobierania danych z tablic, czyli indeksowania i *slicingu*.\n"
   ]
  },
  {
   "cell_type": "code",
   "execution_count": 38,
   "id": "2e200006",
   "metadata": {},
   "outputs": [
    {
     "name": "stdout",
     "output_type": "stream",
     "text": [
      "1\n"
     ]
    }
   ],
   "source": [
    "# Dostęp do elementów tablicy 1D i 2D\n",
    "nested_list= [[1, 2, 3], [4, 5, 6], [7, 8, 9]]\n",
    "print(nested_list[0][0])"
   ]
  },
  {
   "cell_type": "markdown",
   "id": "32e63e7a",
   "metadata": {},
   "source": [
    "\n",
    "\n",
    "### **Indeksowanie i slicing w tablicach 1D, 2D, 3D**\n",
    "\n",
    "Indeksowanie w NumPy jest zbliżone do indeksowania standardowych sekwencji Pythona, ale daje też dużo większe możliwości (np. indeksowanie wielowymiarowe, indeksowanie maskami boolean, itp.).\n",
    "\n",
    "**Indeksowanie proste (liczbami całkowitymi)**:\n",
    "\n",
    "* Tablice NumPy są **indeksowane od 0** (tak jak listy w Pythonie).\n",
    "* Dla tablicy 1D **`vector`**, element o indeksie **`i`** uzyskamy poprzez **`vector[i]`**.\n",
    "* Dla tablic wielowymiarowych podajemy indeksy dla kolejnych wymiarów oddzielone przecinkami, np. **`matrix[1, 2]`** to element w 2. wierszu i 3. kolumnie (bo indeksy od 0).\n",
    "\n",
    "Przykłady:"
   ]
  },
  {
   "cell_type": "code",
   "execution_count": 42,
   "id": "161718cf",
   "metadata": {},
   "outputs": [
    {
     "name": "stdout",
     "output_type": "stream",
     "text": [
      "[1 2 3 4 5]\n",
      "Element o indeksie 0: 1\n",
      "Element o indeksie 4: 5\n",
      "Ostatni element: 5\n"
     ]
    }
   ],
   "source": [
    "\n",
    "# Indeksowanie tablicy 1D\n",
    "print(vector)        # array([1, 2, 3, 4, 5])\n",
    "print(\"Element o indeksie 0:\", vector[0])\n",
    "print(\"Element o indeksie 4:\", vector[4])\n",
    "print(\"Ostatni element:\", vector[-1])  # ostatni element (indeks -1)\n",
    "# print(vector[5])   # odkomentowanie spowoduje błąd IndexError (indeks poza zakresem)"
   ]
  },
  {
   "cell_type": "code",
   "execution_count": 43,
   "id": "7f41ae4b",
   "metadata": {},
   "outputs": [
    {
     "name": "stdout",
     "output_type": "stream",
     "text": [
      "[[10. 20. 30.]\n",
      " [40. 50. 60.]\n",
      " [70. 80. 90.]]\n",
      "(3, 3)\n"
     ]
    }
   ],
   "source": [
    "print(matrix)\n",
    "print(matrix.shape)"
   ]
  },
  {
   "cell_type": "code",
   "execution_count": 45,
   "id": "17e48636",
   "metadata": {},
   "outputs": [
    {
     "name": "stdout",
     "output_type": "stream",
     "text": [
      "[[10. 20. 30.]\n",
      " [40. 50. 60.]\n",
      " [70. 80. 90.]]\n",
      "Element w 1. wierszu, 2. kolumnie: 60.0\n",
      "Element w 0. wierszu, 0. kolumnie: 10.0\n"
     ]
    }
   ],
   "source": [
    "# Indeksowanie tablicy 2D\n",
    "print(matrix)\n",
    "print(\"Element w 1. wierszu, 2. kolumnie:\", matrix[1, 2])  # matrix[1][2] również zadziała, ale zalecane jest [1,2]\n",
    "print(\"Element w 0. wierszu, 0. kolumnie:\", matrix[0, 0])\n"
   ]
  },
  {
   "cell_type": "markdown",
   "id": "6bf4ffb0",
   "metadata": {},
   "source": [
    "\n",
    "Wyniki:\n",
    "\n",
    "* **`vector[0]`** powinno zwrócić pierwszą wartość **`1`**.\n",
    "* **`vector[4]`** zwróci **`5`** (ostatni element, ponieważ tablica ma indeksy 0..4).\n",
    "* **`matrix[1, 2]`** to wartość w drugim wierszu (indeks 1) i trzeciej kolumnie (indeks 2). Zgodnie z tablicą z wcześniejszego przykładu **`matrix`**, powinno to być **`60`**.\n",
    "* **`matrix[0, 0]`** to lewy górny róg **`matrix`**, czyli **`10`** w naszym przykładzie.\n"
   ]
  },
  {
   "cell_type": "markdown",
   "id": "03873f06",
   "metadata": {},
   "source": [
    "\n",
    "**Slicing (wycinki)**:\n",
    "\n",
    "Składnia slicing w Pythonie (**`start:stop:step`**) działa także na tablicach NumPy. W przypadku wielowymiarowych tablic możemy slicing stosować niezależnie na każdym wymiarze, oddzielając zakresy przecinkami.\n",
    "\n",
    "* **`array[start:stop]`** – wybiera elementy w indeksach od **`start`** do **`stop-1`** (tak jak w listach, koniec **nie** jest włączony).\n",
    "* Można pominąć **`start`** lub **`stop`**, uzyskując domyślnie początek lub koniec tablicy.\n",
    "* **`step`** określa co który element brać (domyślnie 1).\n"
   ]
  },
  {
   "cell_type": "markdown",
   "id": "36b8973c",
   "metadata": {},
   "source": [
    "Przykłady na tablicy 1D:\n"
   ]
  },
  {
   "cell_type": "code",
   "execution_count": 46,
   "id": "2679b90b",
   "metadata": {},
   "outputs": [
    {
     "name": "stdout",
     "output_type": "stream",
     "text": [
      "vector: [1 2 3 4 5]\n",
      "vector[1:4]: [2 3 4]\n",
      "vector[:3]: [1 2 3]\n",
      "vector[3:]: [4 5]\n",
      "vector[::2]: [1 3 5]\n",
      "vector[::-1]: [5 4 3 2 1]\n"
     ]
    }
   ],
   "source": [
    "\n",
    "print(\"vector:\", vector)       # [1 2 3 4 5]\n",
    "print(\"vector[1:4]:\", vector[1:4])   # od indeksu 1 do 3 -> [2 3 4]\n",
    "print(\"vector[:3]:\", vector[:3])     # od początku do indeksu 2 -> [1 2 3]\n",
    "print(\"vector[3:]:\", vector[3:])     # od indeksu 3 do końca -> [4 5]\n",
    "print(\"vector[::2]:\", vector[::2])   # co drugi element -> [1 3 5]\n",
    "print(\"vector[::-1]:\", vector[::-1]) # odwrócenie kolejności -> [5 4 3 2 1]\n"
   ]
  },
  {
   "cell_type": "markdown",
   "id": "58d2ad80",
   "metadata": {},
   "source": [
    "Slicing tablicy 2D (np. **`matrix`**). Załóżmy **`matrix`** według wcześniejszego przykładu:\n"
   ]
  },
  {
   "cell_type": "code",
   "execution_count": 61,
   "id": "e26f7418",
   "metadata": {},
   "outputs": [],
   "source": [
    "\n",
    "matrix =np.array( [[10, 20, 30],\n",
    "          [40, 50, 60],\n",
    "          [70, 80, 90]])\n"
   ]
  },
  {
   "cell_type": "markdown",
   "id": "9edb98f8",
   "metadata": {},
   "source": [
    "Indices:\n",
    "\n",
    "* Wiersze: 0,1,2\n",
    "* Kolumny: 0,1,2\n",
    "\n",
    "Kilka przykładów wycinania fragmentów:"
   ]
  },
  {
   "cell_type": "code",
   "execution_count": 56,
   "id": "5eed4e58",
   "metadata": {},
   "outputs": [
    {
     "name": "stdout",
     "output_type": "stream",
     "text": [
      "matrix:\n",
      " [[10 20 30]\n",
      " [40 50 60]\n",
      " [70 80 90]]\n",
      "Wiersz 1:\n",
      " [40 50 60]\n",
      "Kolumna 2:\n",
      " [30 60 90]\n",
      "Pierwsze dwa wiersze:\n",
      " [[10 20 30]\n",
      " [40 50 60]]\n",
      "Podtablica (wiersze 0-1, kolumny 1-2):\n",
      " [[20 30]\n",
      " [50 60]]\n"
     ]
    }
   ],
   "source": [
    "print(\"matrix:\\n\", matrix)\n",
    "print(\"Wiersz 1:\\n\", matrix[1, :])         # drugi wiersz (indeks 1), wszystkie kolumny -> [40 50 60]\n",
    "print(\"Kolumna 2:\\n\", matrix[:, 2])        # wszystkie wiersze, kolumna 2 (trzecia) -> [30 60 90]\n",
    "print(\"Pierwsze dwa wiersze:\\n\", matrix[:2, :])   # wiersze 0 i 1, wszystkie kolumny (wynik to tablica 2x3)\n",
    "print(\"Podtablica (wiersze 0-1, kolumny 1-2):\\n\", matrix[:2, 1:3])\n"
   ]
  },
  {
   "cell_type": "markdown",
   "id": "07ec9cf5",
   "metadata": {},
   "source": [
    "\n",
    "\n",
    "Wyniki:\n",
    "\n",
    "* **`matrix[1, :]`** wyciąga cały wiersz o indeksie 1: **`[40 50 60]`**.\n",
    "* **`matrix[:, 2]`** wyciąga całą kolumnę o indeksie 2: **`[30 60 90]`**. (Uwaga: wynik w tym wypadku będzie 1-wymiarową tablicą z 3 elementami.)\n",
    "* **`matrix[:2, :]`** wybiera wiersze o indeksach 0 i 1 (czyli dwa pierwsze wiersze) oraz wszystkie kolumny. \n"
   ]
  },
  {
   "cell_type": "markdown",
   "id": "17ac3adc",
   "metadata": {},
   "source": [
    "**Tablice 3D i wyższych wymiarów**: Indeksowanie i slicing rozszerza się naturalnie. Dla tablicy 3-wymiarowej musimy podać trzy indeksy lub zakresy (np. **`arr3d[x, y, z]`**). Poniżej krótki przykład:\n"
   ]
  },
  {
   "cell_type": "code",
   "execution_count": 57,
   "id": "dc33b072",
   "metadata": {},
   "outputs": [
    {
     "name": "stdout",
     "output_type": "stream",
     "text": [
      "arr3d shape: (2, 3, 4)\n",
      "[[[ 0  1  2  3]\n",
      "  [ 4  5  6  7]\n",
      "  [ 8  9 10 11]]\n",
      "\n",
      " [[12 13 14 15]\n",
      "  [16 17 18 19]\n",
      "  [20 21 22 23]]]\n"
     ]
    }
   ],
   "source": [
    "# Tworzymy tablicę 3D o wymiarach 2 x 3 x 4 (np. 2 \"warstwy\" 3x4)\n",
    "arr3d = np.arange(24).reshape((2, 3, 4))\n",
    "print(\"arr3d shape:\", arr3d.shape)\n",
    "print(arr3d)  # wypisuje całą strukturę 3D"
   ]
  },
  {
   "cell_type": "code",
   "execution_count": 59,
   "id": "599c7d2d",
   "metadata": {},
   "outputs": [
    {
     "name": "stdout",
     "output_type": "stream",
     "text": [
      "Element [1, 2, 3]: 23\n",
      "Druga warstwa, kolumny 1-2:\n",
      " [[13 14]\n",
      " [17 18]\n",
      " [21 22]]\n"
     ]
    }
   ],
   "source": [
    "\n",
    "\n",
    "# Indeksowanie 3D: arr3d[layer, row, col]\n",
    "print(\"Element [1, 2, 3]:\", arr3d[1, 2, 3])  # warstwa 1, wiersz 2, kolumna 3\n",
    "# Slicing 3D: np. druga warstwa, wszystkie wiersze, kolumny 1-2\n",
    "print(\"Druga warstwa, kolumny 1-2:\\n\", arr3d[1, :, 1:3])\n"
   ]
  },
  {
   "cell_type": "markdown",
   "id": "eca75945",
   "metadata": {},
   "source": [
    "\n",
    "W powyższej tablicy **`arr3d`**:\n",
    "\n",
    "* **`.shape`** będzie **`(2, 3, 4)`** czyli 2 warstwy, 3 wiersze, 4 kolumny.\n",
    "* **`arr3d[1, 2, 3]`** pobiera element z **drugiej** warstwy (**`index 1`**), **trzeciego** wiersza (**`index 2`**), **czwartej** kolumny (**`index 3`**). Jeśli **`arr3d`** został wypełniony **`np.arange(24)`**, to wartości rosną kolejno, więc możemy przewidzieć, że ten element ma wartość 23 (ponieważ 0-23 to 24 liczby, ostatnia to 23).\n",
    "* **`arr3d[1, :, 1:3]`** wycina z drugiej warstwy (index 1) wszystkie wiersze (**`:`**) i kolumny 1 oraz 2 (**`1:3`** - pamiętajmy że stop jest nieinclusive, więc kolumny 1 i 2). Wynik to podtablica 3x2 (3 wiersze, 2 kolumny) z warstwy 1.\n",
    "\n",
    "**Ważna uwaga:** W NumPy **slicing nie tworzy nowej kopii danych, lecz daje *widok* (view) na oryginalną tablicę**. Oznacza to, że modyfikując wycinek, zmodyfikujemy oryginalną tablicę! (Jeśli chcemy skopiować dane, należy wywołać metodę **`.copy()`** na wycinku). Przykład:\n"
   ]
  },
  {
   "cell_type": "code",
   "execution_count": 63,
   "id": "f090e3f8",
   "metadata": {},
   "outputs": [
    {
     "name": "stdout",
     "output_type": "stream",
     "text": [
      "sub_matrix przed modyfikacją:\n",
      " [[10 20]\n",
      " [40 50]]\n",
      "sub_matrix po modyfikacji:\n",
      " [[999  20]\n",
      " [ 40  50]]\n",
      "oryginalny matrix po modyfikacji wycinka:\n",
      " [[999  20  30]\n",
      " [ 40  50  60]\n",
      " [ 70  80  90]]\n"
     ]
    }
   ],
   "source": [
    "sub_matrix = matrix[:2, :2]   # wycinek 2x2 z oryginalnej tablicy matrix\n",
    "print(\"sub_matrix przed modyfikacją:\\n\", sub_matrix)\n",
    "sub_matrix[0, 0] = 999        # zmieniamy jeden element w wycinku\n",
    "print(\"sub_matrix po modyfikacji:\\n\", sub_matrix)\n",
    "print(\"oryginalny matrix po modyfikacji wycinka:\\n\", matrix)\n"
   ]
  },
  {
   "cell_type": "code",
   "execution_count": 67,
   "id": "7ae582c4",
   "metadata": {},
   "outputs": [
    {
     "data": {
      "text/plain": [
       "array([1, 2, 3, 4, 5])"
      ]
     },
     "execution_count": 67,
     "metadata": {},
     "output_type": "execute_result"
    }
   ],
   "source": [
    "vector"
   ]
  },
  {
   "cell_type": "code",
   "execution_count": null,
   "id": "5a2ebfc9",
   "metadata": {},
   "outputs": [],
   "source": []
  },
  {
   "cell_type": "code",
   "execution_count": 66,
   "id": "5818bb29",
   "metadata": {},
   "outputs": [
    {
     "name": "stdout",
     "output_type": "stream",
     "text": [
      "fancy_matrix:\n",
      " [[999  20  30]\n",
      " [ 70  80  90]]\n"
     ]
    },
    {
     "data": {
      "text/plain": [
       "array([[1, 2],\n",
       "       [3, 1]])"
      ]
     },
     "execution_count": 66,
     "metadata": {},
     "output_type": "execute_result"
    }
   ],
   "source": [
    "# Przyklad fancy indexing w numpy\n",
    "indices = [0, 2]  # indeksy wierszy, które chcemy wybrać\n",
    "fancy_matrix = matrix[indices, :]  # wybieramy wiersze 0 i 2\n",
    "print(\"fancy_matrix:\\n\", fancy_matrix)  # wyświetlamy wybrane wiersze\n",
    "\n",
    "#Przyklad fancy indexingu z 2d\n",
    "fancy_indices = np.array([[0, 1], [2, 0]])  # indeksy wierszy i kolumn\n",
    "vector[fancy_indices]  # wybieramy elementy z tych indeksów"
   ]
  },
  {
   "cell_type": "code",
   "execution_count": 68,
   "id": "579e35a2",
   "metadata": {},
   "outputs": [
    {
     "data": {
      "text/plain": [
       "array([[0, 1],\n",
       "       [2, 0]])"
      ]
     },
     "execution_count": 68,
     "metadata": {},
     "output_type": "execute_result"
    }
   ],
   "source": [
    "fancy_indices"
   ]
  },
  {
   "cell_type": "markdown",
   "id": "0c2ab272",
   "metadata": {},
   "source": [
    "Po wykonaniu powyższego kodu zauważymy, że zmiana **`sub_matrix[0,0]`** wpłynęła również na **`matrix`**, ponieważ **`sub_matrix`** to tylko widok danych **`matrix`**. Podczas pracy z NumPy trzeba być tego świadomym, by nie wprowadzać niechcących zmian do oryginalnych danych. Jeśli potrzebujemy *niezależnej* kopii fragmentu tablicy, używamy **`sub_matrix = matrix[:2, :2].copy()`**.\n"
   ]
  },
  {
   "cell_type": "markdown",
   "id": "6a4a01ee",
   "metadata": {},
   "source": [
    "\n",
    "### **Indeksowanie boolean (maskowanie) i indeksowanie listą**\n",
    "\n",
    "Oprócz zwykłego indeksowania liczbowego, NumPy umożliwia **indeksowanie boolean**: przekazanie tablicy bool (**`True`**/**`False`**) o tym samym kształcie co wymiar, który indeksujemy. Wówczas zwracane są elementy, dla których maska ma wartość True. Np.:\n"
   ]
  },
  {
   "cell_type": "code",
   "execution_count": 75,
   "id": "bf1902e6",
   "metadata": {},
   "outputs": [
    {
     "data": {
      "text/plain": [
       "array([[ True, False, False],\n",
       "       [False,  True,  True],\n",
       "       [ True,  True,  True]])"
      ]
     },
     "execution_count": 75,
     "metadata": {},
     "output_type": "execute_result"
    }
   ],
   "source": [
    "matrix > 40"
   ]
  },
  {
   "cell_type": "code",
   "execution_count": 76,
   "id": "f084c7dc",
   "metadata": {},
   "outputs": [
    {
     "name": "stdout",
     "output_type": "stream",
     "text": [
      "matrix:\n",
      " [[999  20  30]\n",
      " [ 40  50  60]\n",
      " [ 70  80  90]]\n",
      "mask >50:\n",
      " [[ True False False]\n",
      " [False False  True]\n",
      " [ True  True  True]]\n",
      "elements > 50: [999  60  70  80  90]\n"
     ]
    }
   ],
   "source": [
    "print(\"matrix:\\n\", matrix)\n",
    "mask = matrix > 50        # maska boolean, True tam gdzie element > 50\n",
    "print(\"mask >50:\\n\", mask)\n",
    "print(\"elements > 50:\", matrix[mask])"
   ]
  },
  {
   "cell_type": "markdown",
   "id": "c871bf32",
   "metadata": {},
   "source": [
    "\n",
    "\n",
    "Tutaj **`mask`** będzie tablicą boolean o kształcie (3,3) z wartościami True/False zależnie od warunku. Indeksowanie **`matrix[mask]`** zwróci 1-wymiarową tablicę zawierającą **wszystkie elementy `matrix`, dla których maska ma True**, czyli elementy > 50.\n",
    "\n",
    "Indeksowanie listą/arrayem: Możemy także wybierać nieciągłe elementy przekazując listę indeksów, np. **`vector[[0, 2, 4]]`** zwróci tablicę z elementami o indeksach 0, 2, 4. Podobnie w wymiarach 2D: **`matrix[[0,2], [1,2]]`** – tutaj przekazujemy dwie listy: pierwsza to lista wybranych wierszy, druga – odpowiadających im kolumn. Zwrócony zostanie zbiór elementów (matrix\\[0,1] i matrix\\[2,2] w tym przykładzie). Ten rodzaj indeksowania nazywa się *advanced indexing* i zawsze tworzy nową tablicę (kopię danych), w odróżnieniu od podstawowego slicing.\n"
   ]
  },
  {
   "cell_type": "markdown",
   "id": "3784a767",
   "metadata": {},
   "source": [
    "\n",
    "\n",
    "### **Operacje arytmetyczne na tablicach i wektoryzacja (zamiast pętli)**\n",
    "\n",
    "Jedną z największych zalet NumPy jest możliwość wykonywania operacji arytmetycznych na tablicach **całościowo**, bez potrzeby pisania pętli iterujących po elementach. Kod wykorzystujący te **wektorowe** operacje jest nie tylko bardziej zwięzły, ale też znacznie szybszy dzięki wewnętrznej implementacji w języku C.\n",
    "\n",
    "**Podstawowe operacje elementwise:**\n",
    "\n",
    "Operatory arytmetyczne (+, -, \\*, /, \\*\\*, %) zastosowane do tablic NumPy działają *element-po-elemencie*. Oznacza to, że np. dodając dwie tablice o tym samym kształcie otrzymamy tablicę wynikową, gdzie każdy element jest sumą odpowiadających sobie elementów operandów.\n",
    "\n",
    "Przykłady:"
   ]
  },
  {
   "cell_type": "code",
   "execution_count": 81,
   "id": "75c6752c",
   "metadata": {},
   "outputs": [
    {
     "name": "stdout",
     "output_type": "stream",
     "text": [
      "a + b = [11 12 13]\n",
      "a - b = [-9 -8 -7]\n",
      "a * b = [10 20 30]\n",
      "a / b = [0.1 0.2 0.3]\n",
      "a ** 2 = [1 4 9]\n"
     ]
    }
   ],
   "source": [
    "a = np.array([1, 2, 3])\n",
    "b = np.array([10, 10, 10])\n",
    "print(\"a + b =\", a + b)      # array([11, 12, 13])\n",
    "print(\"a - b =\", a - b)      # array([-9, -8, -7])\n",
    "print(\"a * b =\", a * b)      # array([10, 20, 30]) elementwise multiplication\n",
    "print(\"a / b =\", a / b)      # array([0.1, 0.2, 0.3]) elementwise division (floating point)\n",
    "print(\"a ** 2 =\", a ** 2)    # array([1, 4, 9]) - potęgowanie każdego elementu\n"
   ]
  },
  {
   "cell_type": "markdown",
   "id": "daab96a1",
   "metadata": {},
   "source": [
    "\n",
    "\n",
    "Te operacje zostały przeprowadzone **wektorowo** na całych tablicach jednocześnie. Ich odpowiednikiem w czystym Pythonie byłoby iterowanie po indeksach i operacje na pojedynczych liczbach, co jest dużo mniej wydajne.\n"
   ]
  },
  {
   "cell_type": "markdown",
   "id": "83b3f9d1",
   "metadata": {},
   "source": [
    "\n",
    "\n",
    "**Wektoryzacja vs pętle – wydajność:**\n",
    "\n",
    "W Pythonie pętle **`for`** są stosunkowo wolne, zwłaszcza gdy wewnątrz wykonujemy operacje arytmetyczne w czystym Pythonie. NumPy pozwala przenieść te operacje do kodu w C działającego na całych blokach danych. Dzięki temu, operacje na dużych tablicach mogą być **wielokrotnie (rzędy wielkości) szybsze** od ekwiwalentnych operacji wykonywanych pętlą Pythona.\n",
    "\n",
    "Dla ilustracji, rozważmy prosty przykład: chcemy dodać dwie tablice 10-milionów liczb. Porównamy podejście pętli Python vs wektorowego dodawania NumPy (ten kod można wykonać, chociaż dla 10 mln elementów może być odczuwalnie wolny w wersji pętlowej):\n"
   ]
  },
  {
   "cell_type": "code",
   "execution_count": 82,
   "id": "c908c016",
   "metadata": {},
   "outputs": [
    {
     "name": "stdout",
     "output_type": "stream",
     "text": [
      "Czas dodawania pętlą Python: 3.861135959625244 sekund\n",
      "Czas dodawania wektorowego: 0.05312705039978027 sekund\n"
     ]
    }
   ],
   "source": [
    "\n",
    "import time\n",
    "\n",
    "# Przygotowanie danych - 10 milionów losowych liczb\n",
    "N = 10_000_000\n",
    "x = np.random.rand(N)\n",
    "y = np.random.rand(N)\n",
    "\n",
    "# Dodawanie za pomocą pętli Pythona\n",
    "start = time.time()\n",
    "result_loop = [x[i] + y[i] for i in range(N)]\n",
    "end = time.time()\n",
    "print(\"Czas dodawania pętlą Python:\", end - start, \"sekund\")\n",
    "\n",
    "# Dodawanie wektorowe NumPy\n",
    "start = time.time()\n",
    "result_vec = x + y  # wykorzystanie wektorowe\n",
    "end = time.time()\n",
    "print(\"Czas dodawania wektorowego:\", end - start, \"sekund\")"
   ]
  },
  {
   "cell_type": "code",
   "execution_count": 84,
   "id": "f01a69e6",
   "metadata": {},
   "outputs": [
    {
     "name": "stdout",
     "output_type": "stream",
     "text": [
      "59.6 ms ± 1.38 ms per loop (mean ± std. dev. of 3 runs, 10 loops each)\n"
     ]
    },
    {
     "ename": "KeyboardInterrupt",
     "evalue": "",
     "output_type": "error",
     "traceback": [
      "\u001b[31m---------------------------------------------------------------------------\u001b[39m",
      "\u001b[31mKeyboardInterrupt\u001b[39m                         Traceback (most recent call last)",
      "\u001b[36mCell\u001b[39m\u001b[36m \u001b[39m\u001b[32mIn[84]\u001b[39m\u001b[32m, line 2\u001b[39m\n\u001b[32m      1\u001b[39m get_ipython().run_line_magic(\u001b[33m'\u001b[39m\u001b[33mtimeit\u001b[39m\u001b[33m'\u001b[39m, \u001b[33m'\u001b[39m\u001b[33m-n 10 -r 3 x + y  # pomiar czasu dla operacji wektorowej\u001b[39m\u001b[33m'\u001b[39m)\n\u001b[32m----> \u001b[39m\u001b[32m2\u001b[39m \u001b[43mget_ipython\u001b[49m\u001b[43m(\u001b[49m\u001b[43m)\u001b[49m\u001b[43m.\u001b[49m\u001b[43mrun_line_magic\u001b[49m\u001b[43m(\u001b[49m\u001b[33;43m'\u001b[39;49m\u001b[33;43mtimeit\u001b[39;49m\u001b[33;43m'\u001b[39;49m\u001b[43m,\u001b[49m\u001b[43m \u001b[49m\u001b[33;43m'\u001b[39;49m\u001b[33;43m-n 10 -r 3 [x[i] + y[i] for i in range(N)]\u001b[39;49m\u001b[33;43m'\u001b[39;49m\u001b[43m)\u001b[49m\n",
      "\u001b[36mFile \u001b[39m\u001b[32mc:\\USERS\\BART.BILSKI\\CODEBRAINERS\\2024COURSES\\DS-BOOTCAMP-2024-12\\.VENV\\Lib\\site-packages\\IPython\\core\\interactiveshell.py:2481\u001b[39m, in \u001b[36mInteractiveShell.run_line_magic\u001b[39m\u001b[34m(self, magic_name, line, _stack_depth)\u001b[39m\n\u001b[32m   2479\u001b[39m     kwargs[\u001b[33m'\u001b[39m\u001b[33mlocal_ns\u001b[39m\u001b[33m'\u001b[39m] = \u001b[38;5;28mself\u001b[39m.get_local_scope(stack_depth)\n\u001b[32m   2480\u001b[39m \u001b[38;5;28;01mwith\u001b[39;00m \u001b[38;5;28mself\u001b[39m.builtin_trap:\n\u001b[32m-> \u001b[39m\u001b[32m2481\u001b[39m     result = \u001b[43mfn\u001b[49m\u001b[43m(\u001b[49m\u001b[43m*\u001b[49m\u001b[43margs\u001b[49m\u001b[43m,\u001b[49m\u001b[43m \u001b[49m\u001b[43m*\u001b[49m\u001b[43m*\u001b[49m\u001b[43mkwargs\u001b[49m\u001b[43m)\u001b[49m\n\u001b[32m   2483\u001b[39m \u001b[38;5;66;03m# The code below prevents the output from being displayed\u001b[39;00m\n\u001b[32m   2484\u001b[39m \u001b[38;5;66;03m# when using magics with decorator @output_can_be_silenced\u001b[39;00m\n\u001b[32m   2485\u001b[39m \u001b[38;5;66;03m# when the last Python token in the expression is a ';'.\u001b[39;00m\n\u001b[32m   2486\u001b[39m \u001b[38;5;28;01mif\u001b[39;00m \u001b[38;5;28mgetattr\u001b[39m(fn, magic.MAGIC_OUTPUT_CAN_BE_SILENCED, \u001b[38;5;28;01mFalse\u001b[39;00m):\n",
      "\u001b[36mFile \u001b[39m\u001b[32mc:\\USERS\\BART.BILSKI\\CODEBRAINERS\\2024COURSES\\DS-BOOTCAMP-2024-12\\.VENV\\Lib\\site-packages\\IPython\\core\\magics\\execution.py:1225\u001b[39m, in \u001b[36mExecutionMagics.timeit\u001b[39m\u001b[34m(self, line, cell, local_ns)\u001b[39m\n\u001b[32m   1222\u001b[39m         \u001b[38;5;28;01mif\u001b[39;00m time_number >= \u001b[32m0.2\u001b[39m:\n\u001b[32m   1223\u001b[39m             \u001b[38;5;28;01mbreak\u001b[39;00m\n\u001b[32m-> \u001b[39m\u001b[32m1225\u001b[39m all_runs = \u001b[43mtimer\u001b[49m\u001b[43m.\u001b[49m\u001b[43mrepeat\u001b[49m\u001b[43m(\u001b[49m\u001b[43mrepeat\u001b[49m\u001b[43m,\u001b[49m\u001b[43m \u001b[49m\u001b[43mnumber\u001b[49m\u001b[43m)\u001b[49m\n\u001b[32m   1226\u001b[39m best = \u001b[38;5;28mmin\u001b[39m(all_runs) / number\n\u001b[32m   1227\u001b[39m worst = \u001b[38;5;28mmax\u001b[39m(all_runs) / number\n",
      "\u001b[36mFile \u001b[39m\u001b[32m~\\AppData\\Local\\Programs\\Python\\Python312\\Lib\\timeit.py:208\u001b[39m, in \u001b[36mTimer.repeat\u001b[39m\u001b[34m(self, repeat, number)\u001b[39m\n\u001b[32m    206\u001b[39m r = []\n\u001b[32m    207\u001b[39m \u001b[38;5;28;01mfor\u001b[39;00m i \u001b[38;5;129;01min\u001b[39;00m \u001b[38;5;28mrange\u001b[39m(repeat):\n\u001b[32m--> \u001b[39m\u001b[32m208\u001b[39m     t = \u001b[38;5;28;43mself\u001b[39;49m\u001b[43m.\u001b[49m\u001b[43mtimeit\u001b[49m\u001b[43m(\u001b[49m\u001b[43mnumber\u001b[49m\u001b[43m)\u001b[49m\n\u001b[32m    209\u001b[39m     r.append(t)\n\u001b[32m    210\u001b[39m \u001b[38;5;28;01mreturn\u001b[39;00m r\n",
      "\u001b[36mFile \u001b[39m\u001b[32mc:\\USERS\\BART.BILSKI\\CODEBRAINERS\\2024COURSES\\DS-BOOTCAMP-2024-12\\.VENV\\Lib\\site-packages\\IPython\\core\\magics\\execution.py:182\u001b[39m, in \u001b[36mTimer.timeit\u001b[39m\u001b[34m(self, number)\u001b[39m\n\u001b[32m    180\u001b[39m gc.disable()\n\u001b[32m    181\u001b[39m \u001b[38;5;28;01mtry\u001b[39;00m:\n\u001b[32m--> \u001b[39m\u001b[32m182\u001b[39m     timing = \u001b[38;5;28;43mself\u001b[39;49m\u001b[43m.\u001b[49m\u001b[43minner\u001b[49m\u001b[43m(\u001b[49m\u001b[43mit\u001b[49m\u001b[43m,\u001b[49m\u001b[43m \u001b[49m\u001b[38;5;28;43mself\u001b[39;49m\u001b[43m.\u001b[49m\u001b[43mtimer\u001b[49m\u001b[43m)\u001b[49m\n\u001b[32m    183\u001b[39m \u001b[38;5;28;01mfinally\u001b[39;00m:\n\u001b[32m    184\u001b[39m     \u001b[38;5;28;01mif\u001b[39;00m gcold:\n",
      "\u001b[36mFile \u001b[39m\u001b[32m<magic-timeit>:1\u001b[39m, in \u001b[36minner\u001b[39m\u001b[34m(_it, _timer)\u001b[39m\n",
      "\u001b[31mKeyboardInterrupt\u001b[39m: "
     ]
    }
   ],
   "source": [
    "%timeit -n 10 -r 3 x + y  # pomiar czasu dla operacji wektorowej\n",
    "%timeit -n 10 -r 3 [x[i] + y[i] for i in range(N)]"
   ]
  },
  {
   "cell_type": "markdown",
   "id": "f821edc1",
   "metadata": {},
   "source": [
    "\n",
    "\n",
    "Jeśli wykonamy powyższy kod, zazwyczaj zobaczymy dramatyczną różnicę. Dla takiej skali danych podejście wektorowe może być **dziesiątki, a nawet setki razy szybsze** od pętli Python. W literaturze znaleźć można przykłady, gdzie operacja wektorowa była nawet \\~2500 razy szybsza od odpowiednika pętli w Pythonie. Oczywiście przy mniejszych tablicach różnice mogą być mniejsze (a dla bardzo małych struktur narzut wywołania funkcji NumPy może sprawić, że różnica nie będzie duża), jednak ogólna zasada brzmi: **używaj operacji wektorowych zawsze, gdy to możliwe**, zwłaszcza na dużych zbiorach danych.\n"
   ]
  },
  {
   "cell_type": "markdown",
   "id": "f577d394",
   "metadata": {},
   "source": [
    "\n",
    "**Uwaga:** Jeżeli w powyższym kodzie porównawczym zobaczysz ostrzeżenie od Pythona dotyczące zużycia pamięci lub podobne, zmniejsz N lub pomiń tę demonstrację. Dla naszych potrzeb edukacyjnych liczy się koncepcja.\n"
   ]
  },
  {
   "cell_type": "markdown",
   "id": "7ef0dd2f",
   "metadata": {},
   "source": [
    "\n",
    "### **Broadcasting – operacje na tablicach różnych rozmiarów**\n",
    "\n",
    "Co jeśli chcemy wykonać operację arytmetyczną na tablicach o **różnych kształtach**? Muszą one mieć kompatybilne wymiary. Mechanizm **broadcasting** w NumPy pozwala, pod pewnymi warunkami, wykonywać operacje między tablicami o różnych rozmiarach, traktując mniejszą tablicę jakby była \"rozciągnięta\" (wirtualnie powielona) do rozmiarów większej. Dzięki temu możemy np. dodać wektor do każdej kolumny macierzy lub zastosować skalę do całej tablicy w prosty sposób.\n"
   ]
  },
  {
   "cell_type": "markdown",
   "id": "9dd36410",
   "metadata": {},
   "source": [
    "\n",
    "\n",
    "**Zasady broadcastingu (uproszczone):**\n",
    "\n",
    "1. Jeśli tablice mają różną liczbę wymiarów, to tablica o mniejszej liczbie wymiarów jest \"rozszerzana\" (dodawane wymiary o rozmiarze 1) z przodu, aż liczba wymiarów się zgodzi.\n",
    "2. Następnie, dla każdego wymiaru, sprawdzane są rozmiary. Dwa wymiary są ze sobą kompatybilne jeśli:\n",
    "   * mają ten sam rozmiar, **lub**\n",
    "   * jeden z nich ma rozmiar **`1`**.\n",
    "3. Tablica, która ma w danym wymiarze rozmiar 1, jest traktowana tak jakby była powielona do rozmiaru tego drugiego wymiaru (ale dzieje się to bez kopiowania danych w pamięci – to wirtualna operacja).\n",
    "4. Jeśli w którymś wymiarze rozmiary różnią się i żadna z tablic nie ma rozmiaru 1 w tym wymiarze, wystąpi błąd (**`ValueError: operands could not be broadcast together`**).\n"
   ]
  },
  {
   "cell_type": "markdown",
   "id": "db967f47",
   "metadata": {},
   "source": [
    "\n",
    "Przykłady:\n",
    "\n",
    "* Dodawanie skalaru do tablicy: działa od razu, traktowane jak dodanie liczby do każdego elementu tablicy.\n",
    "* Dodawanie wektora (1D) do macierzy (2D) wzdłuż wierszy lub kolumn:\n",
    "  * Jeśli wektor ma długość taką jak liczba kolumn macierzy, możemy go dodać do macierzy – zostanie dodany do każdego wiersza.\n",
    "  * Jeśli wektor ma długość taką jak liczba wierszy, możemy go dodać, ale trzeba odpowiednio ustawić kształty (np. wektor kolumnowy).\n"
   ]
  },
  {
   "cell_type": "markdown",
   "id": "fbb35fff",
   "metadata": {},
   "source": [
    "Aby zilustrować, utwórzmy macierz 3x4 i wektor długości 4:\n"
   ]
  },
  {
   "cell_type": "code",
   "execution_count": 86,
   "id": "e587362c",
   "metadata": {},
   "outputs": [],
   "source": [
    "M = np.arange(12).reshape(3, 4)\n",
    "v = np.array([10, 20, 30, 40])"
   ]
  },
  {
   "cell_type": "code",
   "execution_count": 92,
   "id": "874c0ccc",
   "metadata": {},
   "outputs": [
    {
     "data": {
      "text/plain": [
       "array([10, 20, 30, 40])"
      ]
     },
     "execution_count": 92,
     "metadata": {},
     "output_type": "execute_result"
    }
   ],
   "source": [
    "v"
   ]
  },
  {
   "cell_type": "code",
   "execution_count": 96,
   "id": "1910bbde",
   "metadata": {},
   "outputs": [
    {
     "name": "stdout",
     "output_type": "stream",
     "text": [
      "Shape of M: (3, 4)\n",
      "Shape of v: (4,)\n"
     ]
    }
   ],
   "source": [
    "#Print shapes of M and v\n",
    "print(\"Shape of M:\", M.shape)  # (3, 4)\n",
    "print(\"Shape of v:\", v.shape)  # (4,)"
   ]
  },
  {
   "cell_type": "code",
   "execution_count": 95,
   "id": "b901a029",
   "metadata": {},
   "outputs": [
    {
     "name": "stdout",
     "output_type": "stream",
     "text": [
      "M:\n",
      " [[ 0  1  2  3]\n",
      " [ 4  5  6  7]\n",
      " [ 8  9 10 11]]\n",
      "v:\n",
      " [10 20 30 40]\n",
      "M + v:\n",
      " [[10 21 32 43]\n",
      " [14 25 36 47]\n",
      " [18 29 40 51]]\n"
     ]
    }
   ],
   "source": [
    "\n",
    "print(\"M:\\n\", M)\n",
    "print(\"v:\\n\", v)\n",
    "# Dodawanie wektora v do każdej linii macierzy M\n",
    "print(\"M + v:\\n\", M + v)"
   ]
  },
  {
   "cell_type": "markdown",
   "id": "c2d2f1b0",
   "metadata": {},
   "source": [
    "\n",
    "\n",
    "W powyższym przypadku **`M`** ma kształt (3,4), **`v`** ma kształt (4,). Mechanizm broadcastingu dopasował **`v`** do drugiego wymiaru **`M`** (kolumn): wektor **`v`** został konceptualnie powielony na 3 wiersze i dodany do każdego wiersza **`M`**. Innymi słowy **`M[i,j] + v[j]`** dla każdego **`i,j`**.\n",
    "\n",
    "Jeśli chcielibyśmy dodać wektor o długości 3 (np. **`w = np.array([100,200,300])`**) jako kolumnę do macierzy 3x4, to bezpośrednio **`M + w`** by się nie udało, bo wymiary (3,4) i (3,) nie są kompatybilne w obecnej formie. Ale możemy uczynić **`w`** wektorem kolumnowym zmieniając jego kształt na (3,1), np. **`w.reshape(3,1)`** albo dodając wymiar za pomocą **`np.newaxis`** (**`w[:, np.newaxis]`** da kształt (3,1)). Wtedy dodanie zadziała przez powielenie kolumn:\n"
   ]
  },
  {
   "cell_type": "code",
   "execution_count": 100,
   "id": "fc178294",
   "metadata": {},
   "outputs": [
    {
     "name": "stdout",
     "output_type": "stream",
     "text": [
      "w shape:\n",
      " (3,)\n",
      "M + w.reshape(3,1):\n",
      " [[100 101 102 103]\n",
      " [204 205 206 207]\n",
      " [308 309 310 311]]\n"
     ]
    }
   ],
   "source": [
    "w = np.array([100, 200, 300])\n",
    "print(\"w shape:\\n\", w.shape)         # (3,)\n",
    "print(\"M + w.reshape(3,1):\\n\", M + w.reshape(3,1))\n"
   ]
  },
  {
   "cell_type": "markdown",
   "id": "0e1c10cd",
   "metadata": {},
   "source": [
    "\n",
    "Tutaj **`w`** o kształcie (3,1) został dodany do **`M`** (3,4) – NumPy broadcastował wzdłuż drugiego wymiaru (rozmiar 1 kolumny do 4 kolumn).\n",
    "\n",
    "**Broadcasting** pozwala pisać bardzo zwięzły kod bez potrzeby ręcznego powielania tablic. Np. jeżeli chcemy znormalizować macierz, odejmując średnią każdego wiersza i dzieląc przez odchylenie standardowe każdego wiersza, możemy to zrobić za pomocą broadcastingu w jednej operacji zamiast zagnieżdżonych pętli.\n"
   ]
  },
  {
   "cell_type": "markdown",
   "id": "57ad9713",
   "metadata": {},
   "source": [
    "\n",
    "### **Funkcje uniwersalne (ufunc) i wbudowane operacje NumPy**\n",
    "\n",
    "NumPy udostępnia wiele funkcji do operacji na tablicach, zarówno element-po-elemencie (tzw. *universal functions* – ufunc), jak i do agregacji wyników. Wspomniane wcześniej operatory arytmetyczne są w rzeczywistości przykładem ufunc (np. dodawanie to ufunc **`np.add`**, mnożenie **`np.multiply`** itd.), ale poniżej omówimy kilka najczęściej używanych funkcji:\n",
    "\n",
    "* **Funkcje matematyczne elementwise**: np. **`np.sqrt`**, **`np.exp`**, **`np.sin`**, **`np.log`**, **`np.abs`** i wiele innych. Działają na każdej wartości tablicy, zwracając tablicę wynikową.\n",
    "* **Agregacje (funkcje sumujące)**: np. **`np.sum`** (suma elementów), **`np.mean`** (średnia), **`np.std`** (odchylenie standardowe), **`np.min`**/**`np.max`** (minimum/maksimum), **`np.prod`** (iloczyn elementów), **`np.cumsum`** (skumulowana suma), **`np.any`**/**`np.all`** (czy jest jakikolwiek spełniający warunek / czy wszystkie spełniają warunek, szczególnie użyteczne z maskami boolean).\n",
    "* **Operacje logiczne**: **`np.where`** (wybór elementów na podstawie warunku), **`np.count_nonzero`** (liczba niezerowych elementów / True w maskach), itp.\n"
   ]
  },
  {
   "cell_type": "code",
   "execution_count": 102,
   "id": "f7e5930e",
   "metadata": {},
   "outputs": [
    {
     "name": "stdout",
     "output_type": "stream",
     "text": [
      "data: [ 1.  -2.5  3.5  0. ]\n",
      "abs: [1.  2.5 3.5 0. ]\n",
      "sqrt: [1.         1.58113883 1.87082869 0.        ]\n",
      "square: [ 1.    6.25 12.25  0.  ]\n",
      "sum: 2.0\n",
      "mean: 0.5\n",
      "max: 3.5\n",
      "argmax: 2\n",
      "cumsum: [ 1.  -1.5  2.   2. ]\n"
     ]
    }
   ],
   "source": [
    "data = np.array([1.0, -2.5, 3.5, 0.0])\n",
    "print(\"data:\", data)\n",
    "print(\"abs:\", np.abs(data))      # wartości bezwzględne\n",
    "print(\"sqrt:\", np.sqrt(np.abs(data)))  # pierwiastek (z wartości bezwzględnych, bo sqrt z negatywnych nie jest zdefiniowane dla realnych)\n",
    "print(\"square:\", np.square(data))  # kwadrat każdego elementu (to samo co **2)\n",
    "print(\"sum:\", np.sum(data))      # suma wszystkich elementów: 1.0 + (-2.5) + 3.5 + 0.0 = 2.0\n",
    "print(\"mean:\", np.mean(data))    # średnia arytmetyczna: 0.5\n",
    "print(\"max:\", np.max(data))      # maksymalna wartość: 3.5\n",
    "print(\"argmax:\", np.argmax(data))# indeks maksymalnej wartości: 2 (bo data[2] = 3.5)\n",
    "print('cumsum:', np.cumsum(data))  # skumulowana suma: [ 1.  -1.5  2.   2. ]"
   ]
  },
  {
   "cell_type": "markdown",
   "id": "457e19e1",
   "metadata": {},
   "source": [
    "\n",
    "Wyniki tych operacji są zazwyczaj albo pojedynczą wartością (skalar, np. **`np.sum`**) albo nową tablicą (np. **`np.abs`**, **`np.sqrt`** dają nową tablicę). Warto zwrócić uwagę na funkcje **`np.argmax`**/**`np.argmin`** – zwracają indeks pierwszego wystąpienia max/min. W naszym **`data`** maks = 3.5, stoi na indeksie 2, więc **`np.argmax(data)`** da 2.\n"
   ]
  },
  {
   "cell_type": "markdown",
   "id": "d4156e08",
   "metadata": {},
   "source": [
    "\n",
    "W przypadku tablic wielowymiarowych, funkcje agregujące (sumy, min, średnie itp.) mogą działać na **całej tablicy** lub wzdłuż zadanej osi. Parametr **`axis`** w tych funkcjach określa wymiar, **który zostanie \"zredukowany\"**. Np. dla macierzy (2D):\n",
    "\n",
    "* **`np.sum(matrix, axis=0)`** – zsumuje elementy **wzdłuż osi 0** (czyli kolumny), zwracając sumy dla każdej kolumny (otrzymamy tablicę 1D długości = liczba kolumn).\n",
    "* **`np.sum(matrix, axis=1)`** – suma **wzdłuż osi 1** (czyli po wierszach), wynik: suma każdego wiersza, dostaniemy tablicę długości = liczba wierszy.\n",
    "\n",
    "Przykład zastosowania na **`matrix`** 3x3 z poprzednich przykładów:"
   ]
  },
  {
   "cell_type": "code",
   "execution_count": 114,
   "id": "f5dbfe1f",
   "metadata": {},
   "outputs": [],
   "source": [
    "# example matrix with shape 2x3\n",
    "matrix = np.array([[1, 2, 3],\n",
    "                            [4, 5, 6]])\n",
    "\n",
    "# # example matrix with shape 2x3x4\n",
    "# matrix = np.random.rand(2, 3, 4) "
   ]
  },
  {
   "cell_type": "code",
   "execution_count": 115,
   "id": "e925639d",
   "metadata": {},
   "outputs": [
    {
     "name": "stdout",
     "output_type": "stream",
     "text": [
      "matrix:\n",
      " [[1 2 3]\n",
      " [4 5 6]]\n",
      "matrix shape: (2, 3)\n",
      "Suma wszystkich elementów: 21\n",
      "Suma wzdłuż osi 0 (kolumny): [5 7 9]\n",
      "Suma wzdłuż osi 1 (wiersze): [ 6 15]\n",
      "Średnia w kolumnach: [2.5 3.5 4.5]\n",
      "Max w każdym wierszu: [3 6]\n"
     ]
    }
   ],
   "source": [
    "print(\"matrix:\\n\", matrix)\n",
    "print('matrix shape:', matrix.shape)  # (3, 3)\n",
    "print(\"Suma wszystkich elementów:\", np.sum(matrix))\n",
    "print(\"Suma wzdłuż osi 0 (kolumny):\", np.sum(matrix, axis=0))  # sumy kolumn\n",
    "print(\"Suma wzdłuż osi 1 (wiersze):\", np.sum(matrix, axis=1))  # sumy wierszy\n",
    "print(\"Średnia w kolumnach:\", np.mean(matrix, axis=0))\n",
    "print(\"Max w każdym wierszu:\", np.max(matrix, axis=1))\n"
   ]
  },
  {
   "cell_type": "markdown",
   "id": "87a7edfc",
   "metadata": {},
   "source": [
    "\n",
    "Jeśli **`matrix = [[10,20,30],[40,50,60],[70,80,90]]`**, to:\n",
    "\n",
    "* Suma wszystkich = 450.\n",
    "* Suma kolumn = **`[10+40+70, 20+50+80, 30+60+90] = [120, 150, 180]`**.\n",
    "* Suma wierszy = **`[10+20+30, 40+50+60, 70+80+90] = [60, 150, 240]`**.\n",
    "* Średnia w kolumnach = odpowiednio **`[40, 50, 60]`** (bo kolumny 0: (10+40+70)/3 = 40, kolumna1: (20+50+80)/3 = 50, kolumna2: (30+60+90)/3 = 60).\n",
    "* Max w każdym wierszu = **`[30, 60, 90]`**."
   ]
  },
  {
   "cell_type": "markdown",
   "id": "0fe4e4d8",
   "metadata": {},
   "source": [
    "\n",
    "\n",
    "Każda z tych operacji zwróci nową tablicę (lub skalar), nie modyfikuje oryginalnej.\n",
    "\n",
    "**Łączenie tablic**: Często zachodzi potrzeba sklejenia tablic ze sobą. NumPy oferuje funkcje takie jak **`np.concatenate`**, **`np.vstack`** (vertical stack), **`np.hstack`** (horizontal stack) itp. **`np.concatenate((a,b), axis=...)`** łączy listę tablic wzdłuż zadanej osi (tablice muszą mieć zgodne wymiary poza tą osią). Np.:\n"
   ]
  },
  {
   "cell_type": "code",
   "execution_count": 119,
   "id": "64ca2dc3",
   "metadata": {},
   "outputs": [
    {
     "name": "stdout",
     "output_type": "stream",
     "text": [
      "c: [1 2 3 4 5 6]\n"
     ]
    }
   ],
   "source": [
    "a = np.array([1, 2, 3])\n",
    "b = np.array([4, 5, 6])\n",
    "c = np.concatenate((a, b))\n",
    "print(\"c:\", c)  # [1 2 3 4 5 6]\n"
   ]
  },
  {
   "cell_type": "code",
   "execution_count": 125,
   "id": "44a2d4e1",
   "metadata": {},
   "outputs": [
    {
     "name": "stdout",
     "output_type": "stream",
     "text": [
      "A:\n",
      " [[1 2]\n",
      " [3 4]]\n",
      "B:\n",
      " [[5 6]\n",
      " [7 8]]\n",
      "Shape A: (2, 2)\n",
      "Shape B: (2, 2)\n",
      "\n",
      "C0:\n",
      " [[1 2]\n",
      " [3 4]\n",
      " [5 6]\n",
      " [7 8]]\n",
      "Shape C0: (4, 2)\n",
      "C1:\n",
      " [[1 2 5 6]\n",
      " [3 4 7 8]]\n",
      "Shape C1: (2, 4)\n"
     ]
    }
   ],
   "source": [
    "\n",
    "A = np.array([[1, 2], [3, 4]])\n",
    "B = np.array([[5, 6], [7, 8]])\n",
    "C0 = np.concatenate((A, B), axis=0)  # doklejanie wierszy (axis=0)\n",
    "C1 = np.concatenate((A, B), axis=1)  # doklejanie kolumn (axis=1)\n",
    "print(\"A:\\n\", A)\n",
    "print(\"B:\\n\", B)\n",
    "print('Shape A:', A.shape)  # (2, 2)\n",
    "print('Shape B:', B.shape)  # (2, 2)\n",
    "print()\n",
    "print(\"C0:\\n\", C0)\n",
    "print(\"Shape C0:\", C0.shape)  # (4, 2)\n",
    "print(\"C1:\\n\", C1)\n",
    "print(\"Shape C1:\", C1.shape)  # (2, 4)\n"
   ]
  },
  {
   "cell_type": "markdown",
   "id": "d3ef6b93",
   "metadata": {},
   "source": [
    "\n",
    "\n",
    "Dla danych z przykładu:\n",
    "\n",
    "* **`c`** będzie **`[1 2 3 4 5 6]`** (połączenie dwóch wektorów).\n",
    "* **`C0`** połączy macierze A i B **pionowo** (więcej wierszy): skoro A i B są 2x2, wynik C0 będzie 4x2.\n",
    "* **`C1`** połączy macierze A i B **poziomo** (więcej kolumn): wynik będzie 2x4."
   ]
  },
  {
   "cell_type": "markdown",
   "id": "251b92b1",
   "metadata": {},
   "source": [
    "\n",
    "Istnieją też wygodne funkcje:\n",
    "\n",
    "* **`np.vstack([A, B])`** robi to samo co concat axis=0 w przypadku 2D (stack po wierszach),\n",
    "* **`np.hstack([A, B])`** to concat axis=1 (doklejanie kolumnami).\n",
    "* Dla tablic wyższych wymiarów są analogiczne **`np.dstack`** (dla trzeciego wymiaru) itd."
   ]
  },
  {
   "cell_type": "code",
   "execution_count": 127,
   "id": "672185fa",
   "metadata": {},
   "outputs": [
    {
     "data": {
      "text/plain": [
       "array([[1, 2],\n",
       "       [3, 4],\n",
       "       [5, 6],\n",
       "       [7, 8]])"
      ]
     },
     "metadata": {},
     "output_type": "display_data"
    },
    {
     "data": {
      "text/plain": [
       "array([[1, 2, 5, 6],\n",
       "       [3, 4, 7, 8]])"
      ]
     },
     "metadata": {},
     "output_type": "display_data"
    }
   ],
   "source": [
    "display(np.vstack((A, B)),np.hstack((A, B)) ) # poziome doklejanie (jak concatenate(axis=1))"
   ]
  },
  {
   "cell_type": "markdown",
   "id": "f466c49f",
   "metadata": {},
   "source": [
    "\n",
    "\n",
    "### **Wydajność NumPy – dlaczego warto wektoryzować?**\n",
    "\n",
    "Podsumowując część numeryczną: główną przewagą NumPy jest wydajność. Operacje wektorowe i broadcasted wykonują się w zoptymalizowanym kodzie (C, Fortran) pod spodem, omijając główny narzut interpretera Pythona dla każdej iteracji. Dlatego kod korzystający z NumPy potrafi być nie tylko zwięzły, ale i **rzędy wielkości szybszy**.\n",
    "\n",
    "Pamiętajmy o kilku zasadach dla lepszej wydajności:"
   ]
  },
  {
   "cell_type": "markdown",
   "id": "69543433",
   "metadata": {},
   "source": [
    "\n",
    "\n",
    "* Unikajmy jak ognia pętli **`for`** iterujących po elementach tablicy. Zamiast tego starajmy się skorzystać z wbudowanych operacji (wektoryzacja).\n",
    "* Wykorzystujmy *broadcasting* zamiast ręcznego powielania danych czy zagnieżdżonych pętli.\n",
    "* Zwróćmy uwagę na typy danych (**`dtype`**). Czasem użycie typu o niższej precyzji (np. float32 zamiast float64) może przyspieszyć obliczenia i zmniejszyć zużycie pamięci, jeśli najwyższa precyzja nie jest potrzebna.\n",
    "* Jeśli operujemy na naprawdę dużych tablicach i napotkamy ograniczenia pamięciowe lub wydajnościowe, istnieją bardziej zaawansowane rozwiązania (np. biblioteka **Numexpr** do jeszcze szybszych obliczeń, biblioteka **CuPy** do wykorzystania GPU, czy rozkładanie danych na części), ale to poza zakresem naszych zajęć powtórkowych.\n",
    "\n",
    "Na koniec tej części poćwiczmy praktycznie. Poniżej znajdziesz zadania dotyczące NumPy do samodzielnego wykonania.\n"
   ]
  },
  {
   "cell_type": "markdown",
   "id": "d4b75b15",
   "metadata": {},
   "source": [
    "\n",
    "\n",
    "### **Zadania**\n",
    "\n",
    "**Zadanie 1:** Utwórz 1-wymiarową tablicę NumPy zawierającą liczby od 10 do 19 (włącznie), a następnie:\n",
    "\n",
    "* wypisz na ekran jej kształt oraz typ danych,\n",
    "* zmień kształt tej tablicy na tablicę 2-wymiarową o wymiarach 2x5 (2 wiersze, 5 kolumn) za pomocą **`np.reshape`**,\n",
    "* wypisz tę przekształconą tablicę."
   ]
  },
  {
   "cell_type": "code",
   "execution_count": null,
   "id": "9a7ba4b5",
   "metadata": {},
   "outputs": [],
   "source": []
  },
  {
   "cell_type": "markdown",
   "id": "02d78477",
   "metadata": {},
   "source": [
    "\n",
    "\n",
    "**Zadanie 2:** Mając daną tablicę 2D **`X`** o wymiarach 4x4 (np. wygeneruj ją przez **`np.arange(16).reshape(4,4)`**), wykonaj następujące operacje:\n",
    "\n",
    "* Wytnij z niej podtablicę zawierającą 2. i 3. wiersz oraz 2. i 3. kolumnę (indeksy 1-2 dla wierszy i kolumn).\n",
    "* Wytnij z niej ostatnią kolumnę jako wektor.\n",
    "* Oblicz sumę elementów wzdłuż osi 0 (kolumny) i wzdłuż osi 1 (wiersze)."
   ]
  },
  {
   "cell_type": "code",
   "execution_count": null,
   "id": "c41eb8d6",
   "metadata": {},
   "outputs": [],
   "source": []
  },
  {
   "cell_type": "markdown",
   "id": "3d22fd43",
   "metadata": {},
   "source": [
    "\n",
    "\n",
    "**Zadanie 3:** Wygeneruj dwie tablice 1-wymiarowe **`a`** i **`b`** po 5 losowych liczb (użyj **`np.random.rand(5)`**). Następnie:\n",
    "\n",
    "* Oblicz różnicę **`a - b`** oraz iloczyn **`a * b`** (element-po-elemencie).\n",
    "* Porównaj wyniki z wykonaniem tych operacji pętlą (czy otrzymasz te same rezultaty? **Uwaga:** nie mierz tutaj czasu, chodzi tylko o weryfikację poprawności).\n",
    "* Oblicz średnią wartość i odchylenie standardowe z tablicy **`a`** oraz maksymalną wartość z tablicy **`b`**.\n"
   ]
  },
  {
   "cell_type": "code",
   "execution_count": null,
   "id": "cd731536",
   "metadata": {},
   "outputs": [],
   "source": []
  },
  {
   "cell_type": "markdown",
   "id": "52ce0d21",
   "metadata": {},
   "source": [
    "\n",
    "\n",
    "\n",
    "**Zadanie 4:** Zaprezentuj działanie broadcastingu:\n",
    "\n",
    "* Utwórz tablicę **`A`** o wymiarach 3x3 zawierającą kolejne liczby od 1 do 9.\n",
    "* Utwórz wektor **`w`** długości 3 zawierający np. \\[1, 2, 3].\n",
    "* Wykonaj operację **`A + w`** i wyjaśnij (w komentarzu) otrzymany wynik.\n",
    "* Następnie przekształć **`w`** na wektor kolumnowy (czyli kształt (3,1)) i wykonaj **`A + w`** ponownie – porównaj rezultaty.\n"
   ]
  },
  {
   "cell_type": "code",
   "execution_count": null,
   "id": "b4c28091",
   "metadata": {},
   "outputs": [],
   "source": []
  },
  {
   "cell_type": "markdown",
   "id": "3ada876a",
   "metadata": {},
   "source": [
    "\n",
    "**Zadanie 5 (trudniejsze, wydajność):** Napisz funkcję, która dla danej tablicy 1D zwraca sumę kwadratów jej elementów. Zaimplementuj to na dwa sposoby:\n",
    "\n",
    "1. Używając pętli Pythona.\n",
    "2. Wykorzystując operacje wektorowe NumPy.\n",
    "\n",
    "Przetestuj funkcje na dużej tablicy (np. milion elementów losowych) i zmierz czas działania obu metod (możesz użyć **`time.time()`** lub magicznej komendy **`%timeit`** w Jupyter Notebook). Czy obserwujesz różnicę? Która metoda jest szybsza i dlaczego?\n"
   ]
  }
 ],
 "metadata": {
  "kernelspec": {
   "display_name": ".VENV",
   "language": "python",
   "name": "python3"
  },
  "language_info": {
   "codemirror_mode": {
    "name": "ipython",
    "version": 3
   },
   "file_extension": ".py",
   "mimetype": "text/x-python",
   "name": "python",
   "nbconvert_exporter": "python",
   "pygments_lexer": "ipython3",
   "version": "3.12.9"
  }
 },
 "nbformat": 4,
 "nbformat_minor": 5
}
