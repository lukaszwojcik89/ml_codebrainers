{
 "cells": [
  {
   "cell_type": "markdown",
   "id": "de359698",
   "metadata": {},
   "source": [
    "# SVM i XGBoost - Zadania praktyczne z danymi Attrition\n",
    "\n",
    "## Cel ćwiczeń\n",
    "W tych zadaniach będziemy pracować z rzeczywistym zbiorem danych HR dotyczącym odejść pracowników (attrition). Nauczimy się:\n",
    "- Przeprowadzać eksploracyjną analizę danych (EDA)\n",
    "- Przygotowywać dane do modelowania\n",
    "- Implementować i porównywać modele SVM i XGBoost\n",
    "- Optymalizować hiperparametry\n",
    "- Interpretować wyniki i wyciągać wnioski biznesowe\n",
    "\n",
    "## Informacje o zbiorze danych\n",
    "- **Liczba rekordów**: 59,598 pracowników\n",
    "- **Liczba cech**: 24 (8 numerycznych, 16 kategorycznych)\n",
    "- **Target**: Attrition (Stayed/Left)\n",
    "- **Braki danych**: Brak\n",
    "- **Balans klas**: Stayed ≈ 52.5%, Left ≈ 47.5%"
   ]
  },
  {
   "cell_type": "code",
   "execution_count": null,
   "id": "4fa7c179",
   "metadata": {},
   "outputs": [],
   "source": [
    "# Importy bibliotek - uzupełnij brakujące\n",
    "import pandas as pd\n",
    "import numpy as np\n",
    "import matplotlib.pyplot as plt\n",
    "import seaborn as sns\n",
    "from sklearn.model_selection import train_test_split, GridSearchCV, cross_val_score\n",
    "from sklearn.preprocessing import StandardScaler, LabelEncoder, OneHotEncoder\n",
    "from sklearn.compose import ColumnTransformer\n",
    "from sklearn.pipeline import Pipeline\n",
    "from sklearn.svm import SVC\n",
    "from sklearn.metrics import accuracy_score, classification_report, confusion_matrix, roc_auc_score\n",
    "import xgboost as xgb\n",
    "from xgboost import XGBClassifier\n",
    "import warnings\n",
    "warnings.filterwarnings('ignore')\n",
    "\n",
    "# Ustawienia wykresów\n",
    "plt.style.use('default')\n",
    "sns.set_palette(\"husl\")\n",
    "plt.rcParams['figure.figsize'] = (10, 6)"
   ]
  },
  {
   "cell_type": "markdown",
   "id": "7cedbb66",
   "metadata": {},
   "source": [
    "# Zadanie 1: Wczytanie i podstawowe poznanie danych 📊\n",
    "\n",
    "## Cel\n",
    "Zapoznać się ze strukturą i jakością danych przed przystąpieniem do modelowania.\n",
    "\n",
    "## Do zrobienia:"
   ]
  },
  {
   "cell_type": "markdown",
   "id": "3c56c4dc",
   "metadata": {},
   "source": [
    "### 1.1 Wczytanie danych\n",
    "- Wczytaj plik `attrition.csv` do DataFrame\n",
    "- Wyświetl podstawowe informacje o zbiorze: `info()`, `describe()`, `shape`\n",
    "- Sprawdź czy są braki danych"
   ]
  },
  {
   "cell_type": "code",
   "execution_count": null,
   "id": "0a2b0876",
   "metadata": {},
   "outputs": [],
   "source": [
    "# Twój kod tutaj:\n",
    "# Wskazówki: pd.read_csv(), .info(), .describe(), .shape, .isnull().sum()"
   ]
  },
  {
   "cell_type": "markdown",
   "id": "77fb819a",
   "metadata": {},
   "source": [
    "### 1.2 Analiza zmiennej target\n",
    "- Sprawdź rozkład zmiennej `Attrition` (ile osób zostało/odeszło)\n",
    "- Oblicz procenty dla każdej kategorii\n",
    "- Stwórz wykres słupkowy pokazujący rozkład"
   ]
  },
  {
   "cell_type": "code",
   "execution_count": null,
   "id": "baaa1d39",
   "metadata": {},
   "outputs": [],
   "source": [
    "# Twój kod tutaj:\n",
    "# Wskazówki: .value_counts(), .value_counts(normalize=True), sns.countplot()"
   ]
  },
  {
   "cell_type": "markdown",
   "id": "b8ce5145",
   "metadata": {},
   "source": [
    "### 1.3 Identyfikacja typów zmiennych\n",
    "- Podziel kolumny na numeryczne i kategoryczne\n",
    "- Wyświetl listę zmiennych numerycznych (powinno być 8)\n",
    "- Wyświetl listę zmiennych kategorycznych (powinno być 16)\n",
    "- Sprawdź unikalne wartości w zmiennych kategorycznych"
   ]
  },
  {
   "cell_type": "code",
   "execution_count": null,
   "id": "939dcd4f",
   "metadata": {},
   "outputs": [],
   "source": [
    "# Twój kod tutaj:\n",
    "# Wskazówki: .select_dtypes(), list(), .nunique()\n",
    "target = 'Attrition'"
   ]
  },
  {
   "cell_type": "markdown",
   "id": "8a950f35",
   "metadata": {},
   "source": [
    "# Zadanie 2: Eksploracyjna Analiza Danych (EDA) 🔍\n",
    "\n",
    "## Cel\n",
    "Zrozumieć wzorce w danych i zidentyfikować potencjalne czynniki wpływające na odejścia."
   ]
  },
  {
   "cell_type": "markdown",
   "id": "4a75bc3a",
   "metadata": {},
   "source": [
    "### 2.1 Analiza zmiennych numerycznych\n",
    "- Stwórz histogramy dla wszystkich zmiennych numerycznych\n",
    "- Użyj `subplot` żeby pokazać wszystkie na jednym wykresie\n",
    "- Sprawdź czy są outliersy używając boxplotów\n",
    "- Oblicz korelacje między zmiennymi numerycznymi"
   ]
  },
  {
   "cell_type": "code",
   "execution_count": null,
   "id": "4fe5a962",
   "metadata": {},
   "outputs": [],
   "source": [
    "# Twój kod tutaj:\n",
    "# Wskazówki: plt.subplots(), .hist(), sns.boxplot(), .corr(), sns.heatmap()"
   ]
  },
  {
   "cell_type": "markdown",
   "id": "064ddfca",
   "metadata": {},
   "source": [
    "### 2.2 Analiza zmiennych kategorycznych\n",
    "- Dla każdej zmiennej kategorycznej sprawdź:\n",
    "  - Liczbę unikalnych wartości\n",
    "  - Rozkład częstości każdej kategorii\n",
    "- Stwórz wykresy słupkowe dla najważniejszych zmiennych kategorycznych\n",
    "- Zwróć szczególną uwagę na `Job Role`, `Work-Life Balance`, `Job Satisfaction`"
   ]
  },
  {
   "cell_type": "code",
   "execution_count": null,
   "id": "b7e5b9e4",
   "metadata": {},
   "outputs": [],
   "source": [
    "# Twój kod tutaj:\n",
    "# Wskazówki: for loop, .value_counts(), sns.barplot(), plt.subplots()"
   ]
  },
  {
   "cell_type": "markdown",
   "id": "1e7f6b7b",
   "metadata": {},
   "source": [
    "### 2.3 Analiza związku zmiennych z target\n",
    "- Dla zmiennych numerycznych:\n",
    "  - Stwórz boxploty porównujące rozkłady dla Stayed vs Left\n",
    "  - Przeprowadź test t-Studenta dla istotnych różnic\n",
    "- Dla zmiennych kategorycznych:\n",
    "  - Stwórz tabele krzyżowe (crosstab) z procentami\n",
    "  - Zidentyfikuj które kategorie mają wyższy % odejść"
   ]
  },
  {
   "cell_type": "code",
   "execution_count": null,
   "id": "af56b258",
   "metadata": {},
   "outputs": [],
   "source": [
    "# Twój kod tutaj:\n",
    "# Wskazówki: sns.boxplot(), pd.crosstab(), normalize='index'"
   ]
  },
  {
   "cell_type": "markdown",
   "id": "c0ec6c58",
   "metadata": {},
   "source": [
    "### 2.4 Wnioski z EDA\n",
    "Na podstawie analizy odpowiedz na pytania:\n",
    "- Które zmienne numeryczne najsilniej różnicują grupy Stayed/Left?\n",
    "- Które kategorie w zmiennych kategorycznych mają najwyższy % odejść?\n",
    "- Czy widzisz jakieś interesujące wzorce? (np. overtime vs attrition)\n",
    "- Które zmienne mogą być najważniejsze dla modelu?"
   ]
  },
  {
   "cell_type": "markdown",
   "id": "42b7497e",
   "metadata": {},
   "source": [
    "**Twoje obserwacje i wnioski:**\n",
    "<!-- Zapisz tutaj swoje przemyślenia po EDA -->"
   ]
  },
  {
   "cell_type": "markdown",
   "id": "9d4925d8",
   "metadata": {},
   "source": [
    "# Zadanie 3: Przygotowanie danych do modelowania 🛠️\n",
    "\n",
    "## Cel\n",
    "Przekształcić dane surowe w format odpowiedni dla algorytmów ML."
   ]
  },
  {
   "cell_type": "markdown",
   "id": "4feac393",
   "metadata": {},
   "source": [
    "### 3.1 Czyszczenie danych\n",
    "- Usuń kolumnę `Employee ID` (nie pomaga w predykcji)\n",
    "- Przekształć zmienną target `Attrition` na wartości binarne (0/1)\n",
    "- Sprawdź czy wszystkie dane są w odpowiednim formacie"
   ]
  },
  {
   "cell_type": "code",
   "execution_count": null,
   "id": "7c7c6658",
   "metadata": {},
   "outputs": [],
   "source": [
    "# Twój kod tutaj:\n",
    "# Wskazówki: .drop(), .map(), .copy()"
   ]
  },
  {
   "cell_type": "markdown",
   "id": "52205ec3",
   "metadata": {},
   "source": [
    "### 3.2 Preprocessing Pipeline\n",
    "- Użyj `ColumnTransformer` do zdefiniowania preprocessingu:\n",
    "  - `StandardScaler` dla zmiennych numerycznych\n",
    "  - `OneHotEncoder` dla zmiennych kategorycznych\n",
    "- Stwórz pipeline łączący preprocessing z modelem\n",
    "- Podziel dane na X (cechy) i y (target)"
   ]
  },
  {
   "cell_type": "code",
   "execution_count": null,
   "id": "b9287d41",
   "metadata": {},
   "outputs": [],
   "source": [
    "# Twój kod tutaj:\n",
    "# Wskazówki: ColumnTransformer(), transformers=[...], StandardScaler(), OneHotEncoder()\n",
    "# Pipeline(), steps=[...]\n",
    "\n",
    "preprocessor = # ColumnTransformer tutaj"
   ]
  },
  {
   "cell_type": "markdown",
   "id": "b7563435",
   "metadata": {},
   "source": [
    "### 3.3 Podział na zbiory train/validation/test\n",
    "- Podziel dane na train (60%), validation (20%), test (20%)\n",
    "- Użyj `stratify` żeby zachować proporcje klas\n",
    "- Ustaw `random_state=42` dla powtarzalności"
   ]
  },
  {
   "cell_type": "code",
   "execution_count": null,
   "id": "eee09fc3",
   "metadata": {},
   "outputs": [],
   "source": [
    "# Twój kod tutaj:\n",
    "# Wskazówki: train_test_split(), stratify=, random_state=42"
   ]
  },
  {
   "cell_type": "markdown",
   "id": "7e8e281f",
   "metadata": {},
   "source": [
    "### 3.4 Uwaga o Preprocessingu\n",
    "- **Pipeline automatycznie zastosuje preprocessing** podczas .fit() i .predict()\n",
    "- Nie musisz ręcznie skalować danych - Pipeline to zrobi\n",
    "- ColumnTransformer zapewni, że odpowiednie transformacje zostaną zastosowane do odpowiednich kolumn"
   ]
  },
  {
   "cell_type": "code",
   "execution_count": null,
   "id": "7b1f4c4f",
   "metadata": {},
   "outputs": [],
   "source": [
    "# Preprocessing jest już zdefiniowany w ColumnTransformer powyżej\n",
    "# Pipeline automatycznie zastosuje odpowiednie transformacje\n"
   ]
  },
  {
   "cell_type": "markdown",
   "id": "cef7e6ee",
   "metadata": {},
   "source": [
    "# Zadanie 4: Implementacja i trening modelu SVM 🎯\n",
    "\n",
    "## Cel\n",
    "Zbudować i zoptymalizować model SVM dla predykcji attrition."
   ]
  },
  {
   "cell_type": "markdown",
   "id": "51075584",
   "metadata": {},
   "source": [
    "### 4.1 Pipeline SVM\n",
    "- Stwórz pipeline łączący preprocessor z modelem SVM (kernel='rbf')\n",
    "- Wytrenuj pipeline na zbiorze treningowym\n",
    "- Oceń na zbiorze walidacyjnym\n",
    "- Wyświetl accuracy, classification report i confusion matrix"
   ]
  },
  {
   "cell_type": "code",
   "execution_count": null,
   "id": "474d1c53",
   "metadata": {},
   "outputs": [],
   "source": [
    "# Twój kod tutaj:\n",
    "# Model bazowy\n",
    "# svm_base = SVC(kernel='rbf', random_state=42)\n",
    "# svm_base.fit(X_train_scaled, y_train)\n",
    "\n",
    "# Predykcje\n",
    "# y_val_pred = svm_base.predict(X_val_scaled)\n",
    "\n",
    "# Ocena\n",
    "# print(\"Accuracy:\", accuracy_score(y_val, y_val_pred))\n",
    "# print(\"\\nClassification Report:\")\n",
    "# print(classification_report(y_val, y_val_pred))"
   ]
  },
  {
   "cell_type": "markdown",
   "id": "0183c085",
   "metadata": {},
   "source": [
    "### 4.2 Testowanie różnych kerneli\n",
    "- Przetestuj kernele: 'linear', 'rbf', 'poly'\n",
    "- Dla każdego kernela:\n",
    "  - Wytrenuj model\n",
    "  - Oceń na walidacji\n",
    "  - Porównaj wyniki\n",
    "- Który kernel działa najlepiej?"
   ]
  },
  {
   "cell_type": "code",
   "execution_count": null,
   "id": "f3496f00",
   "metadata": {},
   "outputs": [],
   "source": [
    "# Twój kod tutaj:\n",
    "# kernels = ['linear', 'rbf', 'poly']\n",
    "# results = {}\n",
    "\n",
    "# for kernel in kernels:\n",
    "#     svm = SVC(kernel=kernel, random_state=42)\n",
    "#     svm.fit(X_train_scaled, y_train)\n",
    "#     y_pred = svm.predict(X_val_scaled)\n",
    "#     accuracy = accuracy_score(y_val, y_pred)\n",
    "#     results[kernel] = accuracy\n",
    "#     print(f\"{kernel}: {accuracy:.4f}\")"
   ]
  },
  {
   "cell_type": "markdown",
   "id": "8785f81e",
   "metadata": {},
   "source": [
    "### 4.3 Optymalizacja hiperparametrów\n",
    "- Użyj `GridSearchCV` do optymalizacji parametrów C i gamma dla najlepszego kernela\n",
    "- Zakres parametrów:\n",
    "  - C: [0.1, 1, 10, 100]\n",
    "  - gamma: ['scale', 'auto', 0.001, 0.01, 0.1, 1]\n",
    "- Użyj 5-fold cross-validation\n",
    "- Oceń najlepszy model na zbiorze walidacyjnym"
   ]
  },
  {
   "cell_type": "code",
   "execution_count": null,
   "id": "1b774f87",
   "metadata": {},
   "outputs": [],
   "source": [
    "# Twój kod tutaj:\n",
    "# param_grid = {\n",
    "#     'C': [0.1, 1, 10, 100],\n",
    "#     'gamma': ['scale', 'auto', 0.001, 0.01, 0.1, 1]\n",
    "# }\n",
    "\n",
    "# grid_search = GridSearchCV(...)\n",
    "# grid_search.fit(X_train_scaled, y_train)\n",
    "\n",
    "# print(\"Najlepsze parametry:\", grid_search.best_params_)\n",
    "# print(\"Najlepszy wynik CV:\", grid_search.best_score_)"
   ]
  },
  {
   "cell_type": "markdown",
   "id": "7b4e2d26",
   "metadata": {},
   "source": [
    "### 4.4 Ocena finalnego modelu SVM\n",
    "- Użyj najlepszego modelu z Grid Search\n",
    "- Oceń na zbiorze testowym\n",
    "- Stwórz confusion matrix z ładnymi etykietami\n",
    "- Oblicz dodatkowe metryki: precision, recall, F1-score"
   ]
  },
  {
   "cell_type": "code",
   "execution_count": null,
   "id": "b390631e",
   "metadata": {},
   "outputs": [],
   "source": [
    "# Twój kod tutaj:\n",
    "# best_svm = grid_search.best_estimator_\n",
    "# y_test_pred = best_svm.predict(X_test_scaled)\n",
    "\n",
    "# print(\"Test Accuracy:\", accuracy_score(y_test, y_test_pred))\n",
    "# print(\"\\nClassification Report:\")\n",
    "# print(classification_report(y_test, y_test_pred, target_names=['Stayed', 'Left']))\n",
    "\n",
    "# Confusion Matrix\n",
    "# cm = confusion_matrix(y_test, y_test_pred)\n",
    "# plt.figure(figsize=(8, 6))\n",
    "# sns.heatmap(cm, annot=True, fmt='d', cmap='Blues', \n",
    "#             xticklabels=['Stayed', 'Left'], yticklabels=['Stayed', 'Left'])\n",
    "# plt.title('SVM - Confusion Matrix')\n",
    "# plt.show()"
   ]
  },
  {
   "cell_type": "markdown",
   "id": "44059c6d",
   "metadata": {},
   "source": [
    "# Zadanie 5: Implementacja i trening modelu XGBoost 🚀\n",
    "\n",
    "## Cel\n",
    "Zbudować i zoptymalizować model XGBoost i porównać z SVM."
   ]
  },
  {
   "cell_type": "markdown",
   "id": "0acd7ab4",
   "metadata": {},
   "source": [
    "### 5.1 Model bazowy XGBoost\n",
    "- Stwórz model XGBoost z domyślnymi parametrami\n",
    "- **Uwaga**: XGBoost nie wymaga standaryzacji, użyj oryginalnych danych\n",
    "- Wytrenuj i oceń na zbiorze walidacyjnym\n",
    "- Porównaj wyniki z modelem SVM"
   ]
  },
  {
   "cell_type": "code",
   "execution_count": null,
   "id": "2a7ba0ab",
   "metadata": {},
   "outputs": [],
   "source": [
    "# Twój kod tutaj:\n",
    "# xgb_base = XGBClassifier(random_state=42, eval_metric='logloss')\n",
    "# xgb_base.fit(X_train, y_train)\n",
    "\n",
    "# y_val_pred_xgb = xgb_base.predict(X_val)\n",
    "# print(\"XGBoost Accuracy:\", accuracy_score(y_val, y_val_pred_xgb))\n",
    "# print(\"\\nClassification Report:\")\n",
    "# print(classification_report(y_val, y_val_pred_xgb))"
   ]
  },
  {
   "cell_type": "markdown",
   "id": "dc2425d3",
   "metadata": {},
   "source": [
    "### 5.2 Analiza ważności cech\n",
    "- Wyświetl feature importance z modelu XGBoost\n",
    "- Stwórz wykres słupkowy 15 najważniejszych cech\n",
    "- Zinterpretuj wyniki - które cechy są najważniejsze dla predykcji?\n",
    "- Czy wyniki są zgodne z twoimi obserwacjami z EDA?"
   ]
  },
  {
   "cell_type": "code",
   "execution_count": null,
   "id": "c26a6760",
   "metadata": {},
   "outputs": [],
   "source": [
    "# Twój kod tutaj:\n",
    "# feature_importance = xgb_base.feature_importances_\n",
    "# feature_names = X.columns  # jeśli X to DataFrame\n",
    "\n",
    "# Stwórz DataFrame z ważnością cech\n",
    "# importance_df = pd.DataFrame({\n",
    "#     'feature': feature_names,\n",
    "#     'importance': feature_importance\n",
    "# }).sort_values('importance', ascending=False)\n",
    "\n",
    "# Wykres 15 najważniejszych cech\n",
    "# plt.figure(figsize=(10, 8))\n",
    "# sns.barplot(data=importance_df.head(15), x='importance', y='feature')\n",
    "# plt.title('XGBoost - 15 najważniejszych cech')\n",
    "# plt.show()"
   ]
  },
  {
   "cell_type": "markdown",
   "id": "ad6b13aa",
   "metadata": {},
   "source": [
    "### 5.3 Optymalizacja hiperparametrów XGBoost\n",
    "- Użyj GridSearchCV do optymalizacji kluczowych parametrów:\n",
    "  - n_estimators: [100, 200, 300]\n",
    "  - max_depth: [3, 4, 5, 6]\n",
    "  - learning_rate: [0.01, 0.1, 0.2]\n",
    "  - subsample: [0.8, 0.9, 1.0]\n",
    "- **Uwaga**: To może potrwać długo, możesz zmniejszyć zakres"
   ]
  },
  {
   "cell_type": "code",
   "execution_count": null,
   "id": "8092e607",
   "metadata": {},
   "outputs": [],
   "source": [
    "# Twój kod tutaj:\n",
    "\n",
    "\n",
    "# print(\"Rozpoczynam Grid Search XGBoost...\")\n",
    "# grid_search_xgb.fit(X_train, y_train)"
   ]
  },
  {
   "cell_type": "markdown",
   "id": "1236466b",
   "metadata": {},
   "source": [
    "### 5.4 Ocena finalnego modelu XGBoost\n",
    "- Oceń najlepszy model XGBoost na zbiorze testowym\n",
    "- Stwórz confusion matrix\n",
    "- Porównaj metryki z modelem SVM\n",
    "- Przeanalizuj feature importance dla zoptymalizowanego modelu"
   ]
  },
  {
   "cell_type": "code",
   "execution_count": null,
   "id": "2da29ea6",
   "metadata": {},
   "outputs": [],
   "source": [
    "# Twój kod tutaj:\n",
    "\n",
    "\n",
    "# print(\"Najlepsze parametry XGBoost:\", grid_search_xgb.best_params_)\n",
    "# print(\"XGBoost Test Accuracy:\", accuracy_score(y_test, y_test_pred_xgb))\n",
    "# print(\"\\nClassification Report:\")\n",
    "# print(classification_report(y_test, y_test_pred_xgb, target_names=['Stayed', 'Left']))"
   ]
  },
  {
   "cell_type": "markdown",
   "id": "9379bc4d",
   "metadata": {},
   "source": [
    "# Zadanie 6: Porównanie modeli i wnioski biznesowe 📈\n",
    "\n",
    "## Cel\n",
    "Porównać oba modele i wyciągnąć praktyczne wnioski dla działu HR."
   ]
  },
  {
   "cell_type": "markdown",
   "id": "1a098055",
   "metadata": {},
   "source": [
    "### 6.1 Porównanie wyników\n",
    "- Stwórz tabelę porównującą oba modele:\n",
    "  - Accuracy na test\n",
    "  - Precision dla klasy \"Left\"  \n",
    "  - Recall dla klasy \"Left\"\n",
    "  - F1-score dla klasy \"Left\"\n",
    "- Który model jest lepszy i dlaczego?"
   ]
  },
  {
   "cell_type": "code",
   "execution_count": null,
   "id": "924bcb02",
   "metadata": {},
   "outputs": [],
   "source": [
    "# Twój kod tutaj:\n",
    "import time\n",
    "\n",
    "\n",
    "\n",
    "# Stwórz tabelę porównawczą\n",
    "\n",
    "# print(comparison)"
   ]
  },
  {
   "cell_type": "markdown",
   "id": "d11398a0",
   "metadata": {},
   "source": [
    "### 6.2 Analiza błędów\n",
    "- Znajdź przypadki gdzie oba modele się myliły\n",
    "- Znajdź przypadki gdzie modele się różniły w predykcji\n",
    "- Przeanalizuj charakterystyki błędnie sklasyfikowanych pracowników\n",
    "- Czy widzisz jakieś wzorce?"
   ]
  },
  {
   "cell_type": "code",
   "execution_count": null,
   "id": "7463bd49",
   "metadata": {},
   "outputs": [],
   "source": [
    "# Twój kod tutaj:\n",
    "# Porównanie predykcji\n",
    "# comparison_df = pd.DataFrame({\n",
    "#     'Actual': ,\n",
    "#     'SVM_Pred': ,\n",
    "#     'XGB_Pred': \n",
    "# })\n",
    "\n",
    "# Błędy obu modeli\n",
    "# both_wrong = \n",
    "\n",
    "# Różnice między modelami\n",
    "# different_pred = \n",
    "\n",
    "# print(f\"Przypadki gdzie oba modele się myliły: \")\n",
    "# print(f\"Przypadki gdzie modele różnią się: \")"
   ]
  },
  {
   "cell_type": "markdown",
   "id": "53e4b1de",
   "metadata": {},
   "source": [
    "### 6.3 Wnioski biznesowe\n",
    "Na podstawie analizy odpowiedz na pytania:\n",
    "\n",
    "**Dla działu HR:**\n",
    "- Które czynniki najsilniej wpływają na odejścia pracowników?\n",
    "- Jakie działania profilaktyczne można podjąć?\n",
    "- Na których grupach pracowników HR powinien się skupić?\n",
    "\n",
    "**Dla modelowania:**\n",
    "- Który model polecasz do wdrożenia i dlaczego?\n",
    "- Jakie są główne zalety i wady każdego podejścia?\n",
    "- Jak można poprawić wyniki modeli?"
   ]
  },
  {
   "cell_type": "markdown",
   "id": "3583cc9a",
   "metadata": {},
   "source": [
    "**Twoje wnioski biznesowe:**\n",
    "\n",
    "### Kluczowe czynniki wpływające na attrition:\n",
    "<!-- Wymień 5 najważniejszych czynników i jak je interpretować -->\n",
    "\n",
    "### Rekomendacje dla HR:\n",
    "<!-- Konkretne działania które może podjąć dział HR -->\n",
    "\n",
    "### Rekomendacje techniczne:\n",
    "<!-- Który model wdrożyć, jak go monitorować, jak poprawić -->\n",
    "\n",
    "### Ograniczenia analizy:\n",
    "<!-- Co mogłoby być zrobione lepiej, jakie są ograniczenia danych -->"
   ]
  },
  {
   "cell_type": "markdown",
   "id": "05df3cb7",
   "metadata": {},
   "source": [
    "# Zadanie 7: Zadania dodatkowe (dla chętnych) 🌟\n",
    "\n",
    "## Cel\n",
    "Pogłębić analizę i sprawdzić zaawansowane techniki."
   ]
  },
  {
   "cell_type": "markdown",
   "id": "14df6015",
   "metadata": {},
   "source": [
    "### 7.1 Feature Engineering\n",
    "- Stwórz nowe cechy:\n",
    "  - Ratio: Monthly Income / Years at Company (wzrost zarobków)\n",
    "  - Age groups (młodzi/średni/starsi)\n",
    "  - Interakcje między ważnymi cechami\n",
    "- Sprawdź czy poprawiają one wyniki modeli"
   ]
  },
  {
   "cell_type": "code",
   "execution_count": null,
   "id": "f014ed8d",
   "metadata": {},
   "outputs": [],
   "source": [
    "# Twój kod tutaj (opcjonalnie):\n",
    "# Feature engineering\n",
    "# ..."
   ]
  },
  {
   "cell_type": "markdown",
   "id": "f1cba911",
   "metadata": {},
   "source": [
    "### 7.2 Ensemble model\n",
    "- Stwórz VotingClassifier łączący SVM i XGBoost\n",
    "- Sprawdź czy ensemble daje lepsze wyniki niż pojedyncze modele\n",
    "- Przetestuj różne wagi dla modeli"
   ]
  },
  {
   "cell_type": "code",
   "execution_count": null,
   "id": "3f91dd7e",
   "metadata": {},
   "outputs": [],
   "source": [
    "# Twój kod tutaj (opcjonalnie):\n",
    "# from sklearn.ensemble import VotingClassifier\n",
    "# ensemble = VotingClassifier(...)\n",
    "# ..."
   ]
  },
  {
   "cell_type": "markdown",
   "id": "c7d73731",
   "metadata": {},
   "source": [
    "### 7.3 Krzywa ROC i AUC\n",
    "- Narysuj krzywe ROC dla obu modeli\n",
    "- Oblicz AUC score\n",
    "- Zinterpretuj wyniki"
   ]
  },
  {
   "cell_type": "code",
   "execution_count": null,
   "id": "c1b70de8",
   "metadata": {},
   "outputs": [],
   "source": [
    "# Twój kod tutaj (opcjonalnie):\n",
    "# from sklearn.metrics import roc_curve, auc\n",
    "# ..."
   ]
  },
  {
   "cell_type": "markdown",
   "id": "4a01dd5b",
   "metadata": {},
   "source": [
    "### 7.4 Analiza SHAP \n",
    "- Użyj biblioteki SHAP do interpretacji modelu XGBoost\n",
    "- Stwórz wykresy SHAP values dla najważniejszych cech\n",
    "- Przeanalizuj jak poszczególne cechy wpływają na konkretne predykcje"
   ]
  },
  {
   "cell_type": "code",
   "execution_count": null,
   "id": "a7917bb0",
   "metadata": {},
   "outputs": [],
   "source": [
    "# Twój kod tutaj (opcjonalnie):\n",
    "# import shap\n",
    "# explainer = shap.Explainer(best_xgb)\n",
    "# shap_values = explainer(X_test[:100])  # sample dla szybkości\n",
    "# shap.plots.waterfall(shap_values[0])"
   ]
  },
  {
   "cell_type": "markdown",
   "id": "7dd6372b",
   "metadata": {},
   "source": [
    "# Podsumowanie i refleksje 🎯\n",
    "\n",
    "## Co osiągnąłeś w tych ćwiczeniach:\n",
    "✅ Przeprowadziłeś kompleksową analizę rzeczywistego zbioru danych HR  \n",
    "✅ Zaimplementowałeś i porównałeś dwa różne algorytmy ML  \n",
    "✅ Dokonałeś optymalizacji hiperparametrów  \n",
    "✅ Przeanalizowałeś wyniki z perspektywy biznesowej  \n",
    "✅ Wyciągnąłeś praktyczne wnioski dla organizacji  \n",
    "\n",
    "## Kluczowe umiejętności:\n",
    "- **Data Science workflow**: od surowych danych do wdrożenia\n",
    "- **Model comparison**: obiektywne porównanie algorytmów\n",
    "- **Business insights**: tłumaczenie wyników ML na język biznesu\n",
    "- **Critical thinking**: analiza ograniczeń i możliwości poprawy\n",
    "\n",
    "## Następne kroki:\n",
    "- Przetestuj inne algorytmy (Random Forest, Logistic Regression)\n",
    "\n",
    "\n",
    "**Gratulacje! Ukończyłeś kompletny projekt ML od A do Z! 🎉**"
   ]
  }
 ],
 "metadata": {
  "language_info": {
   "name": "python"
  }
 },
 "nbformat": 4,
 "nbformat_minor": 5
}
