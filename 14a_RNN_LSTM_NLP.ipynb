{
 "cells": [
  {
   "cell_type": "markdown",
   "id": "5091bddb",
   "metadata": {},
   "source": [
    "# Sieci rekurencyjne (RNN) i LSTM w przetwarzaniu języka naturalnego\n",
    "\n",
    "![RNN and LSTM for NLP](https://miro.medium.com/v2/resize:fit:1400/1*laH0_xXEkFE0lKJu54gkFQ.png)"
   ]
  },
  {
   "cell_type": "markdown",
   "id": "0fcb41c7",
   "metadata": {},
   "source": [
    "## Cele edukacyjne\n",
    "\n",
    "* **Zrozumienie sieci rekurencyjnych (RNN)** – poznasz budowę i zasadę działania sieci neuronowych przetwarzających sekwencje danych.\n",
    "* **Problemy tradycyjnych RNN** – dowiesz się o problemach znikającego i eksplodującego gradientu w sieciach rekurencyjnych.\n",
    "* **Wprowadzenie do LSTM** – poznasz architekturę Long Short-Term Memory i sposób rozwiązania problemów RNN.\n",
    "* **Zastosowania w NLP** – nauczysz się implementować sieci rekurencyjne do zadań przetwarzania języka naturalnego.\n",
    "* **Praktyczne implementacje** – zbudujesz modele do klasyfikacji tekstu, generowania tekstu i analizy sentymentu."
   ]
  },
  {
   "cell_type": "markdown",
   "id": "7224bbbc",
   "metadata": {},
   "source": [
    "## Wprowadzenie do sieci rekurencyjnych (RNN)\n",
    "\n",
    "![RNN Architecture](https://upload.wikimedia.org/wikipedia/commons/thumb/b/b5/Recurrent_neural_network_unfold.svg/1200px-Recurrent_neural_network_unfold.svg.png)\n",
    "\n",
    "**Sieci rekurencyjne (Recurrent Neural Networks - RNN)** to typ sieci neuronowych zaprojektowanych do przetwarzania sekwencji danych. W przeciwieństwie do tradycyjnych sieci neuronowych, RNN mają \"pamięć\" - mogą wykorzystywać informacje z poprzednich kroków czasowych do przetwarzania bieżących danych."
   ]
  },
  {
   "cell_type": "markdown",
   "id": "3844fb0d",
   "metadata": {},
   "source": [
    "### Kluczowe cechy RNN:\n",
    "\n",
    "* **Przetwarzanie sekwencyjne** – dane są przetwarzane krok po kroku w określonej kolejności\n",
    "* **Pamięć** – sieć \"pamięta\" poprzednie stany dzięki połączeniom rekurencyjnym\n",
    "* **Dzielenie parametrów** – te same wagi są używane dla każdego kroku czasowego\n",
    "* **Zmienna długość sekwencji** – mogą przetwarzać sekwencje o różnej długości\n",
    "\n",
    "### Zastosowania RNN:\n",
    "\n",
    "* **Analiza tekstu** – klasyfikacja sentymentu, rozpoznawanie encji\n",
    "* **Generowanie tekstu** – tworzenie poezji, artykułów, kodu\n",
    "* **Tłumaczenie maszynowe** – przekład z jednego języka na inny\n",
    "* **Rozpoznawanie mowy** – konwersja mowy na tekst\n",
    "* **Analiza szeregów czasowych** – prognozowanie giełdowe, pogoda"
   ]
  },
  {
   "cell_type": "markdown",
   "id": "b636ab00",
   "metadata": {},
   "source": [
    "\n",
    "### Równania RNN\n",
    "\n",
    "**Stan ukryty w czasie \\(t\\):**\n",
    "\n",
    "$$\n",
    "h_t = \\tanh\\bigl(W_{hh}\\,h_{t-1} + W_{xh}\\,x_t + b_h\\bigr)\n",
    "$$\n",
    "\n",
    "**Wyjście w czasie \\(t\\):**\n",
    "\n",
    "$$\n",
    "y_t = W_{hy}\\,h_t + b_y\n",
    "$$\n",
    "\n",
    "Gdzie:\n",
    "- \\(h_t\\) — stan ukryty w czasie \\(t\\)  \n",
    "- \\(x_t\\) — wejście w czasie \\(t\\)  \n",
    "- \\(y_t\\) — wyjście w czasie \\(t\\)  \n",
    "- \\(W_{hh}\\) — wagi dla połączeń rekurencyjnych  \n",
    "- \\(W_{xh}\\) — wagi dla wejść  \n",
    "- \\(W_{hy}\\) — wagi dla wyjść  \n",
    "- \\(b_h, b_y\\) — biasy  \n"
   ]
  },
  {
   "cell_type": "markdown",
   "id": "d29ef6b0",
   "metadata": {},
   "source": [
    "## Problemy tradycyjnych RNN\n",
    "\n",
    "![Vanishing Gradient](https://sds-platform-private.s3-us-east-2.amazonaws.com/uploads/31_blog_image_2.png)\n",
    "\n",
    "### 1. Problem znikającego gradientu\n",
    "\n",
    "**Przyczyna:** Podczas wstecznej propagacji przez wiele kroków czasowych, gradienty mogą stać się bardzo małe, co sprawia, że sieć nie może nauczyć się długoterminowych zależności.\n",
    "\n",
    "**Skutek:** Sieć \"zapomina\" informacje z odległych kroków czasowych.\n",
    "\n",
    "### 2. Problem eksplodującego gradientu\n",
    "\n",
    "**Przyczyna:** Gradienty mogą stać się bardzo duże, powodując niestabilność treningu.\n",
    "\n",
    "**Skutek:** Wagi sieci zmieniają się drastycznie, co prowadzi do niestabilności.\n",
    "\n",
    "### 3. Ograniczona pamięć\n",
    "\n",
    "**Problem:** Tradycyjne RNN mają trudności z zapamiętywaniem informacji z długich sekwencji."
   ]
  },
  {
   "cell_type": "markdown",
   "id": "fb9cc8a6",
   "metadata": {},
   "source": [
    "## Long Short-Term Memory (LSTM)\n",
    "\n",
    "![LSTM Architecture](https://miro.medium.com/v2/resize:fit:984/1*Mb_L_slY9rjMr8-IADHvwg.png)\n",
    "\n",
    "**LSTM (Long Short-Term Memory)** to specjalny typ sieci rekurencyjnej zaprojektowany do rozwiązania problemów tradycyjnych RNN. LSTM może uczyć się długoterminowych zależności dzięki swojej unikalnej architekturze."
   ]
  },
  {
   "cell_type": "markdown",
   "id": "3578d25a",
   "metadata": {},
   "source": [
    "### Kluczowe komponenty LSTM:\n",
    "\n",
    "#### 1. Stan komórki (Cell State)\n",
    "- Główna \"pamięć\" sieci\n",
    "- Przepływa przez całą sieć z minimalnymi zmianami\n",
    "- Pozwala na zachowanie informacji przez długi czas\n",
    "\n",
    "#### 2. Bramka zapomnienia (Forget Gate)\n",
    "- Decyduje, które informacje z poprzedniego stanu komórki należy \"zapomnieć\"\n",
    "- Używa funkcji sigmoid (wartości 0-1)\n",
    "\n",
    "#### 3. Bramka wejściowa (Input Gate)\n",
    "- Decyduje, które nowe informacje będą przechowywane w stanie komórki\n",
    "- Składa się z dwóch części: sigmoid i tanh\n",
    "\n",
    "#### 4. Bramka wyjściowa (Output Gate)\n",
    "- Decyduje, które części stanu komórki będą użyte do wygenerowania wyjścia\n",
    "- Kontroluje stan ukryty h_t"
   ]
  },
  {
   "cell_type": "markdown",
   "id": "8184c488",
   "metadata": {},
   "source": [
    "## Implementacja praktyczna\n",
    "\n",
    "Teraz przejdźmy do praktycznej implementacji sieci rekurencyjnych w TensorFlow/Keras."
   ]
  },
  {
   "cell_type": "code",
   "execution_count": 9,
   "id": "3e615f21",
   "metadata": {},
   "outputs": [
    {
     "name": "stdout",
     "output_type": "stream",
     "text": [
      "Biblioteki załadowane pomyślnie!\n",
      "TensorFlow version: 2.19.0\n"
     ]
    }
   ],
   "source": [
    "import numpy as np\n",
    "import matplotlib.pyplot as plt\n",
    "import seaborn as sns\n",
    "import pandas as pd\n",
    "\n",
    "import tensorflow as tf\n",
    "from tensorflow import keras\n",
    "from tensorflow.keras import layers\n",
    "from tensorflow.keras.preprocessing.text import Tokenizer\n",
    "from tensorflow.keras.preprocessing.sequence import pad_sequences\n",
    "from tensorflow.keras.utils import to_categorical\n",
    "\n",
    "from sklearn.model_selection import train_test_split\n",
    "from sklearn.metrics import classification_report, confusion_matrix\n",
    "\n",
    "import warnings\n",
    "warnings.filterwarnings('ignore')\n",
    "\n",
    "# Ustawienia dla powtarzalności\n",
    "np.random.seed(42)\n",
    "tf.random.set_seed(42)\n",
    "\n",
    "# Konfiguracja wyświetlania\n",
    "plt.style.use('seaborn-v0_8')\n",
    "pd.set_option('display.max_columns', None)\n",
    "\n",
    "print(\"Biblioteki załadowane pomyślnie!\")\n",
    "print(f\"TensorFlow version: {tf.__version__}\")"
   ]
  },
  {
   "cell_type": "markdown",
   "id": "4dde764b",
   "metadata": {},
   "source": [
    "## Przykład 1: Prosta klasyfikacja sentymentu z RNN\n",
    "\n",
    "Zacznijmy od prostego przykładu klasyfikacji sentymentu używając danych IMDB."
   ]
  },
  {
   "cell_type": "code",
   "execution_count": null,
   "id": "b07f7b05",
   "metadata": {},
   "outputs": [
    {
     "name": "stdout",
     "output_type": "stream",
     "text": [
      "Liczba próbek treningowych: 25000\n",
      "Liczba próbek testowych: 25000\n",
      "Przykładowa długość recenzji: 218\n",
      "Pierwsza recenzja (pierwsze 10 słów): [1, 14, 22, 16, 43, 2, 2, 2, 2, 65]\n"
     ]
    }
   ],
   "source": [
    "# Ładowanie danych IMDB\n",
    "from tensorflow.keras.datasets import imdb\n",
    "\n",
    "# Parametry\n",
    "vocab_size = 100\n",
    "max_length = 10\n",
    "\n",
    "# Ładowanie danych\n",
    "(X_train, y_train), (X_test, y_test) = imdb.load_data(num_words=vocab_size)\n",
    "\n",
    "print(f\"Liczba próbek treningowych: {len(X_train)}\")\n",
    "print(f\"Liczba próbek testowych: {len(X_test)}\")\n",
    "print(f\"Przykładowa długość recenzji: {len(X_train[0])}\")\n",
    "print(f\"Pierwsza recenzja (pierwsze 10 słów): {X_train[0][:10]}\")"
   ]
  },
  {
   "cell_type": "code",
   "execution_count": 16,
   "id": "76cec497",
   "metadata": {},
   "outputs": [
    {
     "data": {
      "text/plain": [
       "218"
      ]
     },
     "execution_count": 16,
     "metadata": {},
     "output_type": "execute_result"
    }
   ],
   "source": [
    "len(X_train[0])"
   ]
  },
  {
   "cell_type": "code",
   "execution_count": 17,
   "id": "2b283dad",
   "metadata": {},
   "outputs": [
    {
     "name": "stdout",
     "output_type": "stream",
     "text": [
      "Kształt danych treningowych: (25000, 10)\n",
      "Kształt danych testowych: (25000, 10)\n",
      "Rozkład klas treningowych: [12500 12500]\n"
     ]
    }
   ],
   "source": [
    "# Preprocessing danych\n",
    "X_train = pad_sequences(X_train, maxlen=max_length, padding='post', truncating='post')\n",
    "X_test = pad_sequences(X_test, maxlen=max_length, padding='post', truncating='post')\n",
    "\n",
    "print(f\"Kształt danych treningowych: {X_train.shape}\")\n",
    "print(f\"Kształt danych testowych: {X_test.shape}\")\n",
    "print(f\"Rozkład klas treningowych: {np.bincount(y_train)}\")"
   ]
  },
  {
   "cell_type": "code",
   "execution_count": 18,
   "id": "98574ab7",
   "metadata": {},
   "outputs": [
    {
     "data": {
      "text/plain": [
       "10"
      ]
     },
     "execution_count": 18,
     "metadata": {},
     "output_type": "execute_result"
    }
   ],
   "source": [
    "len(X_train[0])"
   ]
  },
  {
   "cell_type": "code",
   "execution_count": null,
   "id": "eba4b69f",
   "metadata": {},
   "outputs": [],
   "source": []
  },
  {
   "cell_type": "markdown",
   "id": "eb0e0078",
   "metadata": {},
   "source": [
    "### Budowanie prostego modelu RNN"
   ]
  },
  {
   "cell_type": "code",
   "execution_count": 19,
   "id": "75ea9c1e",
   "metadata": {},
   "outputs": [
    {
     "data": {
      "text/html": [
       "<pre style=\"white-space:pre;overflow-x:auto;line-height:normal;font-family:Menlo,'DejaVu Sans Mono',consolas,'Courier New',monospace\"><span style=\"font-weight: bold\">Model: \"sequential_2\"</span>\n",
       "</pre>\n"
      ],
      "text/plain": [
       "\u001b[1mModel: \"sequential_2\"\u001b[0m\n"
      ]
     },
     "metadata": {},
     "output_type": "display_data"
    },
    {
     "data": {
      "text/html": [
       "<pre style=\"white-space:pre;overflow-x:auto;line-height:normal;font-family:Menlo,'DejaVu Sans Mono',consolas,'Courier New',monospace\">┏━━━━━━━━━━━━━━━━━━━━━━━━━━━━━━━━━┳━━━━━━━━━━━━━━━━━━━━━━━━┳━━━━━━━━━━━━━━━┓\n",
       "┃<span style=\"font-weight: bold\"> Layer (type)                    </span>┃<span style=\"font-weight: bold\"> Output Shape           </span>┃<span style=\"font-weight: bold\">       Param # </span>┃\n",
       "┡━━━━━━━━━━━━━━━━━━━━━━━━━━━━━━━━━╇━━━━━━━━━━━━━━━━━━━━━━━━╇━━━━━━━━━━━━━━━┩\n",
       "│ embedding_2 (<span style=\"color: #0087ff; text-decoration-color: #0087ff\">Embedding</span>)         │ ?                      │   <span style=\"color: #00af00; text-decoration-color: #00af00\">0</span> (unbuilt) │\n",
       "├─────────────────────────────────┼────────────────────────┼───────────────┤\n",
       "│ simple_rnn_1 (<span style=\"color: #0087ff; text-decoration-color: #0087ff\">SimpleRNN</span>)        │ ?                      │   <span style=\"color: #00af00; text-decoration-color: #00af00\">0</span> (unbuilt) │\n",
       "├─────────────────────────────────┼────────────────────────┼───────────────┤\n",
       "│ dense_2 (<span style=\"color: #0087ff; text-decoration-color: #0087ff\">Dense</span>)                 │ ?                      │   <span style=\"color: #00af00; text-decoration-color: #00af00\">0</span> (unbuilt) │\n",
       "└─────────────────────────────────┴────────────────────────┴───────────────┘\n",
       "</pre>\n"
      ],
      "text/plain": [
       "┏━━━━━━━━━━━━━━━━━━━━━━━━━━━━━━━━━┳━━━━━━━━━━━━━━━━━━━━━━━━┳━━━━━━━━━━━━━━━┓\n",
       "┃\u001b[1m \u001b[0m\u001b[1mLayer (type)                   \u001b[0m\u001b[1m \u001b[0m┃\u001b[1m \u001b[0m\u001b[1mOutput Shape          \u001b[0m\u001b[1m \u001b[0m┃\u001b[1m \u001b[0m\u001b[1m      Param #\u001b[0m\u001b[1m \u001b[0m┃\n",
       "┡━━━━━━━━━━━━━━━━━━━━━━━━━━━━━━━━━╇━━━━━━━━━━━━━━━━━━━━━━━━╇━━━━━━━━━━━━━━━┩\n",
       "│ embedding_2 (\u001b[38;5;33mEmbedding\u001b[0m)         │ ?                      │   \u001b[38;5;34m0\u001b[0m (unbuilt) │\n",
       "├─────────────────────────────────┼────────────────────────┼───────────────┤\n",
       "│ simple_rnn_1 (\u001b[38;5;33mSimpleRNN\u001b[0m)        │ ?                      │   \u001b[38;5;34m0\u001b[0m (unbuilt) │\n",
       "├─────────────────────────────────┼────────────────────────┼───────────────┤\n",
       "│ dense_2 (\u001b[38;5;33mDense\u001b[0m)                 │ ?                      │   \u001b[38;5;34m0\u001b[0m (unbuilt) │\n",
       "└─────────────────────────────────┴────────────────────────┴───────────────┘\n"
      ]
     },
     "metadata": {},
     "output_type": "display_data"
    },
    {
     "data": {
      "text/html": [
       "<pre style=\"white-space:pre;overflow-x:auto;line-height:normal;font-family:Menlo,'DejaVu Sans Mono',consolas,'Courier New',monospace\"><span style=\"font-weight: bold\"> Total params: </span><span style=\"color: #00af00; text-decoration-color: #00af00\">0</span> (0.00 B)\n",
       "</pre>\n"
      ],
      "text/plain": [
       "\u001b[1m Total params: \u001b[0m\u001b[38;5;34m0\u001b[0m (0.00 B)\n"
      ]
     },
     "metadata": {},
     "output_type": "display_data"
    },
    {
     "data": {
      "text/html": [
       "<pre style=\"white-space:pre;overflow-x:auto;line-height:normal;font-family:Menlo,'DejaVu Sans Mono',consolas,'Courier New',monospace\"><span style=\"font-weight: bold\"> Trainable params: </span><span style=\"color: #00af00; text-decoration-color: #00af00\">0</span> (0.00 B)\n",
       "</pre>\n"
      ],
      "text/plain": [
       "\u001b[1m Trainable params: \u001b[0m\u001b[38;5;34m0\u001b[0m (0.00 B)\n"
      ]
     },
     "metadata": {},
     "output_type": "display_data"
    },
    {
     "data": {
      "text/html": [
       "<pre style=\"white-space:pre;overflow-x:auto;line-height:normal;font-family:Menlo,'DejaVu Sans Mono',consolas,'Courier New',monospace\"><span style=\"font-weight: bold\"> Non-trainable params: </span><span style=\"color: #00af00; text-decoration-color: #00af00\">0</span> (0.00 B)\n",
       "</pre>\n"
      ],
      "text/plain": [
       "\u001b[1m Non-trainable params: \u001b[0m\u001b[38;5;34m0\u001b[0m (0.00 B)\n"
      ]
     },
     "metadata": {},
     "output_type": "display_data"
    }
   ],
   "source": [
    "def build_simple_rnn_model(vocab_size, max_length, embedding_dim=128, rnn_units=64):\n",
    "    \"\"\"\n",
    "    Buduje prosty model RNN do klasyfikacji sentymentu.\n",
    "    \n",
    "    Args:\n",
    "        vocab_size: Rozmiar słownika\n",
    "        max_length: Maksymalna długość sekwencji\n",
    "        embedding_dim: Wymiar warstwy embedding\n",
    "        rnn_units: Liczba jednostek w warstwie RNN\n",
    "    \n",
    "    Returns:\n",
    "        Skompilowany model Keras\n",
    "    \"\"\"\n",
    "    model = keras.Sequential([\n",
    "        layers.Embedding(vocab_size, embedding_dim, input_length=max_length),\n",
    "        layers.SimpleRNN(rnn_units, dropout=0.2, recurrent_dropout=0.2),\n",
    "        layers.Dense(1, activation='sigmoid')\n",
    "    ])\n",
    "    \n",
    "    model.compile(\n",
    "        optimizer='adam',\n",
    "        loss='binary_crossentropy',\n",
    "        metrics=['accuracy']\n",
    "    )\n",
    "    \n",
    "    return model\n",
    "\n",
    "# Budowanie modelu\n",
    "rnn_model = build_simple_rnn_model(vocab_size, max_length)\n",
    "rnn_model.summary()"
   ]
  },
  {
   "cell_type": "code",
   "execution_count": 20,
   "id": "81f4af24",
   "metadata": {},
   "outputs": [
    {
     "name": "stdout",
     "output_type": "stream",
     "text": [
      "Epoch 1/5\n",
      "\u001b[1m625/625\u001b[0m \u001b[32m━━━━━━━━━━━━━━━━━━━━\u001b[0m\u001b[37m\u001b[0m \u001b[1m8s\u001b[0m 8ms/step - accuracy: 0.5147 - loss: 0.6971 - val_accuracy: 0.5606 - val_loss: 0.6819\n",
      "Epoch 2/5\n",
      "\u001b[1m625/625\u001b[0m \u001b[32m━━━━━━━━━━━━━━━━━━━━\u001b[0m\u001b[37m\u001b[0m \u001b[1m4s\u001b[0m 7ms/step - accuracy: 0.5611 - loss: 0.6802 - val_accuracy: 0.5566 - val_loss: 0.6816\n",
      "Epoch 3/5\n",
      "\u001b[1m625/625\u001b[0m \u001b[32m━━━━━━━━━━━━━━━━━━━━\u001b[0m\u001b[37m\u001b[0m \u001b[1m4s\u001b[0m 6ms/step - accuracy: 0.5762 - loss: 0.6746 - val_accuracy: 0.5670 - val_loss: 0.6788\n",
      "Epoch 4/5\n",
      "\u001b[1m625/625\u001b[0m \u001b[32m━━━━━━━━━━━━━━━━━━━━\u001b[0m\u001b[37m\u001b[0m \u001b[1m4s\u001b[0m 7ms/step - accuracy: 0.5782 - loss: 0.6712 - val_accuracy: 0.5552 - val_loss: 0.6846\n",
      "Epoch 5/5\n",
      "\u001b[1m625/625\u001b[0m \u001b[32m━━━━━━━━━━━━━━━━━━━━\u001b[0m\u001b[37m\u001b[0m \u001b[1m4s\u001b[0m 7ms/step - accuracy: 0.5837 - loss: 0.6706 - val_accuracy: 0.5630 - val_loss: 0.6829\n",
      "\n",
      "Wyniki testowe RNN:\n",
      "Accuracy: 0.5622\n",
      "Loss: 0.6804\n"
     ]
    }
   ],
   "source": [
    "# Trenowanie modelu RNN\n",
    "history_rnn = rnn_model.fit(\n",
    "    X_train, y_train,\n",
    "    batch_size=32,\n",
    "    epochs=5,\n",
    "    validation_split=0.2,\n",
    "    verbose=1\n",
    ")\n",
    "\n",
    "# Ewaluacja\n",
    "test_loss, test_accuracy = rnn_model.evaluate(X_test, y_test, verbose=0)\n",
    "print(f\"\\nWyniki testowe RNN:\")\n",
    "print(f\"Accuracy: {test_accuracy:.4f}\")\n",
    "print(f\"Loss: {test_loss:.4f}\")"
   ]
  },
  {
   "cell_type": "markdown",
   "id": "25e2b53d",
   "metadata": {},
   "source": [
    "### Budowanie modelu LSTM"
   ]
  },
  {
   "cell_type": "code",
   "execution_count": 21,
   "id": "c4ec4ec1",
   "metadata": {},
   "outputs": [
    {
     "data": {
      "text/html": [
       "<pre style=\"white-space:pre;overflow-x:auto;line-height:normal;font-family:Menlo,'DejaVu Sans Mono',consolas,'Courier New',monospace\"><span style=\"font-weight: bold\">Model: \"sequential_3\"</span>\n",
       "</pre>\n"
      ],
      "text/plain": [
       "\u001b[1mModel: \"sequential_3\"\u001b[0m\n"
      ]
     },
     "metadata": {},
     "output_type": "display_data"
    },
    {
     "data": {
      "text/html": [
       "<pre style=\"white-space:pre;overflow-x:auto;line-height:normal;font-family:Menlo,'DejaVu Sans Mono',consolas,'Courier New',monospace\">┏━━━━━━━━━━━━━━━━━━━━━━━━━━━━━━━━━┳━━━━━━━━━━━━━━━━━━━━━━━━┳━━━━━━━━━━━━━━━┓\n",
       "┃<span style=\"font-weight: bold\"> Layer (type)                    </span>┃<span style=\"font-weight: bold\"> Output Shape           </span>┃<span style=\"font-weight: bold\">       Param # </span>┃\n",
       "┡━━━━━━━━━━━━━━━━━━━━━━━━━━━━━━━━━╇━━━━━━━━━━━━━━━━━━━━━━━━╇━━━━━━━━━━━━━━━┩\n",
       "│ embedding_3 (<span style=\"color: #0087ff; text-decoration-color: #0087ff\">Embedding</span>)         │ ?                      │   <span style=\"color: #00af00; text-decoration-color: #00af00\">0</span> (unbuilt) │\n",
       "├─────────────────────────────────┼────────────────────────┼───────────────┤\n",
       "│ lstm_1 (<span style=\"color: #0087ff; text-decoration-color: #0087ff\">LSTM</span>)                   │ ?                      │   <span style=\"color: #00af00; text-decoration-color: #00af00\">0</span> (unbuilt) │\n",
       "├─────────────────────────────────┼────────────────────────┼───────────────┤\n",
       "│ dense_3 (<span style=\"color: #0087ff; text-decoration-color: #0087ff\">Dense</span>)                 │ ?                      │   <span style=\"color: #00af00; text-decoration-color: #00af00\">0</span> (unbuilt) │\n",
       "└─────────────────────────────────┴────────────────────────┴───────────────┘\n",
       "</pre>\n"
      ],
      "text/plain": [
       "┏━━━━━━━━━━━━━━━━━━━━━━━━━━━━━━━━━┳━━━━━━━━━━━━━━━━━━━━━━━━┳━━━━━━━━━━━━━━━┓\n",
       "┃\u001b[1m \u001b[0m\u001b[1mLayer (type)                   \u001b[0m\u001b[1m \u001b[0m┃\u001b[1m \u001b[0m\u001b[1mOutput Shape          \u001b[0m\u001b[1m \u001b[0m┃\u001b[1m \u001b[0m\u001b[1m      Param #\u001b[0m\u001b[1m \u001b[0m┃\n",
       "┡━━━━━━━━━━━━━━━━━━━━━━━━━━━━━━━━━╇━━━━━━━━━━━━━━━━━━━━━━━━╇━━━━━━━━━━━━━━━┩\n",
       "│ embedding_3 (\u001b[38;5;33mEmbedding\u001b[0m)         │ ?                      │   \u001b[38;5;34m0\u001b[0m (unbuilt) │\n",
       "├─────────────────────────────────┼────────────────────────┼───────────────┤\n",
       "│ lstm_1 (\u001b[38;5;33mLSTM\u001b[0m)                   │ ?                      │   \u001b[38;5;34m0\u001b[0m (unbuilt) │\n",
       "├─────────────────────────────────┼────────────────────────┼───────────────┤\n",
       "│ dense_3 (\u001b[38;5;33mDense\u001b[0m)                 │ ?                      │   \u001b[38;5;34m0\u001b[0m (unbuilt) │\n",
       "└─────────────────────────────────┴────────────────────────┴───────────────┘\n"
      ]
     },
     "metadata": {},
     "output_type": "display_data"
    },
    {
     "data": {
      "text/html": [
       "<pre style=\"white-space:pre;overflow-x:auto;line-height:normal;font-family:Menlo,'DejaVu Sans Mono',consolas,'Courier New',monospace\"><span style=\"font-weight: bold\"> Total params: </span><span style=\"color: #00af00; text-decoration-color: #00af00\">0</span> (0.00 B)\n",
       "</pre>\n"
      ],
      "text/plain": [
       "\u001b[1m Total params: \u001b[0m\u001b[38;5;34m0\u001b[0m (0.00 B)\n"
      ]
     },
     "metadata": {},
     "output_type": "display_data"
    },
    {
     "data": {
      "text/html": [
       "<pre style=\"white-space:pre;overflow-x:auto;line-height:normal;font-family:Menlo,'DejaVu Sans Mono',consolas,'Courier New',monospace\"><span style=\"font-weight: bold\"> Trainable params: </span><span style=\"color: #00af00; text-decoration-color: #00af00\">0</span> (0.00 B)\n",
       "</pre>\n"
      ],
      "text/plain": [
       "\u001b[1m Trainable params: \u001b[0m\u001b[38;5;34m0\u001b[0m (0.00 B)\n"
      ]
     },
     "metadata": {},
     "output_type": "display_data"
    },
    {
     "data": {
      "text/html": [
       "<pre style=\"white-space:pre;overflow-x:auto;line-height:normal;font-family:Menlo,'DejaVu Sans Mono',consolas,'Courier New',monospace\"><span style=\"font-weight: bold\"> Non-trainable params: </span><span style=\"color: #00af00; text-decoration-color: #00af00\">0</span> (0.00 B)\n",
       "</pre>\n"
      ],
      "text/plain": [
       "\u001b[1m Non-trainable params: \u001b[0m\u001b[38;5;34m0\u001b[0m (0.00 B)\n"
      ]
     },
     "metadata": {},
     "output_type": "display_data"
    }
   ],
   "source": [
    "def build_lstm_model(vocab_size, max_length, embedding_dim=128, lstm_units=64):\n",
    "    \"\"\"\n",
    "    Buduje model LSTM do klasyfikacji sentymentu.\n",
    "    \n",
    "    Args:\n",
    "        vocab_size: Rozmiar słownika\n",
    "        max_length: Maksymalna długość sekwencji\n",
    "        embedding_dim: Wymiar warstwy embedding\n",
    "        lstm_units: Liczba jednostek w warstwie LSTM\n",
    "    \n",
    "    Returns:\n",
    "        Skompilowany model Keras\n",
    "    \"\"\"\n",
    "    model = keras.Sequential([\n",
    "        layers.Embedding(vocab_size, embedding_dim, input_length=max_length),\n",
    "        layers.LSTM(lstm_units, dropout=0.2, recurrent_dropout=0.2),\n",
    "        layers.Dense(1, activation='sigmoid')\n",
    "    ])\n",
    "    \n",
    "    model.compile(\n",
    "        optimizer='adam',\n",
    "        loss='binary_crossentropy',\n",
    "        metrics=['accuracy']\n",
    "    )\n",
    "    \n",
    "    return model\n",
    "\n",
    "# Budowanie modelu LSTM\n",
    "lstm_model = build_lstm_model(vocab_size, max_length)\n",
    "lstm_model.summary()"
   ]
  },
  {
   "cell_type": "code",
   "execution_count": 22,
   "id": "0c823a29",
   "metadata": {},
   "outputs": [
    {
     "name": "stdout",
     "output_type": "stream",
     "text": [
      "Epoch 1/5\n",
      "\u001b[1m625/625\u001b[0m \u001b[32m━━━━━━━━━━━━━━━━━━━━\u001b[0m\u001b[37m\u001b[0m \u001b[1m13s\u001b[0m 13ms/step - accuracy: 0.5406 - loss: 0.6867 - val_accuracy: 0.5666 - val_loss: 0.6764\n",
      "Epoch 2/5\n",
      "\u001b[1m625/625\u001b[0m \u001b[32m━━━━━━━━━━━━━━━━━━━━\u001b[0m\u001b[37m\u001b[0m \u001b[1m7s\u001b[0m 11ms/step - accuracy: 0.5686 - loss: 0.6739 - val_accuracy: 0.5644 - val_loss: 0.6762\n",
      "Epoch 3/5\n",
      "\u001b[1m625/625\u001b[0m \u001b[32m━━━━━━━━━━━━━━━━━━━━\u001b[0m\u001b[37m\u001b[0m \u001b[1m7s\u001b[0m 11ms/step - accuracy: 0.5746 - loss: 0.6706 - val_accuracy: 0.5654 - val_loss: 0.6752\n",
      "Epoch 4/5\n",
      "\u001b[1m625/625\u001b[0m \u001b[32m━━━━━━━━━━━━━━━━━━━━\u001b[0m\u001b[37m\u001b[0m \u001b[1m7s\u001b[0m 10ms/step - accuracy: 0.5741 - loss: 0.6682 - val_accuracy: 0.5704 - val_loss: 0.6746\n",
      "Epoch 5/5\n",
      "\u001b[1m625/625\u001b[0m \u001b[32m━━━━━━━━━━━━━━━━━━━━\u001b[0m\u001b[37m\u001b[0m \u001b[1m6s\u001b[0m 10ms/step - accuracy: 0.5769 - loss: 0.6658 - val_accuracy: 0.5718 - val_loss: 0.6734\n",
      "\n",
      "Wyniki testowe LSTM:\n",
      "Accuracy: 0.5691\n",
      "Loss: 0.6725\n"
     ]
    }
   ],
   "source": [
    "# Trenowanie modelu LSTM\n",
    "history_lstm = lstm_model.fit(\n",
    "    X_train, y_train,\n",
    "    batch_size=32,\n",
    "    epochs=5,\n",
    "    validation_split=0.2,\n",
    "    verbose=1\n",
    ")\n",
    "\n",
    "# Ewaluacja\n",
    "test_loss, test_accuracy = lstm_model.evaluate(X_test, y_test, verbose=0)\n",
    "print(f\"\\nWyniki testowe LSTM:\")\n",
    "print(f\"Accuracy: {test_accuracy:.4f}\")\n",
    "print(f\"Loss: {test_loss:.4f}\")"
   ]
  },
  {
   "cell_type": "markdown",
   "id": "eaacac55",
   "metadata": {},
   "source": [
    "### Porównanie wyników RNN vs LSTM"
   ]
  },
  {
   "cell_type": "code",
   "execution_count": 23,
   "id": "b5da0226",
   "metadata": {},
   "outputs": [
    {
     "data": {
      "image/png": "[encoded data removed]",
      "text/plain": [
       "<Figure size 1500x500 with 2 Axes>"
      ]
     },
     "metadata": {},
     "output_type": "display_data"
    }
   ],
   "source": [
    "def plot_training_history(history_rnn, history_lstm):\n",
    "    \"\"\"\n",
    "    Porównuje historię treningu RNN i LSTM.\n",
    "    \"\"\"\n",
    "    fig, (ax1, ax2) = plt.subplots(1, 2, figsize=(15, 5))\n",
    "    \n",
    "    # Accuracy\n",
    "    ax1.plot(history_rnn.history['accuracy'], label='RNN Train', marker='o')\n",
    "    ax1.plot(history_rnn.history['val_accuracy'], label='RNN Val', marker='o')\n",
    "    ax1.plot(history_lstm.history['accuracy'], label='LSTM Train', marker='s')\n",
    "    ax1.plot(history_lstm.history['val_accuracy'], label='LSTM Val', marker='s')\n",
    "    ax1.set_title('Model Accuracy')\n",
    "    ax1.set_xlabel('Epoch')\n",
    "    ax1.set_ylabel('Accuracy')\n",
    "    ax1.legend()\n",
    "    ax1.grid(True, alpha=0.3)\n",
    "    \n",
    "    # Loss\n",
    "    ax2.plot(history_rnn.history['loss'], label='RNN Train', marker='o')\n",
    "    ax2.plot(history_rnn.history['val_loss'], label='RNN Val', marker='o')\n",
    "    ax2.plot(history_lstm.history['loss'], label='LSTM Train', marker='s')\n",
    "    ax2.plot(history_lstm.history['val_loss'], label='LSTM Val', marker='s')\n",
    "    ax2.set_title('Model Loss')\n",
    "    ax2.set_xlabel('Epoch')\n",
    "    ax2.set_ylabel('Loss')\n",
    "    ax2.legend()\n",
    "    ax2.grid(True, alpha=0.3)\n",
    "    \n",
    "    plt.tight_layout()\n",
    "    plt.show()\n",
    "\n",
    "plot_training_history(history_rnn, history_lstm)"
   ]
  },
  {
   "cell_type": "markdown",
   "id": "694ed18c",
   "metadata": {},
   "source": [
    "## Przykład 2: Głębszy model LSTM z wieloma warstwami\n",
    "\n",
    "Teraz zbudujemy bardziej zaawansowany model z wieloma warstwami LSTM."
   ]
  },
  {
   "cell_type": "code",
   "execution_count": 24,
   "id": "37f14193",
   "metadata": {},
   "outputs": [
    {
     "data": {
      "text/html": [
       "<pre style=\"white-space:pre;overflow-x:auto;line-height:normal;font-family:Menlo,'DejaVu Sans Mono',consolas,'Courier New',monospace\"><span style=\"font-weight: bold\">Model: \"sequential_4\"</span>\n",
       "</pre>\n"
      ],
      "text/plain": [
       "\u001b[1mModel: \"sequential_4\"\u001b[0m\n"
      ]
     },
     "metadata": {},
     "output_type": "display_data"
    },
    {
     "data": {
      "text/html": [
       "<pre style=\"white-space:pre;overflow-x:auto;line-height:normal;font-family:Menlo,'DejaVu Sans Mono',consolas,'Courier New',monospace\">┏━━━━━━━━━━━━━━━━━━━━━━━━━━━━━━━━━┳━━━━━━━━━━━━━━━━━━━━━━━━┳━━━━━━━━━━━━━━━┓\n",
       "┃<span style=\"font-weight: bold\"> Layer (type)                    </span>┃<span style=\"font-weight: bold\"> Output Shape           </span>┃<span style=\"font-weight: bold\">       Param # </span>┃\n",
       "┡━━━━━━━━━━━━━━━━━━━━━━━━━━━━━━━━━╇━━━━━━━━━━━━━━━━━━━━━━━━╇━━━━━━━━━━━━━━━┩\n",
       "│ embedding_4 (<span style=\"color: #0087ff; text-decoration-color: #0087ff\">Embedding</span>)         │ ?                      │   <span style=\"color: #00af00; text-decoration-color: #00af00\">0</span> (unbuilt) │\n",
       "├─────────────────────────────────┼────────────────────────┼───────────────┤\n",
       "│ lstm_2 (<span style=\"color: #0087ff; text-decoration-color: #0087ff\">LSTM</span>)                   │ ?                      │   <span style=\"color: #00af00; text-decoration-color: #00af00\">0</span> (unbuilt) │\n",
       "├─────────────────────────────────┼────────────────────────┼───────────────┤\n",
       "│ lstm_3 (<span style=\"color: #0087ff; text-decoration-color: #0087ff\">LSTM</span>)                   │ ?                      │   <span style=\"color: #00af00; text-decoration-color: #00af00\">0</span> (unbuilt) │\n",
       "├─────────────────────────────────┼────────────────────────┼───────────────┤\n",
       "│ lstm_4 (<span style=\"color: #0087ff; text-decoration-color: #0087ff\">LSTM</span>)                   │ ?                      │   <span style=\"color: #00af00; text-decoration-color: #00af00\">0</span> (unbuilt) │\n",
       "├─────────────────────────────────┼────────────────────────┼───────────────┤\n",
       "│ dense_4 (<span style=\"color: #0087ff; text-decoration-color: #0087ff\">Dense</span>)                 │ ?                      │   <span style=\"color: #00af00; text-decoration-color: #00af00\">0</span> (unbuilt) │\n",
       "├─────────────────────────────────┼────────────────────────┼───────────────┤\n",
       "│ dropout (<span style=\"color: #0087ff; text-decoration-color: #0087ff\">Dropout</span>)               │ ?                      │             <span style=\"color: #00af00; text-decoration-color: #00af00\">0</span> │\n",
       "├─────────────────────────────────┼────────────────────────┼───────────────┤\n",
       "│ dense_5 (<span style=\"color: #0087ff; text-decoration-color: #0087ff\">Dense</span>)                 │ ?                      │   <span style=\"color: #00af00; text-decoration-color: #00af00\">0</span> (unbuilt) │\n",
       "└─────────────────────────────────┴────────────────────────┴───────────────┘\n",
       "</pre>\n"
      ],
      "text/plain": [
       "┏━━━━━━━━━━━━━━━━━━━━━━━━━━━━━━━━━┳━━━━━━━━━━━━━━━━━━━━━━━━┳━━━━━━━━━━━━━━━┓\n",
       "┃\u001b[1m \u001b[0m\u001b[1mLayer (type)                   \u001b[0m\u001b[1m \u001b[0m┃\u001b[1m \u001b[0m\u001b[1mOutput Shape          \u001b[0m\u001b[1m \u001b[0m┃\u001b[1m \u001b[0m\u001b[1m      Param #\u001b[0m\u001b[1m \u001b[0m┃\n",
       "┡━━━━━━━━━━━━━━━━━━━━━━━━━━━━━━━━━╇━━━━━━━━━━━━━━━━━━━━━━━━╇━━━━━━━━━━━━━━━┩\n",
       "│ embedding_4 (\u001b[38;5;33mEmbedding\u001b[0m)         │ ?                      │   \u001b[38;5;34m0\u001b[0m (unbuilt) │\n",
       "├─────────────────────────────────┼────────────────────────┼───────────────┤\n",
       "│ lstm_2 (\u001b[38;5;33mLSTM\u001b[0m)                   │ ?                      │   \u001b[38;5;34m0\u001b[0m (unbuilt) │\n",
       "├─────────────────────────────────┼────────────────────────┼───────────────┤\n",
       "│ lstm_3 (\u001b[38;5;33mLSTM\u001b[0m)                   │ ?                      │   \u001b[38;5;34m0\u001b[0m (unbuilt) │\n",
       "├─────────────────────────────────┼────────────────────────┼───────────────┤\n",
       "│ lstm_4 (\u001b[38;5;33mLSTM\u001b[0m)                   │ ?                      │   \u001b[38;5;34m0\u001b[0m (unbuilt) │\n",
       "├─────────────────────────────────┼────────────────────────┼───────────────┤\n",
       "│ dense_4 (\u001b[38;5;33mDense\u001b[0m)                 │ ?                      │   \u001b[38;5;34m0\u001b[0m (unbuilt) │\n",
       "├─────────────────────────────────┼────────────────────────┼───────────────┤\n",
       "│ dropout (\u001b[38;5;33mDropout\u001b[0m)               │ ?                      │             \u001b[38;5;34m0\u001b[0m │\n",
       "├─────────────────────────────────┼────────────────────────┼───────────────┤\n",
       "│ dense_5 (\u001b[38;5;33mDense\u001b[0m)                 │ ?                      │   \u001b[38;5;34m0\u001b[0m (unbuilt) │\n",
       "└─────────────────────────────────┴────────────────────────┴───────────────┘\n"
      ]
     },
     "metadata": {},
     "output_type": "display_data"
    },
    {
     "data": {
      "text/html": [
       "<pre style=\"white-space:pre;overflow-x:auto;line-height:normal;font-family:Menlo,'DejaVu Sans Mono',consolas,'Courier New',monospace\"><span style=\"font-weight: bold\"> Total params: </span><span style=\"color: #00af00; text-decoration-color: #00af00\">0</span> (0.00 B)\n",
       "</pre>\n"
      ],
      "text/plain": [
       "\u001b[1m Total params: \u001b[0m\u001b[38;5;34m0\u001b[0m (0.00 B)\n"
      ]
     },
     "metadata": {},
     "output_type": "display_data"
    },
    {
     "data": {
      "text/html": [
       "<pre style=\"white-space:pre;overflow-x:auto;line-height:normal;font-family:Menlo,'DejaVu Sans Mono',consolas,'Courier New',monospace\"><span style=\"font-weight: bold\"> Trainable params: </span><span style=\"color: #00af00; text-decoration-color: #00af00\">0</span> (0.00 B)\n",
       "</pre>\n"
      ],
      "text/plain": [
       "\u001b[1m Trainable params: \u001b[0m\u001b[38;5;34m0\u001b[0m (0.00 B)\n"
      ]
     },
     "metadata": {},
     "output_type": "display_data"
    },
    {
     "data": {
      "text/html": [
       "<pre style=\"white-space:pre;overflow-x:auto;line-height:normal;font-family:Menlo,'DejaVu Sans Mono',consolas,'Courier New',monospace\"><span style=\"font-weight: bold\"> Non-trainable params: </span><span style=\"color: #00af00; text-decoration-color: #00af00\">0</span> (0.00 B)\n",
       "</pre>\n"
      ],
      "text/plain": [
       "\u001b[1m Non-trainable params: \u001b[0m\u001b[38;5;34m0\u001b[0m (0.00 B)\n"
      ]
     },
     "metadata": {},
     "output_type": "display_data"
    }
   ],
   "source": [
    "def build_deep_lstm_model(vocab_size, max_length, embedding_dim=128, lstm_units=64):\n",
    "    \"\"\"\n",
    "    Buduje głęboki model LSTM z wieloma warstwami.\n",
    "    \n",
    "    Args:\n",
    "        vocab_size: Rozmiar słownika\n",
    "        max_length: Maksymalna długość sekwencji\n",
    "        embedding_dim: Wymiar warstwy embedding\n",
    "        lstm_units: Liczba jednostek w warstwach LSTM\n",
    "    \n",
    "    Returns:\n",
    "        Skompilowany model Keras\n",
    "    \"\"\"\n",
    "    model = keras.Sequential([\n",
    "        layers.Embedding(vocab_size, embedding_dim, input_length=max_length),\n",
    "        \n",
    "        # Pierwsza warstwa LSTM - zwraca sekwencje\n",
    "        layers.LSTM(lstm_units, dropout=0.2, recurrent_dropout=0.2, return_sequences=True),\n",
    "        \n",
    "        # Druga warstwa LSTM - zwraca sekwencje\n",
    "        layers.LSTM(lstm_units//2, dropout=0.2, recurrent_dropout=0.2, return_sequences=True),\n",
    "        \n",
    "        # Trzecia warstwa LSTM - zwraca tylko ostatnie wyjście\n",
    "        layers.LSTM(lstm_units//4, dropout=0.2, recurrent_dropout=0.2),\n",
    "        \n",
    "        # Warstwa Dense z regularyzacją\n",
    "        layers.Dense(32, activation='relu'),\n",
    "        layers.Dropout(0.3),\n",
    "        \n",
    "        # Warstwa wyjściowa\n",
    "        layers.Dense(1, activation='sigmoid')\n",
    "    ])\n",
    "    \n",
    "    model.compile(\n",
    "        optimizer='adam',\n",
    "        loss='binary_crossentropy',\n",
    "        metrics=['accuracy']\n",
    "    )\n",
    "    \n",
    "    return model\n",
    "\n",
    "# Budowanie głębokiego modelu LSTM\n",
    "deep_lstm_model = build_deep_lstm_model(vocab_size, max_length)\n",
    "deep_lstm_model.summary()"
   ]
  },
  {
   "cell_type": "code",
   "execution_count": 25,
   "id": "8aedec9e",
   "metadata": {},
   "outputs": [
    {
     "name": "stdout",
     "output_type": "stream",
     "text": [
      "Epoch 1/5\n",
      "\u001b[1m625/625\u001b[0m \u001b[32m━━━━━━━━━━━━━━━━━━━━\u001b[0m\u001b[37m\u001b[0m \u001b[1m29s\u001b[0m 27ms/step - accuracy: 0.5319 - loss: 0.6890 - val_accuracy: 0.5568 - val_loss: 0.6780\n",
      "Epoch 2/5\n",
      "\u001b[1m625/625\u001b[0m \u001b[32m━━━━━━━━━━━━━━━━━━━━\u001b[0m\u001b[37m\u001b[0m \u001b[1m16s\u001b[0m 26ms/step - accuracy: 0.5658 - loss: 0.6771 - val_accuracy: 0.5620 - val_loss: 0.6769\n",
      "Epoch 3/5\n",
      "\u001b[1m625/625\u001b[0m \u001b[32m━━━━━━━━━━━━━━━━━━━━\u001b[0m\u001b[37m\u001b[0m \u001b[1m15s\u001b[0m 24ms/step - accuracy: 0.5730 - loss: 0.6725 - val_accuracy: 0.5670 - val_loss: 0.6737\n",
      "Epoch 4/5\n",
      "\u001b[1m625/625\u001b[0m \u001b[32m━━━━━━━━━━━━━━━━━━━━\u001b[0m\u001b[37m\u001b[0m \u001b[1m15s\u001b[0m 24ms/step - accuracy: 0.5772 - loss: 0.6698 - val_accuracy: 0.5738 - val_loss: 0.6717\n",
      "Epoch 5/5\n",
      "\u001b[1m625/625\u001b[0m \u001b[32m━━━━━━━━━━━━━━━━━━━━\u001b[0m\u001b[37m\u001b[0m \u001b[1m15s\u001b[0m 23ms/step - accuracy: 0.5799 - loss: 0.6668 - val_accuracy: 0.5760 - val_loss: 0.6723\n",
      "\n",
      "Wyniki testowe głębokiego LSTM:\n",
      "Accuracy: 0.5686\n",
      "Loss: 0.6728\n"
     ]
    }
   ],
   "source": [
    "# Trenowanie głębokiego modelu LSTM\n",
    "history_deep_lstm = deep_lstm_model.fit(\n",
    "    X_train, y_train,\n",
    "    batch_size=32,\n",
    "    epochs=5,\n",
    "    validation_split=0.2,\n",
    "    verbose=1\n",
    ")\n",
    "\n",
    "# Ewaluacja\n",
    "test_loss, test_accuracy = deep_lstm_model.evaluate(X_test, y_test, verbose=0)\n",
    "print(f\"\\nWyniki testowe głębokiego LSTM:\")\n",
    "print(f\"Accuracy: {test_accuracy:.4f}\")\n",
    "print(f\"Loss: {test_loss:.4f}\")"
   ]
  },
  {
   "cell_type": "markdown",
   "id": "811d58cf",
   "metadata": {},
   "source": [
    "## Przykład 3: Dwukierunkowy LSTM (Bidirectional LSTM)\n",
    "\n",
    "Bidirectional LSTM przetwarza sekwencję w obu kierunkach (do przodu i do tyłu), co może poprawić rozumienie kontekstu."
   ]
  },
  {
   "cell_type": "code",
   "execution_count": 26,
   "id": "78a52544",
   "metadata": {},
   "outputs": [
    {
     "data": {
      "text/html": [
       "<pre style=\"white-space:pre;overflow-x:auto;line-height:normal;font-family:Menlo,'DejaVu Sans Mono',consolas,'Courier New',monospace\"><span style=\"font-weight: bold\">Model: \"sequential_5\"</span>\n",
       "</pre>\n"
      ],
      "text/plain": [
       "\u001b[1mModel: \"sequential_5\"\u001b[0m\n"
      ]
     },
     "metadata": {},
     "output_type": "display_data"
    },
    {
     "data": {
      "text/html": [
       "<pre style=\"white-space:pre;overflow-x:auto;line-height:normal;font-family:Menlo,'DejaVu Sans Mono',consolas,'Courier New',monospace\">┏━━━━━━━━━━━━━━━━━━━━━━━━━━━━━━━━━┳━━━━━━━━━━━━━━━━━━━━━━━━┳━━━━━━━━━━━━━━━┓\n",
       "┃<span style=\"font-weight: bold\"> Layer (type)                    </span>┃<span style=\"font-weight: bold\"> Output Shape           </span>┃<span style=\"font-weight: bold\">       Param # </span>┃\n",
       "┡━━━━━━━━━━━━━━━━━━━━━━━━━━━━━━━━━╇━━━━━━━━━━━━━━━━━━━━━━━━╇━━━━━━━━━━━━━━━┩\n",
       "│ embedding_5 (<span style=\"color: #0087ff; text-decoration-color: #0087ff\">Embedding</span>)         │ ?                      │   <span style=\"color: #00af00; text-decoration-color: #00af00\">0</span> (unbuilt) │\n",
       "├─────────────────────────────────┼────────────────────────┼───────────────┤\n",
       "│ bidirectional (<span style=\"color: #0087ff; text-decoration-color: #0087ff\">Bidirectional</span>)   │ ?                      │   <span style=\"color: #00af00; text-decoration-color: #00af00\">0</span> (unbuilt) │\n",
       "├─────────────────────────────────┼────────────────────────┼───────────────┤\n",
       "│ dense_6 (<span style=\"color: #0087ff; text-decoration-color: #0087ff\">Dense</span>)                 │ ?                      │   <span style=\"color: #00af00; text-decoration-color: #00af00\">0</span> (unbuilt) │\n",
       "├─────────────────────────────────┼────────────────────────┼───────────────┤\n",
       "│ dropout_1 (<span style=\"color: #0087ff; text-decoration-color: #0087ff\">Dropout</span>)             │ ?                      │             <span style=\"color: #00af00; text-decoration-color: #00af00\">0</span> │\n",
       "├─────────────────────────────────┼────────────────────────┼───────────────┤\n",
       "│ dense_7 (<span style=\"color: #0087ff; text-decoration-color: #0087ff\">Dense</span>)                 │ ?                      │   <span style=\"color: #00af00; text-decoration-color: #00af00\">0</span> (unbuilt) │\n",
       "└─────────────────────────────────┴────────────────────────┴───────────────┘\n",
       "</pre>\n"
      ],
      "text/plain": [
       "┏━━━━━━━━━━━━━━━━━━━━━━━━━━━━━━━━━┳━━━━━━━━━━━━━━━━━━━━━━━━┳━━━━━━━━━━━━━━━┓\n",
       "┃\u001b[1m \u001b[0m\u001b[1mLayer (type)                   \u001b[0m\u001b[1m \u001b[0m┃\u001b[1m \u001b[0m\u001b[1mOutput Shape          \u001b[0m\u001b[1m \u001b[0m┃\u001b[1m \u001b[0m\u001b[1m      Param #\u001b[0m\u001b[1m \u001b[0m┃\n",
       "┡━━━━━━━━━━━━━━━━━━━━━━━━━━━━━━━━━╇━━━━━━━━━━━━━━━━━━━━━━━━╇━━━━━━━━━━━━━━━┩\n",
       "│ embedding_5 (\u001b[38;5;33mEmbedding\u001b[0m)         │ ?                      │   \u001b[38;5;34m0\u001b[0m (unbuilt) │\n",
       "├─────────────────────────────────┼────────────────────────┼───────────────┤\n",
       "│ bidirectional (\u001b[38;5;33mBidirectional\u001b[0m)   │ ?                      │   \u001b[38;5;34m0\u001b[0m (unbuilt) │\n",
       "├─────────────────────────────────┼────────────────────────┼───────────────┤\n",
       "│ dense_6 (\u001b[38;5;33mDense\u001b[0m)                 │ ?                      │   \u001b[38;5;34m0\u001b[0m (unbuilt) │\n",
       "├─────────────────────────────────┼────────────────────────┼───────────────┤\n",
       "│ dropout_1 (\u001b[38;5;33mDropout\u001b[0m)             │ ?                      │             \u001b[38;5;34m0\u001b[0m │\n",
       "├─────────────────────────────────┼────────────────────────┼───────────────┤\n",
       "│ dense_7 (\u001b[38;5;33mDense\u001b[0m)                 │ ?                      │   \u001b[38;5;34m0\u001b[0m (unbuilt) │\n",
       "└─────────────────────────────────┴────────────────────────┴───────────────┘\n"
      ]
     },
     "metadata": {},
     "output_type": "display_data"
    },
    {
     "data": {
      "text/html": [
       "<pre style=\"white-space:pre;overflow-x:auto;line-height:normal;font-family:Menlo,'DejaVu Sans Mono',consolas,'Courier New',monospace\"><span style=\"font-weight: bold\"> Total params: </span><span style=\"color: #00af00; text-decoration-color: #00af00\">0</span> (0.00 B)\n",
       "</pre>\n"
      ],
      "text/plain": [
       "\u001b[1m Total params: \u001b[0m\u001b[38;5;34m0\u001b[0m (0.00 B)\n"
      ]
     },
     "metadata": {},
     "output_type": "display_data"
    },
    {
     "data": {
      "text/html": [
       "<pre style=\"white-space:pre;overflow-x:auto;line-height:normal;font-family:Menlo,'DejaVu Sans Mono',consolas,'Courier New',monospace\"><span style=\"font-weight: bold\"> Trainable params: </span><span style=\"color: #00af00; text-decoration-color: #00af00\">0</span> (0.00 B)\n",
       "</pre>\n"
      ],
      "text/plain": [
       "\u001b[1m Trainable params: \u001b[0m\u001b[38;5;34m0\u001b[0m (0.00 B)\n"
      ]
     },
     "metadata": {},
     "output_type": "display_data"
    },
    {
     "data": {
      "text/html": [
       "<pre style=\"white-space:pre;overflow-x:auto;line-height:normal;font-family:Menlo,'DejaVu Sans Mono',consolas,'Courier New',monospace\"><span style=\"font-weight: bold\"> Non-trainable params: </span><span style=\"color: #00af00; text-decoration-color: #00af00\">0</span> (0.00 B)\n",
       "</pre>\n"
      ],
      "text/plain": [
       "\u001b[1m Non-trainable params: \u001b[0m\u001b[38;5;34m0\u001b[0m (0.00 B)\n"
      ]
     },
     "metadata": {},
     "output_type": "display_data"
    }
   ],
   "source": [
    "def build_bidirectional_lstm_model(vocab_size, max_length, embedding_dim=128, lstm_units=64):\n",
    "    \"\"\"\n",
    "    Buduje dwukierunkowy model LSTM.\n",
    "    \n",
    "    Args:\n",
    "        vocab_size: Rozmiar słownika\n",
    "        max_length: Maksymalna długość sekwencji\n",
    "        embedding_dim: Wymiar warstwy embedding\n",
    "        lstm_units: Liczba jednostek w warstwie LSTM\n",
    "    \n",
    "    Returns:\n",
    "        Skompilowany model Keras\n",
    "    \"\"\"\n",
    "    model = keras.Sequential([\n",
    "        layers.Embedding(vocab_size, embedding_dim, input_length=max_length),\n",
    "        \n",
    "        # Dwukierunkowa warstwa LSTM\n",
    "        layers.Bidirectional(layers.LSTM(lstm_units, dropout=0.2, recurrent_dropout=0.2)),\n",
    "        \n",
    "        # Warstwa Dense z regularyzacją\n",
    "        layers.Dense(64, activation='relu'),\n",
    "        layers.Dropout(0.3),\n",
    "        \n",
    "        # Warstwa wyjściowa\n",
    "        layers.Dense(1, activation='sigmoid')\n",
    "    ])\n",
    "    \n",
    "    model.compile(\n",
    "        optimizer='adam',\n",
    "        loss='binary_crossentropy',\n",
    "        metrics=['accuracy']\n",
    "    )\n",
    "    \n",
    "    return model\n",
    "\n",
    "# Budowanie dwukierunkowego modelu LSTM\n",
    "bidirectional_lstm_model = build_bidirectional_lstm_model(vocab_size, max_length)\n",
    "bidirectional_lstm_model.summary()"
   ]
  },
  {
   "cell_type": "code",
   "execution_count": 27,
   "id": "2bf1fd38",
   "metadata": {},
   "outputs": [
    {
     "name": "stdout",
     "output_type": "stream",
     "text": [
      "Epoch 1/5\n",
      "\u001b[1m625/625\u001b[0m \u001b[32m━━━━━━━━━━━━━━━━━━━━\u001b[0m\u001b[37m\u001b[0m \u001b[1m19s\u001b[0m 18ms/step - accuracy: 0.5338 - loss: 0.6873 - val_accuracy: 0.5692 - val_loss: 0.6763\n",
      "Epoch 2/5\n",
      "\u001b[1m625/625\u001b[0m \u001b[32m━━━━━━━━━━━━━━━━━━━━\u001b[0m\u001b[37m\u001b[0m \u001b[1m10s\u001b[0m 16ms/step - accuracy: 0.5716 - loss: 0.6741 - val_accuracy: 0.5662 - val_loss: 0.6751\n",
      "Epoch 3/5\n",
      "\u001b[1m625/625\u001b[0m \u001b[32m━━━━━━━━━━━━━━━━━━━━\u001b[0m\u001b[37m\u001b[0m \u001b[1m10s\u001b[0m 17ms/step - accuracy: 0.5785 - loss: 0.6694 - val_accuracy: 0.5684 - val_loss: 0.6733\n",
      "Epoch 4/5\n",
      "\u001b[1m625/625\u001b[0m \u001b[32m━━━━━━━━━━━━━━━━━━━━\u001b[0m\u001b[37m\u001b[0m \u001b[1m10s\u001b[0m 17ms/step - accuracy: 0.5794 - loss: 0.6658 - val_accuracy: 0.5684 - val_loss: 0.6722\n",
      "Epoch 5/5\n",
      "\u001b[1m625/625\u001b[0m \u001b[32m━━━━━━━━━━━━━━━━━━━━\u001b[0m\u001b[37m\u001b[0m \u001b[1m10s\u001b[0m 17ms/step - accuracy: 0.5844 - loss: 0.6637 - val_accuracy: 0.5724 - val_loss: 0.6729\n",
      "\n",
      "Wyniki testowe dwukierunkowego LSTM:\n",
      "Accuracy: 0.5733\n",
      "Loss: 0.6711\n"
     ]
    }
   ],
   "source": [
    "# Trenowanie dwukierunkowego modelu LSTM\n",
    "history_bidirectional_lstm = bidirectional_lstm_model.fit(\n",
    "    X_train, y_train,\n",
    "    batch_size=32,\n",
    "    epochs=5,\n",
    "    validation_split=0.2,\n",
    "    verbose=1\n",
    ")\n",
    "\n",
    "# Ewaluacja\n",
    "test_loss, test_accuracy = bidirectional_lstm_model.evaluate(X_test, y_test, verbose=0)\n",
    "print(f\"\\nWyniki testowe dwukierunkowego LSTM:\")\n",
    "print(f\"Accuracy: {test_accuracy:.4f}\")\n",
    "print(f\"Loss: {test_loss:.4f}\")"
   ]
  },
  {
   "cell_type": "markdown",
   "id": "8a616226",
   "metadata": {},
   "source": [
    "## Przykład 4: Generowanie tekstu z LSTM\n",
    "\n",
    "Teraz zbudujemy model do generowania tekstu na podstawie nauczonych wzorców."
   ]
  },
  {
   "cell_type": "code",
   "execution_count": null,
   "id": "e4625baf",
   "metadata": {},
   "outputs": [],
   "source": [
    "# Przykładowy tekst do nauki\n",
    "sample_text = \"\"\"\n",
    "Sztuczna inteligencja to dziedzina informatyki zajmująca się tworzeniem systemów komputerowych \n",
    "zdolnych do wykonywania zadań wymagających inteligencji. Uczenie maszynowe jest poddziedziną \n",
    "sztucznej inteligencji, która koncentruje się na algorytmach uczących się z danych. \n",
    "Sieci neuronowe to modele inspirowane działaniem ludzkiego mózgu. Głębokie uczenie wykorzystuje \n",
    "sieci neuronowe z wieloma warstwami do rozwiązywania złożonych problemów. Przetwarzanie języka \n",
    "naturalnego pozwala komputerom rozumieć i generować tekst w językach naturalnych. \n",
    "Wizja komputerowa umożliwia maszynom interpretację i analizę obrazów. Robotyka łączy sztuczną \n",
    "inteligencję z systemami fizycznymi. Przyszłość sztucznej inteligencji obejmuje rozwój \n",
    "bardziej zaawansowanych i wszechstronnych systemów.\n",
    "\"\"\"\n",
    "\n",
    "# Preprocessing tekstu\n",
    "text = sample_text.lower().replace('\\n', ' ')\n",
    "chars = sorted(list(set(text)))\n",
    "char_to_idx = {char: idx for idx, char in enumerate(chars)}\n",
    "idx_to_char = {idx: char for idx, char in enumerate(chars)}\n",
    "\n",
    "print(f\"Długość tekstu: {len(text)}\")\n",
    "print(f\"Liczba unikalnych znaków: {len(chars)}\")\n",
    "print(f\"Pierwsze 100 znaków: {text[:100]}\")"
   ]
  },
  {
   "cell_type": "code",
   "execution_count": null,
   "id": "db9a502b",
   "metadata": {},
   "outputs": [],
   "source": [
    "def prepare_text_data(text, char_to_idx, sequence_length=40):\n",
    "    \"\"\"\n",
    "    Przygotowuje dane do treningu modelu generującego tekst.\n",
    "    \n",
    "    Args:\n",
    "        text: Tekst wejściowy\n",
    "        char_to_idx: Słownik mapujący znaki na indeksy\n",
    "        sequence_length: Długość sekwencji wejściowej\n",
    "    \n",
    "    Returns:\n",
    "        X, y: Dane wejściowe i wyjściowe\n",
    "    \"\"\"\n",
    "    X = []\n",
    "    y = []\n",
    "    \n",
    "    for i in range(0, len(text) - sequence_length):\n",
    "        sequence = text[i:i + sequence_length]\n",
    "        target = text[i + sequence_length]\n",
    "        \n",
    "        X.append([char_to_idx[char] for char in sequence])\n",
    "        y.append(char_to_idx[target])\n",
    "    \n",
    "    return np.array(X), np.array(y)\n",
    "\n",
    "# Przygotowanie danych\n",
    "sequence_length = 40\n",
    "X_text, y_text = prepare_text_data(text, char_to_idx, sequence_length)\n",
    "\n",
    "print(f\"Kształt X: {X_text.shape}\")\n",
    "print(f\"Kształt y: {y_text.shape}\")\n",
    "\n",
    "# Normalizacja danych\n",
    "X_text = X_text / float(len(chars))\n",
    "y_text = to_categorical(y_text, num_classes=len(chars))\n",
    "\n",
    "print(f\"Kształt y po kategoryzacji: {y_text.shape}\")"
   ]
  },
  {
   "cell_type": "code",
   "execution_count": null,
   "id": "ee516b76",
   "metadata": {},
   "outputs": [],
   "source": [
    "def build_text_generation_model(sequence_length, vocab_size, lstm_units=128):\n",
    "    \"\"\"\n",
    "    Buduje model LSTM do generowania tekstu.\n",
    "    \n",
    "    Args:\n",
    "        sequence_length: Długość sekwencji wejściowej\n",
    "        vocab_size: Rozmiar słownika\n",
    "        lstm_units: Liczba jednostek w warstwie LSTM\n",
    "    \n",
    "    Returns:\n",
    "        Skompilowany model Keras\n",
    "    \"\"\"\n",
    "    model = keras.Sequential([\n",
    "        layers.LSTM(lstm_units, input_shape=(sequence_length, 1), return_sequences=True),\n",
    "        layers.Dropout(0.2),\n",
    "        layers.LSTM(lstm_units),\n",
    "        layers.Dropout(0.2),\n",
    "        layers.Dense(vocab_size, activation='softmax')\n",
    "    ])\n",
    "    \n",
    "    model.compile(\n",
    "        optimizer='adam',\n",
    "        loss='categorical_crossentropy',\n",
    "        metrics=['accuracy']\n",
    "    )\n",
    "    \n",
    "    return model\n",
    "\n",
    "# Budowanie modelu\n",
    "text_model = build_text_generation_model(sequence_length, len(chars))\n",
    "text_model.summary()"
   ]
  },
  {
   "cell_type": "code",
   "execution_count": null,
   "id": "30de50f7",
   "metadata": {},
   "outputs": [],
   "source": [
    "# Przygotowanie danych do treningu\n",
    "X_text_reshaped = X_text.reshape((X_text.shape[0], X_text.shape[1], 1))\n",
    "\n",
    "# Trenowanie modelu (krótkie trenowanie dla demonstracji)\n",
    "history_text = text_model.fit(\n",
    "    X_text_reshaped, y_text,\n",
    "    batch_size=32,\n",
    "    epochs=20,\n",
    "    verbose=1\n",
    ")\n",
    "\n",
    "print(\"\\nModel wytrenowany!\")"
   ]
  },
  {
   "cell_type": "code",
   "execution_count": null,
   "id": "40732939",
   "metadata": {},
   "outputs": [],
   "source": [
    "import numpy as np\n",
    "\n",
    "def generate_text(model, start_string, char_to_idx, idx_to_char,\n",
    "                  sequence_length, chars, length=200, temperature=1.0):\n",
    "    \"\"\"\n",
    "    Generuje tekst używając wytrenowanego modelu.\n",
    "\n",
    "    Args:\n",
    "        model: Wytrenowany model (np. Keras Sequential)\n",
    "        start_string: Tekst startowy\n",
    "        char_to_idx: Słownik mapujący znaki na indeksy\n",
    "        idx_to_char: Słownik mapujący indeksy na znaki\n",
    "        sequence_length: Długość sekwencji wejściowej oczekiwana przez model\n",
    "        chars: Lista wszystkich znaków w słowniku\n",
    "        length: Długość generowanego tekstu (liczba znaków)\n",
    "        temperature: Parametr kontrolujący losowość\n",
    "\n",
    "    Returns:\n",
    "        Wygenerowany tekst (string)\n",
    "    \"\"\"\n",
    "    # Przygotuj początkowy ciąg o dokładnej długości sequence_length\n",
    "    generated = start_string\n",
    "    if len(generated) < sequence_length:\n",
    "        generated = ' ' * (sequence_length - len(generated)) + generated\n",
    "    else:\n",
    "        generated = generated[-sequence_length:]\n",
    "\n",
    "    for _ in range(length):\n",
    "        # One-hot encoding\n",
    "        x = np.zeros((1, sequence_length, len(chars)))\n",
    "        for t, ch in enumerate(generated[-sequence_length:]):\n",
    "            idx = char_to_idx.get(ch, 0)\n",
    "            x[0, t, idx] = 1.0\n",
    "\n",
    "        # Predykcja\n",
    "        preds = model.predict(x, verbose=0)[0]\n",
    "        preds = np.maximum(preds, 1e-12)       # zabezpieczenie przed log(0)\n",
    "        preds = np.log(preds) / temperature\n",
    "        exp_preds = np.exp(preds)\n",
    "        preds = exp_preds / np.sum(exp_preds)\n",
    "\n",
    "        # Losowy wybór znaku wg rozkładu\n",
    "        next_idx = np.random.choice(len(chars), p=preds)\n",
    "        next_char = idx_to_char[next_idx]\n",
    "\n",
    "        generated += next_char\n",
    "\n",
    "    return generated\n",
    "\n",
    "\n",
    "sequence_length = text_model.input_shape[1]\n",
    "chars = list(char_to_idx.keys())\n",
    "\n",
    "start_text = \"sztuczna inteligencja to \"\n",
    "generated = generate_text(\n",
    "    text_model, start_text,\n",
    "    char_to_idx, idx_to_char,\n",
    "    sequence_length, chars,\n",
    "    length=200, temperature=0.8\n",
    ")\n",
    "\n",
    "print(\"Wygenerowany tekst:\")\n",
    "print(generated)\n"
   ]
  },
  {
   "cell_type": "markdown",
   "id": "8d35dbb8",
   "metadata": {},
   "source": [
    "## Przykład 5: Analiza sekwencji czasowych z LSTM\n",
    "\n",
    "Sprawdźmy, jak LSTM radzi sobie z danymi sekwencyjnymi na przykładzie syntetycznych danych czasowych."
   ]
  },
  {
   "cell_type": "code",
   "execution_count": null,
   "id": "c40b542c",
   "metadata": {},
   "outputs": [],
   "source": [
    "def create_time_series_data(n_samples=1000, sequence_length=50):\n",
    "    \"\"\"\n",
    "    Tworzy syntetyczne dane szeregów czasowych.\n",
    "    \n",
    "    Args:\n",
    "        n_samples: Liczba próbek\n",
    "        sequence_length: Długość sekwencji\n",
    "    \n",
    "    Returns:\n",
    "        X, y: Dane wejściowe i wyjściowe\n",
    "    \"\"\"\n",
    "    X = []\n",
    "    y = []\n",
    "    \n",
    "    for i in range(n_samples):\n",
    "        # Generowanie sekwencji sinusoidalnej z szumem\n",
    "        t = np.linspace(0, 4*np.pi, sequence_length + 1)\n",
    "        frequency = np.random.uniform(0.5, 2.0)\n",
    "        amplitude = np.random.uniform(0.5, 1.5)\n",
    "        phase = np.random.uniform(0, 2*np.pi)\n",
    "        \n",
    "        series = amplitude * np.sin(frequency * t + phase) + np.random.normal(0, 0.1, sequence_length + 1)\n",
    "        \n",
    "        X.append(series[:-1])\n",
    "        y.append(series[-1])\n",
    "    \n",
    "    return np.array(X), np.array(y)\n",
    "\n",
    "# Tworzenie danych\n",
    "X_ts, y_ts = create_time_series_data(n_samples=1000, sequence_length=50)\n",
    "\n",
    "print(f\"Kształt X: {X_ts.shape}\")\n",
    "print(f\"Kształt y: {y_ts.shape}\")\n",
    "\n",
    "# Podział na zbiory treningowe i testowe\n",
    "X_train_ts, X_test_ts, y_train_ts, y_test_ts = train_test_split(\n",
    "    X_ts, y_ts, test_size=0.2, random_state=42\n",
    ")\n",
    "\n",
    "# Wizualizacja przykładowych szeregów\n",
    "fig, axes = plt.subplots(2, 2, figsize=(12, 8))\n",
    "axes = axes.flatten()\n",
    "\n",
    "for i in range(4):\n",
    "    axes[i].plot(X_train_ts[i], label='Sekwencja wejściowa')\n",
    "    axes[i].axhline(y=y_train_ts[i], color='red', linestyle='--', label=f'Cel: {y_train_ts[i]:.2f}')\n",
    "    axes[i].set_title(f'Przykład {i+1}')\n",
    "    axes[i].legend()\n",
    "    axes[i].grid(True, alpha=0.3)\n",
    "\n",
    "plt.tight_layout()\n",
    "plt.show()"
   ]
  },
  {
   "cell_type": "code",
   "execution_count": null,
   "id": "6a4db2f8",
   "metadata": {},
   "outputs": [],
   "source": [
    "def build_time_series_lstm(sequence_length, lstm_units=64):\n",
    "    \"\"\"\n",
    "    Buduje model LSTM do predykcji szeregów czasowych.\n",
    "    \n",
    "    Args:\n",
    "        sequence_length: Długość sekwencji wejściowej\n",
    "        lstm_units: Liczba jednostek w warstwie LSTM\n",
    "    \n",
    "    Returns:\n",
    "        Skompilowany model Keras\n",
    "    \"\"\"\n",
    "    model = keras.Sequential([\n",
    "        layers.LSTM(lstm_units, input_shape=(sequence_length, 1), return_sequences=True),\n",
    "        layers.Dropout(0.2),\n",
    "        layers.LSTM(lstm_units//2),\n",
    "        layers.Dropout(0.2),\n",
    "        layers.Dense(32, activation='relu'),\n",
    "        layers.Dense(1)\n",
    "    ])\n",
    "    \n",
    "    model.compile(\n",
    "        optimizer='adam',\n",
    "        loss='mse',\n",
    "        metrics=['mae']\n",
    "    )\n",
    "    \n",
    "    return model\n",
    "\n",
    "# Przygotowanie danych\n",
    "X_train_ts_reshaped = X_train_ts.reshape((X_train_ts.shape[0], X_train_ts.shape[1], 1))\n",
    "X_test_ts_reshaped = X_test_ts.reshape((X_test_ts.shape[0], X_test_ts.shape[1], 1))\n",
    "\n",
    "# Budowanie modelu\n",
    "ts_model = build_time_series_lstm(sequence_length=50)\n",
    "ts_model.summary()"
   ]
  },
  {
   "cell_type": "code",
   "execution_count": null,
   "id": "c16abacf",
   "metadata": {},
   "outputs": [],
   "source": [
    "# Trenowanie modelu\n",
    "history_ts = ts_model.fit(\n",
    "    X_train_ts_reshaped, y_train_ts,\n",
    "    batch_size=32,\n",
    "    epochs=50,\n",
    "    validation_split=0.2,\n",
    "    verbose=1\n",
    ")\n",
    "\n",
    "# Ewaluacja\n",
    "test_loss, test_mae = ts_model.evaluate(X_test_ts_reshaped, y_test_ts, verbose=0)\n",
    "print(f\"\\nWyniki testowe szeregów czasowych:\")\n",
    "print(f\"MSE: {test_loss:.4f}\")\n",
    "print(f\"MAE: {test_mae:.4f}\")"
   ]
  },
  {
   "cell_type": "code",
   "execution_count": null,
   "id": "d6ef3330",
   "metadata": {},
   "outputs": [],
   "source": [
    "# Predykcje i wizualizacja\n",
    "predictions_ts = ts_model.predict(X_test_ts_reshaped)\n",
    "\n",
    "# Wizualizacja wyników\n",
    "fig, axes = plt.subplots(2, 2, figsize=(12, 8))\n",
    "axes = axes.flatten()\n",
    "\n",
    "for i in range(4):\n",
    "    axes[i].plot(X_test_ts[i], label='Sekwencja wejściowa', alpha=0.7)\n",
    "    axes[i].axhline(y=y_test_ts[i], color='red', linestyle='--', label=f'Prawdziwa wartość: {y_test_ts[i]:.2f}')\n",
    "    axes[i].axhline(y=predictions_ts[i][0], color='green', linestyle=':', label=f'Predykcja: {predictions_ts[i][0]:.2f}')\n",
    "    axes[i].set_title(f'Przykład {i+1}')\n",
    "    axes[i].legend()\n",
    "    axes[i].grid(True, alpha=0.3)\n",
    "\n",
    "plt.tight_layout()\n",
    "plt.show()\n",
    "\n",
    "# Korelacja między predykcjami a prawdziwymi wartościami\n",
    "correlation = np.corrcoef(y_test_ts, predictions_ts.flatten())[0, 1]\n",
    "print(f\"\\nKorelacja między predykcjami a prawdziwymi wartościami: {correlation:.4f}\")"
   ]
  },
  {
   "cell_type": "markdown",
   "id": "986a5751",
   "metadata": {},
   "source": [
    "## Podsumowanie i wnioski\n",
    "\n",
    "### Główne różnice między RNN a LSTM:\n",
    "\n",
    "| Aspekt | RNN | LSTM |\n",
    "|--------|-----|------|\n",
    "| **Pamięć** | Krótkoterminowa | Długoterminowa |\n",
    "| **Problem gradientu** | Znikający gradient | Rozwiązany przez bramki |\n",
    "| **Złożoność** | Prosta | Bardziej złożona |\n",
    "| **Wydajność** | Szybsza | Wolniejsza |\n",
    "| **Zastosowania** | Krótkie sekwencje | Długie sekwencje |\n",
    "\n",
    "### Kluczowe zalety LSTM:\n",
    "\n",
    "1. **Kontrola przepływu informacji** - bramki pozwalają na selektywne zachowywanie i usuwanie informacji\n",
    "2. **Rozwiązanie problemu znikającego gradientu** - dzięki architekturze z bramkami\n",
    "3. **Elastyczność** - możliwość pracy z sekwencjami o różnej długości\n",
    "4. **Wszechstronność** - zastosowanie w wielu zadaniach NLP\n",
    "\n",
    "### Praktyczne wskazówki:\n",
    "\n",
    "1. **Wybór architektury:**\n",
    "   - RNN: dla prostych zadań z krótkimi sekwencjami\n",
    "   - LSTM: dla zadań wymagających długoterminowej pamięci\n",
    "   - Bidirectional LSTM: gdy kontekst z obu stron jest ważny\n",
    "\n",
    "2. **Hiperparametry:**\n",
    "   - Liczba jednostek: 64-256 dla większości zadań\n",
    "   - Dropout: 0.2-0.5 dla regularyzacji\n",
    "   - Liczba warstw: 1-3 dla większości zastosowań\n",
    "\n",
    "3. **Preprocessing:**\n",
    "   - Padding sekwencji do jednakowej długości\n",
    "   - Normalizacja danych wejściowych\n",
    "   - Tokenizacja tekstu\n",
    "\n",
    "### Przyszłość sieci rekurencyjnych:\n",
    "\n",
    "Chociaż modele Transformer (jak BERT, GPT) stały się popularne w NLP, sieci rekurencyjne nadal mają swoje zastosowania:\n",
    "- Przetwarzanie w czasie rzeczywistym\n",
    "- Zadania z ograniczoną pamięcią\n",
    "- Szeregi czasowe\n",
    "- Małe zbiory danych\n",
    "\n",
    "Sieci rekurencyjne, szczególnie LSTM, pozostają ważnym narzędziem w arsenale specjalistów od uczenia maszynowego i przetwarzania języka naturalnego."
   ]
  }
 ],
 "metadata": {
  "kernelspec": {
   "display_name": ".VENV",
   "language": "python",
   "name": "python3"
  },
  "language_info": {
   "codemirror_mode": {
    "name": "ipython",
    "version": 3
   },
   "file_extension": ".py",
   "mimetype": "text/x-python",
   "name": "python",
   "nbconvert_exporter": "python",
   "pygments_lexer": "ipython3",
   "version": "3.12.9"
  }
 },
 "nbformat": 4,
 "nbformat_minor": 5
}
