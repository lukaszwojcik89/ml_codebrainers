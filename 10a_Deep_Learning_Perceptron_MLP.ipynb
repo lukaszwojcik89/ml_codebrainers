{
 "cells": [
  {
   "cell_type": "markdown",
   "id": "c1154e1e",
   "metadata": {
    "slideshow": {
     "slide_type": "slide"
    }
   },
   "source": [
    "#  Wprowadzenie do głębokiego uczenia (Deep Learning), perceptronu, MLP\n",
    "\n",
    "\n",
    "\n",
    "\n",
    "﻿![](https://datascientest.com/en/files/2021/01/Machine-learning-def-.png)\n",
    "\n"
   ]
  },
  {
   "cell_type": "markdown",
   "id": "41d1e9d8",
   "metadata": {
    "slideshow": {
     "slide_type": "slide"
    }
   },
   "source": [
    "\n",
    "W tych zajęciach wprowadzimy pojęcia związane z głębokim uczeniem, począwszy od pojedynczego perceptronu, aż po wielowarstwowe sieci neuronowe typu MLP (Multi-Layer Perceptron). Poznamy podstawy sieci neuronowych, rolę funkcji aktywacji, ideę wielowarstwowych architektur, a także koncepcję gradientu i wstecznej propagacji błędów (backpropagation) – oczywiście bez wchodzenia w skomplikowane równania matematyczne.\n"
   ]
  },
  {
   "cell_type": "markdown",
   "id": "cdc86da4",
   "metadata": {
    "slideshow": {
     "slide_type": "slide"
    }
   },
   "source": [
    "## **Czym jest Deep Learning?**\n",
    "\n",
    "- Deep Learning to poddziedzina uczenia maszynowego, która osiągnęła w ostatnich latach spektakularne wyniki w wielu dziedzinach, takich jak rozpoznawanie obrazów, tłumaczenie maszynowe, analiza tekstu czy sterowanie grami.\n",
    "- Głębokie sieci neuronowe składają się z wielu warstw przetwarzających dane, co pozwala im hierarchicznie wyodrębniać wzorce o rosnącej złożoności.\n",
    "- W przeciwieństwie do tradycyjnego uczenia maszynowego, deep learning często eliminuje konieczność ręcznego tworzenia cech (feature engineering), pozwalając modelom \"nauczyć się\" optymalnych reprezentacji bezpośrednio z danych.\n",
    "- Postępy w deep learningu doprowadziły do powstania modeli, które dorównują lub przewyższają możliwości ludzkich ekspertów w wielu złożonych zadaniach.\n",
    "\n",
    "---"
   ]
  },
  {
   "cell_type": "markdown",
   "id": "b61e4233",
   "metadata": {},
   "source": [
    "\n",
    "\n",
    "## **Perceptron i jednostka liniowa (The Linear Unit)**\n",
    "\n",
    "### Podstawy perceptronu\n",
    "Perceptron to najprostszy model neuronu w sztucznej sieci neuronowej. Przyjmuje pewne wejścia, mnoży je przez odpowiednie wagi, dodaje obciążenie (bias) i wylicza sumę liniową.\n"
   ]
  },
  {
   "cell_type": "markdown",
   "id": "12eb211a",
   "metadata": {},
   "source": [
    "\n",
    "**Jednostka liniowa: 𝑦 = 𝑤𝑥 + 𝑏**\n",
    "\n",
    "- Wejście: x  \n",
    "- Waga: w  \n",
    "- Obciążenie (bias): b  \n",
    "- Wyjście: y = w*x + b\n",
    "\n",
    "W ten sposób pojedynczy perceptron jest modelem liniowym. Może reprezentować proste zależności, takie jak równanie prostej na wykresie.\n",
    "\n",
    "![Untitled%207f31d7e7baa34ad182834df4a6f789de/Untitled.png](https://i.ibb.co/jGQrQDX/Untitled.png)\n",
    "\n",
    "W tym przykładzie widzimy pojedynczy neuron z jednym wejściem x. Waga w oraz bias b pozwalają regulować nachylenie i położenie prostej.\n"
   ]
  },
  {
   "cell_type": "markdown",
   "id": "c5a5c407",
   "metadata": {},
   "source": [
    "\n",
    "## **Przykład: jednostka liniowa jako model**\n",
    "\n",
    "Rozważmy zbiór danych dotyczący płatków śniadaniowych (80 Cereals). Jeśli nasz model miałby przewidywać kaloryczność na podstawie zawartości cukru, uzyskamy równanie w stylu:\n",
    "\n",
    "kalorie = w*(cukier) + b\n",
    "\n",
    "Jeżeli w = 2,5 a b = 90, to dla 5 gramów cukru model da kalorie = 2,5*5 + 90 = 102,5. To nadal model liniowy. Dodając inne cechy, np. błonnik czy białko, neuron będzie miał więcej wag, ale nadal pozostanie liniowy.\n",
    "\n",
    "![Untitled](https://i.ibb.co/xhC1X7k/Untitled-1.png)"
   ]
  },
  {
   "cell_type": "code",
   "execution_count": 3,
   "id": "60790ddc",
   "metadata": {},
   "outputs": [
    {
     "data": {
      "text/html": [
       "<div>\n",
       "<style scoped>\n",
       "    .dataframe tbody tr th:only-of-type {\n",
       "        vertical-align: middle;\n",
       "    }\n",
       "\n",
       "    .dataframe tbody tr th {\n",
       "        vertical-align: top;\n",
       "    }\n",
       "\n",
       "    .dataframe thead th {\n",
       "        text-align: right;\n",
       "    }\n",
       "</style>\n",
       "<table border=\"1\" class=\"dataframe\">\n",
       "  <thead>\n",
       "    <tr style=\"text-align: right;\">\n",
       "      <th></th>\n",
       "      <th>name</th>\n",
       "      <th>mfr</th>\n",
       "      <th>type</th>\n",
       "      <th>calories</th>\n",
       "      <th>protein</th>\n",
       "      <th>fat</th>\n",
       "      <th>sodium</th>\n",
       "      <th>fiber</th>\n",
       "      <th>carbo</th>\n",
       "      <th>sugars</th>\n",
       "      <th>potass</th>\n",
       "      <th>vitamins</th>\n",
       "      <th>shelf</th>\n",
       "      <th>weight</th>\n",
       "      <th>cups</th>\n",
       "      <th>rating</th>\n",
       "    </tr>\n",
       "  </thead>\n",
       "  <tbody>\n",
       "    <tr>\n",
       "      <th>0</th>\n",
       "      <td>100% Bran</td>\n",
       "      <td>N</td>\n",
       "      <td>C</td>\n",
       "      <td>70</td>\n",
       "      <td>4</td>\n",
       "      <td>1</td>\n",
       "      <td>130</td>\n",
       "      <td>10.0</td>\n",
       "      <td>5.0</td>\n",
       "      <td>6</td>\n",
       "      <td>280</td>\n",
       "      <td>25</td>\n",
       "      <td>3</td>\n",
       "      <td>1.0</td>\n",
       "      <td>0.33</td>\n",
       "      <td>68.402973</td>\n",
       "    </tr>\n",
       "    <tr>\n",
       "      <th>1</th>\n",
       "      <td>100% Natural Bran</td>\n",
       "      <td>Q</td>\n",
       "      <td>C</td>\n",
       "      <td>120</td>\n",
       "      <td>3</td>\n",
       "      <td>5</td>\n",
       "      <td>15</td>\n",
       "      <td>2.0</td>\n",
       "      <td>8.0</td>\n",
       "      <td>8</td>\n",
       "      <td>135</td>\n",
       "      <td>0</td>\n",
       "      <td>3</td>\n",
       "      <td>1.0</td>\n",
       "      <td>1.00</td>\n",
       "      <td>33.983679</td>\n",
       "    </tr>\n",
       "    <tr>\n",
       "      <th>2</th>\n",
       "      <td>All-Bran</td>\n",
       "      <td>K</td>\n",
       "      <td>C</td>\n",
       "      <td>70</td>\n",
       "      <td>4</td>\n",
       "      <td>1</td>\n",
       "      <td>260</td>\n",
       "      <td>9.0</td>\n",
       "      <td>7.0</td>\n",
       "      <td>5</td>\n",
       "      <td>320</td>\n",
       "      <td>25</td>\n",
       "      <td>3</td>\n",
       "      <td>1.0</td>\n",
       "      <td>0.33</td>\n",
       "      <td>59.425505</td>\n",
       "    </tr>\n",
       "    <tr>\n",
       "      <th>3</th>\n",
       "      <td>All-Bran with Extra Fiber</td>\n",
       "      <td>K</td>\n",
       "      <td>C</td>\n",
       "      <td>50</td>\n",
       "      <td>4</td>\n",
       "      <td>0</td>\n",
       "      <td>140</td>\n",
       "      <td>14.0</td>\n",
       "      <td>8.0</td>\n",
       "      <td>0</td>\n",
       "      <td>330</td>\n",
       "      <td>25</td>\n",
       "      <td>3</td>\n",
       "      <td>1.0</td>\n",
       "      <td>0.50</td>\n",
       "      <td>93.704912</td>\n",
       "    </tr>\n",
       "    <tr>\n",
       "      <th>4</th>\n",
       "      <td>Almond Delight</td>\n",
       "      <td>R</td>\n",
       "      <td>C</td>\n",
       "      <td>110</td>\n",
       "      <td>2</td>\n",
       "      <td>2</td>\n",
       "      <td>200</td>\n",
       "      <td>1.0</td>\n",
       "      <td>14.0</td>\n",
       "      <td>8</td>\n",
       "      <td>-1</td>\n",
       "      <td>25</td>\n",
       "      <td>3</td>\n",
       "      <td>1.0</td>\n",
       "      <td>0.75</td>\n",
       "      <td>34.384843</td>\n",
       "    </tr>\n",
       "  </tbody>\n",
       "</table>\n",
       "</div>"
      ],
      "text/plain": [
       "                        name mfr type  calories  protein  fat  sodium  fiber  \\\n",
       "0                  100% Bran   N    C        70        4    1     130   10.0   \n",
       "1          100% Natural Bran   Q    C       120        3    5      15    2.0   \n",
       "2                   All-Bran   K    C        70        4    1     260    9.0   \n",
       "3  All-Bran with Extra Fiber   K    C        50        4    0     140   14.0   \n",
       "4             Almond Delight   R    C       110        2    2     200    1.0   \n",
       "\n",
       "   carbo  sugars  potass  vitamins  shelf  weight  cups     rating  \n",
       "0    5.0       6     280        25      3     1.0  0.33  68.402973  \n",
       "1    8.0       8     135         0      3     1.0  1.00  33.983679  \n",
       "2    7.0       5     320        25      3     1.0  0.33  59.425505  \n",
       "3    8.0       0     330        25      3     1.0  0.50  93.704912  \n",
       "4   14.0       8      -1        25      3     1.0  0.75  34.384843  "
      ]
     },
     "metadata": {},
     "output_type": "display_data"
    },
    {
     "data": {
      "text/html": [
       "<div>\n",
       "<style scoped>\n",
       "    .dataframe tbody tr th:only-of-type {\n",
       "        vertical-align: middle;\n",
       "    }\n",
       "\n",
       "    .dataframe tbody tr th {\n",
       "        vertical-align: top;\n",
       "    }\n",
       "\n",
       "    .dataframe thead th {\n",
       "        text-align: right;\n",
       "    }\n",
       "</style>\n",
       "<table border=\"1\" class=\"dataframe\">\n",
       "  <thead>\n",
       "    <tr style=\"text-align: right;\">\n",
       "      <th></th>\n",
       "      <th>sugars</th>\n",
       "      <th>calories</th>\n",
       "    </tr>\n",
       "  </thead>\n",
       "  <tbody>\n",
       "    <tr>\n",
       "      <th>0</th>\n",
       "      <td>6</td>\n",
       "      <td>70</td>\n",
       "    </tr>\n",
       "    <tr>\n",
       "      <th>1</th>\n",
       "      <td>8</td>\n",
       "      <td>120</td>\n",
       "    </tr>\n",
       "    <tr>\n",
       "      <th>2</th>\n",
       "      <td>5</td>\n",
       "      <td>70</td>\n",
       "    </tr>\n",
       "    <tr>\n",
       "      <th>3</th>\n",
       "      <td>0</td>\n",
       "      <td>50</td>\n",
       "    </tr>\n",
       "    <tr>\n",
       "      <th>4</th>\n",
       "      <td>8</td>\n",
       "      <td>110</td>\n",
       "    </tr>\n",
       "  </tbody>\n",
       "</table>\n",
       "</div>"
      ],
      "text/plain": [
       "   sugars  calories\n",
       "0       6        70\n",
       "1       8       120\n",
       "2       5        70\n",
       "3       0        50\n",
       "4       8       110"
      ]
     },
     "metadata": {},
     "output_type": "display_data"
    }
   ],
   "source": [
    "import pandas as pd\n",
    "\n",
    "cereal = pd.read_csv('data/cereal.csv')\n",
    "\n",
    "\n",
    "display(cereal.head(),cereal[['sugars','calories' ]].head())"
   ]
  },
  {
   "cell_type": "markdown",
   "id": "a38abf09",
   "metadata": {},
   "source": [
    "### **Jednostki liniowe w Kerasie**\n",
    "\n",
    "Najprostszym sposobem na stworzenie modelu w Kerasie jest użycie funkcji **`keras.Sequential`**, która tworzy sieć neuronową jako stos warstw. Możemy tworzyć modele podobne do tych pokazanych powyżej, używając gęstej warstwy (o której dowiemy się więcej w następnej lekcji).\n",
    "\n",
    "Możemy zdefiniować liniowy model, który przyjmuje trzy cechy wejściowe (\"cukry\", \"błonnik\" i \"białko\") i generuje pojedyncze wyjście (\"kalorie\"), w następujący sposób:\n",
    "\n",
    "```python\n",
    "from tensorflow import keras\n",
    "from tensorflow.keras import layers\n",
    "\n",
    "# Utwórz sieć z 1 jednostką liniową\n",
    "model = keras.Sequential([\n",
    "    layers.Dense(units=1, input_shape=[3])\n",
    "])\n",
    "```\n",
    "\n",
    "Przy pomocy pierwszego argumentu, **`units`**, określamy, jakie wyjście chcemy otrzymać. W tym przypadku wybieramy tylko \"kalorie\" i używamy **`units=1`**.\n",
    "\n",
    "W drugim argumencie, **`input_shape`**, informujemy Kerasa o wymiarach wejść. Ustawienie **`input_shape=[3]`** oznacza, że model będzie przyjmował trzy cechy jako wejście (\"cukry\", \"błonnik\" i \"białko\")."
   ]
  },
  {
   "cell_type": "markdown",
   "id": "434163cd",
   "metadata": {},
   "source": [
    "\n",
    "\n",
    "\n",
    "\n",
    "### Dlaczego **`input_shape`** jest listą w Pythonie?\n",
    "\n",
    "Powyższe cechy są ułożone w kolumnach, więc zawsze będziemy mieli **`input_shape=[liczba_kolumn]`**. Keras używa listy tutaj, aby umożliwić użycie bardziej złożonych zestawów danych. Dane obrazowe, na przykład, mogą wymagać trzech wymiarów: **`[wysokość, szerokość, kanały]`**."
   ]
  },
  {
   "cell_type": "markdown",
   "id": "8a24cddc",
   "metadata": {},
   "source": [
    "Zestaw danych 80 Cereals charakteryzuje się znacznie większą liczbą cech niż tylko \"cukry\". Jeśli zdecydujemy się na rozwinięcie modelu o dodatkowe cechy, takie jak zawartość błonnika lub białka, będzie to proste do zrealizowania. Wystarczy dodać więcej połączeń wejściowych do neuronu, jeden dla każdej dodatkowej cechy. Aby uzyskać wynik, pomnożymy każde wejście przez wagę jego połączenia, a następnie dodamy wszystkie wyniki razem, co jest bardzo proste.\n",
    "\n",
    "Mamy trzy połączenia wejściowe: x0, x1 i x2, wraz z obciążeniem.\n",
    "\n",
    "![Untitled](https://i.ibb.co/YT5ZywK/Untitled-2.png)\n",
    "\n",
    "Równanie dla tego neuronu to 𝑦 = 𝑤0𝑥0 + 𝑤1𝑥1 + 𝑤2𝑥2 + 𝑏. Jednostka liniowa z dwoma wejściami pasuje do płaszczyzny, a jednostka z więcej wejściami niż to będzie pasować do hiperpłaszczyzny."
   ]
  },
  {
   "cell_type": "markdown",
   "id": "0d81eb3d",
   "metadata": {},
   "source": [
    "\n",
    "### Wiele wejść\n",
    "\n",
    "Jeśli chcemy wykorzystać więcej cech wejściowych (x0, x1, x2 ...), dodajemy więcej wag i sumujemy ich iloczyny z odpowiednimi wejściami. Dla dwóch wejść mielibyśmy: y = w0*x0 + w1*x1 + b, co reprezentuje równanie płaszczyzny.\n",
    "\n",
    "Przy większej liczbie wejść powstaje hiperpłaszczyzna w wielowymiarowej przestrzeni cech.\n"
   ]
  },
  {
   "cell_type": "markdown",
   "id": "cc8d30dc",
   "metadata": {},
   "source": [
    "\n",
    "## **Przeskok do wielu warstw – MLP**\n",
    "\n",
    "### Idea MLP\n",
    "\n",
    "MLP (Multi-Layer Perceptron) to sieć neuronowa złożona z wielu warstw:\n",
    "\n",
    "- Warstwa wejściowa (input)\n",
    "- Jedna lub więcej warstw ukrytych (hidden layers)\n",
    "- Warstwa wyjściowa (output)\n",
    "Każda warstwa składa się z wielu neuronów (jednostek liniowych), a pomiędzy warstwami wprowadzamy nieliniowość poprzez funkcje aktywacji.\n"
   ]
  },
  {
   "cell_type": "markdown",
   "id": "e8d36d2e",
   "metadata": {},
   "source": [
    "Sieci neuronowe zazwyczaj organizują swoje neurony w warstwy. Kiedy zbieramy razem jednostki liniowe, które mają wspólny zbiór wejść, otrzymujemy gęstą warstwę.\n",
    "\n",
    "![Untitled](https://i.ibb.co/3TJjL14/Untitled-3.png)\n",
    "\n",
    "Można rozważać każdą warstwę w sieci neuronowej jako przeprowadzającą stosunkowo prostą transformację. Dzięki stosowaniu wielu warstw, sieć neuronowa może przetwarzać swoje wejście w coraz bardziej złożonych sposobach. W dobrze wytrenowanej sieci neuronowej każda warstwa to transformacja, która przybliża nas trochę bardziej do rozwiązania."
   ]
  },
  {
   "cell_type": "markdown",
   "id": "21a64803",
   "metadata": {},
   "source": [
    "### Warstwy ukryte i reprezentacje wewnętrzne\n",
    "\n",
    "Gdy łączymy wiele warstw, pierwsze warstwy wyodrębniają proste wzorce, a kolejne, bardziej ukryte warstwy łączą je w coraz bardziej złożone reprezentacje. W efekcie MLP potrafi modelować nieliniowe i skomplikowane zależności.\n",
    "\n",
    "---"
   ]
  },
  {
   "cell_type": "markdown",
   "id": "a58e1e4f",
   "metadata": {},
   "source": [
    "## **Funkcje aktywacji**\n",
    "\n",
    "Bez funkcji aktywacji dwie warstwy liniowe składają się nadal na model liniowy. Funkcja aktywacji wprowadza nieliniowość, np. ReLU (Rectified Linear Unit):\n",
    "\n",
    "ReLU: max(0, x)\n",
    "\n",
    "Funkcja ReLU \"prostuje\" ujemne wartości do zera, a dla wartości dodatnich rośnie liniowo. Dzięki temu sieć może dopasowywać skomplikowane, krzywoliniowe zależności.\n",
    "\n",
    "![Untitled](https://i.ibb.co/mF55Qcd/Untitled-5.png)\n",
    "\n",
    "W praktyce stosuje się też inne funkcje aktywacji, np. sigmoid, tanh czy softmax (dla zadań klasyfikacji).\n"
   ]
  },
  {
   "cell_type": "markdown",
   "id": "51a83c24",
   "metadata": {
    "slideshow": {
     "slide_type": "slide"
    }
   },
   "source": [
    "\n",
    "Połączenie jednostki liniowej z prostownikiem daje jednostkę liniową prostowaną (ReLU). Z tego powodu funkcję prostownikową często nazywa się funkcją ReLU. Zastosowanie aktywacji ReLU do jednostki liniowej oznacza, że wynik jest równy max(0, w * x + b)\n",
    "\n",
    "![Untitled](https://i.ibb.co/DM5x0q9/Untitled-6.png)"
   ]
  },
  {
   "cell_type": "markdown",
   "id": "8a9801ff",
   "metadata": {},
   "source": [
    "## **Architektura MLP**\n",
    "\n",
    "MLP to sieć w pełni połączonych warstw (dense layers). Każda warstwa to zbiór neuronów, a każdy neuron w warstwie jest połączony ze wszystkimi neuronami warstwy poprzedniej.\n",
    "\n",
    "![Untitled](https://i.ibb.co/C0MFmx6/Untitled-7.png)\n",
    "\n",
    "Warstwy ukryte zawierają funkcje aktywacji, warstwa wyjściowa może być liniowa (regresja) lub mieć inną aktywację (np. softmax dla klasyfikacji wieloklasowej).\n"
   ]
  },
  {
   "cell_type": "markdown",
   "id": "cffcdc0c",
   "metadata": {},
   "source": [
    "\n",
    "## Budowanie modeli sekwencyjnych\n",
    "\n",
    "Model sekwencyjny, który używaliśmy, łączy ze sobą listę warstw w kolejności od pierwszej do ostatniej. Pierwsza warstwa otrzymuje wejście, a ostatnia warstwa produkuje wyjście. Powstaje w ten sposób model przedstawiony na powyższym diagramie.\n",
    "\n",
    "```\n",
    "from tensorflow import keras\n",
    "from tensorflow.keras import layers\n",
    "\n",
    "model = keras.Sequential([\n",
    "    # the hidden ReLU layers\n",
    "    layers.Dense(units=4, activation='relu', input_shape=[2]),\n",
    "    layers.Dense(units=3, activation='relu'),\n",
    "    # the linear output layer\n",
    "    layers.Dense(units=1),\n",
    "])\n",
    "\n",
    "```\n"
   ]
  },
  {
   "cell_type": "markdown",
   "id": "64f3398b",
   "metadata": {},
   "source": [
    "## **Koncepcja gradientu i backpropagation**\n",
    "\n",
    "### Gradient i minimalizacja straty\n",
    "\n",
    "- Sieć neuronowa jest trenowana poprzez minimalizację funkcji straty, która mierzy różnicę między predykcjami a wartościami docelowymi.\n",
    "- Gradient funkcji straty względem wag mówi nam, w jakim kierunku powinniśmy zmieniać wagi, aby zmniejszyć błąd.\n",
    "- Spadek gradientu (Gradient Descent) polega na iteracyjnym dostosowywaniu wag w kierunku przeciwnym do gradientu, co prowadzi do minimalizacji straty.\n"
   ]
  },
  {
   "cell_type": "markdown",
   "id": "59cf5591",
   "metadata": {},
   "source": [
    "## **Optymalizator - Stochastyczny spadek gradientu**\n",
    "\n",
    "W uczeniu maszynowym do optymalizacji wag sieci używa się algorytmów nazywanych optymalizatorami. Najczęściej stosowaną rodziną algorytmów optymalizacji jest Stochastyczny Spadek Gradientu (SGD).\n",
    "\n",
    "SGD to iteracyjny algorytm, który trenuje sieć w krokach. W każdym kroku:\n",
    "\n",
    "- Wybierana jest próbka danych treningowych, przez którą sieć przetwarza predykcję.\n",
    "- Obliczana jest różnica między predykcją a prawdziwymi wartościami.\n",
    "- Wagi sieci są dostosowywane, aby zminimalizować stratę.\n",
    "\n",
    "Proces ten jest powtarzany, aż wartość straty będzie wystarczająco mała (lub do momentu, gdy przestanie się dalej zmniejszać).\n",
    "\n",
    "[https://i.imgur.com/rFI1tIk.mp4](https://i.imgur.com/rFI1tIk.mp4)\n"
   ]
  },
  {
   "cell_type": "markdown",
   "id": "0bc0457d",
   "metadata": {},
   "source": [
    "### Backpropagation\n",
    "\n",
    "Backpropagation to algorytm, który oblicza gradienty dla wszystkich wag w sieci poprzez propagację błędu od warstwy wyjściowej do warstw wejściowych.\n",
    "\n",
    "Choć matematycznie złożony, koncepcyjnie działa tak:\n",
    "- Oblicz stratę na wyjściu sieci (różnicę między przewidywaną wartością a wartością rzeczywistą).\n",
    "- Rozłóż ten błąd warstwa po warstwie, obliczając wpływ każdej wagi na końcową stratę.\n",
    "- Na podstawie tego wpływu (gradientu) dostosuj wagi, aby w kolejnej iteracji wynik był bliższy oczekiwanemu.\n",
    "m"
   ]
  },
  {
   "cell_type": "markdown",
   "id": "3586254a",
   "metadata": {},
   "source": [
    "## **Funkcje Straty i Optymalizacja**\n",
    "\n",
    "Aby trenować sieć, potrzebujemy:\n",
    "- Funkcji straty (loss function), np. MSE (Mean Squared Error) dla regresji, lub Cross-Entropy dla klasyfikacji.\n",
    "- Optymalizatora, np. Adam, RMSProp czy klasyczny Stochastic Gradient Descent, który na podstawie obliczonych gradientów aktualizuje wagi w kierunku minimalizacji straty.\n"
   ]
  },
  {
   "cell_type": "markdown",
   "id": "cccb8244",
   "metadata": {},
   "source": [
    "\n",
    "Powszechną funkcją straty dla problemów regresji jest średni błąd bezwzględny lub MAE. Dla każdej predykcji **`y_pred`**, MAE mierzy różnicę między prawdziwą wartością docelową **`y_true`** a przewidywaną przez model wartością **`abs(y_true - y_pred)`**.\n",
    "\n",
    "Łączna funkcja straty MAE na zbiorze danych to średnia z tych bezwzględnych różnic.\n",
    "\n",
    "Oprócz MAE, inne funkcje straty, które możesz spotkać dla problemów regresji, to średni błąd kwadratowy (MSE) lub straty Hubera (obie dostępne w Keras).\n",
    "\n",
    "![VDcvkZN.png](https://i.ibb.co/9WCzNXk/VDcvkZN.png)\n",
    "\n",
    "Podczas treningu modelu funkcja straty jest wykorzystywana jako wskazówka do znalezienia poprawnych wartości wag (niższa wartość straty jest lepsza). Innymi słowy, funkcja straty mówi sieci, jaki jest jej cel.\n"
   ]
  },
  {
   "cell_type": "markdown",
   "id": "a4d13cc7",
   "metadata": {},
   "source": [
    "\n",
    "## **Dodawanie funkcji straty i optymalizatora**\n",
    "\n",
    "Po zdefiniowaniu modelu można dodać funkcję straty i optymalizatora za pomocą metody kompilacji modelu:\n",
    "\n",
    "```\n",
    "model.compile(\n",
    "    optimizer=\"adam\",\n",
    "    loss=\"mae\",\n",
    ")\n",
    "\n",
    "```\n",
    "\n",
    "Możemy określić funkcję straty i optymalizatora za pomocą tylko jednego łańcucha znaków. Można też uzyskać do nich bezpośredni dostęp przez API Keras - jeśli chcielibyśmy np. dostosować parametry - ale dla nas domyślne wartości będą działać dobrze..\n",
    "\n"
   ]
  },
  {
   "cell_type": "markdown",
   "id": "a0e31507",
   "metadata": {},
   "source": [
    "![Untitled](https://i.ibb.co/7r9PLt4/Untitled-8.png)"
   ]
  },
  {
   "cell_type": "markdown",
   "id": "91a489ec",
   "metadata": {},
   "source": [
    "## **Podsumowanie**\n",
    "\n",
    "- Deep learning opiera się na głębokich sieciach neuronowych, zdolnych do modelowania nieliniowych i złożonych zależności.\n",
    "- Podstawą jest perceptron (jednostka liniowa): y = w*x + b.\n",
    "- Aby wyjść poza liniowość, dodajemy warstwy i funkcje aktywacji, tworząc MLP.\n",
    "- Backpropagation i optymalizacja (spadek gradientu) pozwalają sieci uczyć się wag, które minimalizują funkcję straty.\n",
    "- MLP jest podstawowym przykładem sieci neuronowej, stanowiąc fundament do poznania bardziej zaawansowanych architektur głębokiego uczenia.\n",
    "\n",
    "\n"
   ]
  }
 ],
 "metadata": {
  "celltoolbar": "Slideshow",
  "kernelspec": {
   "display_name": ".VENV",
   "language": "python",
   "name": "python3"
  },
  "language_info": {
   "codemirror_mode": {
    "name": "ipython",
    "version": 3
   },
   "file_extension": ".py",
   "mimetype": "text/x-python",
   "name": "python",
   "nbconvert_exporter": "python",
   "pygments_lexer": "ipython3",
   "version": "3.12.9"
  }
 },
 "nbformat": 4,
 "nbformat_minor": 5
}
