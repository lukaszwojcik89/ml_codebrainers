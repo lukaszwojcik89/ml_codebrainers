{
 "cells": [
  {
   "cell_type": "markdown",
   "id": "f4304cff",
   "metadata": {
    "vscode": {
     "languageId": "plaintext"
    }
   },
   "source": [
    "\n",
    "## 🚀 **1. Ładowanie danych**\n",
    "\n",
    "Wczytaj dane z pliku CSV i wyświetl kilka pierwszych wierszy oraz ogólne informacje o danych.\n",
    "\n",
    "> **📌 Podpowiedź:**  \n",
    "> `pd.read_csv('ścieżka_do_pliku.csv')`, `.head()`, `.info()`"
   ]
  },
  {
   "cell_type": "code",
   "execution_count": null,
   "id": "377bfb18",
   "metadata": {
    "vscode": {
     "languageId": "plaintext"
    }
   },
   "outputs": [],
   "source": []
  },
  {
   "cell_type": "markdown",
   "id": "ad41362a",
   "metadata": {
    "vscode": {
     "languageId": "plaintext"
    }
   },
   "source": [
    "\n",
    "# 🔍 **Eksploracyjna Analiza Danych (EDA)**\n",
    "\n",
    "## 2. Statystyki opisowe danych numerycznych\n",
    "\n",
    "Wyświetl podstawowe statystyki opisowe dla danych numerycznych (średnia, min, max, kwartyle).\n",
    "\n",
    "> **📌 Podpowiedź:**  \n",
    "> `.describe()`"
   ]
  },
  {
   "cell_type": "code",
   "execution_count": null,
   "id": "16c3380f",
   "metadata": {
    "vscode": {
     "languageId": "plaintext"
    }
   },
   "outputs": [],
   "source": []
  },
  {
   "cell_type": "markdown",
   "id": "b06bae40",
   "metadata": {
    "vscode": {
     "languageId": "plaintext"
    }
   },
   "source": [
    "## 📈 **Wizualizacja zmiennych numerycznych**\n",
    "\n",
    "Dla każdej zmiennej numerycznej wykonaj histogramy, aby zobaczyć rozkłady danych.\n",
    "\n",
    "> **📌 Podpowiedź:**  \n",
    "> `sns.histplot()`"
   ]
  },
  {
   "cell_type": "code",
   "execution_count": null,
   "id": "06d9499f",
   "metadata": {
    "vscode": {
     "languageId": "plaintext"
    }
   },
   "outputs": [],
   "source": []
  },
  {
   "cell_type": "markdown",
   "id": "a0d9a9ed",
   "metadata": {
    "vscode": {
     "languageId": "plaintext"
    }
   },
   "source": [
    "## 📊 **Analiza zmiennych kategorycznych**\n",
    "\n",
    "Przeanalizuj częstości występowania poszczególnych kategorii. Zrób wykresy słupkowe dla każdej cechy kategorycznej.\n",
    "\n",
    "> **📌 Podpowiedź:**  \n",
    "> `sns.countplot()`"
   ]
  },
  {
   "cell_type": "code",
   "execution_count": null,
   "id": "d26b4dd1",
   "metadata": {
    "vscode": {
     "languageId": "plaintext"
    }
   },
   "outputs": [],
   "source": []
  },
  {
   "cell_type": "markdown",
   "id": "12d36c86",
   "metadata": {
    "vscode": {
     "languageId": "plaintext"
    }
   },
   "source": [
    "## 🔍 **Identyfikacja wartości odstających**\n",
    "\n",
    "Dla każdej zmiennej numerycznej stwórz wykres pudełkowy (boxplot), aby zidentyfikować potencjalne wartości odstające.\n",
    "\n",
    "> **📌 Podpowiedź:**  \n",
    "> `sns.boxplot()`\n"
   ]
  },
  {
   "cell_type": "code",
   "execution_count": null,
   "id": "8ad02c98",
   "metadata": {
    "vscode": {
     "languageId": "plaintext"
    }
   },
   "outputs": [],
   "source": []
  },
  {
   "cell_type": "markdown",
   "id": "8b757791",
   "metadata": {
    "vscode": {
     "languageId": "plaintext"
    }
   },
   "source": [
    "\n",
    "\n",
    "# 🧹 **Czyszczenie danych**\n",
    "\n",
    "Usuń wartości odstające za pomocą metody IQR (Interquartile Range).\n",
    "\n",
    "> **📌 Podpowiedź:**  \n",
    "> Policzyć IQR i odfiltrować wartości spoza przedziału `(Q1 - 1.5*IQR, Q3 + 1.5*IQR)`\n",
    "\n",
    "---"
   ]
  },
  {
   "cell_type": "code",
   "execution_count": null,
   "id": "70b96ead",
   "metadata": {
    "vscode": {
     "languageId": "plaintext"
    }
   },
   "outputs": [],
   "source": []
  },
  {
   "cell_type": "markdown",
   "id": "492943f0",
   "metadata": {
    "vscode": {
     "languageId": "plaintext"
    }
   },
   "source": [
    "## ⚙️ **Przygotowanie danych**\n",
    "\n",
    "Oddziel zmienną docelową od predyktorów. Następnie podziel dane na zbiór treningowy i testowy.\n",
    "\n",
    "> **📌 Podpowiedź:**  \n",
    "> `train_test_split()`"
   ]
  },
  {
   "cell_type": "code",
   "execution_count": null,
   "id": "7e4692fd",
   "metadata": {
    "vscode": {
     "languageId": "plaintext"
    }
   },
   "outputs": [],
   "source": []
  },
  {
   "cell_type": "markdown",
   "id": "f5011457",
   "metadata": {
    "vscode": {
     "languageId": "plaintext"
    }
   },
   "source": [
    "## 🔧 **Przekształcenia danych (preprocessing)**\n",
    "\n",
    "Utwórz pipeline, w którym:\n",
    "\n",
    "- **zmienne numeryczne** są skalowane (np. StandardScaler),\n",
    "- **zmienne kategoryczne** są kodowane (np. OneHotEncoder).\n",
    "\n",
    "> **📌 Podpowiedź:**  \n",
    "> `ColumnTransformer` i `Pipeline`"
   ]
  },
  {
   "cell_type": "code",
   "execution_count": null,
   "id": "8507f400",
   "metadata": {
    "vscode": {
     "languageId": "plaintext"
    }
   },
   "outputs": [],
   "source": []
  },
  {
   "cell_type": "markdown",
   "id": "037090ba",
   "metadata": {
    "vscode": {
     "languageId": "plaintext"
    }
   },
   "source": [
    "## ⚖️ **(Opcjonalnie) Balansowanie klas**\n",
    "\n",
    "Sprawdź balans klas w zmiennej docelowej.  \n",
    "Jeśli są niezbalansowane, zastosuj technikę oversamplingu (np. SMOTE).\n",
    "\n",
    "> **📌 Podpowiedź:**  \n",
    "> `SMOTE()` z biblioteki `imblearn`"
   ]
  },
  {
   "cell_type": "code",
   "execution_count": null,
   "id": "0946c2a8",
   "metadata": {
    "vscode": {
     "languageId": "plaintext"
    }
   },
   "outputs": [],
   "source": []
  },
  {
   "cell_type": "markdown",
   "id": "f3ce1aeb",
   "metadata": {
    "vscode": {
     "languageId": "plaintext"
    }
   },
   "source": [
    "# 🧠 **Modelowanie**\n",
    "\n",
    "Stwórz i wytrenuj modele klasyfikacyjne:\n",
    "\n",
    "- **Decision Tree**\n",
    "- **Random Forest**\n",
    "- **SVM**\n",
    "\n",
    "Dla każdego modelu ustaw wstępne hiperparametry."
   ]
  },
  {
   "cell_type": "code",
   "execution_count": null,
   "id": "99b43490",
   "metadata": {
    "vscode": {
     "languageId": "plaintext"
    }
   },
   "outputs": [],
   "source": []
  },
  {
   "cell_type": "markdown",
   "id": "ae2a366a",
   "metadata": {
    "vscode": {
     "languageId": "plaintext"
    }
   },
   "source": [
    "## 🔎 **Optymalizacja hiperparametrów**\n",
    "\n",
    "Dla każdego z modeli zastosuj `GridSearchCV`, aby znaleźć optymalne parametry.\n",
    "\n",
    "> **📌 Podpowiedź:**  \n",
    "> Ustaw `cv=5`, użyj metryki oceny np. `\"accuracy\"` lub `\"f1\"`"
   ]
  },
  {
   "cell_type": "code",
   "execution_count": null,
   "id": "883644f9",
   "metadata": {
    "vscode": {
     "languageId": "plaintext"
    }
   },
   "outputs": [],
   "source": []
  },
  {
   "cell_type": "markdown",
   "id": "ad43b61f",
   "metadata": {
    "vscode": {
     "languageId": "plaintext"
    }
   },
   "source": [
    "# ✅ **Ewaluacja modeli**\n",
    "\n",
    "Oceń modele używając:\n",
    "\n",
    "- Dokładność (**accuracy**)\n",
    "- **F1-score**\n",
    "- **ROC-AUC**\n",
    "- Macierz błędów (**confusion matrix**)\n",
    "- Raport klasyfikacji (**classification report**)\n",
    "\n",
    "Dla każdego modelu wyświetl wyniki i stwórz krzywą ROC."
   ]
  },
  {
   "cell_type": "code",
   "execution_count": null,
   "id": "0e350f57",
   "metadata": {
    "vscode": {
     "languageId": "plaintext"
    }
   },
   "outputs": [],
   "source": []
  },
  {
   "cell_type": "markdown",
   "id": "8b18c3f2",
   "metadata": {
    "vscode": {
     "languageId": "plaintext"
    }
   },
   "source": [
    "## 📉 **Analiza ważności cech (dla Random Forest)**\n",
    "\n",
    "Wyświetl najważniejsze cechy (feature importances), które wpływają na wynik modelu."
   ]
  },
  {
   "cell_type": "code",
   "execution_count": null,
   "id": "7a09899d",
   "metadata": {
    "vscode": {
     "languageId": "plaintext"
    }
   },
   "outputs": [],
   "source": []
  },
  {
   "cell_type": "markdown",
   "id": "19c5bcff",
   "metadata": {
    "vscode": {
     "languageId": "plaintext"
    }
   },
   "source": [
    "\n",
    "# 🥇 **Podsumowanie i porównanie modeli**\n",
    "\n",
    "Na podstawie uzyskanych wyników wybierz najlepszy model spośród przetestowanych i uzasadnij swój wybór.\n"
   ]
  },
  {
   "cell_type": "code",
   "execution_count": null,
   "id": "f449e1b1",
   "metadata": {
    "vscode": {
     "languageId": "plaintext"
    }
   },
   "outputs": [],
   "source": []
  },
  {
   "cell_type": "markdown",
   "id": "c37ad54f",
   "metadata": {
    "vscode": {
     "languageId": "plaintext"
    }
   },
   "source": [
    "## 📝 **Zapis wyników**\n",
    "\n",
    "Stwórz słownik, który będzie zawierał najlepsze wyniki każdego modelu (accuracy, F1, ROC-AUC, najlepsze parametry).\n"
   ]
  },
  {
   "cell_type": "code",
   "execution_count": null,
   "id": "fc88dea6",
   "metadata": {
    "vscode": {
     "languageId": "plaintext"
    }
   },
   "outputs": [],
   "source": []
  }
 ],
 "metadata": {
  "celltoolbar": "Slideshow",
  "kernelspec": {
   "display_name": "Python 3",
   "language": "python",
   "name": "python3"
  },
  "language_info": {
   "codemirror_mode": {
    "name": "ipython",
    "version": 3
   },
   "file_extension": ".py",
   "mimetype": "text/x-python",
   "name": "python",
   "nbconvert_exporter": "python",
   "pygments_lexer": "ipython3",
   "version": "3.12.9"
  }
 },
 "nbformat": 4,
 "nbformat_minor": 5
}
