{
 "cells": [
  {
   "cell_type": "markdown",
   "id": "c1154e1e",
   "metadata": {
    "slideshow": {
     "slide_type": "slide"
    }
   },
   "source": [
    "#  Wprowadzenie do głębokiego uczenia (Deep Learning), perceptronu, MLP\n",
    "\n",
    "\n",
    "\n",
    "\n",
    "﻿![](https://datascientest.com/en/files/2021/01/Machine-learning-def-.png)\n",
    "\n"
   ]
  },
  {
   "cell_type": "code",
   "execution_count": null,
   "id": "6a787b82-e041-43f8-b9c5-7e1939f26f80",
   "metadata": {},
   "outputs": [],
   "source": [
    "import numpy as np\n",
    "import matplotlib.pyplot as plt\n",
    "import seaborn as sns\n",
    "import tensorflow as tf\n",
    "from tensorflow import keras\n",
    "from typing import Tuple, Any\n",
    "\n",
    "# Ustawianie losowości dla powtarzalności eksperymentów\n",
    "np.random.seed(42)\n",
    "tf.random.set_seed(42)"
   ]
  },
  {
   "cell_type": "code",
   "execution_count": null,
   "id": "753629ef-961a-40e0-b08a-f2e5c0a33f52",
   "metadata": {},
   "outputs": [],
   "source": [
    "def load_and_prepare_data() -> Tuple[np.ndarray, np.ndarray, np.ndarray, np.ndarray, np.ndarray, np.ndarray]:\n",
    "    \"\"\"\n",
    "    Load the Fashion MNIST dataset, split into train/valid/test sets, and normalize the pixel values.\n",
    "\n",
    "    The data is originally split into a training set of 60,000 images and a test set of 10,000 images.\n",
    "    We further split the first 5,000 samples from the training set into a validation set, leaving\n",
    "    55,000 samples for training and 5,000 for validation.\n",
    "\n",
    "    Returns\n",
    "    -------\n",
    "    X_train, X_valid, X_test, y_train, y_valid, y_test : np.ndarray\n",
    "        Numpy arrays containing the split and normalized data and corresponding labels.\n",
    "    \"\"\"\n",
    "    # Wczytanie zbioru Fashion MNIST\n",
    "    fashion_mnist = keras.datasets.fashion_mnist\n",
    "    (X_train_full, y_train_full), (X_test, y_test) = fashion_mnist.load_data()\n",
    "\n",
    "    # Podział zbioru treningowego na część walidacyjną (pierwsze 5000) i treningową (pozostałe 55000)\n",
    "    # Normalizacja pikseli do wartości [0,1]\n",
    "    X_valid, X_train = X_train_full[:5000]/255.0, X_train_full[5000:]/255.0\n",
    "    y_valid, y_train = y_train_full[:5000], y_train_full[5000:]\n",
    "    X_test = X_test / 255.0\n",
    "\n",
    "    return X_train, X_valid, X_test, y_train, y_valid, y_test"
   ]
  },
  {
   "cell_type": "code",
   "execution_count": null,
   "id": "fd2e7c36-b030-49b1-a546-8d22cfd4a5c2",
   "metadata": {},
   "outputs": [],
   "source": [
    "def show_sample_images(X_train: np.ndarray, y_train: np.ndarray, class_names: list, n_rows: int = 3, n_cols: int = 8):\n",
    "    \"\"\"\n",
    "    Display a grid of sample images with their class labels.\n",
    "\n",
    "    Parameters\n",
    "    ----------\n",
    "    X_train : np.ndarray\n",
    "        Training images.\n",
    "    y_train : np.ndarray\n",
    "        Corresponding training labels.\n",
    "    class_names : list\n",
    "        List of class names for each label.\n",
    "    n_rows : int, optional\n",
    "        Number of rows in the image grid, by default 3.\n",
    "    n_cols : int, optional\n",
    "        Number of columns in the image grid, by default 8.\n",
    "    \"\"\"\n",
    "    plt.figure(figsize=(n_cols * 1.2, n_rows * 1.2))\n",
    "    for row in range(n_rows):\n",
    "        for col in range(n_cols):\n",
    "            index = n_cols * row + col\n",
    "            plt.subplot(n_rows, n_cols, index + 1)\n",
    "            plt.imshow(X_train[index], cmap=\"binary\", interpolation=\"nearest\")\n",
    "            plt.axis('off')\n",
    "            plt.title(class_names[y_train[index]], fontsize=10)\n",
    "    plt.subplots_adjust(wspace=0.2, hspace=0.5)\n",
    "    plt.show()"
   ]
  },
  {
   "cell_type": "code",
   "execution_count": null,
   "id": "2d07aff2-7e04-4ac0-9ce5-005776568114",
   "metadata": {},
   "outputs": [],
   "source": [
    "def build_model(input_shape: tuple = (28, 28), activation: str = \"relu\", output_classes: int = 10) -> keras.models.Sequential:\n",
    "    \"\"\"\n",
    "    Build and return a compiled MLP model for Fashion MNIST classification.\n",
    "\n",
    "    Parameters\n",
    "    ----------\n",
    "    input_shape : tuple, optional\n",
    "        Shape of a single input sample, by default (28, 28)\n",
    "    activation : str, optional\n",
    "        Activation function for hidden layers, by default \"relu\"\n",
    "    output_classes : int, optional\n",
    "        Number of output classes, by default 10\n",
    "\n",
    "    Returns\n",
    "    -------\n",
    "    keras.models.Sequential\n",
    "        A compiled Keras Sequential model.\n",
    "    \"\"\"\n",
    "    model = keras.models.Sequential([\n",
    "        # Spłaszczenie obrazu 28x28 do wektora 784\n",
    "        keras.layers.Flatten(input_shape=input_shape),\n",
    "        # Warstwy ukryte z aktywacją ReLU\n",
    "        keras.layers.Dense(256, activation=activation),\n",
    "        keras.layers.Dense(128, activation=activation),\n",
    "        # Warstwa wyjściowa z softmax do klasyfikacji 10 klas\n",
    "        keras.layers.Dense(output_classes, activation=\"softmax\")\n",
    "    ])\n",
    "\n",
    "    # Kompilacja modelu: używamy cross-entropy do klasyfikacji wieloklasowej, optymalizator SGD\n",
    "    model.compile(loss=\"sparse_categorical_crossentropy\",\n",
    "                  optimizer=\"sgd\",\n",
    "                  metrics=[\"accuracy\"])\n",
    "    return model"
   ]
  },
  {
   "cell_type": "code",
   "execution_count": null,
   "id": "bad39dba-1dcc-4239-a338-abfa77406920",
   "metadata": {},
   "outputs": [],
   "source": [
    "def plot_training_history(history: keras.callbacks.History):\n",
    "    \"\"\"\n",
    "    Plot the training and validation accuracy and loss during model training.\n",
    "\n",
    "    Parameters\n",
    "    ----------\n",
    "    history : keras.callbacks.History\n",
    "        History object returned by model.fit(), containing training logs.\n",
    "    \"\"\"\n",
    "    pd.DataFrame(history.history).plot(figsize=(8,5))\n",
    "    plt.grid(True)\n",
    "    plt.gca().set_ylim(0,1)\n",
    "    plt.title(\"Training and Validation Metrics\")\n",
    "    plt.show()"
   ]
  },
  {
   "cell_type": "code",
   "execution_count": null,
   "id": "9b7f783b-b28d-4a2b-ab9c-61bb66456bb2",
   "metadata": {},
   "outputs": [],
   "source": [
    "def predict_and_show(model: keras.models.Sequential, X_new: np.ndarray, y_new: np.ndarray, class_names: list):\n",
    "    \"\"\"\n",
    "    Predict classes for new samples and display the images with their predicted labels.\n",
    "\n",
    "    Parameters\n",
    "    ----------\n",
    "    model : keras.models.Sequential\n",
    "        The trained Keras model.\n",
    "    X_new : np.ndarray\n",
    "        New images to predict.\n",
    "    y_new : np.ndarray\n",
    "        True labels for these images.\n",
    "    class_names : list\n",
    "        Class names corresponding to the labels.\n",
    "    \"\"\"\n",
    "    y_proba = model.predict(X_new)\n",
    "    y_pred = np.argmax(y_proba, axis=-1)\n",
    "\n",
    "    plt.figure(figsize=(len(X_new)*1.5, 1.5))\n",
    "    for index, image in enumerate(X_new):\n",
    "        plt.subplot(1, len(X_new), index + 1)\n",
    "        plt.imshow(image, cmap=\"binary\", interpolation=\"nearest\")\n",
    "        plt.axis('off')\n",
    "        plt.title(f\"Pred: {class_names[y_pred[index]]}\\nTrue: {class_names[y_new[index]]}\", fontsize=10)\n",
    "    plt.subplots_adjust(wspace=0.5)\n",
    "    plt.show()"
   ]
  },
  {
   "cell_type": "code",
   "execution_count": null,
   "id": "8fe65312-4742-48f0-bcd2-fffe12b03588",
   "metadata": {},
   "outputs": [],
   "source": [
    "\n",
    "# Klasy nazw dla etykiet Fashion MNIST\n",
    "class_names = [\"T-shirt/Top\", \"Trouser\", \"Pullover\", \"Dress\", \"Coat\",\n",
    "               \"Sandal\", \"Shirt\", \"Sneaker\", \"Bag\", \"Ankle boot\"]"
   ]
  },
  {
   "cell_type": "code",
   "execution_count": null,
   "id": "8f07d4a3-790d-4303-9c38-6c7f7d408438",
   "metadata": {},
   "outputs": [],
   "source": [
    "# Wczytanie i przygotowanie danych\n",
    "X_train, X_valid, X_test, y_train, y_valid, y_test = load_and_prepare_data()"
   ]
  },
  {
   "cell_type": "code",
   "execution_count": null,
   "id": "e1abaeed-1ffd-4a21-ab8f-7239f37f4f0e",
   "metadata": {},
   "outputs": [],
   "source": [
    "# Wyświetlenie przykładowych obrazów\n",
    "show_sample_images(X_train, y_train, class_names, n_rows=3, n_cols=8)"
   ]
  },
  {
   "cell_type": "code",
   "execution_count": null,
   "id": "ba47cce9-fb94-439e-a57c-ea7974a51375",
   "metadata": {},
   "outputs": [],
   "source": [
    "# Budowa i trenowanie modelu MLP\n",
    "model = build_model(input_shape=[28, 28])\n",
    "history = model.fit(X_train, y_train, epochs=30, validation_data=(X_valid, y_valid))"
   ]
  },
  {
   "cell_type": "code",
   "execution_count": null,
   "id": "57d98232-9b8f-4de5-a036-9279ea172fff",
   "metadata": {},
   "outputs": [],
   "source": [
    "# Ewaluacja na zbiorze testowym\n",
    "test_loss, test_acc = model.evaluate(X_test, y_test, verbose=0)\n",
    "print(\"Test Accuracy:\", test_acc)"
   ]
  },
  {
   "cell_type": "code",
   "execution_count": null,
   "id": "a6dc562e-6594-485e-a076-21e32bdb6c39",
   "metadata": {},
   "outputs": [],
   "source": [
    "# Wizualizacja przebiegu treningu\n",
    "plot_training_history(history)"
   ]
  },
  {
   "cell_type": "code",
   "execution_count": null,
   "id": "e498d2fb-6853-4451-8a5e-6ad98824f02b",
   "metadata": {},
   "outputs": [],
   "source": [
    "# Przykładowa predykcja na nowych danych (pierwsze 3 obrazy testowe)\n",
    "X_new = X_test[:3]\n",
    "y_new = y_test[:3]\n",
    "predict_and_show(model, X_new, y_new, class_names)"
   ]
  }
 ],
 "metadata": {
  "celltoolbar": "Slideshow",
  "kernelspec": {
   "display_name": "Python 3 (ipykernel)",
   "language": "python",
   "name": "python3"
  },
  "language_info": {
   "codemirror_mode": {
    "name": "ipython",
    "version": 3
   },
   "file_extension": ".py",
   "mimetype": "text/x-python",
   "name": "python",
   "nbconvert_exporter": "python",
   "pygments_lexer": "ipython3",
   "version": "3.11.3"
  }
 },
 "nbformat": 4,
 "nbformat_minor": 5
}
