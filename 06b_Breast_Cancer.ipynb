{
 "cells": [
  {
   "cell_type": "markdown",
   "id": "baa54098-49fe-4e00-93b4-789725a2f653",
   "metadata": {},
   "source": [
    "\n",
    "---\n",
    "\n",
    "### Zadanie dla Kursantów\n",
    "\n",
    "1. **Wczytanie i Wstępna Analiza Danych:**  \n",
    "   - Załaduj dane z `sklearn.datasets.load_breast_cancer()` do jednego DataFrame, zawierającego zarówno cechy, jak i zmienną docelową.  \n",
    "   - Przeprowadź wstępną eksplorację danych (EDA): wyświetl statystyki opisowe, sprawdź rozkład zmiennej docelowej, wygeneruj wykresy prezentujące zależności pomiędzy cechami a zmienną docelową.\n",
    "\n",
    "2. **Przygotowanie Danych:**  \n",
    "   - Sprawdź, czy w danych występują braki lub nierealistyczne wartości. Jeśli tak, zaproponuj sposób ich obsługi (imputacja, usunięcie, inne metody).  \n",
    "   - Rozważ skalowanie cech lub wybór podzbioru cech, które najlepiej różnicują klasy.\n",
    "\n",
    "3. **Modelowanie:**  \n",
    "   - Podziel dane na zbiór treningowy i testowy.  \n",
    "   - Zbuduj pipeline, który będzie obejmował pre-processing (np. standaryzację) oraz trenowanie modelu (np. LogisticRegression, KNeighborsClassifier).  \n",
    "   - Wytrenuj oba modele i porównaj ich wyniki (accuracy, precision, recall, F1-score).\n",
    "\n",
    "4. **Interpretacja i Wnioski:**  \n",
    "   - Przeanalizuj otrzymane wyniki i zastanów się, który model oraz jakie ustawienia są najbardziej skuteczne.  \n",
    "   - Zaproponuj, jakie dalsze kroki można by podjąć (np. tuning hiperparametrów, wykorzystanie innego modelu, redukcja wymiarów).\n",
    "\n",
    "Wyniki i wnioski zaprezentuj w formie notatnika Jupyter.  \n",
    "Wszystkie kody, analizy i komentarze umieść w przejrzysty i czytelny sposób.\n"
   ]
  },
  {
   "cell_type": "code",
   "execution_count": null,
   "id": "a97427e0-8308-4acc-8bee-5cf07155e5de",
   "metadata": {},
   "outputs": [],
   "source": [
    "\n",
    "\n",
    "from sklearn.datasets import load_breast_cancer\n",
    "import pandas as pd\n",
    "import numpy as np\n",
    "\n",
    "# Wczytanie danych Breast Cancer z sklearn\n",
    "data = load_breast_cancer()\n",
    "\n",
    "# Utworzenie jednego DataFrame\n",
    "df = pd.DataFrame(np.c_[data.data, data.target], columns=list(data.feature_names) + ['target'])"
   ]
  },
  {
   "cell_type": "code",
   "execution_count": null,
   "id": "186fe9c6-7e29-4c81-bb01-981750596567",
   "metadata": {},
   "outputs": [],
   "source": [
    "\n",
    "# Placeholder: przeprowadź EDA (analiza opisowa, wizualizacje)\n",
    "# ...\n"
   ]
  },
  {
   "cell_type": "code",
   "execution_count": null,
   "id": "88f0fde7-c943-4fca-8834-200ef61baaf8",
   "metadata": {},
   "outputs": [],
   "source": [
    "\n",
    "# Placeholder: sprawdź i obsłuż ewentualne braki danych\n",
    "# ..."
   ]
  },
  {
   "cell_type": "code",
   "execution_count": null,
   "id": "2e1a4e43-7015-445b-9f46-49c45addf39a",
   "metadata": {},
   "outputs": [],
   "source": [
    "# Placeholder: podział na zbiór treningowy i testowy\n",
    "# ...\n"
   ]
  },
  {
   "cell_type": "code",
   "execution_count": null,
   "id": "abf50f19-6fd1-43bd-a878-8db279900354",
   "metadata": {},
   "outputs": [],
   "source": [
    "\n",
    "\n",
    "# Placeholder: budowa pipeline (imputer, scaler, model)\n",
    "# ..."
   ]
  },
  {
   "cell_type": "code",
   "execution_count": 1,
   "id": "e576e19e-5a15-4550-9fe3-28c1038d3e93",
   "metadata": {},
   "outputs": [],
   "source": [
    "\n",
    "\n",
    "\n",
    "\n",
    "# Placeholder: trening i ocena modeli (LR, KNN)\n",
    "# ...\n"
   ]
  }
 ],
 "metadata": {
  "celltoolbar": "Slideshow",
  "kernelspec": {
   "display_name": "Python 3 (ipykernel)",
   "language": "python",
   "name": "python3"
  },
  "language_info": {
   "codemirror_mode": {
    "name": "ipython",
    "version": 3
   },
   "file_extension": ".py",
   "mimetype": "text/x-python",
   "name": "python",
   "nbconvert_exporter": "python",
   "pygments_lexer": "ipython3",
   "version": "3.11.3"
  }
 },
 "nbformat": 4,
 "nbformat_minor": 5
}
