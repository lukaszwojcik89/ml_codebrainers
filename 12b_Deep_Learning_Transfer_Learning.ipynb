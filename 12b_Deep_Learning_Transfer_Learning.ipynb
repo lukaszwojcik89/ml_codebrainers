{
  "cells": [
    {
      "cell_type": "markdown",
      "metadata": {
        "id": "hRTa3Ee15WsJ"
      },
      "source": [
        "# Transfer learning and fine-tuning"
      ]
    },
    {
      "cell_type": "markdown",
      "metadata": {
        "id": "2X4KyhORdSeO"
      },
      "source": [
        "#\n",
        "\n",
        "Model wstępnie wytrenowany to zapisana sieć, która została wcześniej przeszkolona na dużym zbiorze danych, zwykle w zadaniu klasyfikacji obrazów na dużą skalę. Możesz użyć gotowego modelu lub skorzystać z transferu uczenia się, aby dostosować ten model do określonego zadania.\n",
        "\n",
        "Intuicja stojąca za transferem uczenia się w klasyfikacji obrazów polega na tym, że jeśli model jest trenowany na wystarczająco dużym i ogólnym zbiorze danych, to model ten będzie skutecznie służył jako ogólny model świata wizualnego. Możesz wtedy skorzystać z tych nauczonych map cech bez konieczności rozpoczynania od zera i trenowania dużego modelu na dużym zbiorze danych.\n",
        "\n",
        "W tym notatniku spróbujesz dwóch sposobów dostosowania wstępnie wytrenowanego modelu:\n",
        "\n",
        "Ekstrakcja cech: Wykorzystaj reprezentacje nauczone przez wcześniejszą sieć do ekstrakcji znaczących cech z nowych próbek. Po prostu dodaj nowy klasyfikator, który zostanie wytrenowany od podstaw na wierzchu wstępnie wytrenowanego modelu, dzięki czemu możesz przystosować mapy cech wcześniej nauczone do zbioru danych. Nie musisz (ponownie) trenować całego modelu. Bazowa sieć konwolucyjna już zawiera funkcje, które są ogólnie przydatne do klasyfikacji obrazów. Jednak ostatnia, kwalifikująca część wstępnie wytrenowanego modelu jest specyficzna dla pierwotnego zadania klasyfikacji i następnie specyficzna dla zestawu klas, na których model był trenowany.\n",
        "\n",
        "Dopasowanie modelu: Odmroź kilka z najwyższych warstw zamrożonego modelu bazowego i jednocześnie trenuj zarówno nowo dodane warstwy klasyfikatora, jak i ostatnie warstwy modelu bazowego. Pozwala to nam na \"dostrojenie\" reprezentacji cech wyższego rzędu w modelu bazowym, aby były bardziej istotne dla konkretnego zadania. Będziesz postępować zgodnie z ogólnym procesem uczenia maszynowego.\n",
        "\n",
        "1. Sprawdź i zrozum dane.\n",
        "2. Utwórz potok wejściowy, w tym przypadku za pomocą Keras ImageDataGenerator.\n",
        "3. Skomponuj model.\n",
        "4. Załaduj wstępnie wytrenowany model bazowy (i wstępnie wytrenowane wagi).\n",
        "5. Dołóż na wierzch warstwy klasyfikatora.\n",
        "6. Trenuj model.\n",
        "7. Oceń"
      ]
    },
    {
      "cell_type": "code",
      "execution_count": null,
      "metadata": {
        "execution": {
          "iopub.execute_input": "2022-12-14T02:23:01.733281Z",
          "iopub.status.busy": "2022-12-14T02:23:01.732884Z",
          "iopub.status.idle": "2022-12-14T02:23:04.483275Z",
          "shell.execute_reply": "2022-12-14T02:23:04.482452Z"
        },
        "id": "TqOt6Sv7AsMi"
      },
      "outputs": [],
      "source": [
        "import matplotlib.pyplot as plt\n",
        "import numpy as np\n",
        "import os\n",
        "import tensorflow as tf"
      ]
    },
    {
      "cell_type": "markdown",
      "metadata": {
        "id": "v77rlkCKW0IJ"
      },
      "source": [
        "## Data preprocessing\n",
        "\n"
      ]
    },
    {
      "cell_type": "markdown",
      "metadata": {
        "id": "0GoKGm1duzgk"
      },
      "source": [
        "### Data download"
      ]
    },
    {
      "cell_type": "markdown",
      "metadata": {
        "id": "vHP9qMJxt2oz"
      },
      "source": [
        "Bedziemy korzystać z zestawu danych zawierającego kilka tysięcy obrazów kotów i psów. Pobierz i rozpakuj plik zip zawierający obrazy, a następnie utwórz zbiór danych tf.data.Dataset do szkolenia i walidacji za pomocą narzędzia tf.keras.utils.image_dataset_from_directory."
      ]
    },
    {
      "cell_type": "code",
      "execution_count": null,
      "metadata": {
        "colab": {
          "base_uri": "https://localhost:8080/",
          "height": 36
        },
        "id": "jXqp628km0z9",
        "outputId": "a4a5353a-a6ad-46f4-887d-ed6a2defc16b"
      },
      "outputs": [],
      "source": [
        "path_to_zip"
      ]
    },
    {
      "cell_type": "code",
      "execution_count": null,
      "metadata": {
        "colab": {
          "base_uri": "https://localhost:8080/"
        },
        "id": "tCN_dg_E7R8P",
        "outputId": "bc06e5c5-57e2-42c8-fc8f-1173d26cc6e2"
      },
      "outputs": [],
      "source": [
        "# Pobieranie zbioru danych i tworzenie katalogów z danymi treningowymi i walidacyjnymi\n",
        "_URL = 'https://storage.googleapis.com/mledu-datasets/cats_and_dogs_filtered.zip'\n",
        "path_to_zip = tf.keras.utils.get_file('cats_and_dogs.zip', origin=_URL, extract=True)\n",
        "PATH = os.path.join(os.path.dirname(path_to_zip), 'cats_and_dogs_filtered')"
      ]
    },
    {
      "cell_type": "code",
      "execution_count": null,
      "metadata": {
        "id": "kohdk0eLmtC6"
      },
      "outputs": [],
      "source": [
        "train_dir = os.path.join(PATH, 'train')\n",
        "validation_dir = os.path.join(PATH, 'validation')"
      ]
    },
    {
      "cell_type": "code",
      "execution_count": null,
      "metadata": {
        "colab": {
          "base_uri": "https://localhost:8080/"
        },
        "execution": {
          "iopub.execute_input": "2022-12-14T02:23:04.487687Z",
          "iopub.status.busy": "2022-12-14T02:23:04.487273Z",
          "iopub.status.idle": "2022-12-14T02:23:09.361541Z",
          "shell.execute_reply": "2022-12-14T02:23:09.360863Z"
        },
        "id": "ro4oYaEmxe4r",
        "outputId": "4f4a869e-ecf9-48ab-8321-cb5a770e20b4"
      },
      "outputs": [],
      "source": [
        "# Definiowanie rozmiaru paczki (batch size) i rozmiaru obrazów\n",
        "BATCH_SIZE = 32\n",
        "IMG_SIZE = (160, 160)\n",
        "\n",
        "# Tworzenie zbioru danych treningowych przy użyciu funkcji image_dataset_from_directory\n",
        "train_dataset = tf.keras.utils.image_dataset_from_directory(train_dir,\n",
        "                                                            shuffle=True,\n",
        "                                                            batch_size=BATCH_SIZE,\n",
        "                                                            image_size=IMG_SIZE)\n"
      ]
    },
    {
      "cell_type": "code",
      "execution_count": null,
      "metadata": {
        "colab": {
          "base_uri": "https://localhost:8080/"
        },
        "execution": {
          "iopub.execute_input": "2022-12-14T02:23:09.365883Z",
          "iopub.status.busy": "2022-12-14T02:23:09.365192Z",
          "iopub.status.idle": "2022-12-14T02:23:09.428604Z",
          "shell.execute_reply": "2022-12-14T02:23:09.427925Z"
        },
        "id": "cAvtLwi7_J__",
        "outputId": "f85cda18-5a06-4996-e210-a8837cf8b99d"
      },
      "outputs": [],
      "source": [
        "# Tworzenie zbioru danych walidacyjnych przy użyciu funkcji image_dataset_from_directory\n",
        "validation_dataset = tf.keras.utils.image_dataset_from_directory(validation_dir,\n",
        "                                                                 shuffle=True,\n",
        "                                                                 batch_size=BATCH_SIZE,\n",
        "                                                                 image_size=IMG_SIZE)\n"
      ]
    },
    {
      "cell_type": "markdown",
      "metadata": {
        "id": "yO1Q2JaW5sIy"
      },
      "source": [
        "Wyświetl pierwszych dziewięć obrazów i etykiet z zestawu treningowego:\n",
        "\n",
        "\n",
        "\n"
      ]
    },
    {
      "cell_type": "code",
      "execution_count": null,
      "metadata": {
        "colab": {
          "base_uri": "https://localhost:8080/",
          "height": 829
        },
        "execution": {
          "iopub.execute_input": "2022-12-14T02:23:09.432537Z",
          "iopub.status.busy": "2022-12-14T02:23:09.431819Z",
          "iopub.status.idle": "2022-12-14T02:23:10.433315Z",
          "shell.execute_reply": "2022-12-14T02:23:10.432390Z"
        },
        "id": "K5BeQyKThC_Y",
        "outputId": "48bf44ac-3105-42a9-e83b-1942dd3bbf11"
      },
      "outputs": [],
      "source": [
        "# Pobieranie nazw klas z zbioru danych treningowych i wizualizacja losowych obrazów\n",
        "class_names = train_dataset.class_names\n",
        "\n",
        "plt.figure(figsize=(10, 10))\n",
        "for images, labels in train_dataset.take(1):\n",
        "  for i in range(9):\n",
        "    ax = plt.subplot(3, 3, i + 1)\n",
        "    plt.imshow(images[i].numpy().astype(\"uint8\"))\n",
        "    plt.title(class_names[labels[i]])\n",
        "    plt.axis(\"off\")\n"
      ]
    },
    {
      "cell_type": "markdown",
      "metadata": {
        "id": "EZqCX_mpV3Mx"
      },
      "source": [
        "Ponieważ oryginalny zestaw danych nie zawiera zbioru testowego, będziesz musiał/a go utworzyć. Aby to zrobić, określ, ile partii danych jest dostępnych w zestawie walidacyjnym za pomocą tf.data.experimental.cardinality, a następnie przenieś 20% z nich do zbioru testowego."
      ]
    },
    {
      "cell_type": "code",
      "execution_count": null,
      "metadata": {
        "execution": {
          "iopub.execute_input": "2022-12-14T02:23:10.447711Z",
          "iopub.status.busy": "2022-12-14T02:23:10.447134Z",
          "iopub.status.idle": "2022-12-14T02:23:10.456170Z",
          "shell.execute_reply": "2022-12-14T02:23:10.455539Z"
        },
        "id": "uFFIYrTFV9RO"
      },
      "outputs": [],
      "source": [
        "# Dzielenie zbioru danych walidacyjnych na zbiór walidacyjny i testowy\n",
        "val_batches = tf.data.experimental.cardinality(validation_dataset)\n",
        "test_dataset = validation_dataset.take(val_batches // 5)\n",
        "validation_dataset = validation_dataset.skip(val_batches // 5)\n"
      ]
    },
    {
      "cell_type": "code",
      "execution_count": null,
      "metadata": {
        "colab": {
          "base_uri": "https://localhost:8080/"
        },
        "execution": {
          "iopub.execute_input": "2022-12-14T02:23:10.459408Z",
          "iopub.status.busy": "2022-12-14T02:23:10.458811Z",
          "iopub.status.idle": "2022-12-14T02:23:10.463218Z",
          "shell.execute_reply": "2022-12-14T02:23:10.462501Z"
        },
        "id": "Q9pFlFWgBKgH",
        "outputId": "0298e42a-527e-44de-af43-df994ed44c5c"
      },
      "outputs": [],
      "source": [
        "print('Number of validation batches: %d' % tf.data.experimental.cardinality(validation_dataset))\n",
        "print('Number of test batches: %d' % tf.data.experimental.cardinality(test_dataset))"
      ]
    },
    {
      "cell_type": "markdown",
      "metadata": {
        "id": "22XWC7yjkZu4"
      },
      "source": [
        "Użyj buforowanego wczytywania wstępnego, aby ładować obrazy z dysku bez blokowania operacji I/O."
      ]
    },
    {
      "cell_type": "code",
      "execution_count": null,
      "metadata": {
        "execution": {
          "iopub.execute_input": "2022-12-14T02:23:10.466591Z",
          "iopub.status.busy": "2022-12-14T02:23:10.466116Z",
          "iopub.status.idle": "2022-12-14T02:23:10.471706Z",
          "shell.execute_reply": "2022-12-14T02:23:10.471083Z"
        },
        "id": "p3UUPdm86LNC"
      },
      "outputs": [],
      "source": [
        "# Automatyczne dopasowanie wielkości bufora\n",
        "AUTOTUNE = tf.data.AUTOTUNE\n",
        "\n",
        "# Wstępne ładowanie danych treningowych, walidacyjnych i testowych\n",
        "train_dataset = train_dataset.prefetch(buffer_size=AUTOTUNE)\n",
        "validation_dataset = validation_dataset.prefetch(buffer_size=AUTOTUNE)\n",
        "test_dataset = test_dataset.prefetch(buffer_size=AUTOTUNE)\n"
      ]
    },
    {
      "cell_type": "markdown",
      "metadata": {
        "id": "MYfcVwYLiR98"
      },
      "source": [
        "### Use data augmentation"
      ]
    },
    {
      "cell_type": "markdown",
      "metadata": {
        "id": "bDWc5Oad1daX"
      },
      "source": [
        "Gdy nie dysponujesz dużym zbiorem danych obrazowych, dobrą praktyką jest sztuczne wprowadzenie różnorodności próbek poprzez stosowanie losowych, ale realistycznych transformacji na obrazach treningowych, takich jak obrót i lustrzane odbicie poziome. Pomaga to modelowi poznać różne aspekty danych treningowych i zmniejszyć przypadkowe dopasowanie."
      ]
    },
    {
      "cell_type": "code",
      "execution_count": null,
      "metadata": {
        "execution": {
          "iopub.execute_input": "2022-12-14T02:23:10.475123Z",
          "iopub.status.busy": "2022-12-14T02:23:10.474623Z",
          "iopub.status.idle": "2022-12-14T02:23:10.486280Z",
          "shell.execute_reply": "2022-12-14T02:23:10.485583Z"
        },
        "id": "3P99QiMGit1A"
      },
      "outputs": [],
      "source": [
        "# Definicja sekwencji przekształceń danych\n",
        "data_augmentation = tf.keras.Sequential([\n",
        "  tf.keras.layers.RandomFlip('horizontal'),\n",
        "  tf.keras.layers.RandomRotation(0.2),\n",
        "])\n"
      ]
    },
    {
      "cell_type": "markdown",
      "metadata": {
        "id": "s9SlcbhrarOO"
      },
      "source": [
        "Uwaga: te warstwy są aktywne tylko podczas trenowania, gdy wywołujesz Model.fit. Są one nieaktywne, gdy model jest używany w trybie wnioskowania w Model.evaluate lub Model.predict."
      ]
    },
    {
      "cell_type": "markdown",
      "metadata": {
        "id": "9mD3rE2Lm7-d"
      },
      "source": [
        "Zastosujmy te warstwy wielokrotnie do tego samego obrazu i zobaczmy wynik.\n"
      ]
    },
    {
      "cell_type": "code",
      "execution_count": null,
      "metadata": {
        "colab": {
          "base_uri": "https://localhost:8080/",
          "height": 807
        },
        "execution": {
          "iopub.execute_input": "2022-12-14T02:23:10.489784Z",
          "iopub.status.busy": "2022-12-14T02:23:10.489166Z",
          "iopub.status.idle": "2022-12-14T02:23:17.383375Z",
          "shell.execute_reply": "2022-12-14T02:23:17.382554Z"
        },
        "id": "aQullOUHkm67",
        "outputId": "2060f3e5-f600-47d0-82ea-9cbb29d8b6ef"
      },
      "outputs": [],
      "source": [
        "# Wizualizacja przekształceń danych treningowych\n",
        "for image, _ in train_dataset.take(1):\n",
        "  plt.figure(figsize=(10, 10))\n",
        "  first_image = image[0]\n",
        "  for i in range(9):\n",
        "    ax = plt.subplot(3, 3, i + 1)\n",
        "    augmented_image = data_augmentation(tf.expand_dims(first_image, 0))\n",
        "    plt.imshow(augmented_image[0] / 255)\n",
        "    plt.axis('off')\n"
      ]
    },
    {
      "cell_type": "markdown",
      "metadata": {
        "id": "bAywKtuVn8uK"
      },
      "source": [
        "###Zmiana skali wartości pikseli\n",
        "\n",
        " Za chwilę pobierzesz tf.keras.applications.MobileNetV2 do użycia jako modelu bazowego. Ten model oczekuje wartości pikseli w przedziale [-1, 1], ale w tej chwili wartości pikseli na twoich obrazach są w przedziale [0, 255]. Aby zmienić ich skalę, użyj metody przetwarzania wstępnego zawartej w modelu."
      ]
    },
    {
      "cell_type": "code",
      "execution_count": null,
      "metadata": {
        "execution": {
          "iopub.execute_input": "2022-12-14T02:23:17.402521Z",
          "iopub.status.busy": "2022-12-14T02:23:17.401942Z",
          "iopub.status.idle": "2022-12-14T02:23:17.405507Z",
          "shell.execute_reply": "2022-12-14T02:23:17.404891Z"
        },
        "id": "cO0HM9JAQUFq"
      },
      "outputs": [],
      "source": [
        "preprocess_input = tf.keras.applications.mobilenet_v2.preprocess_input"
      ]
    },
    {
      "cell_type": "markdown",
      "metadata": {
        "id": "OkH-kazQecHB"
      },
      "source": [
        "### Utwórz model bazowy z wstępnie szkolonych konwolucyjnych sieci neuronowych\n",
        "Stworzysz model bazowy z modelu MobileNet V2 opracowanego przez Google. Jest to model wstępnie szkolony na zbiorze danych ImageNet, dużym zbiorze danych składającym się z 1,4 miliona obrazów i 1000 klas. ImageNet to zbiór danych szkoleniowych z szeroką gamą kategorii, takich jak jackfruit i syringe. Ta podstawa wiedzy pomoże nam klasyfikować koty i psy z naszego konkretnego zbioru danych.\n",
        "\n",
        "Najpierw musisz wybrać, którą warstwę MobileNet V2 wykorzystasz do ekstrakcji cech. Ostatnia warstwa klasyfikacji (na \"górze\", ponieważ większość diagramów modeli uczenia maszynowego układa się od dołu do góry) nie jest bardzo przydatna. Zamiast tego, będziesz stosować powszechną praktykę polegającą na poleganiu na ostatniej warstwie przed operacją spłaszczania. Ta warstwa nazywa się \"warstwą wąskiego gardła\" (ang. bottleneck layer). Cechy warstwy wąskiego gardła zachowują więcej ogólności w porównaniu do ostatniej/najwyższej warstwy.\n",
        "\n",
        "Najpierw utwórz model MobileNet V2, który jest wczytany z wstępnie wyuczonymi wagami na zbiorze danych ImageNet. Określając argument include_top=False, wczytujesz sieć, która nie zawiera warstw klasyfikacji na górze, co jest idealne do ekstrakcji cech."
      ]
    },
    {
      "cell_type": "code",
      "execution_count": null,
      "metadata": {
        "execution": {
          "iopub.execute_input": "2022-12-14T02:23:17.415060Z",
          "iopub.status.busy": "2022-12-14T02:23:17.414630Z",
          "iopub.status.idle": "2022-12-14T02:23:18.869000Z",
          "shell.execute_reply": "2022-12-14T02:23:18.868159Z"
        },
        "id": "19IQ2gqneqmS"
      },
      "outputs": [],
      "source": [
        "# Tworzenie bazowego modelu na podstawie wstępnie wytrenowanego modelu MobileNet V2\n",
        "IMG_SHAPE = IMG_SIZE + (3,)\n",
        "base_model = tf.keras.applications.MobileNetV2(input_shape=IMG_SHAPE,\n",
        "                                               include_top=False,\n",
        "                                               weights='imagenet')\n"
      ]
    },
    {
      "cell_type": "markdown",
      "metadata": {
        "id": "AqcsxoJIEVXZ"
      },
      "source": [
        "Ten ekstraktor cech konwertuje każdy obraz 160x160x3 na blok cech 5x5x1280. Zobaczmy, co robi z przykładową partią obrazów:\n",
        "\n",
        "\n",
        "\n"
      ]
    },
    {
      "cell_type": "code",
      "execution_count": null,
      "metadata": {
        "colab": {
          "base_uri": "https://localhost:8080/"
        },
        "id": "yK42-QB7-HTi",
        "outputId": "6ae6ac2b-d0d5-454b-e8e0-2ac7672b16d4"
      },
      "outputs": [],
      "source": [
        "image_batch.shape"
      ]
    },
    {
      "cell_type": "code",
      "execution_count": null,
      "metadata": {
        "colab": {
          "base_uri": "https://localhost:8080/"
        },
        "execution": {
          "iopub.execute_input": "2022-12-14T02:23:18.872961Z",
          "iopub.status.busy": "2022-12-14T02:23:18.872663Z",
          "iopub.status.idle": "2022-12-14T02:23:24.090404Z",
          "shell.execute_reply": "2022-12-14T02:23:24.089690Z"
        },
        "id": "Y-2LJL0EEUcx",
        "outputId": "3314b6d5-aa2f-476a-c2b5-4b8dc51e8656"
      },
      "outputs": [],
      "source": [
        "# Obliczanie cech z obrazów treningowych przy użyciu bazowego modelu\n",
        "image_batch, label_batch = next(iter(train_dataset))\n",
        "feature_batch = base_model(image_batch)\n",
        "print(feature_batch.shape)\n"
      ]
    },
    {
      "cell_type": "markdown",
      "metadata": {
        "id": "rlx56nQtfe8Y"
      },
      "source": [
        "## Feature extraction\n",
        "W tym kroku zamrozisz bazę konwolucyjną stworzoną w poprzednim kroku i będziesz używać jej jako ekstraktora cech. Dodatkowo, dodasz klasyfikator na wierzch i będziesz trenować klasyfikator najwyższego poziomu.\n",
        "\n",
        "\n",
        "\n"
      ]
    },
    {
      "cell_type": "markdown",
      "metadata": {
        "id": "CnMLieHBCwil"
      },
      "source": [
        "### Freeze the convolutional base"
      ]
    },
    {
      "cell_type": "markdown",
      "metadata": {
        "id": "7fL6upiN3ekS"
      },
      "source": [
        "Przed skompilowaniem i trenowaniem modelu ważne jest, aby zamrozić bazę konwolucyjną. Zamrożenie (poprzez ustawienie layer.trainable = False) zapobiega aktualizacji wag w danej warstwie podczas treningu. MobileNet V2 ma wiele warstw, więc ustawienie flagi trainable całego modelu na False spowoduje zamrożenie wszystkich warstw."
      ]
    },
    {
      "cell_type": "code",
      "execution_count": null,
      "metadata": {
        "execution": {
          "iopub.execute_input": "2022-12-14T02:23:24.093957Z",
          "iopub.status.busy": "2022-12-14T02:23:24.093686Z",
          "iopub.status.idle": "2022-12-14T02:23:24.099998Z",
          "shell.execute_reply": "2022-12-14T02:23:24.099376Z"
        },
        "id": "OTCJH4bphOeo"
      },
      "outputs": [],
      "source": [
        "base_model.trainable = False"
      ]
    },
    {
      "cell_type": "code",
      "execution_count": null,
      "metadata": {
        "colab": {
          "base_uri": "https://localhost:8080/"
        },
        "id": "B3gw3L48qD_-",
        "outputId": "3e1021ab-457c-45cc-e96c-063044e934d0"
      },
      "outputs": [],
      "source": [
        "base_model.summary()"
      ]
    },
    {
      "cell_type": "markdown",
      "metadata": {
        "id": "jsNHwpm7BeVM"
      },
      "source": [
        "#### Ważna uwaga dotycząca warstw BatchNormalization\n",
        "\n",
        "Wiele modeli zawiera warstwy tf.keras.layers.BatchNormalization. Ta warstwa jest szczególnym przypadkiem i należy zachować ostrożność w kontekście dopasowywania modelu, jak pokazano później w tym samouczku.\n",
        "\n",
        "Gdy ustawisz layer.trainable = False, warstwa BatchNormalization działa w trybie wnioskowania i nie aktualizuje swoich statystyk średniej i wariancji.\n",
        "\n",
        "Gdy odblokowujesz model zawierający warstwy BatchNormalization w celu wykonania dopasowywania, powinieneś zachować warstwy BatchNormalization w trybie wnioskowania, przekazując training=False podczas wywoływania modelu bazowego. W przeciwnym razie aktualizacje stosowane do wag niemożliwych do trenowania zniszczą to, czego model się nauczył."
      ]
    },
    {
      "cell_type": "code",
      "execution_count": null,
      "metadata": {
        "colab": {
          "base_uri": "https://localhost:8080/"
        },
        "execution": {
          "iopub.execute_input": "2022-12-14T02:23:24.103208Z",
          "iopub.status.busy": "2022-12-14T02:23:24.102722Z",
          "iopub.status.idle": "2022-12-14T02:23:24.309230Z",
          "shell.execute_reply": "2022-12-14T02:23:24.308588Z"
        },
        "id": "KpbzSmPkDa-N",
        "outputId": "afcb1d9e-1f94-4849-9b34-e95d41516b85"
      },
      "outputs": [],
      "source": [
        "base_model.summary()"
      ]
    },
    {
      "cell_type": "markdown",
      "metadata": {
        "id": "wdMRM8YModbk"
      },
      "source": [
        "### Dodaj głowicę klasyfikacji\n",
        "\n",
        "\n"
      ]
    },
    {
      "cell_type": "markdown",
      "metadata": {
        "id": "QBc31c4tMOdH"
      },
      "source": [
        "Aby wygenerować predykcje z bloku cech, należy uśrednić położenia przestrzenne 5x5 za pomocą warstwy tf.keras.layers.GlobalAveragePooling2D, aby przekonwertować cechy na pojedynczy wektor 1280-elementowy dla każdego obrazu."
      ]
    },
    {
      "cell_type": "code",
      "execution_count": null,
      "metadata": {
        "colab": {
          "base_uri": "https://localhost:8080/"
        },
        "id": "FcCL8YXp_qPf",
        "outputId": "d01d908e-2332-4b9a-9d54-35e1b20684e3"
      },
      "outputs": [],
      "source": [
        "feature_batch.shape"
      ]
    },
    {
      "cell_type": "code",
      "execution_count": null,
      "metadata": {
        "colab": {
          "base_uri": "https://localhost:8080/"
        },
        "id": "boglCcft_vlJ",
        "outputId": "bb46bd0d-90ef-42a2-aa94-548d3c2b913d"
      },
      "outputs": [],
      "source": [
        "feature_batch_average.shape"
      ]
    },
    {
      "cell_type": "code",
      "execution_count": null,
      "metadata": {
        "colab": {
          "base_uri": "https://localhost:8080/"
        },
        "execution": {
          "iopub.execute_input": "2022-12-14T02:23:24.420258Z",
          "iopub.status.busy": "2022-12-14T02:23:24.420006Z",
          "iopub.status.idle": "2022-12-14T02:23:24.426806Z",
          "shell.execute_reply": "2022-12-14T02:23:24.426179Z"
        },
        "id": "dLnpMF5KOALm",
        "outputId": "2913c563-c017-43d4-a343-5245c72c3171"
      },
      "outputs": [],
      "source": [
        "# Tworzenie warstwy uśredniającej i obliczanie uśrednionych cech\n",
        "global_average_layer = tf.keras.layers.GlobalAveragePooling2D()\n",
        "feature_batch_average = global_average_layer(feature_batch)\n",
        "print(feature_batch_average.shape)\n"
      ]
    },
    {
      "cell_type": "markdown",
      "metadata": {
        "id": "O1p0OJBR6dOT"
      },
      "source": [
        "Zastosuj warstwę tf.keras.layers.Dense, aby przekonwertować te cechy na pojedynczą predykcję dla każdego obrazu. Tutaj nie potrzebujesz funkcji aktywacji, ponieważ ta predykcja będzie traktowana jako logit, czyli surowa wartość predykcji. Dodatnie liczby przewidują klasę 1, ujemne liczby przewidują klasę 0."
      ]
    },
    {
      "cell_type": "code",
      "execution_count": null,
      "metadata": {
        "colab": {
          "base_uri": "https://localhost:8080/"
        },
        "execution": {
          "iopub.execute_input": "2022-12-14T02:23:24.430200Z",
          "iopub.status.busy": "2022-12-14T02:23:24.429961Z",
          "iopub.status.idle": "2022-12-14T02:23:24.448695Z",
          "shell.execute_reply": "2022-12-14T02:23:24.448095Z"
        },
        "id": "Wv4afXKj6cVa",
        "outputId": "6812070e-54f6-4ade-eecd-b94f07bff269"
      },
      "outputs": [],
      "source": [
        "# Tworzenie warstwy predykcji i obliczanie przewidywanych wartości\n",
        "prediction_layer = tf.keras.layers.Dense(1)\n",
        "prediction_batch = prediction_layer(feature_batch_average)\n",
        "print(prediction_batch.shape)\n"
      ]
    },
    {
      "cell_type": "markdown",
      "metadata": {
        "id": "HXvz-ZkTa9b3"
      },
      "source": [
        "Zbuduj model, łącząc warstwy augmentacji danych, skalowania, base_model i ekstraktora cech za pomocą Keras Functional API. Jak już wspomniano, użyj training=False, ponieważ nasz model zawiera warstwę BatchNormalization."
      ]
    },
    {
      "cell_type": "code",
      "execution_count": null,
      "metadata": {
        "execution": {
          "iopub.execute_input": "2022-12-14T02:23:24.451828Z",
          "iopub.status.busy": "2022-12-14T02:23:24.451598Z",
          "iopub.status.idle": "2022-12-14T02:23:25.701858Z",
          "shell.execute_reply": "2022-12-14T02:23:25.701184Z"
        },
        "id": "DgzQX6Veb2WT"
      },
      "outputs": [],
      "source": [
        "# Tworzenie modelu z sekwencją warstw\n",
        "inputs = tf.keras.Input(shape=(160, 160, 3))\n",
        "\n",
        "# Definiowanie sekwencji przekształceń danych wejściowych\n",
        "x = data_augmentation(inputs)\n",
        "\n",
        "# Przetwarzanie obrazów wejściowych za pomocą funkcji preprocess_input\n",
        "x = preprocess_input(x)\n",
        "\n",
        "# Obliczanie cech z obrazów wejściowych za pomocą modelu MobileNetV2\n",
        "x = base_model(x, training=False)\n",
        "\n",
        "# Obliczanie uśrednionych cech z wyjść modelu MobileNetV2\n",
        "x = global_average_layer(x)\n",
        "\n",
        "# Zmniejszenie przetrenowania modelu za pomocą warstwy Dropout\n",
        "x = tf.keras.layers.Dropout(0.2)(x)\n",
        "\n",
        "# Obliczanie przewidywanych wartości dla danych wejściowych\n",
        "outputs = prediction_layer(x)\n",
        "\n",
        "# Tworzenie modelu z określonymi powyżej warstwami\n",
        "model = tf.keras.Model(inputs, outputs)\n"
      ]
    },
    {
      "cell_type": "code",
      "execution_count": null,
      "metadata": {
        "colab": {
          "base_uri": "https://localhost:8080/"
        },
        "id": "bL2gxHGEhTm6",
        "outputId": "38ad36d9-3049-40a5-add8-d34d4d9051cf"
      },
      "outputs": [],
      "source": [
        "outputs"
      ]
    },
    {
      "cell_type": "markdown",
      "metadata": {
        "id": "g0ylJXE_kRLi"
      },
      "source": [
        "### Skompiluj model\n",
        "Skompiluj model przed jego trenowaniem. Ponieważ mamy dwie klasy, użyj straty tf.keras.losses.BinaryCrossentropy z parametrem from_logits=True, ponieważ model dostarcza liniową wartość wyjściową."
      ]
    },
    {
      "cell_type": "code",
      "execution_count": null,
      "metadata": {
        "execution": {
          "iopub.execute_input": "2022-12-14T02:23:25.706112Z",
          "iopub.status.busy": "2022-12-14T02:23:25.705850Z",
          "iopub.status.idle": "2022-12-14T02:23:25.721546Z",
          "shell.execute_reply": "2022-12-14T02:23:25.720936Z"
        },
        "id": "RpR8HdyMhukJ"
      },
      "outputs": [],
      "source": [
        "# Kompilacja modelu z określonymi metrykami i hiperparametrami uczenia\n",
        "base_learning_rate = 0.0001\n",
        "model.compile(optimizer=tf.keras.optimizers.Adam(learning_rate=base_learning_rate),\n",
        "              loss=tf.keras.losses.BinaryCrossentropy(from_logits=True),\n",
        "              metrics=['accuracy'])\n"
      ]
    },
    {
      "cell_type": "code",
      "execution_count": null,
      "metadata": {
        "colab": {
          "base_uri": "https://localhost:8080/"
        },
        "execution": {
          "iopub.execute_input": "2022-12-14T02:23:25.724618Z",
          "iopub.status.busy": "2022-12-14T02:23:25.724136Z",
          "iopub.status.idle": "2022-12-14T02:23:25.747107Z",
          "shell.execute_reply": "2022-12-14T02:23:25.746503Z"
        },
        "id": "I8ARiyMFsgbH",
        "outputId": "203be8f8-fbe7-4adf-ef3b-1cb9989f50b4"
      },
      "outputs": [],
      "source": [
        "model.summary()"
      ]
    },
    {
      "cell_type": "markdown",
      "metadata": {
        "id": "lxOcmVr0ydFZ"
      },
      "source": [
        "W MobileNet jest zamrożonych 2,5 miliona parametrów, ale w warstwie Dense jest 1,2 tysiąca parametrów trainable. Są one podzielone między dwa obiekty tf.Variable: wagi i obciążenia."
      ]
    },
    {
      "cell_type": "code",
      "execution_count": null,
      "metadata": {
        "colab": {
          "base_uri": "https://localhost:8080/"
        },
        "execution": {
          "iopub.execute_input": "2022-12-14T02:23:25.752971Z",
          "iopub.status.busy": "2022-12-14T02:23:25.752486Z",
          "iopub.status.idle": "2022-12-14T02:23:25.756767Z",
          "shell.execute_reply": "2022-12-14T02:23:25.756210Z"
        },
        "id": "krvBumovycVA",
        "outputId": "8452664d-0ef6-44e2-b3f5-4a0d49aaf9c2"
      },
      "outputs": [],
      "source": [
        "len(model.trainable_variables)"
      ]
    },
    {
      "cell_type": "markdown",
      "metadata": {
        "id": "RxvgOYTDSWTx"
      },
      "source": [
        "### Wytrenuj model\n",
        "\n",
        "Po przetrenowaniu przez 10 epok powinieneś zobaczyć około 94% dokładności na zbiorze walidacyjnym."
      ]
    },
    {
      "cell_type": "code",
      "execution_count": null,
      "metadata": {
        "colab": {
          "base_uri": "https://localhost:8080/"
        },
        "execution": {
          "iopub.execute_input": "2022-12-14T02:23:25.759945Z",
          "iopub.status.busy": "2022-12-14T02:23:25.759379Z",
          "iopub.status.idle": "2022-12-14T02:23:27.886174Z",
          "shell.execute_reply": "2022-12-14T02:23:27.885432Z"
        },
        "id": "Om4O3EESkab1",
        "outputId": "bf18059f-96ad-47df-a68b-899490ac6ca2"
      },
      "outputs": [],
      "source": [
        "# Określenie liczby epok oraz początkowej wartości funkcji kosztu i metryki dokładności klasyfikacji\n",
        "initial_epochs = 10\n",
        "loss0, accuracy0 = model.evaluate(validation_dataset)\n"
      ]
    },
    {
      "cell_type": "code",
      "execution_count": null,
      "metadata": {
        "colab": {
          "base_uri": "https://localhost:8080/"
        },
        "execution": {
          "iopub.execute_input": "2022-12-14T02:23:27.889379Z",
          "iopub.status.busy": "2022-12-14T02:23:27.889068Z",
          "iopub.status.idle": "2022-12-14T02:23:27.892966Z",
          "shell.execute_reply": "2022-12-14T02:23:27.892375Z"
        },
        "id": "8cYT1c48CuSd",
        "outputId": "7b1e1cad-b086-48ea-cf55-213755d76ab3"
      },
      "outputs": [],
      "source": [
        "print(\"initial loss: {:.2f}\".format(loss0))\n",
        "print(\"initial accuracy: {:.2f}\".format(accuracy0))"
      ]
    },
    {
      "cell_type": "code",
      "execution_count": null,
      "metadata": {
        "colab": {
          "base_uri": "https://localhost:8080/"
        },
        "execution": {
          "iopub.execute_input": "2022-12-14T02:23:27.895893Z",
          "iopub.status.busy": "2022-12-14T02:23:27.895655Z",
          "iopub.status.idle": "2022-12-14T02:24:13.808079Z",
          "shell.execute_reply": "2022-12-14T02:24:13.807311Z"
        },
        "id": "JsaRFlZ9B6WK",
        "outputId": "01be52e0-849c-42b1-c87a-887bd1d5223a"
      },
      "outputs": [],
      "source": [
        "# Trenowanie modelu na danych treningowych przez określoną liczbę epok\n",
        "history = model.fit(train_dataset,\n",
        "                    epochs=initial_epochs,\n",
        "                    validation_data=validation_dataset)\n"
      ]
    },
    {
      "cell_type": "code",
      "execution_count": null,
      "metadata": {
        "colab": {
          "base_uri": "https://localhost:8080/"
        },
        "id": "SG2pAbdGXsWN",
        "outputId": "06aee993-30e8-43fc-b6a4-a7bd5eff96fa"
      },
      "outputs": [],
      "source": [
        "history.history['accuracy']"
      ]
    },
    {
      "cell_type": "markdown",
      "metadata": {
        "id": "Hd94CKImf8vi"
      },
      "source": [
        "## Krzywe uczenia\n",
        "Spójrzmy na krzywe uczenia dotyczące dokładności/strat w trakcie treningu i walidacji, gdy używamy bazy modelu MobileNetV2 jako ustalonego ekstraktora cech."
      ]
    },
    {
      "cell_type": "code",
      "execution_count": null,
      "metadata": {
        "colab": {
          "base_uri": "https://localhost:8080/",
          "height": 718
        },
        "execution": {
          "iopub.execute_input": "2022-12-14T02:24:13.812055Z",
          "iopub.status.busy": "2022-12-14T02:24:13.811522Z",
          "iopub.status.idle": "2022-12-14T02:24:14.064929Z",
          "shell.execute_reply": "2022-12-14T02:24:14.064213Z"
        },
        "id": "53OTCh3jnbwV",
        "outputId": "4a3d700c-180f-4956-f095-a457761c1924"
      },
      "outputs": [],
      "source": [
        "# Wyświetlenie wykresów dokładności klasyfikacji i funkcji kosztu na danych treningowych i walidacyjnych\n",
        "acc = history.history['accuracy']\n",
        "val_acc = history.history['val_accuracy']\n",
        "\n",
        "loss = history.history['loss']\n",
        "val_loss = history.history['val_loss']\n",
        "\n",
        "plt.figure(figsize=(8, 8))\n",
        "plt.subplot(2, 1, 1)\n",
        "plt.plot(acc, label='Training Accuracy')\n",
        "plt.plot(val_acc, label='Validation Accuracy')\n",
        "plt.legend(loc='lower right')\n",
        "plt.ylabel('Accuracy')\n",
        "plt.ylim([min(plt.ylim()),1])\n",
        "plt.title('Training and Validation Accuracy')\n",
        "\n",
        "plt.subplot(2, 1, 2)\n",
        "plt.plot(loss, label='Training Loss')\n",
        "plt.plot(val_loss, label='Validation Loss')\n",
        "plt.legend(loc='upper right')\n",
        "plt.ylabel('Cross Entropy')\n",
        "plt.ylim([0,1.0])\n",
        "plt.title('Training and Validation Loss')\n",
        "plt.xlabel('epoch')\n",
        "plt.show()\n"
      ]
    },
    {
      "cell_type": "markdown",
      "metadata": {
        "id": "foWMyyUHbc1j"
      },
      "source": [
        "Uwaga: Jeśli zastanawiasz się, dlaczego miary walidacji są wyraźnie lepsze niż miary treningowe, głównym czynnikiem jest to, że warstwy takie jak tf.keras.layers.BatchNormalization i tf.keras.layers.Dropout wpływają na dokładność podczas treningu. Są one wyłączone podczas obliczania straty walidacyjnej.\n",
        "\n",
        "W mniejszym stopniu jest to także dlatego, że miary treningowe raportują średnią wartość dla epoki, podczas gdy miary walidacyjne są obliczane po epoce, więc miary walidacyjne widzą model, który został przetrenowany nieco dłużej."
      ]
    },
    {
      "cell_type": "markdown",
      "metadata": {
        "id": "CqwV-CRdS6Nv"
      },
      "source": [
        "##Dopasowywanie modelu\n",
        "W eksperymencie z ekstrakcją cech trenowałeś tylko kilka warstw na bazie modelu MobileNetV2. Wagi wstępnie wyuczonych sieci nie były aktualizowane podczas treningu.\n",
        "\n",
        "Jednym ze sposobów dalszego zwiększenia wydajności jest trenowanie (lub \"dopasowywanie\") wag najlepszych warstw z wstępnie szkolenego modelu wraz z trenowaniem klasyfikatora, który dodałeś. Proces trenowania wymusi dopasowanie wag z map cech ogólnych do cech specyficznych dla zbioru danych.\n",
        "\n",
        "Uwaga: Powinieneś spróbować dopasować wag tylko kilku najlepszych warstw, a nie całego modelu MobileNet. W większości sieci konwolucyjnych im wyższa warstwa, tym bardziej jest specjalizowana. Pierwsze kilka warstw uczy się bardzo prostych i ogólnych cech, które generalizują się do prawie wszystkich rodzajów obrazów. Im wyższa warstwa, tym cechy są coraz bardziej specyficzne dla zbioru danych, na którym model był szkolony. Celem dopasowania jest dostosowanie tych specjalizowanych cech do pracy z nowym zbiorem danych, a nie nadpisanie nauki ogólnych cech."
      ]
    },
    {
      "cell_type": "markdown",
      "metadata": {
        "id": "CPXnzUK0QonF"
      },
      "source": [
        "### Odblokuj górne warstwy modelu\n",
        "\n",
        "\n",
        "\n"
      ]
    },
    {
      "cell_type": "markdown",
      "metadata": {
        "id": "rfxv_ifotQak"
      },
      "source": [
        "Wystarczy odblokować base_model i ustawic dolne warstwy na niewytrenowane. Następnie trzeba przekompilować model (aby te zmiany zaczęły działać) i kontynuować trening.\n",
        "\n",
        "\n",
        "\n"
      ]
    },
    {
      "cell_type": "code",
      "execution_count": null,
      "metadata": {
        "execution": {
          "iopub.execute_input": "2022-12-14T02:24:14.068924Z",
          "iopub.status.busy": "2022-12-14T02:24:14.068654Z",
          "iopub.status.idle": "2022-12-14T02:24:14.075310Z",
          "shell.execute_reply": "2022-12-14T02:24:14.074713Z"
        },
        "id": "4nzcagVitLQm"
      },
      "outputs": [],
      "source": [
        "base_model.trainable = True"
      ]
    },
    {
      "cell_type": "code",
      "execution_count": null,
      "metadata": {
        "colab": {
          "base_uri": "https://localhost:8080/"
        },
        "id": "qw5oynynwvP3",
        "outputId": "a74f0440-6af6-4281-d8ca-5378e5fb52aa"
      },
      "outputs": [],
      "source": [
        "# Wypisanie liczby warstw modelu bazowego\n",
        "print(\"Number of layers in the base model: \", len(base_model.layers))\n"
      ]
    },
    {
      "cell_type": "code",
      "execution_count": null,
      "metadata": {
        "execution": {
          "iopub.execute_input": "2022-12-14T02:24:14.078320Z",
          "iopub.status.busy": "2022-12-14T02:24:14.078055Z",
          "iopub.status.idle": "2022-12-14T02:24:14.084162Z",
          "shell.execute_reply": "2022-12-14T02:24:14.083597Z"
        },
        "id": "-4HgVAacRs5v"
      },
      "outputs": [],
      "source": [
        "\n",
        "# Fine-tuning od tej warstwy w górę\n",
        "fine_tune_at = 100\n",
        "\n",
        "# Zamrożenie wszystkich warstw przed warstwą \"fine_tune_at\"\n",
        "for layer in base_model.layers[:fine_tune_at]:\n",
        "  layer.trainable = False\n"
      ]
    },
    {
      "cell_type": "code",
      "execution_count": null,
      "metadata": {
        "id": "TtzbrqEfXhuT"
      },
      "outputs": [],
      "source": []
    },
    {
      "cell_type": "markdown",
      "metadata": {
        "id": "4Uk1dgsxT0IS"
      },
      "source": [
        "### Skompiluj model\n",
        "\n",
        "Ponieważ trenujemy znacznie większy model i chcemy dostosować wstępnie szkoleniowe wagi, ważne jest, aby w tym etapie użyć niższej szybkości uczenia. W przeciwnym razie model może bardzo szybko zaczynać overfitting."
      ]
    },
    {
      "cell_type": "code",
      "execution_count": null,
      "metadata": {
        "execution": {
          "iopub.execute_input": "2022-12-14T02:24:14.087053Z",
          "iopub.status.busy": "2022-12-14T02:24:14.086820Z",
          "iopub.status.idle": "2022-12-14T02:24:14.099312Z",
          "shell.execute_reply": "2022-12-14T02:24:14.098695Z"
        },
        "id": "NtUnaz0WUDva"
      },
      "outputs": [],
      "source": [
        "# Ustawienie funkcji straty, optymalizatora i metryk dla modelu\n",
        "model.compile(loss=tf.keras.losses.BinaryCrossentropy(from_logits=True),\n",
        "              optimizer = tf.keras.optimizers.RMSprop(learning_rate=base_learning_rate/10),\n",
        "              metrics=['accuracy'])\n"
      ]
    },
    {
      "cell_type": "code",
      "execution_count": null,
      "metadata": {
        "id": "rULXhoFdoMvj"
      },
      "outputs": [],
      "source": []
    },
    {
      "cell_type": "code",
      "execution_count": null,
      "metadata": {
        "colab": {
          "base_uri": "https://localhost:8080/"
        },
        "execution": {
          "iopub.execute_input": "2022-12-14T02:24:14.102434Z",
          "iopub.status.busy": "2022-12-14T02:24:14.101905Z",
          "iopub.status.idle": "2022-12-14T02:24:14.125780Z",
          "shell.execute_reply": "2022-12-14T02:24:14.125107Z"
        },
        "id": "WwBWy7J2kZvA",
        "outputId": "3f5d191c-fc14-4e88-f4dc-1a5c0ba0248e"
      },
      "outputs": [],
      "source": [
        "model.summary()"
      ]
    },
    {
      "cell_type": "code",
      "execution_count": null,
      "metadata": {
        "colab": {
          "base_uri": "https://localhost:8080/"
        },
        "execution": {
          "iopub.execute_input": "2022-12-14T02:24:14.130128Z",
          "iopub.status.busy": "2022-12-14T02:24:14.129605Z",
          "iopub.status.idle": "2022-12-14T02:24:14.134170Z",
          "shell.execute_reply": "2022-12-14T02:24:14.133567Z"
        },
        "id": "bNXelbMQtonr",
        "outputId": "a6b9b791-e620-4864-e1d1-75543812d949"
      },
      "outputs": [],
      "source": [
        "history.epoch[-1]"
      ]
    },
    {
      "cell_type": "markdown",
      "metadata": {
        "id": "4G5O4jd6TuAG"
      },
      "source": [
        "### Kontynuuj trenowanie modelu\n",
        "\n",
        "\n"
      ]
    },
    {
      "cell_type": "code",
      "execution_count": null,
      "metadata": {
        "colab": {
          "base_uri": "https://localhost:8080/"
        },
        "execution": {
          "iopub.execute_input": "2022-12-14T02:24:14.137277Z",
          "iopub.status.busy": "2022-12-14T02:24:14.136869Z",
          "iopub.status.idle": "2022-12-14T02:25:17.156295Z",
          "shell.execute_reply": "2022-12-14T02:25:17.155528Z"
        },
        "id": "ECQLkAsFTlun",
        "outputId": "71e82c3e-5440-4aa4-d9ba-2e66f4e806b3"
      },
      "outputs": [],
      "source": [
        "# Fine-tuning modelu i kontynuacja treningu\n",
        "fine_tune_epochs = 10\n",
        "total_epochs =  initial_epochs + fine_tune_epochs\n",
        "\n",
        "history_fine = model.fit(train_dataset,\n",
        "                         epochs=total_epochs,\n",
        "                         initial_epoch=history.epoch[-1],\n",
        "                         validation_data=validation_dataset)\n"
      ]
    },
    {
      "cell_type": "code",
      "execution_count": null,
      "metadata": {
        "colab": {
          "base_uri": "https://localhost:8080/"
        },
        "id": "s7PKTXpmxkny",
        "outputId": "df5dce30-eb40-4498-a6fe-375c15d94053"
      },
      "outputs": [],
      "source": [
        "acc"
      ]
    },
    {
      "cell_type": "code",
      "execution_count": null,
      "metadata": {
        "execution": {
          "iopub.execute_input": "2022-12-14T02:25:17.160415Z",
          "iopub.status.busy": "2022-12-14T02:25:17.159823Z",
          "iopub.status.idle": "2022-12-14T02:25:17.164063Z",
          "shell.execute_reply": "2022-12-14T02:25:17.163333Z"
        },
        "id": "PpA8PlpQKygw"
      },
      "outputs": [],
      "source": [
        "# Obliczanie dokładności i straty podczas fine-tuningu\n",
        "acc += history_fine.history['accuracy']\n",
        "val_acc += history_fine.history['val_accuracy']\n",
        "\n",
        "loss += history_fine.history['loss']\n",
        "val_loss += history_fine.history['val_loss']\n"
      ]
    },
    {
      "cell_type": "code",
      "execution_count": null,
      "metadata": {
        "colab": {
          "base_uri": "https://localhost:8080/",
          "height": 718
        },
        "execution": {
          "iopub.execute_input": "2022-12-14T02:25:17.167642Z",
          "iopub.status.busy": "2022-12-14T02:25:17.167114Z",
          "iopub.status.idle": "2022-12-14T02:25:17.482292Z",
          "shell.execute_reply": "2022-12-14T02:25:17.481655Z"
        },
        "id": "chW103JUItdk",
        "outputId": "90f139fa-89ce-4779-8f69-4601f31e206f"
      },
      "outputs": [],
      "source": [
        "# Wizualizacja wyników fine-tuningu\n",
        "plt.figure(figsize=(8, 8))\n",
        "plt.subplot(2, 1, 1)\n",
        "plt.plot(acc, label='Training Accuracy')\n",
        "plt.plot(val_acc, label='Validation Accuracy')\n",
        "plt.ylim([0.8, 1])\n",
        "plt.plot([initial_epochs-1,initial_epochs-1], plt.ylim(), label='Start Fine Tuning')\n",
        "plt.legend(loc='lower right')\n",
        "plt.title('Training and Validation Accuracy')\n",
        "\n",
        "plt.subplot(2, 1, 2)\n",
        "plt.plot(loss, label='Training Loss')\n",
        "plt.plot(val_loss, label='Validation Loss')\n",
        "plt.ylim([0, 1.0])\n",
        "plt.plot([initial_epochs-1,initial_epochs-1], plt.ylim(), label='Start Fine Tuning')\n",
        "plt.legend(loc='upper right')\n",
        "plt.title('Training and Validation Loss')\n",
        "plt.xlabel('epoch')\n",
        "plt.show()\n"
      ]
    },
    {
      "cell_type": "markdown",
      "metadata": {
        "id": "R6cWgjgfrsn5"
      },
      "source": [
        "### Ocena i predykcja\n",
        "\n",
        "\n"
      ]
    },
    {
      "cell_type": "code",
      "execution_count": null,
      "metadata": {
        "colab": {
          "base_uri": "https://localhost:8080/"
        },
        "execution": {
          "iopub.execute_input": "2022-12-14T02:25:17.487345Z",
          "iopub.status.busy": "2022-12-14T02:25:17.486660Z",
          "iopub.status.idle": "2022-12-14T02:25:17.659574Z",
          "shell.execute_reply": "2022-12-14T02:25:17.658880Z"
        },
        "id": "2KyNhagHwfar",
        "outputId": "bfd98ab6-2747-4a69-d90f-47520444bc99"
      },
      "outputs": [],
      "source": [
        "# Ewaluacja modelu na zbiorze testowym\n",
        "loss, accuracy = model.evaluate(test_dataset)\n",
        "print('Test accuracy :', accuracy)\n"
      ]
    },
    {
      "cell_type": "code",
      "execution_count": null,
      "metadata": {
        "id": "L0egi5QcDibz"
      },
      "outputs": [],
      "source": [
        "\n",
        "# Predykcja na zbiorze testowym\n",
        "image_batch, label_batch = test_dataset.as_numpy_iterator().next()\n",
        "predictions = model.predict_on_batch(image_batch).flatten()"
      ]
    },
    {
      "cell_type": "code",
      "execution_count": null,
      "metadata": {
        "colab": {
          "base_uri": "https://localhost:8080/"
        },
        "id": "4jZ90dndY2tc",
        "outputId": "cd19a89e-47e5-4d6b-c04b-67140244ee51"
      },
      "outputs": [],
      "source": [
        "predictions"
      ]
    },
    {
      "cell_type": "code",
      "execution_count": null,
      "metadata": {
        "id": "ktKoSdf6yF0L"
      },
      "outputs": [],
      "source": [
        "\n",
        "\n",
        "# Zastosowanie funkcji sigmoidalnej, ponieważ model zwraca logity\n",
        "predictions = tf.nn.sigmoid(predictions)"
      ]
    },
    {
      "cell_type": "code",
      "execution_count": null,
      "metadata": {
        "colab": {
          "base_uri": "https://localhost:8080/"
        },
        "id": "PLWHCx6_yJyt",
        "outputId": "fd839d52-1376-4979-9d95-b0c96dca200f"
      },
      "outputs": [],
      "source": [
        "predictions"
      ]
    },
    {
      "cell_type": "code",
      "execution_count": null,
      "metadata": {
        "colab": {
          "base_uri": "https://localhost:8080/",
          "height": 333
        },
        "id": "UPqeQb7NyOQF",
        "outputId": "8170034b-a900-4ee9-de5e-aa387e61fd37"
      },
      "outputs": [],
      "source": [
        "predictions = tf.where(predictions < 0.5, 0, 1)"
      ]
    },
    {
      "cell_type": "code",
      "execution_count": null,
      "metadata": {
        "id": "MT9X_jXuyYdt"
      },
      "outputs": [],
      "source": [
        "predictions"
      ]
    },
    {
      "cell_type": "code",
      "execution_count": null,
      "metadata": {
        "execution": {
          "iopub.execute_input": "2022-12-14T02:25:17.663199Z",
          "iopub.status.busy": "2022-12-14T02:25:17.662594Z",
          "iopub.status.idle": "2022-12-14T02:25:19.299734Z",
          "shell.execute_reply": "2022-12-14T02:25:19.298992Z"
        },
        "id": "RUNoQNgtfNgt"
      },
      "outputs": [],
      "source": [
        "\n",
        "\n",
        "print('Predictions:\\n', predictions.numpy())\n",
        "print('Labels:\\n', label_batch)\n",
        "\n",
        "plt.figure(figsize=(10, 10))\n",
        "for i in range(9):\n",
        "  ax = plt.subplot(3, 3, i + 1)\n",
        "  plt.imshow(image_batch[i].astype(\"uint8\"))\n",
        "  plt.title(class_names[predictions[i]])\n",
        "  plt.axis(\"off\")\n"
      ]
    },
    {
      "cell_type": "code",
      "execution_count": null,
      "metadata": {
        "id": "mNxvECTGzITF"
      },
      "outputs": [],
      "source": []
    }
  ],
  "metadata": {
    "accelerator": "GPU",
    "colab": {
      "provenance": []
    },
    "kernelspec": {
      "display_name": "Python 3",
      "name": "python3"
    },
    "language_info": {
      "codemirror_mode": {
        "name": "ipython",
        "version": 3
      },
      "file_extension": ".py",
      "mimetype": "text/x-python",
      "name": "python",
      "nbconvert_exporter": "python",
      "pygments_lexer": "ipython3",
      "version": "3.9.16"
    }
  },
  "nbformat": 4,
  "nbformat_minor": 0
}
