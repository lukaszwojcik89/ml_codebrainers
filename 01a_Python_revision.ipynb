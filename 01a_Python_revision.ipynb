{
 "cells": [
  {
   "cell_type": "markdown",
   "id": "b57946c1",
   "metadata": {},
   "source": [
    "# Powtórka Pythona&#x20;\n",
    "\n",
    "&#x20;\n",
    "\n",
    "**Plan zajęć / Zakres materiału:**\n",
    "\n",
    "* **Struktury danych i typy zmiennych:** liczby, łańcuchy, listy, słowniki, tuple – z przykładami użycia.\n",
    "* **Instrukcje sterujące:** instrukcje warunkowe (`if/elif/else`), pętle (`for`, `while`), użycie `break` i `continue`.\n",
    "* **Debugging i obsługa wyjątków:** metody diagnozowania błędów (np. `print` do podglądu danych), obsługa wyjątków przy pomocy `try/except`.\n",
    "* **Funkcje:** definicja funkcji, argumenty pozycyjne i nazwane, wartości domyślne, zwracanie wyników.\n",
    "* **Modularność kodu:** organizacja kodu w moduły, użycie instrukcji `import`, korzystanie z wbudowanych bibliotek (np. `math`, `random`).\n",
    "* **Programowanie obiektowe (OOP):** definiowanie klas, metoda `__init__`, tworzenie atrybutów i metod, koncepcja dziedziczenia i polimorfizmu.\n",
    "* **Czysty kod:** konwencje stylu PEP8, czytelność kodu, list comprehension, podstawy refaktoryzacji kodu dla przejrzystości i efektywności."
   ]
  },
  {
   "cell_type": "markdown",
   "id": "598834ff",
   "metadata": {},
   "source": [
    "\n",
    "## Struktury danych i typy zmiennych\n",
    "\n",
    "Python jest językiem o dynamicznym typowaniu, co oznacza, że zmienne nie mają na sztywno określonego typu – typ wynika z przypisanej wartości. Omówimy najważniejsze wbudowane typy danych i struktury danych:\n",
    "\n",
    "<br />\n",
    "\n",
    "* **Liczby (`int`,** **`float`):** Reprezentują odpowiednio liczby całkowite i zmiennoprzecinkowe. Python automatycznie dobiera typ liczbowy; nie ma ograniczenia wielkości `int` (poza pamięcią), a `float` to liczba w podwójnej precyzji (64-bit). Istnieje także typ `bool` (logiczny) przyjmujący wartości `True/False` (podtyp `int`).\n",
    "\n",
    "<br />\n",
    "\n",
    "* **Łańcuchy znaków (`str`):** Teksty, ciągi znaków ujęte w cudzysłów pojedynczy lub podwójny. Są **niemutowalne** (immutable), tzn. nie można zmienić pojedynczego znaku w już utworzonym łańcuchu. Umożliwiają operacje takie jak łączenie (konkatenacja), powielanie (`\"ab\" * 3 -> \"ababab\"`), czy wycinanie podciągów (slicing).\n",
    "\n",
    "<br />\n",
    "\n",
    "* **Listy (`list`):** Uniwersalne sekwencje elementów o zmiennej długości. Listy są **mutowalne** – można zmieniać ich elementy, dodawać nowe (`append`), usuwać istniejące. Tworzymy je za pomocą nawiasów kwadratowych, np. `[1, 2, 3]`. Mogą przechowywać elementy różnych typów jednocześnie.\n",
    "\n",
    "<br />\n",
    "\n",
    "* **Słowniki (`dict`):** Struktury przechowujące pary klucz-wartość. Pozwalają na szybkie wyszukiwanie wartości na podstawie klucza (hash map). Tworzymy je notacją `{klucz: wartość}`, np. `{\"name\": \"Alice\", \"age\": 30}`. Klucze muszą być typami niezmiennymi (np. `str`, `int`, `tuple`), wartości mogą być dowolnego typu. Słowniki są mutowalne (można dodawać, usuwać, zmieniać pary).\n",
    "\n",
    "<br />\n",
    "\n",
    "* **Krotki (`tuple`):** Sekwencje niemutowalne, podobne do list, ale ich elementów nie można zmienić po utworzeniu. Tworzymy je za pomocą nawiasów okrągłych, np. `(10, 20, 30)`. Często używane do przechowywania ustalonych zestawów wartości (np. współrzędne punktu) lub jako zwracane wartości funkcji (krotka wielu wyników).\n",
    "\n",
    "<br />"
   ]
  },
  {
   "cell_type": "markdown",
   "id": "5e47d1d5",
   "metadata": {},
   "source": [
    "\n",
    "\n",
    "Poniżej kilka przykładów tworzenia zmiennych różnych typów i demonstracja operacji na nich:\n"
   ]
  },
  {
   "cell_type": "code",
   "execution_count": 7,
   "id": "42593ad2",
   "metadata": {},
   "outputs": [
    {
     "name": "stdout",
     "output_type": "stream",
     "text": [
      "15\n",
      "6.28\n",
      "<class 'int'>\n",
      "<class 'float'>\n"
     ]
    }
   ],
   "source": [
    "## Przykłady różnych typów danych w Pythonie:\n",
    "\n",
    "### Liczby\n",
    "a = 10          # int (liczba całkowita)\n",
    "b = 3.14        # float (liczba zmiennoprzecinkowa)\n",
    "print(a + 5)    # Dodawanie liczby całkowitej -> wynik: 15\n",
    "print(b * 2)    # Mnożenie float -> wynik: 6.28\n",
    "print(type(a))  # Sprawdzenie typu zmiennej a -> <class 'int'>\n",
    "print(type(b))  # Sprawdzenie typu zmiennej b -> <class 'float'>\n"
   ]
  },
  {
   "cell_type": "code",
   "execution_count": null,
   "id": "6aca5a28",
   "metadata": {},
   "outputs": [
    {
     "name": "stdout",
     "output_type": "stream",
     "text": [
      "Witaj, Python!\n",
      "yth\n",
      "PYTHON\n",
      "6\n"
     ]
    }
   ],
   "source": [
    "\n",
    "# Łańcuchy znaków\n",
    "name = \"Python\"\n",
    "greeting = \"Witaj, \" + name + \"!\"\n",
    "print(greeting)       # Łączenie napisów (konkatenacja) -> wynik: \"Witaj, Python!\"\n",
    "print(name[1:4])      # Slicing (wycinek łańcucha) -> wynik: \"yth\" (znaki od indeksu 1 do 3)\n",
    "print(name.upper())   # Metoda łańcucha - zamiana na wielkie litery -> \"PYTHON\"\n",
    "print(len(name))      # Funkcja len() zwraca długość łańcucha -> 6\n"
   ]
  },
  {
   "cell_type": "code",
   "execution_count": null,
   "id": "85aab48b",
   "metadata": {},
   "outputs": [
    {
     "ename": "TypeError",
     "evalue": "'str' object does not support item assignment",
     "output_type": "error",
     "traceback": [
      "\u001b[1;31m---------------------------------------------------------------------------\u001b[0m",
      "\u001b[1;31mTypeError\u001b[0m                                 Traceback (most recent call last)",
      "Cell \u001b[1;32mIn[13], line 1\u001b[0m\n\u001b[1;32m----> 1\u001b[0m \u001b[43mname\u001b[49m\u001b[43m[\u001b[49m\u001b[38;5;241;43m0\u001b[39;49m\u001b[43m]\u001b[49m\u001b[38;5;241m=\u001b[39m \u001b[38;5;124m'\u001b[39m\u001b[38;5;124mp\u001b[39m\u001b[38;5;124m'\u001b[39m\n",
      "\u001b[1;31mTypeError\u001b[0m: 'str' object does not support item assignment"
     ]
    }
   ],
   "source": [
    "name[0]= 'p' # Błąd! Łańcuchy znaków są niemodyfikowalne (immutable)"
   ]
  },
  {
   "cell_type": "code",
   "execution_count": 14,
   "id": "ce71ce0c",
   "metadata": {},
   "outputs": [
    {
     "name": "stdout",
     "output_type": "stream",
     "text": [
      "[1, 2, 3, 4, 5]\n",
      "3\n",
      "[10, 2, 3, 4, 5]\n",
      "5\n"
     ]
    }
   ],
   "source": [
    "\n",
    "# Listy\n",
    "numbers = [1, 2, 3, 4]\n",
    "numbers.append(5)       # Dodanie elementu na końcu listy\n",
    "print(numbers)          # Aktualna lista -> [1, 2, 3, 4, 5]\n",
    "print(numbers[2])       # Dostęp do elementu o indeksie 2 -> 3 (licząc od 0)\n",
    "numbers[0] = 10         # Modyfikacja elementu o indeksie 0\n",
    "print(numbers)          # Lista po modyfikacji -> [10, 2, 3, 4, 5]\n",
    "print(len(numbers))     # Długość listy -> 5"
   ]
  },
  {
   "cell_type": "code",
   "execution_count": 15,
   "id": "8556e3c3",
   "metadata": {},
   "outputs": [
    {
     "name": "stdout",
     "output_type": "stream",
     "text": [
      "[10, 2, 3, 4, 5, [2, 3]]\n"
     ]
    }
   ],
   "source": [
    "numbers.append([2,3]) # Dodanie listy jako elementu\n",
    "print(numbers)          # Lista po dodaniu innej listy -> [10, 2, 3, 4, 5, [2, 3]]"
   ]
  },
  {
   "cell_type": "code",
   "execution_count": 16,
   "id": "43dca903",
   "metadata": {},
   "outputs": [
    {
     "name": "stdout",
     "output_type": "stream",
     "text": [
      "[10, 2, 3, 4, 5, [2, 3], 6, 7]\n"
     ]
    }
   ],
   "source": [
    "numbers.extend([6, 7])  # Dodanie wielu elementów do listy\n",
    "print(numbers)          # Lista po rozszerzeniu -> [10, 2, 3, 4, 5, [2, 3], 6, 7]"
   ]
  },
  {
   "cell_type": "code",
   "execution_count": 17,
   "id": "ab466099",
   "metadata": {},
   "outputs": [
    {
     "name": "stdout",
     "output_type": "stream",
     "text": [
      "P\n",
      "y\n",
      "t\n",
      "h\n",
      "o\n",
      "n\n"
     ]
    }
   ],
   "source": [
    "for char in name:\n",
    "    print(char)  # Iteracja po znakach w łańcuchu 'name'"
   ]
  },
  {
   "cell_type": "code",
   "execution_count": null,
   "id": "f5624f74",
   "metadata": {},
   "outputs": [
    {
     "name": "stdout",
     "output_type": "stream",
     "text": [
      "10\n",
      "2\n",
      "3\n",
      "4\n",
      "5\n"
     ]
    }
   ],
   "source": [
    "# Iteracja po liście:\n",
    "for x in numbers:\n",
    "    print(x)            # Wydruk kolejnych elementów: 10, 2, 3, 4, 5"
   ]
  },
  {
   "cell_type": "code",
   "execution_count": 20,
   "id": "ae259ff3",
   "metadata": {},
   "outputs": [
    {
     "name": "stdout",
     "output_type": "stream",
     "text": [
      "Alice\n",
      "{'name': 'Alice', 'age': 31, 'city': 'Warsaw'}\n",
      "dict_keys(['name', 'age', 'city'])\n",
      "dict_values(['Alice', 31, 'Warsaw'])\n",
      "dict_items([('name', 'Alice'), ('age', 31), ('city', 'Warsaw')])\n",
      "True\n",
      "Alice\n"
     ]
    }
   ],
   "source": [
    "\n",
    "\n",
    "# Słowniki\n",
    "person = {\"name\": \"Alice\", \"age\": 30}\n",
    "print(person[\"name\"])        # Dostęp do wartości po kluczu -> \"Alice\"\n",
    "person[\"age\"] = 31           # Modyfikacja wartości dla klucza \"age\"\n",
    "person[\"city\"] = \"Warsaw\"    # Dodanie nowej pary klucz-wartość\n",
    "print(person)                # Aktualny słownik -> {\"name\": \"Alice\", \"age\": 31, \"city\": \"Warsaw\"}\n",
    "print(person.keys())         # Lista kluczy -> dict_keys(['name', 'age', 'city'])\n",
    "print(person.values())\n",
    "print(person.items())       # Lista wartości -> dict_values(['Alice', 31, 'Warsaw'])\n",
    "print(\"name\" in person)      # Sprawdzenie, czy klucz \"name\" jest w słowniku -> True\n",
    "\n",
    "print(person.get(\"name\"))  # Bezpieczny dostęp do wartości, jeśli klucz nie istnieje -> \"Alice\""
   ]
  },
  {
   "cell_type": "code",
   "execution_count": 23,
   "id": "e780848b",
   "metadata": {},
   "outputs": [
    {
     "data": {
      "text/plain": [
       "'unknown'"
      ]
     },
     "execution_count": 23,
     "metadata": {},
     "output_type": "execute_result"
    }
   ],
   "source": [
    "person.get('gender', 'unknown')  # Zwraca 'unknown"
   ]
  },
  {
   "cell_type": "code",
   "execution_count": null,
   "id": "b85b3595",
   "metadata": {},
   "outputs": [
    {
     "ename": "TypeError",
     "evalue": "'tuple' object does not support item assignment",
     "output_type": "error",
     "traceback": [
      "\u001b[1;31m---------------------------------------------------------------------------\u001b[0m",
      "\u001b[1;31mTypeError\u001b[0m                                 Traceback (most recent call last)",
      "Cell \u001b[1;32mIn[25], line 4\u001b[0m\n\u001b[0;32m      2\u001b[0m point \u001b[38;5;241m=\u001b[39m (\u001b[38;5;241m10\u001b[39m, \u001b[38;5;241m20\u001b[39m)\n\u001b[0;32m      3\u001b[0m x_coord \u001b[38;5;241m=\u001b[39m point[\u001b[38;5;241m0\u001b[39m]           \u001b[38;5;66;03m# Dostęp do elementu krotki (indeks 0) -> 10\u001b[39;00m\n\u001b[1;32m----> 4\u001b[0m \u001b[43mpoint\u001b[49m\u001b[43m[\u001b[49m\u001b[38;5;241;43m0\u001b[39;49m\u001b[43m]\u001b[49m \u001b[38;5;241m=\u001b[39m \u001b[38;5;241m15\u001b[39m              \u001b[38;5;66;03m# BŁĄD: próba modyfikacji krotki zakończy się wyjątkiem (TypeError)\u001b[39;00m\n\u001b[0;32m      5\u001b[0m \u001b[38;5;28mprint\u001b[39m(point)                 \u001b[38;5;66;03m# Krotki można normalnie wypisywać -> (10, 20)\u001b[39;00m\n",
      "\u001b[1;31mTypeError\u001b[0m: 'tuple' object does not support item assignment"
     ]
    }
   ],
   "source": [
    "# Krotki\n",
    "point = (10, 20)\n",
    "x_coord = point[0]           # Dostęp do elementu krotki (indeks 0) -> 10\n",
    "# point[0] = 15              # BŁĄD: próba modyfikacji krotki zakończy się wyjątkiem (TypeError)\n",
    "print(point)                 # Krotki można normalnie wypisywać -> (10, 20)\n"
   ]
  },
  {
   "cell_type": "code",
   "execution_count": 27,
   "id": "843f54ec",
   "metadata": {},
   "outputs": [
    {
     "name": "stdout",
     "output_type": "stream",
     "text": [
      "{'banana', 'apple', 'cherry'}\n"
     ]
    }
   ],
   "source": [
    "# Zbiory (sets) w pythonie\n",
    "\n",
    "fruits = {\"apple\", \"banana\", \"cherry\", \"apple\"}  # Zbiory nie przechowują duplikatów\n",
    "print(fruits)               # Wydruk zbioru -> {'banana', 'apple', 'cherry'}"
   ]
  },
  {
   "cell_type": "markdown",
   "id": "e75877ea",
   "metadata": {},
   "source": [
    "W powyższych przykładach widać podstawowe właściwości typów danych:\n",
    "\n",
    "* Możemy wykonywać operacje arytmetyczne na liczbach (`+`, , etc.).\n",
    "* Na łańcuchach dostępne są metody (np. `upper()`) i operacje (slicing).\n",
    "* Listy pozwalają na dynamiczne zmiany zawartości (dodawanie/usuwanie/modyfikację elementów).\n",
    "* Słowniki umożliwiają szybki dostęp do wartości poprzez klucze.\n",
    "* Krotki są podobne do list, ale niezmienialne – próba modyfikacji `point[0]` wywołuje błąd.\n",
    "\n",
    "> Najważniejsze do zapamiętania: Python posiada bogaty zestaw wbudowanych struktur danych. Listy, słowniki i krotki są często używane w codziennym kodowaniu. Warto znać metody i operacje dla każdej z tych struktur (np. append dla list, metody dostępu dla słowników, operator in do sprawdzania przynależności, itp.)."
   ]
  },
  {
   "cell_type": "markdown",
   "id": "d3497da8",
   "metadata": {},
   "source": [
    "\n",
    "## Instrukcje sterujące (warunki i pętle)\n",
    "\n",
    "Instrukcje sterujące pozwalają zmieniać przepływ wykonywania programu w zależności od warunków lub poprzez powtarzanie określonych czynności. W Pythonie kluczowymi elementami są:"
   ]
  },
  {
   "cell_type": "markdown",
   "id": "ab440b6a",
   "metadata": {},
   "source": [
    "\n",
    "\n",
    "### Instrukcje warunkowe (`if`, `elif`, `else`)\n",
    "\n",
    "Pozwalają wykonać pewien blok kodu tylko wtedy, gdy spełniony jest dany warunek logiczny. Składnia w Pythonie opiera się na dwukropku i wcięciach oznaczających blok kodu. Przykład użycia:\n"
   ]
  },
  {
   "cell_type": "code",
   "execution_count": 32,
   "id": "83ef9cf4",
   "metadata": {},
   "outputs": [
    {
     "name": "stdout",
     "output_type": "stream",
     "text": [
      "x jest ujemny\n"
     ]
    }
   ],
   "source": [
    "x = -2\n",
    "if x > 0:\n",
    "    print(\"x jest dodatni\")\n",
    "elif x == 0:\n",
    "    print(\"x jest równy zero\")\n",
    "else:\n",
    "    print(\"x jest ujemny\")\n",
    "# Wynik: \"x jest dodatni\""
   ]
  },
  {
   "cell_type": "markdown",
   "id": "99188496",
   "metadata": {},
   "source": [
    "\n",
    "\n",
    "W powyższym kodzie:\n",
    "\n",
    "* Jeśli warunek `x > 0` jest prawdziwy, wykonywany jest **tylko** pierwszy blok za `if`.\n",
    "* Jeśli pierwszy warunek jest fałszywy, sprawdzany jest kolejny (`elif x == 0`). Gdy ten okaże się prawdziwy – wykona się blok `elif`.\n",
    "* Jeśli żaden z poprzednich warunków nie był spełniony, wykonuje się blok `else`."
   ]
  },
  {
   "cell_type": "markdown",
   "id": "76a75f8d",
   "metadata": {},
   "source": [
    "\n",
    "Możemy używać dowolnych wyrażeń logicznych w warunkach (`>`, `<`, `==`, `!=`, `>=`, `<=` oraz złożonych warunków z `and`, `or`, `not`). Python traktuje też niektóre wartości jako fałszywe w kontekście logicznym: `0`, `0.0`, `False`, pusty string `\"\"`, pustą listę `[]`, pusty słownik `{}` itp. – można to wykorzystywać w skróconej formie warunków. Np. `if my_list:` oznacza *jeśli lista nie jest pusta*."
   ]
  },
  {
   "cell_type": "markdown",
   "id": "372fb447",
   "metadata": {},
   "source": [
    "\n",
    "### Pętle (`for` i `while`)\n",
    "\n",
    "Pętle służą do powtarzania pewnych czynności wiele razy."
   ]
  },
  {
   "cell_type": "markdown",
   "id": "e597ce3c",
   "metadata": {},
   "source": [
    "\n",
    "* **Pętla** **`for`** w Pythonie iteruje po elementach dowolnej sekwencji (lub innego obiektu iterowalnego). Przykład:"
   ]
  },
  {
   "cell_type": "code",
   "execution_count": 40,
   "id": "bb80869c",
   "metadata": {},
   "outputs": [
    {
     "name": "stdout",
     "output_type": "stream",
     "text": [
      "Fruit: apple\n",
      "Fruit: banana\n",
      "Fruit: cherry\n"
     ]
    }
   ],
   "source": [
    "fruits = [\"apple\", \"banana\", \"cherry\"]\n",
    "for fruit in fruits:\n",
    "    print(\"Fruit:\", fruit)\n",
    "# Wynik:\n",
    "# Fruit: apple\n",
    "# Fruit: banana\n",
    "# Fruit: cherry\n"
   ]
  },
  {
   "cell_type": "markdown",
   "id": "a5d1dab0",
   "metadata": {},
   "source": [
    "  Pętla for pobiera kolejne elementy z listy `fruits` i przypisuje je do zmiennej `fruit`, po czym wykonuje blok kodu (tutaj `print`).\n",
    "\n",
    "  Można też używać `for` z funkcją `range()` do wygenerowania ciągu liczb:"
   ]
  },
  {
   "cell_type": "code",
   "execution_count": 44,
   "id": "e79c5a24",
   "metadata": {},
   "outputs": [
    {
     "name": "stdout",
     "output_type": "stream",
     "text": [
      "[0, 1, 2, 3, 4]\n"
     ]
    }
   ],
   "source": [
    "range(0,5,2) # Funkcja range() generuje sekwencję liczb od 0 do 4\n",
    "print(list(range(0, 5)))  # Wydrukuje: [0, 2, 4]"
   ]
  },
  {
   "cell_type": "code",
   "execution_count": 45,
   "id": "f897901e",
   "metadata": {},
   "outputs": [
    {
     "name": "stdout",
     "output_type": "stream",
     "text": [
      "0\n",
      "1\n",
      "2\n",
      "3\n",
      "4\n"
     ]
    }
   ],
   "source": [
    "  for i in range(5):\n",
    "      print(i)\n",
    "  # Wynik: 0, 1, 2, 3, 4"
   ]
  },
  {
   "cell_type": "markdown",
   "id": "d7b9d701",
   "metadata": {},
   "source": [
    "Funkcja `range(5)` generuje liczby 0..4. Inne warianty: `range(start, stop, step)`.\n",
    "* **Pętla** **`while`** powtarza blok kodu dopóki warunek logiczny jest spełniony:"
   ]
  },
  {
   "cell_type": "code",
   "execution_count": 46,
   "id": "289042cc",
   "metadata": {},
   "outputs": [
    {
     "name": "stdout",
     "output_type": "stream",
     "text": [
      "Loop iteration: 0\n",
      "Loop iteration: 1\n",
      "Loop iteration: 2\n"
     ]
    }
   ],
   "source": [
    "count = 0\n",
    "while count < 3:\n",
    "    print(\"Loop iteration:\", count)\n",
    "    count += 1  # zwiększamy count, aby zbliżać się do warunku zakończenia\n",
    "# Wynik:\n",
    "# Loop iteration: 0\n",
    "# Loop iteration: 1\n",
    "# Loop iteration: 2\n",
    "\n"
   ]
  },
  {
   "cell_type": "markdown",
   "id": "eb31b7b6",
   "metadata": {},
   "source": [
    "  Powyższa pętla wykona się dopóki zmienna `count` jest mniejsza od 3. Pamiętaj, aby **zmieniać** warunek wewnątrz pętli `while` (np. inkrementować licznik), w przeciwnym razie może powstać nieskończona pętla."
   ]
  },
  {
   "cell_type": "markdown",
   "id": "49d34932",
   "metadata": {},
   "source": [
    "\n",
    "\n",
    "### Użycie `break` i `continue`\n",
    "\n",
    "* **`break`** – natychmiast przerywa wykonywanie pętli, wychodząc z niej całkowicie. Przydatne, gdy np. znaleźliśmy to, czego szukaliśmy i nie ma sensu kontynuować iteracji.\n",
    "* **`continue`** – przerywa **bieżącą** iterację pętli i przechodzi do następnej, pomijając resztę kodu w pętli dla aktualnej iteracji."
   ]
  },
  {
   "cell_type": "markdown",
   "id": "6896a0f9",
   "metadata": {},
   "source": [
    "\n",
    "\n",
    "\n",
    "\n",
    "Przykład wykorzystania `break` i `continue`:"
   ]
  },
  {
   "cell_type": "code",
   "execution_count": 47,
   "id": "f47ca243",
   "metadata": {},
   "outputs": [
    {
     "name": "stdout",
     "output_type": "stream",
     "text": [
      "Znaleziono pierwszą liczbę podzielną przez 7: 21\n"
     ]
    }
   ],
   "source": [
    "# Szukanie liczby podzielnej przez 7 w liscie, przerwanie po znalezieniu\n",
    "numbers = [13, 8, 6, 21, 18, 7, 10]\n",
    "for num in numbers:\n",
    "    if num % 7 == 0:\n",
    "        print(\"Znaleziono pierwszą liczbę podzielną przez 7:\", num)\n",
    "        break  # wyjście z pętli, znaleźliśmy to, czego chcieliśmy\n",
    "# Wynik: \"Znaleziono pierwszą liczbę podzielną przez 7: 21\""
   ]
  },
  {
   "cell_type": "code",
   "execution_count": 51,
   "id": "17ef462d",
   "metadata": {},
   "outputs": [
    {
     "name": "stdout",
     "output_type": "stream",
     "text": [
      "0 jest parzyste\n",
      "2 jest parzyste\n",
      "4 jest parzyste\n",
      "6 jest parzyste\n",
      "8 jest parzyste\n",
      "10 jest parzyste\n"
     ]
    }
   ],
   "source": [
    "\n",
    "# Wypisywanie tylko liczb parzystych z zakresu 0-10\n",
    "for i in range(11):\n",
    "    if i % 2 != 0:\n",
    "        continue  # pomiń nieparzyste\n",
    "    print(i, \"jest parzyste\")\n"
   ]
  },
  {
   "cell_type": "markdown",
   "id": "e3e9d01e",
   "metadata": {},
   "source": [
    "\n",
    "\n",
    "W pierwszej pętli `for` szukamy pierwszej liczby podzielnej przez 7. Gdy zostanie znaleziona (`21`), drukujemy ją i używamy `break` do natychmiastowego zakończenia pętli (dalsze liczby nie są już sprawdzane).\n",
    "\n",
    "W drugiej pętli `for` iterujemy `0..10` i wypisujemy tylko liczby parzyste. Gdy liczba `i` jest nieparzysta (`i % 2 != 0`), wykonuje się `continue`, które **pomija resztę kodu** (tu `print`) dla tej iteracji i przechodzi do kolejnej wartości `i`. Dzięki temu drukujemy tylko parzyste wartości."
   ]
  },
  {
   "cell_type": "markdown",
   "id": "28a688ca",
   "metadata": {},
   "source": [
    "\n",
    "\n",
    "> Dobra praktyka: Używaj break i continue rozważnie. Nadmierne poleganie na nich może czasem utrudnić czytanie kodu, ale w wielu przypadkach upraszczają logikę (np. wychodzenie z zagnieżdżonych pętli lub pomijanie nieistotnych przypadków). Pamiętaj też, że Python posiada jeszcze instrukcję else dla pętli (for/while ... else:), która wykona się jeśli pętla nie została przerwana przez break – choć bywa rzadziej używana."
   ]
  },
  {
   "cell_type": "markdown",
   "id": "45e53521",
   "metadata": {},
   "source": [
    "\n",
    "## Debugging i obsługa wyjątków\n",
    "\n",
    "Nawet doświadczonym programistom zdarzają się błędy w kodzie. **Debugging** to proces wykrywania i naprawiania tych błędów. W Pythonie mamy kilka podstawowych narzędzi i technik ułatwiających debugowanie oraz mechanizm **obsługi wyjątków** do przechwytywania i reagowania na błędy wykonania.\n"
   ]
  },
  {
   "cell_type": "code",
   "execution_count": 52,
   "id": "44152ead",
   "metadata": {},
   "outputs": [
    {
     "ename": "ZeroDivisionError",
     "evalue": "division by zero",
     "output_type": "error",
     "traceback": [
      "\u001b[1;31m---------------------------------------------------------------------------\u001b[0m",
      "\u001b[1;31mZeroDivisionError\u001b[0m                         Traceback (most recent call last)",
      "Cell \u001b[1;32mIn[52], line 1\u001b[0m\n\u001b[1;32m----> 1\u001b[0m \u001b[38;5;241;43m5\u001b[39;49m\u001b[38;5;241;43m/\u001b[39;49m\u001b[38;5;241;43m0\u001b[39;49m\n",
      "\u001b[1;31mZeroDivisionError\u001b[0m: division by zero"
     ]
    }
   ],
   "source": [
    "5/0"
   ]
  },
  {
   "cell_type": "markdown",
   "id": "99fd74e4",
   "metadata": {},
   "source": [
    "\n",
    "\n",
    "### Diagnostyka błędów (debugging)\n",
    "\n",
    "1. **Czytanie komunikatów błędów (traceback):** Kiedy program się zatrzyma z błędem, Python wyświetla *traceback* – komunikat pokazujący, co się stało i w której linii. Naucz się go czytać: często ostatnia linia mówi jaki to typ błędu (np. `NameError`, `TypeError`, `IndexError` itp.) i opis problemu.\n",
    "2. **Wykorzystanie** **`print`** **do podglądu wartości:** Często, aby zrozumieć, co dzieje się w kodzie, można wstawić instrukcje `print()` wypisujące stan kluczowych zmiennych podczas działania programu. Dzięki temu zobaczysz np. czy zmienna ma spodziewaną wartość w danym momencie, czy pętla iteruje odpowiednią ilość razy, itp. To prosty, ale skuteczny sposób debugowania (tzw. *print debugging*).\n",
    "3. **Użycie debuggera:** Python posiada wbudowany moduł `pdb` (Python Debugger) oraz wiele narzędzi w edytorach (np. debugger w PyCharm czy VSCode). Debugger umożliwia wykonywanie programu krok po kroku, podgląd zmiennych w trakcie działania, itp. W ramach podstawowej powtórki skupiamy się na metodzie z `print`, ale warto wiedzieć, że debugery istnieją i ułatwiają pracę w bardziej złożonych projektach."
   ]
  },
  {
   "cell_type": "markdown",
   "id": "d7fdc643",
   "metadata": {},
   "source": [
    "\n",
    "**Przykład:** Załóżmy, że mamy następujący kod, który powinien sumować liczby parzyste z listy, ale wynik wydaje się niepoprawny:\n"
   ]
  },
  {
   "cell_type": "code",
   "execution_count": 53,
   "id": "214ea2ce",
   "metadata": {},
   "outputs": [
    {
     "name": "stdout",
     "output_type": "stream",
     "text": [
      "Suma liczb parzystych: 12\n"
     ]
    }
   ],
   "source": [
    "\n",
    "numbers = [1, 2, 5, 8, 9, 12]\n",
    "even_sum = 0\n",
    "for n in numbers:\n",
    "    if n % 2 == 0:\n",
    "        even_sum = n\n",
    "print(\"Suma liczb parzystych:\", even_sum)\n",
    "# Oczekiwano sumy 2+8+12 = 22, a kod powyżej wypisze 12.\n"
   ]
  },
  {
   "cell_type": "markdown",
   "id": "89bb7a45",
   "metadata": {},
   "source": [
    "Aby zdebugować, wstawimy `print` wewnątrz pętli, by śledzić zmiany:\n"
   ]
  },
  {
   "cell_type": "code",
   "execution_count": null,
   "id": "39414d67",
   "metadata": {},
   "outputs": [
    {
     "name": "stdout",
     "output_type": "stream",
     "text": [
      "Debug: dodaję 2, aktualna suma = 2\n",
      "Debug: dodaję 8, aktualna suma = 10\n",
      "Debug: dodaję 12, aktualna suma = 22\n",
      "Suma liczb parzystych: 22\n"
     ]
    }
   ],
   "source": [
    "even_sum = 0\n",
    "for n in numbers:\n",
    "    if n % 2 == 0:\n",
    "        even_sum = n\n",
    "        print(f\"Debug: dodaję {n}, aktualna suma = {even_sum}\")\n",
    "print(\"Suma liczb parzystych:\", even_sum)\n"
   ]
  },
  {
   "cell_type": "markdown",
   "id": "91aca324",
   "metadata": {},
   "source": [
    "\n",
    "\n",
    "Teraz łatwo zauważyć problem – w każdej iteracji przypisujemy `even_sum = n` zamiast dodawać, więc ostatecznie zostaje ostatnia liczba (12). Poprawka: użyć `even_sum += n` wewnątrz warunku."
   ]
  },
  {
   "cell_type": "markdown",
   "id": "5a680c8c",
   "metadata": {},
   "source": [
    "### Obsługa wyjątków (`try/except`)\n",
    "\n",
    "**Wyjątki** (exceptions) to błędy wykryte podczas wykonania programu. Python pozwala je przechwytywać i obsługiwać, aby program nie przerywał działania i mógł zareagować (np. wyświetlić komunikat użytkownikowi zmiast po prostu się zakończyć). Konstrukcja `try/except` ma następującą formę:"
   ]
  },
  {
   "cell_type": "markdown",
   "id": "9469a9b1",
   "metadata": {},
   "source": [
    "```python\n",
    "\n",
    "try:\n",
    "    # Kod który może spowodować wyjątek\n",
    "    risky_operation()\n",
    "except <ExceptionType> as e:\n",
    "    # Kod który wykona się w razie wystąpienia danego typu wyjątku\n",
    "    print(\"Wystąpił błąd:\", e)\n",
    "\n",
    "\n",
    "```"
   ]
  },
  {
   "cell_type": "markdown",
   "id": "b720e14f",
   "metadata": {},
   "source": [
    "\n",
    "\n",
    "\n",
    "Działanie: w bloku `try` umieszczamy kod potencjalnie niebezpieczny (np. operacje wejścia/wyjścia, konwersje typów, itp.). Jeśli podczas wykonywania tego bloku wystąpi wyjątek określonego typu, sterowanie przejdzie do odpowiadającego mu bloku `except`, gdzie możemy ten błąd obsłużyć. Najczęściej wypisujemy komunikat lub podejmujemy inne działanie (np. pomijamy iterację, ustawiamy wartość domyślną, ponawiamy pytanie do użytkownika)."
   ]
  },
  {
   "cell_type": "markdown",
   "id": "c2237c54",
   "metadata": {},
   "source": [
    "\n",
    "\n",
    "Można użyć kilku bloków `except` dla różnych typów wyjątków lub jednego `except Exception:` aby złapać *dowolny* błąd. Istnieje też opcjonalny blok `finally`, który wykona się zawsze (na końcu, niezależnie czy był wyjątek czy nie), np. do posprzątania zasobów.\n"
   ]
  },
  {
   "cell_type": "markdown",
   "id": "ffa4d22f",
   "metadata": {},
   "source": [
    "**Przykład:** Spróbujmy skonwertować napis na liczbę i obsłużyć sytuację, gdy napis nie jest poprawną liczbą:\n"
   ]
  },
  {
   "cell_type": "code",
   "execution_count": 58,
   "id": "c9dc8fc6",
   "metadata": {},
   "outputs": [
    {
     "name": "stdout",
     "output_type": "stream",
     "text": [
      "Błąd konwersji: invalid literal for int() with base 10: '123a'\n",
      "Dalsza część programu, number = None\n"
     ]
    }
   ],
   "source": [
    "user_input = \"123a\"  # to mogłoby być input(\"Podaj liczbę: \")\n",
    "try:\n",
    "    number = int(user_input)\n",
    "    print(\"Udało się skonwertować. Numer =\", number)\n",
    "except ValueError as e:\n",
    "    # ValueError wystąpi, gdy string nie reprezentuje poprawnej liczby całkowitej\n",
    "    print(\"Błąd konwersji:\", e)\n",
    "    number = None  # ustawiamy domyślną wartość None, oznaczającą brak wyniku\n",
    "print(\"Dalsza część programu, number =\", number)"
   ]
  },
  {
   "cell_type": "markdown",
   "id": "3bbab5e5",
   "metadata": {},
   "source": [
    "\n",
    "\n",
    "W powyższym kodzie:\n",
    "\n",
    "* Gdy `user_input` jest stringiem nie będącym liczbą, `int(user_input)` rzuci wyjątek `ValueError`. Nasz blok `except` go przechwyci, wypisze komunikat i np. ustawi `number = None` zamiast przerywać program.\n",
    "* Gdyby `user_input` było np. `\"456\"`, konwersja by się powiodła, kod w `except` by się pominął, a program kontynuował normalnie."
   ]
  },
  {
   "cell_type": "markdown",
   "id": "5ddf2be8",
   "metadata": {},
   "source": [
    "**Praktyczna rada:** Stosuj obsługę wyjątków tam, gdzie spodziewasz się błędów **niezależnych od kodu** – np. błędy wejścia od użytkownika, brak pliku, problemy z siecią. Nie należy nadużywać `try/except` do \"maskowania\" błędów programistycznych (jak literówki w nazwach zmiennych); te lepiej naprawić u źródła poprzez testowanie i debugowanie.\n"
   ]
  },
  {
   "cell_type": "markdown",
   "id": "406adc50",
   "metadata": {},
   "source": [
    "\n",
    "## Funkcje\n",
    "\n",
    "**Funkcje** umożliwiają zorganizowanie kodu w mniejsze, re-używalne bloki. Pozwalają zdefiniować pewną operację raz, a potem wielokrotnie ją wykonywać z różnymi danymi. Pisanie funkcji sprzyja czystości i modularności kodu oraz ułatwia testowanie."
   ]
  },
  {
   "cell_type": "markdown",
   "id": "fe6c9e83",
   "metadata": {},
   "source": [
    "\n",
    "\n",
    "\n",
    "### Definiowanie funkcji\n",
    "\n",
    "Funkcję definiujemy za pomocą słowa kluczowego `def`, nazwy funkcji i listy parametrów w nawiasach, zakończonych dwukropkiem, a ciało funkcji stanowi blok z wcięciem. Przykład:"
   ]
  },
  {
   "cell_type": "code",
   "execution_count": 62,
   "id": "73e8d728",
   "metadata": {},
   "outputs": [],
   "source": [
    "def greet(name: str)-> None:\n",
    "    \"\"\"Ta funkcja wita osobę o podanym imieniu.\"\"\"  # <-- Docstring: opcjonalny opis funkcji\n",
    "    print(\"Hello,\", name)\n"
   ]
  },
  {
   "cell_type": "code",
   "execution_count": null,
   "id": "2fecc39e",
   "metadata": {},
   "outputs": [
    {
     "name": "stdout",
     "output_type": "stream",
     "text": [
      "Hello, Alice\n"
     ]
    }
   ],
   "source": [
    "greet('Alice')  # Wywołanie funkcji z argumentem 'Alice'"
   ]
  },
  {
   "cell_type": "markdown",
   "id": "adabd806",
   "metadata": {},
   "source": [
    "\n",
    "Powyżej zdefiniowaliśmy funkcję `greet` przyjmującą jeden parametr `name`. Możemy ją wywołać: `greet(\"Alicja\")`, co wypisze `Hello, Alicja`. Zauważ, że docstring w potrójnych cudzysłowach jest opcjonalny – opisuje działanie funkcji i można go wyświetlić np. poprzez `help(greet)`.\n"
   ]
  },
  {
   "cell_type": "markdown",
   "id": "01a2487c",
   "metadata": {},
   "source": [
    "Jeśli funkcja ma *zwrócić* jakąś wartość, używamy instrukcji `return`. Przykładowo:\n"
   ]
  },
  {
   "cell_type": "code",
   "execution_count": 67,
   "id": "ec7d7c1c",
   "metadata": {},
   "outputs": [
    {
     "name": "stdout",
     "output_type": "stream",
     "text": [
      "7\n"
     ]
    }
   ],
   "source": [
    "def add(a, b):\n",
    "    if a >5:\n",
    "        return a - b  # Jeśli a jest większe niż 5, odejmujemy b od a\n",
    "    return a + b\n",
    "\n",
    "result = add(3, 4)  # result otrzyma wartość 7\n",
    "print(result)"
   ]
  },
  {
   "cell_type": "code",
   "execution_count": 68,
   "id": "6fde1e4a",
   "metadata": {},
   "outputs": [
    {
     "data": {
      "text/plain": [
       "4"
      ]
     },
     "execution_count": 68,
     "metadata": {},
     "output_type": "execute_result"
    }
   ],
   "source": [
    "add(6,2)"
   ]
  },
  {
   "cell_type": "markdown",
   "id": "686d7531",
   "metadata": {},
   "source": [
    "\n",
    "Brak instrukcji `return` oznacza, że funkcja zwróci `None` (specjalną wartość Pythona oznaczającą \"nic\"/brak wartości). `return` może również służyć do przerwania działania funkcji w danym momencie (zwracając wynik lub po prostu kończąc funkcję)."
   ]
  },
  {
   "cell_type": "markdown",
   "id": "a17214c4",
   "metadata": {},
   "source": [
    "\n",
    "### Argumenty pozycyjne i nazwane\n",
    "\n",
    "Wywołując funkcje, możemy przekazywać argumenty **pozycyjnie** (zgodnie z kolejnością w definicji) lub **nazwane** (explicitly wskazując, który parametr jaką wartość otrzymuje). Na przykład, mając funkcję:"
   ]
  },
  {
   "cell_type": "code",
   "execution_count": 69,
   "id": "21332a92",
   "metadata": {},
   "outputs": [],
   "source": [
    "\n",
    "def power(base, exponent):\n",
    "    return base ** exponent\n"
   ]
  },
  {
   "cell_type": "markdown",
   "id": "424472e2",
   "metadata": {},
   "source": [
    "Można wywołać:\n"
   ]
  },
  {
   "cell_type": "code",
   "execution_count": null,
   "id": "0d97f850",
   "metadata": {},
   "outputs": [
    {
     "data": {
      "text/plain": [
       "8"
      ]
     },
     "execution_count": 70,
     "metadata": {},
     "output_type": "execute_result"
    }
   ],
   "source": [
    "power(2, 3) # argumenty pozycyjnie: base=2, exponent=3 -> wynik 8"
   ]
  },
  {
   "cell_type": "code",
   "execution_count": 73,
   "id": "864194f1",
   "metadata": {},
   "outputs": [
    {
     "data": {
      "text/plain": [
       "8"
      ]
     },
     "execution_count": 73,
     "metadata": {},
     "output_type": "execute_result"
    }
   ],
   "source": [
    "power(base=2, exponent=3)  # to samo, ale jawnie nazwanie argumentów\n"
   ]
  },
  {
   "cell_type": "code",
   "execution_count": 72,
   "id": "cd622e25",
   "metadata": {},
   "outputs": [
    {
     "data": {
      "text/plain": [
       "8"
      ]
     },
     "execution_count": 72,
     "metadata": {},
     "output_type": "execute_result"
    }
   ],
   "source": [
    "power(exponent=3, base=2)  # kolejność można zmienić, bo podaliśmy nazwy"
   ]
  },
  {
   "cell_type": "markdown",
   "id": "a227dc40",
   "metadata": {},
   "source": [
    "\n",
    "\n",
    "Argumenty nazwane zwiększają czytelność, zwłaszcza gdy funkcja przyjmuje wiele parametrów, lub gdy niektóre mają wartości domyślne i chcemy pominąć niektóre z nich."
   ]
  },
  {
   "cell_type": "markdown",
   "id": "e57669cf",
   "metadata": {},
   "source": [
    "\n",
    "### Wartości domyślne argumentów\n",
    "\n",
    "W definicji funkcji możemy przypisać parametrom wartości domyślne. Dzięki temu wywołując funkcję, można pominąć te argumenty, a one przyjmą zdefiniowaną domyślną wartość.\n"
   ]
  },
  {
   "cell_type": "code",
   "execution_count": 74,
   "id": "20178384",
   "metadata": {},
   "outputs": [],
   "source": [
    "def greet(name, polite=True):\n",
    "    if polite:\n",
    "        print(\"Dzień dobry,\", name)\n",
    "    else:\n",
    "        print(\"Cześć,\", name)"
   ]
  },
  {
   "cell_type": "code",
   "execution_count": 75,
   "id": "56b693f2",
   "metadata": {},
   "outputs": [
    {
     "name": "stdout",
     "output_type": "stream",
     "text": [
      "Dzień dobry, Jan\n"
     ]
    }
   ],
   "source": [
    "greet(\"Jan\")           # Używa domyślnego polite=True -> \"Dzień dobry, Jan\""
   ]
  },
  {
   "cell_type": "code",
   "execution_count": 76,
   "id": "d9bdebf5",
   "metadata": {},
   "outputs": [
    {
     "name": "stdout",
     "output_type": "stream",
     "text": [
      "Cześć, Ola\n"
     ]
    }
   ],
   "source": [
    "greet(\"Ola\", polite=False)  # Przekazujemy argument nazwany, zmieniając domyślne zachowanie -> \"Cześć, Ola\""
   ]
  },
  {
   "cell_type": "markdown",
   "id": "227a2f8e",
   "metadata": {},
   "source": [
    "\n",
    "\n",
    "W powyższej funkcji `polite` domyślnie wynosi `True`, więc standardowo przywita grzecznie. Jeśli jednak wywołamy z `polite=False`, funkcja zmieni sposób przywitania."
   ]
  },
  {
   "cell_type": "markdown",
   "id": "e6bf0f40",
   "metadata": {},
   "source": [
    "\n",
    "\n",
    "**Uwaga:** Parametry z wartościami domyślnymi muszą być wymienione **na końcu** listy parametrów funkcji (najpierw parametry obowiązkowe, potem opcjonalne). Wartość domyślna jest obliczana raz, w momencie definicji funkcji – co ma znaczenie, gdy domyślną wartością jest obiekt mutowalny (np. lista lub słownik). Np. niebezpieczne jest definiowanie `def func(my_list=[]): ...` – ta *jedna* lista będzie współdzielona między wywołaniami, zamiast tworzyć nową przy każdym wywołaniu. Zaleca się jako domyślne dawać niemutowalne (np. `None`, a wewnątrz funkcji sprawdzać i tworzyć nową listę jeśli trzeba)."
   ]
  },
  {
   "cell_type": "markdown",
   "id": "97f008ee",
   "metadata": {},
   "source": [
    "### Przykład funkcji (zwracanie wartości)\n"
   ]
  },
  {
   "cell_type": "code",
   "execution_count": 77,
   "id": "2967dc44",
   "metadata": {},
   "outputs": [
    {
     "name": "stdout",
     "output_type": "stream",
     "text": [
      "78.5\n",
      "78.53975\n"
     ]
    }
   ],
   "source": [
    "def calculate_circle_area(radius, pi=3.14):\n",
    "    \"\"\"Oblicza pole koła o zadanym promieniu. Domyślnie używa pi=3.14,\n",
    "       ale można podać dokładniejszą wartość przez argument pi.\"\"\"\n",
    "    area = pi * (radius ** 2)\n",
    "    return area\n",
    "\n",
    "# Wywołania funkcji:\n",
    "print(calculate_circle_area(5))            # używa pi=3.14 -> wynik: 78.5\n",
    "print(calculate_circle_area(5, pi=3.14159))  # podajemy bardziej precyzyjne pi -> wynik ok. 78.53975"
   ]
  },
  {
   "cell_type": "markdown",
   "id": "60da27fa",
   "metadata": {},
   "source": [
    "Tutaj funkcja `calculate_circle_area` zwraca obliczone pole koła. Przetestowaliśmy ją z domyślnym pi oraz z podanym argumentem nazwanym `pi` dla lepszej dokładności."
   ]
  },
  {
   "cell_type": "markdown",
   "id": "fdf5ffbf",
   "metadata": {},
   "source": [
    "> Wskazówka: Dobrze nazywaj funkcje, aby jasno wskazywały co robią (np. calculate\\_circle\\_area). Stosuj też krótkie docstringi do objaśnienia działania, szczególnie jeśli funkcja robi coś nietrywialnego. Pamiętaj, że funkcje mogą wywoływać inne funkcje – to podstawa dzielenia programu na mniejsze, zarządzalne części."
   ]
  },
  {
   "cell_type": "markdown",
   "id": "4c9358d9",
   "metadata": {},
   "source": [
    "\n",
    "\n",
    "## Modularność kodu\n",
    "\n",
    "Modularność oznacza podział programu na mniejsze pliki (moduły) pełniące określone role. W Pythonie każdy plik z rozszerzeniem `.py` jest **modułem**, który może być zaimportowany w innym kodzie. Dzięki modułom kod staje się bardziej czytelny, łatwiejszy w utrzymaniu i ponownym użyciu."
   ]
  },
  {
   "cell_type": "markdown",
   "id": "9c31b24c",
   "metadata": {},
   "source": [
    "### `import` i tworzenie modułów\n",
    "\n",
    "Aby wykorzystać kod z innego modułu, używamy instrukcji `import`. Załóżmy, że mamy plik `helpers.py` z funkcją `add(a, b)`. Możemy z niego skorzystać w głównym programie:"
   ]
  },
  {
   "cell_type": "code",
   "execution_count": null,
   "id": "634ab1d8",
   "metadata": {},
   "outputs": [],
   "source": [
    "from helpers import * # Tak nie robimy"
   ]
  },
  {
   "cell_type": "code",
   "execution_count": 82,
   "id": "1f63e9f5",
   "metadata": {},
   "outputs": [],
   "source": [
    "import helpers\n",
    "result = helpers.add(2, 3)\n"
   ]
  },
  {
   "cell_type": "code",
   "execution_count": 79,
   "id": "fc7d90c6",
   "metadata": {},
   "outputs": [
    {
     "data": {
      "text/plain": [
       "5"
      ]
     },
     "execution_count": 79,
     "metadata": {},
     "output_type": "execute_result"
    }
   ],
   "source": [
    "result"
   ]
  },
  {
   "cell_type": "markdown",
   "id": "18004d5b",
   "metadata": {},
   "source": [
    "\n",
    "\n",
    "Tutaj importujemy cały moduł `helpers` i odwołujemy się do funkcji poprzez notację `moduł.funkcja`. Można też zaimportować tylko wybrane elementy:"
   ]
  },
  {
   "cell_type": "code",
   "execution_count": 81,
   "id": "86acc16f",
   "metadata": {},
   "outputs": [
    {
     "name": "stdout",
     "output_type": "stream",
     "text": [
      "Wynik dodawania: 12\n",
      "Wynik odejmowania: 7\n"
     ]
    }
   ],
   "source": [
    "from helpers import add, subtract\n",
    "result1 = add(5, 7)\n",
    "result2 = subtract(10, 3)\n",
    "print(\"Wynik dodawania:\", result1)  # Wydrukuje: Wynik dodawania: 12\n",
    "print(\"Wynik odejmowania:\", result2)  # Wydrukuje: Wynik odejmowania: 7\n"
   ]
  },
  {
   "cell_type": "markdown",
   "id": "eca081f1",
   "metadata": {},
   "source": [
    "Albo zaimportować moduł z aliasem:\n"
   ]
  },
  {
   "cell_type": "code",
   "execution_count": null,
   "id": "88862b34",
   "metadata": {},
   "outputs": [],
   "source": [
    "\n",
    "import helpers as h\n",
    "print(h.add(2, 2))\n"
   ]
  },
  {
   "cell_type": "markdown",
   "id": "240478ca",
   "metadata": {},
   "source": [
    "\n",
    "\n",
    "Moduły mogą być zarówno własne (pisane przez Ciebie) jak i wbudowane czy zewnętrzne (zainstalowane). Ważne jest, aby plik modułu znajdował się w ścieżce wyszukiwania Pythona (np. w tym samym folderze co skrypt główny, jeśli nie, można dodać ścieżkę lub zainstalować moduł)."
   ]
  },
  {
   "cell_type": "code",
   "execution_count": null,
   "id": "82f01e4f",
   "metadata": {},
   "outputs": [],
   "source": [
    "\n",
    "**Tworzenie modułu:** Po prostu piszesz kod w oddzielnym pliku `.py`. W tym pliku możesz zdefiniować zmienne globalne, funkcje, klasy. Potem w innym pliku importujesz go i używasz. Dobrą praktyką jest chronić kod uruchamiany bezpośrednio w module warunkiem `if __name__ == \"__main__\":` aby nie wykonał się przy imporcie (to dość istotne, gdy moduł służy też jako skrypt wykonywalny)."
   ]
  },
  {
   "cell_type": "markdown",
   "id": "0a87f816",
   "metadata": {},
   "source": [
    "\n",
    "### Wbudowane biblioteki\n",
    "\n",
    "Python posiada bogaty zestaw bibliotek standardowych (wbudowanych), które można od razu importować bez instalacji. Kilka przydatnych przykładów:\n",
    "\n",
    "* **`math`** – oferuje matematyczne funkcje i stałe, np. `math.sqrt(x)` (pierwiastek), `math.sin(x)`, `math.pi` (stała π), `math.floor(x)` (zaokrąglenie w dół) itp.\n",
    "* **`random`** – funkcje do losowości: `random.random()` (losowy float 0-1), `random.randint(a, b)` (losowa liczba całkowita z zakresu \\[a, b]), `random.choice(seq)` (losowy element z sekwencji), `random.shuffle(list)` (tasuje listę) itp.\n",
    "* **`datetime`** – obsługa dat i czasu.\n",
    "* **`os`** i **`sys`** – interakcja z systemem operacyjnym, np. `os.path` dla ścieżek plików, `sys.argv` dla argumentów wywołania skryptu.\n",
    "* **`json`**, **`csv`** – parsowanie plików w formatach JSON, CSV.\n",
    "* ... i wiele innych (pełna lista bibliotek standardowych jest dostępna w dokumentacji Pythona)."
   ]
  },
  {
   "cell_type": "markdown",
   "id": "ff77634f",
   "metadata": {},
   "source": [
    "**Przykład użycia biblioteki wbudowanej:**\n"
   ]
  },
  {
   "cell_type": "code",
   "execution_count": null,
   "id": "9639f540",
   "metadata": {},
   "outputs": [],
   "source": [
    "import math\n",
    "import random\n",
    "\n",
    "print(math.sqrt(16))       # pierwiastek z 16 -> 4.0\n",
    "print(math.pi)             # wartość pi -> 3.141592653589793\n",
    "print(math.sin(math.pi/2)) # sinus 90 stopni (π/2 radianów) -> 1.0\n",
    "\n",
    "num = random.randint(1, 100)\n",
    "print(\"Wylosowana liczba od 1 do 100:\", num)\n",
    "choices = [\"red\", \"green\", \"blue\"]\n",
    "print(\"Losowy wybór z listy:\", random.choice(choices))"
   ]
  },
  {
   "cell_type": "markdown",
   "id": "559c28c9",
   "metadata": {},
   "source": [
    "\n",
    "Tutaj zaimportowaliśmy moduły `math` i `random` i użyliśmy kilku funkcji. Warto zaznaczyć, że `random.randint(1, 100)` zwraca losową liczbę całkowitą **włącznie** z 1 i 100. Gdy korzystasz z nieznanych Ci wcześniej modułów, zawsze możesz użyć funkcji `help(nazwa_modułu)` lub przeczytać dokumentację, aby poznać dostępne funkcje/klasy i ich działanie."
   ]
  },
  {
   "cell_type": "markdown",
   "id": "d4cd50af",
   "metadata": {},
   "source": [
    "\n",
    "## Programowanie obiektowe (OOP)\n",
    "\n",
    "Programowanie obiektowe to **paradygmat**, w którym modelujemy program jako zbiór obiektów wzajemnie się komunikujących. Każdy obiekt jest instancją pewnej **klasy**, która definiuje właściwości (atrybuty) i zachowania (metody) takich obiektów."
   ]
  },
  {
   "cell_type": "markdown",
   "id": "a7b5d90c",
   "metadata": {},
   "source": [
    "\n",
    "\n",
    "\n",
    "### Definiowanie klas i tworzenie obiektów\n",
    "\n",
    "W Pythonie klasę definiujemy słowem kluczowym `class`. Wewnątrz klasy definiujemy metody (funkcje działające na obiektach tej klasy) oraz atrybuty (zmienne przechowujące stan obiektu).\n",
    "\n",
    "Najważniejsza jest metoda `__init__` – to tzw. konstruktor obiektu, wywoływany przy tworzeniu nowej instancji. Służy do zainicjalizowania stanu obiektu (ustawienia wartości atrybutów). Każda metoda w klasie (włącznie z `__init__`) przyjmuje jako pierwszy argument `self` – jest to referencja do bieżącego obiektu, pozwalająca odwołać się do jego atrybutów i innych metod."
   ]
  },
  {
   "cell_type": "markdown",
   "id": "8316d681",
   "metadata": {},
   "source": [
    "**Przykład:**\n"
   ]
  },
  {
   "cell_type": "code",
   "execution_count": null,
   "id": "364ba40f",
   "metadata": {},
   "outputs": [],
   "source": [
    "class Dog:\n",
    "    def __init__(self, name):\n",
    "        # konstruktor ustawiający imię psa\n",
    "        self.name = name\n",
    "        self.energy = 100  # każdy pies zaczyna z energią 100\n",
    "\n",
    "    def bark(self):\n",
    "        # metoda instancyjna (operuje na self)\n",
    "        print(f\"{self.name} szczeka: Hau Hau!\")\n",
    "        self.energy -= 10  # szczekanie zużywa trochę energii\n",
    "\n",
    "    def sleep(self):\n",
    "        print(f\"{self.name} idzie spać.\")\n",
    "        self.energy = 100  # regeneracja energii"
   ]
  },
  {
   "cell_type": "code",
   "execution_count": null,
   "id": "c9bdf447",
   "metadata": {},
   "outputs": [],
   "source": [
    "\n",
    "# Tworzenie obiektów (instancji klasy Dog):\n",
    "dog1 = Dog(\"Reksio\")\n",
    "dog2 = Dog(\"Burek\")"
   ]
  },
  {
   "cell_type": "code",
   "execution_count": null,
   "id": "996dc61c",
   "metadata": {},
   "outputs": [],
   "source": [
    "dog1.bark()   # Reksio szczeka -> wypisze \"Reksio szczeka: Hau Hau!\"\n",
    "dog1.bark()   # Reksio szczeka ponownie, zużywając energię\n",
    "print(dog1.energy)  # Sprawdzamy energię Reksia -> 80, bo dwa szczeki po 10 mniej od 100\n",
    "dog2.bark()   # Burek szczeka -> \"Burek szczeka: Hau Hau!\"\n",
    "print(dog2.energy)  # Energia Burka -> 90 (tylko raz szczekał)\n",
    "dog1.sleep()  # Reksio idzie spać (energia wraca do 100)\n",
    "print(dog1.energy)  # Energia Reksia po spaniu -> 100"
   ]
  },
  {
   "cell_type": "markdown",
   "id": "c01df975",
   "metadata": {},
   "source": [
    "\n",
    "\n",
    "\n",
    "\n",
    "W powyższym kodzie zdefiniowaliśmy klasę `Dog` z atrybutami `name` i `energy`, oraz metodami `bark` i `sleep`. Utworzyliśmy dwa obiekty `dog1` i `dog2`, każdy ma własne atrybuty (imię i poziom energii). Wywoływanie `dog1.bark()` powoduje, że Python wewnętrznie przekazuje `dog1` jako `self` do metody `bark`, stąd następuje zmniejszenie `dog1.energy` itp. Obiekty przechowują niezależny stan – Reksio i Burek mają osobne wartości energii."
   ]
  },
  {
   "cell_type": "markdown",
   "id": "71dcba79",
   "metadata": {},
   "source": [
    "\n",
    "### Dziedziczenie\n",
    "\n",
    "Dziedziczenie pozwala tworzyć nową klasę na bazie już istniejącej, przejmując jej właściwości i metody, a także dodając nowe lub nadpisując (overriding) istniejące. Klasa bazowa to **superklasa** (lub klasa rodzic), a klasa pochodna to **subklasa** (klasa dziecko). \n",
    "\n",
    "Składnia:\n",
    "\n",
    "`class SubClass(BaseClass):`"
   ]
  },
  {
   "cell_type": "markdown",
   "id": "9f0909e1",
   "metadata": {},
   "source": [
    "\n",
    "\n",
    "Przykład: rozszerzymy naszą klasę `Dog`, tworząc klasę `GuideDog` (pies przewodnik), który dziedziczy wszystkie cechy psa, ale ma dodatkową metodę prowadzenia oraz inny sposób szczekania (np. szczeka inaczej, co zademonstrujemy przez nadpisanie metody `bark`)."
   ]
  },
  {
   "cell_type": "code",
   "execution_count": null,
   "id": "ac29906f",
   "metadata": {},
   "outputs": [],
   "source": [
    "class GuideDog(Dog):  # dziedziczy po Dog\n",
    "    def __init__(self, name, owner):\n",
    "        # wywołujemy konstruktor klasy bazowej, aby inicjalizować name i energy\n",
    "        super().__init__(name)        # super() odwołuje się do Dog\n",
    "        self.owner = owner            # nowy atrybut, właściciel osoby niewidomej\n",
    "\n",
    "    def bark(self):\n",
    "        # nadpisujemy bark: pies przewodnik szczeka inaczej (np. ciszej)\n",
    "        print(f\"{self.name} (pies przewodnik) szczeka: hau...\")\n",
    "        self.energy -= 5  # szczekanie przewodnika zużywa mniej energii\n",
    "\n",
    "    def guide(self):\n",
    "        # nowa metoda tylko dla GuideDog\n",
    "        if self.energy > 0:\n",
    "            print(f\"{self.name} prowadzi swojego właściciela, {self.owner}.\")\n",
    "            self.energy -= 15\n",
    "        else:\n",
    "            print(f\"{self.name} jest zbyt zmęczony, by prowadzić.\")"
   ]
  },
  {
   "cell_type": "markdown",
   "id": "68a8e434",
   "metadata": {},
   "source": [
    "\n",
    "\n",
    "Tutaj `GuideDog` dziedziczy z `Dog`. Użyliśmy `super().__init__(name)` by wywołać konstruktor `Dog` i nie powtarzać ustawiania `name` oraz `energy`. Dodaliśmy atrybut `owner` i nową metodę `guide`. Nadpisaliśmy metodę `bark` – w `GuideDog.bark` jest inna implementacja niż w zwykłym `Dog.bark`."
   ]
  },
  {
   "cell_type": "markdown",
   "id": "e4ee721e",
   "metadata": {},
   "source": [
    "Testowanie powyższych klas:\n"
   ]
  },
  {
   "cell_type": "code",
   "execution_count": null,
   "id": "3672dc96",
   "metadata": {},
   "outputs": [],
   "source": [
    "rex = GuideDog(\"Rex\", owner=\"Jan Kowalski\")\n",
    "rex.bark()      # wywoła się nadpisana metoda z GuideDog\n",
    "print(rex.energy)  # energia powinna spaść o 5\n",
    "rex.guide()     # pies przewodnik prowadzi właściciela\n",
    "print(rex.energy)  # energia powinna spaść o kolejne 15\n",
    "rex.sleep()     # metoda odziedziczona z Dog - powinna przywrócić energię do 100\n",
    "print(rex.energy)\n"
   ]
  },
  {
   "cell_type": "markdown",
   "id": "5eba10ec",
   "metadata": {},
   "source": [
    "\n",
    "Wynik pokazuje, że obiekt `rex` typu `GuideDog`:\n",
    "\n",
    "* Używa własnej wersji `bark` (zmniejsza energię o 5, wypisuje zmodyfikowany tekst).\n",
    "* Może korzystać z nowej metody `guide`.\n",
    "* Może także korzystać z metod odziedziczonych niewprowadzonych w `GuideDog` (np. `sleep` nie została nadpisana, więc działa tak jak w `Dog`).\n"
   ]
  },
  {
   "cell_type": "markdown",
   "id": "8a2c4999",
   "metadata": {},
   "source": [
    "To jest **polimorfizm** – obiekt klasy pochodnej można traktować jak obiekt klasy bazowej, ale jego zachowanie może być zmodyfikowane. Np. wywołanie `rex.bark()` i `dog1.bark()` (gdzie `dog1` to zwykły Dog) używa innej implementacji metody, mimo że nazwa ta sama i interfejs taki sam. Polimorfizm oznacza, że jedna nazwa metody może skutkować różnym działaniem w zależności od rodzaju obiektu.\n"
   ]
  },
  {
   "cell_type": "markdown",
   "id": "fc8d0e38",
   "metadata": {},
   "source": [
    "\n",
    "### Podsumowanie OOP\n",
    "\n",
    "* **Klasy i obiekty** pozwalają grupować dane z funkcjami które na nich operują.\n",
    "* **Atrybuty instancji** (`self.attribute`) przechowują stan obiektu, a **metody** definiują jego zachowanie.\n",
    "* **Dziedziczenie** umożliwia ponowne wykorzystanie kodu istniejących klas i rozszerzanie/zmienianie ich funkcjonalności w podklasach.\n",
    "* **Polimorfizm** sprawia, że obiekt klasy pochodnej może być używany wszędzie tam, gdzie oczekuje się obiektu klasy bazowej, ale może dostarczać własnych, zmienionych implementacji metod.\n",
    "\n",
    "W praktyce w Data Science często mniej korzystamy z własnych klas (częściej używamy istniejących, jak DataFrame itp.), ale zrozumienie OOP jest ważne, np. by lepiej rozumieć działanie tych klas i projektować czysty kod w większych projektach.\n"
   ]
  },
  {
   "cell_type": "markdown",
   "id": "1bb2dfa8",
   "metadata": {},
   "source": [
    "\n",
    "## Czysty kod\n",
    "\n",
    "Pisanie **czystego kodu** oznacza tworzenie kodu czytelnego, łatwego do utrzymania i zgodnego ze standardami stylu. Kilka kluczowych zasad i konwencji:"
   ]
  },
  {
   "cell_type": "markdown",
   "id": "82942e66",
   "metadata": {},
   "source": [
    "\n",
    "\n",
    "### Konwencje stylu PEP8\n",
    "\n",
    "PEP8 to oficjalny dokument zawierający zalecenia stylu kodu w Pythonie – swego rodzaju **kodeks formatowania**. Większość projektów trzyma się tych reguł, by kod był spójny i czytelny. Oto niektóre z nich:"
   ]
  },
  {
   "cell_type": "markdown",
   "id": "92bfa910",
   "metadata": {},
   "source": [
    "\n",
    "* **Wcięcia:** używaj **4 spacji** do wcięć zamiast tabulatorów (domyślnie większość edytorów tak robi). Mieszanie tabów i spacji jest niedozwolone Jeden poziom zagnieżdżenia = 4 spacje."
   ]
  },
  {
   "cell_type": "markdown",
   "id": "9eb2cfc9",
   "metadata": {},
   "source": [
    "\n",
    "\n",
    "* **Długość linii:** standardowo maks. \\~79 znaków w linii kodu (aby kod mieścił się na ekranie i w diffach). Dłuższe wyrażenia warto dzielić na kilka linii (przy czym można użyć `\\\\` lub lepiej nawiasów, żeby Python traktował to jako jedną instrukcję)."
   ]
  },
  {
   "cell_type": "markdown",
   "id": "d7d5d277",
   "metadata": {},
   "source": [
    "\n",
    "* **Nazewnictwo:** nazwy zmiennych i funkcji pisz **małymi literami, oddzielając słowa podkreślnikiem** (tzw. *snake\\_case*), np. `total_sum`, `calculate_mean`. Nazwy klas pisz w **CapWords** (CamelCase), np. `LinearRegressionModel`. Stałe (wartości niemodyfikowane) często oznacza się WIELKIMI\\_LITERAMI. Unikaj nadawania zmiennym nazw pokrywających się z wbudowanymi funkcjami/typami (`list`, `dict`, `str` itp. – to może nadpisać te obiekty)."
   ]
  },
  {
   "cell_type": "markdown",
   "id": "6c26186f",
   "metadata": {},
   "source": [
    "\n",
    "* **Spacje wokół operatorów i przecinków:** dodawaj spacje przed i po operatorach binarnych (`a + b`, `x == y`), po przecinkach przy wypisywaniu listy argumentów czy parametrów. Unikaj nadmiarowych spacji wewnątrz nawiasów. Przykład: `func(x, y, z=10)` zamiast `func( x,y,z = 10 )`."
   ]
  },
  {
   "cell_type": "markdown",
   "id": "e76f90c3",
   "metadata": {},
   "source": [
    "* **Importy:** rób na **początku pliku**, w osobnych liniach dla każdego modułu. Kolejność: najpierw importy bibliotek standardowych, potem ewentualne importy zewnętrznych bibliotek, na końcu importy modułów własnych. Unikaj `from module import *` (gwiazdka) – lepiej importować konkrety, aby nie zaciemniać przestrzeni nazw."
   ]
  },
  {
   "cell_type": "markdown",
   "id": "58db7c0b",
   "metadata": {},
   "source": [
    "* **Komentarze i docstringi:** Pisz komentarze, jeśli fragment kodu może być nieoczywisty. Komentarze jednowierszowe poprzedzaj znakiem `#` i pisz zrozumiałe, zwięzłe objaśnienia. Dla modułów, funkcji i klas używaj **docstringów** (w potrójnych cudzysłowach na początku definicji) by opisać ich działanie. Upewnij się, że komentarze i docstringi są aktualizowane wraz ze zmianą kodu (nie wprowadzają w błąd)."
   ]
  },
  {
   "cell_type": "markdown",
   "id": "c7bf8c37",
   "metadata": {},
   "source": [
    "\n",
    "\n",
    "* **Struktura kodu:** Dbaj o logiczny podział na funkcje/klasy – unikaj zbyt długich funkcji, staraj się aby jedna funkcja realizowała jedno konkretne zadanie (zasada Single Responsibility). Dzięki temu kod jest bardziej modularny i czytelny."
   ]
  },
  {
   "cell_type": "markdown",
   "id": "8da64f5a",
   "metadata": {},
   "source": [
    "\n",
    "\n",
    "Stosowanie się do PEP8 nie jest obowiązkowe, ale jest **wysoce zalecane**, ponieważ inni programiści oczekują tego stylu. Wiele edytorów/IDE potrafi automatycznie formatować kod zgodnie z PEP8 (np. poprzez narzędzia jak `flake8`, `black` czy `autopep8`). Czysty kod to nie tylko estetyka – to ułatwienie dla zespołu i dla nas samych, gdy wracamy do własnego kodu po czasie.\n"
   ]
  },
  {
   "cell_type": "markdown",
   "id": "42647a18",
   "metadata": {},
   "source": [
    "\n",
    "### List Comprehensions (wyrażenia listowe)\n",
    "\n",
    "**Wyrażenia listowe** to zwięzła konstrukcja w Pythonie do tworzenia nowych list na podstawie istniejących sekwencji, z opcjonalnym filtrowaniem. Umożliwiają zapisanie pętli generującej listę w jednej linijce, co często jest czytelniejsze i szybsze (działa na poziomie C w Pythonie)."
   ]
  },
  {
   "cell_type": "markdown",
   "id": "7a563b57",
   "metadata": {},
   "source": [
    "\n",
    "\n",
    "Ogólna forma: `[wyrażenie for element in kolekcja if warunek]`. Przykłady"
   ]
  },
  {
   "cell_type": "code",
   "execution_count": null,
   "id": "efbb6f57",
   "metadata": {},
   "outputs": [],
   "source": [
    "# Tworzenie listy kwadratów liczb od 0 do 9:\n",
    "squares = [x**2 for x in range(10)]\n",
    "print(squares)  # -> [0, 1, 4, 9, 16, 25, 36, 49, 64, 81]\n",
    "\n",
    "# Lista parzystych kwadratów (tylko gdy x**2 jest parzyste):\n",
    "even_squares = [x**2 for x in range(10) if (x**2) % 2 == 0]\n",
    "print(even_squares)  # -> [0, 4, 16, 36, 64]\n",
    "\n"
   ]
  },
  {
   "cell_type": "markdown",
   "id": "e4ed72cb",
   "metadata": {},
   "source": [
    "To samo można by zapisać tradycyjnie:\n"
   ]
  },
  {
   "cell_type": "code",
   "execution_count": null,
   "id": "acdd2fa8",
   "metadata": {},
   "outputs": [],
   "source": [
    "squares = []\n",
    "for x in range(10):\n",
    "    squares.append(x**2)\n",
    "# (efekt ten sam co powyżej)\n",
    "\n",
    "even_squares = []\n",
    "for x in range(10):\n",
    "    if (x**2) % 2 == 0:\n",
    "        even_squares.append(x**2)\n"
   ]
  },
  {
   "cell_type": "markdown",
   "id": "b2d28c24",
   "metadata": {},
   "source": [
    "\n",
    "Jak widać, list comprehension pozwala zastąpić kilka linijek pętli eleganckim jednym wyrażeniem. Trzeba jednak uważać, by nie tworzyć zbyt skomplikowanych wyrażeń listowych – jeśli logika jest złożona, lepiej zostać przy zwykłej pętli dla czytelności."
   ]
  },
  {
   "cell_type": "markdown",
   "id": "374dda19",
   "metadata": {},
   "source": [
    "\n",
    "Istnieją też **dictionary comprehensions** i **set comprehensions** do analogicznego tworzenia słowników i zbiorów."
   ]
  },
  {
   "cell_type": "markdown",
   "id": "493e0b44",
   "metadata": {},
   "source": [
    "\n",
    "### Refaktoryzacja kodu\n",
    "\n",
    "**Refaktoryzacja** to proces ulepszania struktury i jakości kodu **bez zmiany jego funkcjonalności**. Po napisaniu działającego kodu warto poświęcić czas na ocenę, czy można go uprościć lub uczynić bardziej czytelnym:"
   ]
  },
  {
   "cell_type": "markdown",
   "id": "cc7a97f7",
   "metadata": {},
   "source": [
    "\n",
    "\n",
    "* **Eliminacja duplikacji:** Jeśli zauważysz powtarzający się fragment kodu, rozważ wydzielenie go do osobnej funkcji lub pętli. Zasada DRY (*Don't Repeat Yourself*) mówi, by nie powielać logiki – jedno źródło prawdy dla danej operacji."
   ]
  },
  {
   "cell_type": "code",
   "execution_count": null,
   "id": "17141baa",
   "metadata": {},
   "outputs": [],
   "source": []
  },
  {
   "cell_type": "markdown",
   "id": "0c24f06f",
   "metadata": {},
   "source": [
    "\n",
    "\n",
    "* **Dzielenie na mniejsze części:** Długa funkcja wykonująca wiele kroków może być trudna do zrozumienia. Podziel ją na mniejsze funkcje robiące konkretne rzeczy, a w oryginalnej funkcji tylko je wywołuj. Ułatwia to też testowanie."
   ]
  },
  {
   "cell_type": "code",
   "execution_count": null,
   "id": "a98f8582",
   "metadata": {},
   "outputs": [],
   "source": []
  },
  {
   "cell_type": "markdown",
   "id": "06d7f92a",
   "metadata": {},
   "source": [
    "\n",
    "* **Nazewnictwo i czytelność:** Sprawdź, czy nazwy zmiennych/funkcji dobrze oddają ich cel. Unikaj \"skrótowców\" zrozumiałych tylko dla Ciebie. Jeśli jakaś część jest skomplikowana, dodaj komentarz lub rozbij ją na prostsze kroki."
   ]
  },
  {
   "cell_type": "code",
   "execution_count": null,
   "id": "85beab0a",
   "metadata": {},
   "outputs": [],
   "source": []
  },
  {
   "cell_type": "markdown",
   "id": "1a616580",
   "metadata": {},
   "source": [
    "\n",
    "* **Użycie wbudowanych mechanizmów Pythona:** Python często oferuje idiomatyczne, zwięzłe sposoby robienia rzeczy. Np. wykorzystaj list comprehension zamiast manualnego budowania listy w pętli, użyj funkcji wbudowanych (`sum()`, `max()`, `sorted()` itp.) zamiast pisać wszystko \"ręcznie\". To nie tylko upraszcza kod, ale też często przyspiesza wykonanie (bo te funkcje są zaimplementowane w C)."
   ]
  },
  {
   "cell_type": "code",
   "execution_count": null,
   "id": "2cdb2fe0",
   "metadata": {},
   "outputs": [],
   "source": []
  },
  {
   "cell_type": "markdown",
   "id": "1e94766e",
   "metadata": {},
   "source": [
    "\n",
    "\n",
    "* **Usuwanie martwego kodu:** Jeśli jakiś fragment kodu (funkcja, zmienna) nie jest używany – usuń go, by nie wprowadzał zamieszania."
   ]
  },
  {
   "cell_type": "markdown",
   "id": "7a861a3d",
   "metadata": {},
   "source": [
    "Przykład refaktoryzacji:\n"
   ]
  },
  {
   "cell_type": "code",
   "execution_count": null,
   "id": "b7b4e3d4",
   "metadata": {},
   "outputs": [],
   "source": [
    "# Kod przed refaktoryzacją:\n",
    "values = [10, 20, 30, 40, 50]\n",
    "sum = 0\n",
    "count = 0\n",
    "for v in values:\n",
    "    sum = sum + v\n",
    "    count = count + 1\n",
    "average = sum / count\n",
    "print(\"Average:\", average)\n"
   ]
  },
  {
   "cell_type": "markdown",
   "id": "94166138",
   "metadata": {},
   "source": [
    "Ten kod działa, ale można go uprościć wykorzystując wbudowane funkcje:\n"
   ]
  },
  {
   "cell_type": "code",
   "execution_count": null,
   "id": "3a7602e4",
   "metadata": {},
   "outputs": [],
   "source": [
    "\n",
    "values = [10, 20, 30, 40, 50]\n",
    "average = sum(values) / len(values)\n",
    "print(\"Average:\", average)\n"
   ]
  },
  {
   "cell_type": "markdown",
   "id": "26f31a88",
   "metadata": {},
   "source": [
    "\n",
    "\n",
    "Po refaktoryzacji kod jest krótszy, czytelniejszy i wykorzystuje istniejące narzędzia Pythona zamiast manualnie implementować sumowanie i zliczanie elementów."
   ]
  },
  {
   "cell_type": "markdown",
   "id": "13de74c8",
   "metadata": {},
   "source": [
    "Kolejny przykład:\n"
   ]
  },
  {
   "cell_type": "code",
   "execution_count": null,
   "id": "af9cf149",
   "metadata": {},
   "outputs": [],
   "source": [
    "# Kod przed:\n",
    "result = []\n",
    "for x in range(1, 6):\n",
    "    result.append(x * 2)\n",
    "print(result)  # [2, 4, 6, 8, 10]\n",
    "# Kod po refaktoryzacji z użyciem list comprehension:\n",
    "result = [x * 2 for x in range(1, 6)]\n",
    "print(result)  # [2, 4, 6, 8, 10]\n"
   ]
  },
  {
   "cell_type": "markdown",
   "id": "eeb2b742",
   "metadata": {},
   "source": [
    "\n",
    "Obie wersje dają ten sam wynik, druga jest bardziej \"pythonowa\".\n",
    "\n",
    "> Podsumowując czysty kod: Trzymaj się konwencji PEP8, nazywaj rzeczy precyzyjnie, upraszczaj tam gdzie to możliwe, ale nie kosztem klarowności. Pamiętaj, że kod piszemy dla ludzi, a nie dla maszyny – ma być zrozumiały dla innych (i nas samych za jakiś czas), bo komputer i tak go wykona niezależnie od stylu.\n"
   ]
  },
  {
   "cell_type": "markdown",
   "id": "7423f8b4",
   "metadata": {},
   "source": []
  }
 ],
 "metadata": {
  "kernelspec": {
   "display_name": "Python 3",
   "language": "python",
   "name": "python3"
  },
  "language_info": {
   "codemirror_mode": {
    "name": "ipython",
    "version": 3
   },
   "file_extension": ".py",
   "mimetype": "text/x-python",
   "name": "python",
   "nbconvert_exporter": "python",
   "pygments_lexer": "ipython3",
   "version": "3.12.9"
  }
 },
 "nbformat": 4,
 "nbformat_minor": 5
}
