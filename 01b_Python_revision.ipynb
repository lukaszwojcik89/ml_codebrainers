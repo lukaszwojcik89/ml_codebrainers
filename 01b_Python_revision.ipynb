{
 "cells": [
  {
   "cell_type": "markdown",
   "id": "e11ea300",
   "metadata": {},
   "source": [
    "## Temat 1: Struktury danych i typy zmiennych\n",
    "\n",
    "&#x20;\n",
    "\n",
    "**Zadanie 1:** Utwórz kilka zmiennych różnych typów: liczbę całkowitą, liczbę zmiennoprzecinkową, łańcuch znaków oraz wartość boolowską. Przypisz im przykładowe wartości. Następnie wyświetl te wartości wraz z ich typami (użyj funkcji `type()`).\n"
   ]
  },
  {
   "cell_type": "code",
   "execution_count": null,
   "id": "b52919eb",
   "metadata": {},
   "outputs": [],
   "source": []
  },
  {
   "cell_type": "markdown",
   "id": "1b210e61",
   "metadata": {},
   "source": [
    "**Zadanie 2:** Weź dowolny napis (łańcuch znaków) i wykonaj na nim następujące operacje: konkatenacja (dodaj do niego drugi napis), powielenie (powtórz go kilka razy), wycięcie podłańcucha za pomocą indeksowania (slicing) oraz odwrócenie kolejności znaków. Skorzystaj z operatorów `+` (dodawanie napisów), `*` (powielanie) oraz notacji `my_string[start:stop:step]` do wycinania i odwracania napisu."
   ]
  },
  {
   "cell_type": "code",
   "execution_count": null,
   "id": "dd805743",
   "metadata": {},
   "outputs": [],
   "source": []
  },
  {
   "cell_type": "markdown",
   "id": "d0945ada",
   "metadata": {},
   "source": [
    "\n",
    "**Zadanie 3:** Utwórz listę pięciu dowolnych liczb całkowitych. Następnie wykonaj kolejno operacje: dodaj nowy element na końcu listy, usuń jeden z istniejących elementów (np. o określonej wartości lub pod konkretnym indeksem), zmień wartość jednego z elementów listy oraz posortuj listę rosnąco. Po każdej operacji wypisz zawartość listy, aby zaobserwować zmiany."
   ]
  },
  {
   "cell_type": "code",
   "execution_count": null,
   "id": "9f542b71",
   "metadata": {},
   "outputs": [],
   "source": []
  },
  {
   "cell_type": "markdown",
   "id": "11d32e1d",
   "metadata": {},
   "source": [
    "\n",
    "**Zadanie 4:** Utwórz krotkę (`tuple`) zawierającą kilka liczb, np. trzy lub więcej. Spróbuj zmienić wartość jednego z elementów krotki (np. przypisując nową wartość do pierwszego elementu) i zaobserwuj, co się stanie. Następnie rozpakuj krotkę do oddzielnych zmiennych (przypisz elementy krotki kolejno do kilku zmiennych) i wypisz te zmienne.\n"
   ]
  },
  {
   "cell_type": "code",
   "execution_count": null,
   "id": "7a29fabe",
   "metadata": {},
   "outputs": [],
   "source": []
  },
  {
   "cell_type": "markdown",
   "id": "5691e97b",
   "metadata": {},
   "source": [
    "\n",
    "\n",
    "\n",
    "**Zadanie 5:** Utwórz słownik (`dict`) zawierający trzy pary klucz-wartość, reprezentujące na przykład nazwy produktów i ich ceny. Następnie wykonaj następujące operacje: wypisz cenę jednego z produktów, dodaj do słownika nowy produkt z ceną, usuń jeden z istniejących produktów oraz wypisz wszystkie pary klucz-wartość, iterując po słowniku."
   ]
  },
  {
   "cell_type": "code",
   "execution_count": null,
   "id": "47ad18cc",
   "metadata": {},
   "outputs": [],
   "source": []
  },
  {
   "cell_type": "markdown",
   "id": "ec149f78",
   "metadata": {},
   "source": [
    "**Zadanie 6:** Masz zmienną tekstową `num_str = \"10\"` zawierającą liczbę zapisaną jako tekst. Zamień ją na typ liczbowy (int), dodaj do niej inną liczbę (np. 5), a następnie wynik z powrotem zamień na string i połącz z innym napisem, tworząc zdanie. Wypisz ostateczny wynik na ekranie."
   ]
  },
  {
   "cell_type": "code",
   "execution_count": null,
   "id": "266143af",
   "metadata": {},
   "outputs": [],
   "source": []
  },
  {
   "cell_type": "markdown",
   "id": "7a0d79a6",
   "metadata": {},
   "source": [
    "\n",
    "\n",
    "**Zadanie 7:** Utwórz listę z powtarzającymi się elementami, np. `items = [1, 2, 2, 3, 1, 4]`. Następnie przekształć tę listę w zbiór (`set`), aby uzyskać unikalne wartości (zbiór automatycznie usuwa duplikaty). Wyświetl otrzymany zbiór, a potem zamień go z powrotem na listę i wypisz listę unikalnych elementów."
   ]
  },
  {
   "cell_type": "code",
   "execution_count": null,
   "id": "85b38185",
   "metadata": {},
   "outputs": [],
   "source": []
  },
  {
   "cell_type": "markdown",
   "id": "b449dcfc",
   "metadata": {},
   "source": [
    "**Zadanie 8:** Napisz program, który przechowuje w zmiennych imię (łańcuch) oraz wiek (liczbę całkowitą), a następnie wypisuje zdanie w formacie: `\"Imię ma Wiek lat.\"` używając formatowania łańcuchów (np. f-string lub metody `.format()`). Przykład: dla imienia *Jan* i wieku *25* program powinien wypisać: *\"Jan ma 25 lat.\"*."
   ]
  },
  {
   "cell_type": "code",
   "execution_count": null,
   "id": "6367a03e",
   "metadata": {},
   "outputs": [],
   "source": []
  },
  {
   "cell_type": "markdown",
   "id": "e1809d9d",
   "metadata": {},
   "source": [
    "\n",
    "**Zadanie 9:** Utwórz słownik, którego kluczami są nazwy krajów, a wartościami listy miast znajdujących się w danym kraju. Na przykład: `countries = {\"Polska\": [\"Warszawa\", \"Kraków\"], \"USA\": [\"Nowy Jork\", \"Los Angeles\"]}`. Dodaj do listy miast jednego z krajów kolejne miasto. Następnie wybierz jeden kraj i wypisz jego listę miast (np. iterując po liście lub używając metody join do połączenia nazw w jeden string)."
   ]
  },
  {
   "cell_type": "code",
   "execution_count": null,
   "id": "a6136cef",
   "metadata": {},
   "outputs": [],
   "source": []
  },
  {
   "cell_type": "markdown",
   "id": "28312f94",
   "metadata": {},
   "source": [
    "\n",
    "\n",
    "\n",
    "**Zadanie 10:** Dane jest zestaw ocen kilku studentów zapisany w słowniku, gdzie kluczami są nazwiska lub imiona studentów, a wartościami – listy ich ocen. Na przykład: `grades = {\"Anna\": [5, 4, 5], \"Jan\": [3, 5, 4], \"Kasia\": [5, 5, 5]}`. Oblicz średnią ocen dla każdego studenta i wypisz komunikat w formacie: `<Uczeń>: średnia = <średnia_wartość>` dla każdego wpisu w słowniku.\n"
   ]
  },
  {
   "cell_type": "code",
   "execution_count": null,
   "id": "fa98a235",
   "metadata": {},
   "outputs": [],
   "source": []
  },
  {
   "cell_type": "markdown",
   "id": "d0bbe906",
   "metadata": {},
   "source": [
    "\n",
    "\n",
    "## Temat 2: Instrukcje sterujące (if/elif/else, pętle for/while, break/continue)"
   ]
  },
  {
   "cell_type": "markdown",
   "id": "f2f3e00c",
   "metadata": {},
   "source": [
    "**Zadanie 1:** Napisz program, który sprawdza, czy liczba zapisana w zmiennej `x` jest parzysta czy nieparzysta. Jeśli jest parzysta, program powinien wypisać komunikat \"Liczba x jest parzysta.\", w przeciwnym razie \"Liczba x jest nieparzysta.\"."
   ]
  },
  {
   "cell_type": "code",
   "execution_count": null,
   "id": "d559c810",
   "metadata": {},
   "outputs": [],
   "source": []
  },
  {
   "cell_type": "markdown",
   "id": "5f056630",
   "metadata": {},
   "source": [
    "\n",
    "\n",
    "\n",
    "\n",
    "\n",
    "**Zadanie 2:** Napisz program, który sprawdza wartość liczby przechowywanej w zmiennej `n` i wypisuje odpowiedni komunikat w zależności od zakresu: jeśli `n` jest ujemne – \"n jest ujemne\", jeśli równe zero – \"n jest równe zero\", a jeśli dodatnie – \"n jest dodatnie\". Użyj instrukcji if/elif/else.\n"
   ]
  },
  {
   "cell_type": "code",
   "execution_count": null,
   "id": "ce356a58",
   "metadata": {},
   "outputs": [],
   "source": []
  },
  {
   "cell_type": "markdown",
   "id": "797e3419",
   "metadata": {},
   "source": [
    "\n",
    "\n",
    "**Zadanie 3:** Napisz program obliczający silnię liczby `N` przy użyciu pętli `for`. Silnia (oznaczana `N!`) to iloczyn liczb od 1 do N. Dla przykładu, jeśli `N = 5`, wynikiem powinna być wartość `120`. Po obliczeniu silni wypisz wynik w formacie `\"5! = 120\"` (dla ogólnego N analogicznie)."
   ]
  },
  {
   "cell_type": "code",
   "execution_count": null,
   "id": "4baf0026",
   "metadata": {},
   "outputs": [],
   "source": []
  },
  {
   "cell_type": "markdown",
   "id": "dfe5d4ef",
   "metadata": {},
   "source": [
    "\n",
    "\n",
    "\n",
    "\n",
    "**Zadanie 4:** Używając pętli `while`, sumuj kolejne liczby naturalne (1, 2, 3, ...) tak długo, aż suma przekroczy wartość 100. Na koniec wypisz otrzymaną sumę oraz liczbę, przy której suma przekroczyła 100. (Podpowiedź: potrzebujesz zmiennej akumulującej sumę oraz zmiennej iterującej, która będzie zwiększana w każdej iteracji pętli)."
   ]
  },
  {
   "cell_type": "code",
   "execution_count": null,
   "id": "1e19da9d",
   "metadata": {},
   "outputs": [],
   "source": []
  },
  {
   "cell_type": "markdown",
   "id": "cdba1b77",
   "metadata": {},
   "source": [
    "\n",
    "\n",
    "**Zadanie 5:** Mając daną listę liczb, znajdź pierwszą liczbę podzielną przez 7 i wypisz ją. Użyj pętli `for` do przejścia listy oraz instrukcji `break`, aby przerwać działanie pętli po znalezieniu takiej liczby. Jeśli żadna liczba nie jest podzielna przez 7, możesz wypisać odpowiedni komunikat (np. \"Nie znaleziono liczby podzielnej przez 7\")."
   ]
  },
  {
   "cell_type": "code",
   "execution_count": null,
   "id": "d2075196",
   "metadata": {},
   "outputs": [],
   "source": []
  },
  {
   "cell_type": "markdown",
   "id": "89b12e99",
   "metadata": {},
   "source": [
    "\n",
    "**Zadanie 6:** Napisz pętlę `for`, która iteruje po liczbach od 1 do 20. Wewnątrz pętli użyj instrukcji `continue`, aby pominąć (nie wypisywać) liczby podzielne przez 3. Pozostałe liczby wypisz na ekranie w jednym wierszu (oddzielone spacją)."
   ]
  },
  {
   "cell_type": "code",
   "execution_count": null,
   "id": "d61c1ea3",
   "metadata": {},
   "outputs": [],
   "source": []
  },
  {
   "cell_type": "markdown",
   "id": "6fe6d586",
   "metadata": {},
   "source": [
    "\n",
    "\n",
    "**Zadanie 7:** Napisz program rozwiązujący klasyczny problem \"FizzBuzz\" dla liczb od 1 do 30. Dla każdej liczby od 1 do 30 program powinien wypisać:\n",
    "\n",
    "* \"Fizz\", jeśli liczba jest podzielna przez 3 i nie jest podzielna przez 5,\n",
    "* \"Buzz\", jeśli liczba jest podzielna przez 5 i nie jest podzielna przez 3,\n",
    "* \"FizzBuzz\", jeśli liczba jest podzielna jednocześnie przez 3 i 5,\n",
    "* w przeciwnym razie samą tę liczbę.\n",
    "\n",
    "Wyniki powinny być wypisane w osobnych liniach."
   ]
  },
  {
   "cell_type": "code",
   "execution_count": null,
   "id": "e955169e",
   "metadata": {},
   "outputs": [],
   "source": []
  },
  {
   "cell_type": "markdown",
   "id": "3066c45c",
   "metadata": {},
   "source": [
    "\n",
    "**Zadanie 8:** Za pomocą zagnieżdżonych pętli napisz kod, który wyświetli w konsoli następujący wzór (triangularny układ gwiazdek):\n",
    "\n",
    "```markdown\n",
    "\n",
    "*\n",
    "**\n",
    "***\n",
    "****\n",
    "*****\n",
    "\n",
    "\n",
    "```\n",
    "\n",
    "Czyli i-ty wiersz powinien zawierać `i` gwiazdek. Wykorzystaj dwie pętle: zewnętrzną dla numeru wiersza oraz wewnętrzną, która dodaje gwiazdki.\n"
   ]
  },
  {
   "cell_type": "code",
   "execution_count": null,
   "id": "3682d0bd",
   "metadata": {},
   "outputs": [],
   "source": []
  },
  {
   "cell_type": "markdown",
   "id": "35f93ac1",
   "metadata": {},
   "source": [
    "\n",
    "**Zadanie 9:** Mając listę liczb, wyznacz minimalną i maksymalną wartość z tej listy **bez** użycia wbudowanych funkcji `min()` i `max()`. Zaimplementuj to, iterując po liście za pomocą pętli i odpowiednio aktualizując zmienne przechowujące minimum i maksimum. Na koniec wypisz znalezione wartości."
   ]
  },
  {
   "cell_type": "code",
   "execution_count": null,
   "id": "ee880b9a",
   "metadata": {},
   "outputs": [],
   "source": []
  },
  {
   "cell_type": "markdown",
   "id": "995f312b",
   "metadata": {},
   "source": [
    "\n",
    "\n",
    "**Zadanie 10:** Napisz program, który sprawdza, czy zadana liczba `p` jest liczbą pierwszą. Liczba pierwsza to taka, która jest większa od 1 i dzieli się bez reszty tylko przez 1 oraz samą siebie. Program powinien iterować po potencjalnych dzielnikach (od 2 do `p-1` lub do √p dla optymalizacji) i sprawdzić, czy `p` jest podzielne przez którykolwiek z nich. Jeśli tak – wypisuje komunikat, że liczba nie jest pierwsza; jeśli nie – że jest pierwsza."
   ]
  },
  {
   "cell_type": "code",
   "execution_count": null,
   "id": "9284dc56",
   "metadata": {},
   "outputs": [],
   "source": []
  },
  {
   "cell_type": "markdown",
   "id": "b0a5bd88",
   "metadata": {},
   "source": [
    "\n",
    "\n",
    "## Temat 3: Debugging i obsługa wyjątków\n",
    "\n",
    "**Zadanie 1:** Napisz kod, który dzieli dwie liczby, np. `a = 10` przez `b = 0`. Zabezpiecz działanie kodu za pomocą bloku `try/except`, aby obsłużyć wyjątek dzielenia przez zero (`ZeroDivisionError`). W bloku `except` wypisz informację o błędzie (np. \"Nie można dzielić przez zero!\").\n"
   ]
  },
  {
   "cell_type": "code",
   "execution_count": null,
   "id": "bc631684",
   "metadata": {},
   "outputs": [],
   "source": []
  },
  {
   "cell_type": "markdown",
   "id": "3b2adba6",
   "metadata": {},
   "source": [
    "\n",
    "\n",
    "**Zadanie 2:** Napisz funkcję, która pobiera listę oraz indeks i zwraca element listy o podanym indeksie. Obsłuż przypadek, w którym indeks jest poza zakresem listy, używając `try/except` do wychwycenia wyjątku `IndexError`. W razie takiego błędu funkcja powinna zwrócić np. `None` lub wypisać komunikat o niepoprawnym indeksie."
   ]
  },
  {
   "cell_type": "code",
   "execution_count": null,
   "id": "af6ad752",
   "metadata": {},
   "outputs": [],
   "source": []
  },
  {
   "cell_type": "markdown",
   "id": "7d29c807",
   "metadata": {},
   "source": [
    "**Zadanie 3:** Napisz program, który prosi użytkownika o podanie liczby (możesz zasymulować taką sytuację, przypisując wartość do zmiennej `user_input`). Następnie spróbuj przekonwertować ten tekst na liczbę całkowitą za pomocą `int()`. Jeśli użytkownik poda wartość, której nie da się skonwertować (spowoduje to wyjątek `ValueError`), obsłuż ten wyjątek i wypisz komunikat \"Błędna wartość, podaj liczbę.\"."
   ]
  },
  {
   "cell_type": "code",
   "execution_count": null,
   "id": "60e4573b",
   "metadata": {},
   "outputs": [],
   "source": []
  },
  {
   "cell_type": "markdown",
   "id": "16311c11",
   "metadata": {},
   "source": [
    "**Zadanie 4:** W poniższym kodzie znajduje się błąd składniowy (SyntaxError). Zidentyfikuj i popraw ten błąd:"
   ]
  },
  {
   "cell_type": "code",
   "execution_count": null,
   "id": "3ffb3876",
   "metadata": {},
   "outputs": [],
   "source": [
    "numbers = [1, 2, 3, 4, 5]\n",
    "for num in numbers\n",
    "    if num % 2 == 0:\n",
    "        print(f\"{num} jest parzysta\")\n",
    "    else:\n",
    "        print(f\"{num} jest nieparzysta\")\n",
    "\n"
   ]
  },
  {
   "cell_type": "markdown",
   "id": "edf874d8",
   "metadata": {},
   "source": [
    "\n",
    "\n",
    "Po poprawieniu błędu składni, uruchom kod, aby upewnić się, że działa on poprawnie.\n"
   ]
  },
  {
   "cell_type": "code",
   "execution_count": null,
   "id": "259329d3",
   "metadata": {},
   "outputs": [],
   "source": []
  },
  {
   "cell_type": "markdown",
   "id": "a0972d72",
   "metadata": {},
   "source": [
    "**Zadanie 5:** Poniższa funkcja miała obliczać sumę liczb od 1 do n włącznie, ale zawiera błąd logiczny. Znajdź i popraw ten błąd:\n"
   ]
  },
  {
   "cell_type": "code",
   "execution_count": null,
   "id": "2bb5e3c0",
   "metadata": {},
   "outputs": [],
   "source": [
    "def sum_n(n):\n",
    "    total = 0\n",
    "    for i in range(1, n):\n",
    "        total += i\n",
    "    return total\n",
    "print(sum_n(5))  # oczekiwano 15"
   ]
  },
  {
   "cell_type": "code",
   "execution_count": null,
   "id": "79cb1ba4",
   "metadata": {},
   "outputs": [],
   "source": []
  },
  {
   "cell_type": "markdown",
   "id": "99c7df82",
   "metadata": {},
   "source": [
    "\n",
    "**Zadanie 6:** Spróbuj otworzyć nieistniejący plik o nazwie \"data.txt\" do odczytu. Obsłuż wyjątek `FileNotFoundError`, wypisując informację \"Plik nie został znaleziony.\" i w bloku `finally` wypisz komunikat \"Koniec operacji na pliku.\" Dzięki zastosowaniu bloku `finally` komunikat ten pojawi się niezależnie od tego, czy wystąpił wyjątek, czy nie."
   ]
  },
  {
   "cell_type": "code",
   "execution_count": null,
   "id": "d631e899",
   "metadata": {},
   "outputs": [],
   "source": []
  },
  {
   "cell_type": "markdown",
   "id": "18c65d4b",
   "metadata": {},
   "source": [
    "\n",
    "**Zadanie 7:** Napisz funkcję `check_positive(number)`, która sprawdza, czy podana liczba jest dodatnia. Jeśli liczba jest ujemna lub równa zero, funkcja powinna zgłaszać wyjątek `ValueError` z komunikatem \"Liczba nie jest dodatnia!\". Jeśli liczba jest dodatnia, funkcja może zwrócić np. tę samą liczbę. Wywołaj tę funkcję dla przykładowych wartości (dodatniej i ujemnej) i obsłuż potencjalny wyjątek."
   ]
  },
  {
   "cell_type": "code",
   "execution_count": null,
   "id": "6bf4bfc3",
   "metadata": {},
   "outputs": [],
   "source": []
  },
  {
   "cell_type": "markdown",
   "id": "d0a32950",
   "metadata": {},
   "source": [
    "\n",
    "**Zadanie 8:** Napisz funkcję `sqrt_non_negative(x)`, która zwraca pierwiastek kwadratowy z liczby `x`. Na początku funkcji użyj instrukcji `assert`, aby upewnić się, że argument `x` jest nieujemny (w przeciwnym razie wywołaj AssertionError z odpowiednim komunikatem). Przetestuj działanie tej funkcji dla wartości dodatniej oraz ujemnej (w tym drugim przypadku spodziewany jest błąd asercji)."
   ]
  },
  {
   "cell_type": "code",
   "execution_count": null,
   "id": "783856d0",
   "metadata": {},
   "outputs": [],
   "source": []
  },
  {
   "cell_type": "markdown",
   "id": "cc8e76c9",
   "metadata": {},
   "source": [
    "\n",
    "\n",
    "\n",
    "**Zadanie 9:** Zademonstruj obsługę wyjątku `TypeError`. Spróbuj wykonać operację, która spowoduje ten wyjątek, na przykład dodawanie liczby całkowitej do łańcucha znaków (`\"tekst\" + 5`). Zastosuj `try/except`, aby przechwycić błąd i wypisać przyjazny komunikat, np. \"Niezgodność typów - nie można dodać liczby do tekstu.\"."
   ]
  },
  {
   "cell_type": "code",
   "execution_count": null,
   "id": "251a4b1b",
   "metadata": {},
   "outputs": [],
   "source": []
  },
  {
   "cell_type": "markdown",
   "id": "5c40ea63",
   "metadata": {},
   "source": [
    "\n",
    "**Zadanie 10:** Napisz funkcję `divide_numbers(a, b)`, która przyjmuje dwie wartości (mogą to być łańcuchy reprezentujące liczby) i zwraca wynik ich podzielenia. Wykorzystaj obsługę wyjątków, aby poradzić sobie z dwoma sytuacjami: (1) gdy konwersja którejś wartości do typu liczbowego się nie powiedzie (`ValueError`), (2) gdy wystąpi próba dzielenia przez zero (`ZeroDivisionError`). W obu przypadkach funkcja powinna wyświetlić odpowiedni komunikat błędu i zwrócić np. `None`."
   ]
  },
  {
   "cell_type": "code",
   "execution_count": null,
   "id": "c52ab61b",
   "metadata": {},
   "outputs": [],
   "source": []
  },
  {
   "cell_type": "markdown",
   "id": "a334fb1d",
   "metadata": {},
   "source": [
    "\n",
    "## Temat 4: Funkcje\n",
    "\n",
    "**Zadanie 1:** Napisz prostą funkcję `add(a, b)`, która zwraca sumę dwóch liczb `a` i `b`. Przetestuj tę funkcję, wywołując ją z różnymi argumentami i wyświetlając wyniki (np. `add(2, 3)` powinno zwrócić 5)."
   ]
  },
  {
   "cell_type": "code",
   "execution_count": null,
   "id": "136437e7",
   "metadata": {},
   "outputs": [],
   "source": []
  },
  {
   "cell_type": "markdown",
   "id": "bd0e6497",
   "metadata": {},
   "source": [
    "\n",
    "\n",
    "**Zadanie 2:** Napisz funkcję `greet(name, greeting=\"Hello\")`, która przyjmuje dwa argumenty: `name` (imię) oraz opcjonalny `greeting` (przywitanie, domyślnie \"Hello\"). Funkcja powinna zwracać sformatowany łańcuch z powitaniem, np. dla `greet(\"Jan\", \"Hi\")` zwróci \"Hi Jan!\", a dla domyślnej wartości `greeting` wywołanie `greet(\"Anna\")` zwróci \"Hello Anna!\". Pokaż przykładowe wywołania funkcji z i bez podania drugiego argumentu."
   ]
  },
  {
   "cell_type": "code",
   "execution_count": null,
   "id": "91ff21bd",
   "metadata": {},
   "outputs": [],
   "source": []
  },
  {
   "cell_type": "markdown",
   "id": "f41e06b9",
   "metadata": {},
   "source": [
    "\n",
    "\n",
    "**Zadanie 3:** Napisz funkcję `weighted_sum(a, b, c)`, która oblicza sumę ważoną trzech liczb w taki sposób: `a + 2*b + 3*c` i zwraca wynik. Następnie pokaż dwa sposoby wywołania tej funkcji z argumentami `a=1, b=2, c=3`: (1) przekazując argumenty pozycyjnie, (2) przekazując argumenty jako nazwane."
   ]
  },
  {
   "cell_type": "code",
   "execution_count": null,
   "id": "e2c713de",
   "metadata": {},
   "outputs": [],
   "source": []
  },
  {
   "cell_type": "markdown",
   "id": "93427d13",
   "metadata": {},
   "source": [
    "\n",
    "\n",
    "**Zadanie 4:** Napisz funkcję `sum_all(*args)`, która przyjmuje dowolną liczbę argumentów pozycyjnych (użyj `*args`) i zwraca sumę wszystkich przekazanych liczb. Przetestuj funkcję, wywołując ją z różną liczbą argumentów (np. `sum_all(1, 2, 3)` oraz `sum_all(5, 10, 15, 20)`)."
   ]
  },
  {
   "cell_type": "code",
   "execution_count": null,
   "id": "28f7f193",
   "metadata": {},
   "outputs": [],
   "source": []
  },
  {
   "cell_type": "markdown",
   "id": "2acf15a1",
   "metadata": {},
   "source": [
    "\n",
    "\n",
    "\n",
    "**Zadanie 5:** Napisz funkcję `print_kwargs(**kwargs)`, która przyjmuje dowolną liczbę argumentów nazwanych (użyj `**kwargs`) i wypisuje każdy klucz i odpowiadającą mu wartość w osobnej linii, w formacie `klucz = wartość`. Przetestuj funkcję, przekazując do niej kilka argumentów nazwanych, na przykład `print_kwargs(name=\"Anna\", age=30, city=\"Warsaw\")`."
   ]
  },
  {
   "cell_type": "code",
   "execution_count": null,
   "id": "9967cd52",
   "metadata": {},
   "outputs": [],
   "source": []
  },
  {
   "cell_type": "markdown",
   "id": "a4d0dc41",
   "metadata": {},
   "source": [
    "\n",
    "\n",
    "**Zadanie 6:** Napisz funkcję `stats(numbers)`, która przyjmuje listę `numbers` i zwraca dwie wartości: sumę oraz średnią elementów tej listy. Możesz to zrobić, zwracając krotkę dwóch wartości lub listę. Następnie wywołaj funkcję dla przykładowej listy, a wyniki (sumę i średnią) przypisz do dwóch zmiennych poprzez rozpakowanie wartości zwróconych przez funkcję.\n"
   ]
  },
  {
   "cell_type": "code",
   "execution_count": null,
   "id": "6b543316",
   "metadata": {},
   "outputs": [],
   "source": []
  },
  {
   "cell_type": "markdown",
   "id": "75d01e87",
   "metadata": {},
   "source": [
    "**Zadanie 7:** Napisz rekurencyjną funkcję `fibonacci(n)`, która zwraca n-ty wyraz ciągu Fibonacciego. Ciąg Fibonacciego definiujemy następująco: `fibonacci(0) = 0`, `fibonacci(1) = 1`, a dla `n > 1` `fibonacci(n) = fibonacci(n-1) + fibonacci(n-2)`. Następnie przetestuj tę funkcję, wywołując ją dla kilku kolejnych wartości n (np. od 0 do 6) i wypisując wyniki.\n"
   ]
  },
  {
   "cell_type": "code",
   "execution_count": null,
   "id": "714127ae",
   "metadata": {},
   "outputs": [],
   "source": []
  },
  {
   "cell_type": "markdown",
   "id": "1a03135d",
   "metadata": {},
   "source": [
    "\n",
    "**Zadanie 8:** Stwórz wyrażenie lambda, które mnoży dwie liczby. Przypisz je do zmiennej `multiply` i użyj do pomnożenia kilku par liczb, wypisując wyniki. Następnie wykorzystaj funkcję wbudowaną `map()` wraz z lambdą, aby pomnożyć przez 2 wszystkie elementy listy, np. `[1, 2, 3, 4]` i wypisać otrzymaną listę wyników.\n"
   ]
  },
  {
   "cell_type": "code",
   "execution_count": null,
   "id": "0859fb02",
   "metadata": {},
   "outputs": [],
   "source": []
  },
  {
   "cell_type": "markdown",
   "id": "57696a2b",
   "metadata": {},
   "source": [
    "\n",
    "\n",
    "\n",
    "\n",
    "**Zadanie 9:** Napisz funkcję `filter_even(numbers)`, która przyjmuje listę liczb i zwraca nową listę zawierającą jedynie liczby parzyste z listy wejściowej. W implementacji użyj pętli lub list comprehension do filtrowania. Przetestuj funkcję na przykładowej liście, wypisując wynik.\n"
   ]
  },
  {
   "cell_type": "code",
   "execution_count": null,
   "id": "1ee5b944",
   "metadata": {},
   "outputs": [],
   "source": []
  },
  {
   "cell_type": "markdown",
   "id": "16ec2a28",
   "metadata": {},
   "source": [
    "\n",
    "\n",
    "**Zadanie 10:** Napisz funkcję `gcd(a, b)`, która oblicza największy wspólny dzielnik (NWD, ang. GCD - greatest common divisor) dwóch liczb całkowitych `a` i `b` przy użyciu algorytmu Euklidesa. Algorytm Euklidesa polega na iteracyjnym zastępowaniu pary liczb `(a, b)` parą `(b, a % b)` dopóki `b` nie będzie równe 0; wówczas `a` jest NWD. Wykorzystaj pętlę `while` do implementacji. Przetestuj funkcję na kilku parach liczb (np. (48, 18) -> wynik 6, (20, 8) -> wynik 4)."
   ]
  },
  {
   "cell_type": "code",
   "execution_count": null,
   "id": "845cf9e6",
   "metadata": {},
   "outputs": [],
   "source": []
  },
  {
   "cell_type": "markdown",
   "id": "95217663",
   "metadata": {},
   "source": [
    "\n",
    "\n",
    "## Temat 5: Modularność i importowanie modułów\n",
    "\n",
    "**Zadanie 1:** Skorzystaj z modułu standardowego `math`. Zaimportuj cały moduł (np. `import math`) i oblicz pole koła o zadanym promieniu `r = 5`. Wykorzystaj do tego stałą `math.pi` oraz funkcję `math.pow` lub operator potęgowania `**`. Wynik wypisz na ekranie."
   ]
  },
  {
   "cell_type": "code",
   "execution_count": null,
   "id": "8130d68d",
   "metadata": {},
   "outputs": [],
   "source": []
  },
  {
   "cell_type": "markdown",
   "id": "1dd12309",
   "metadata": {},
   "source": [
    "\n",
    "**Zadanie 2:** Zaimportuj z modułu `math` tylko wybrane elementy. Na przykład, zaimportuj funkcję `sqrt` oraz stałą `pi` z modułu math (używając składni `from math import sqrt, pi`). Następnie oblicz pierwiastek kwadratowy z liczby 16 oraz wypisz wartość liczby π (pi) z dokładnością do 5 miejsc po przecinku."
   ]
  },
  {
   "cell_type": "code",
   "execution_count": null,
   "id": "399d2de6",
   "metadata": {},
   "outputs": [],
   "source": []
  },
  {
   "cell_type": "markdown",
   "id": "a677ab74",
   "metadata": {},
   "source": [
    "\n",
    "\n",
    "**Zadanie 3:** Zaimportuj moduł `datetime` pod aliasem `dt` (czyli używając `import datetime as dt`). Następnie pobierz bieżącą datę i godzinę za pomocą funkcji `dt.datetime.now()`. Wyświetl uzyskaną datę i godzinę w formacie `RRRR-MM-DD GG:MM:SS`."
   ]
  },
  {
   "cell_type": "code",
   "execution_count": null,
   "id": "e25b0a40",
   "metadata": {},
   "outputs": [],
   "source": []
  },
  {
   "cell_type": "markdown",
   "id": "686a9a10",
   "metadata": {},
   "source": [
    "\n",
    "\n",
    "\n",
    "**Zadanie 4:** Skorzystaj z modułu `random`. Wylosuj 5 liczb całkowitych z zakresu od 1 do 10 (włącznie) i zapisz je do listy. Następnie wylosuj jedną liczbę z utworzonej listy. Użyj funkcji `random.randint` do losowania liczb i `random.choice` do wyboru elementu z listy."
   ]
  },
  {
   "cell_type": "code",
   "execution_count": null,
   "id": "a00de596",
   "metadata": {},
   "outputs": [],
   "source": []
  },
  {
   "cell_type": "markdown",
   "id": "383bfb7e",
   "metadata": {},
   "source": [
    "\n",
    "\n",
    "**Zadanie 5:** Utwórz własny moduł (plik) o nazwie `calculator.py`, w którym zdefiniujesz dwie funkcje: `add(a, b)` zwracającą sumę `a` i `b` oraz `subtract(a, b)` zwracającą różnicę `a` i `b`. Następnie w swoim głównym programie (np. w notatniku Jupyter) zaimportuj obie te funkcje za pomocą `from calculator import add, subtract` i przetestuj ich działanie, wywołując je z przykładowymi argumentami."
   ]
  },
  {
   "cell_type": "code",
   "execution_count": null,
   "id": "277e559c",
   "metadata": {},
   "outputs": [],
   "source": []
  },
  {
   "cell_type": "code",
   "execution_count": null,
   "id": "7c6cb899",
   "metadata": {},
   "outputs": [],
   "source": []
  },
  {
   "cell_type": "markdown",
   "id": "ea1a4a66",
   "metadata": {},
   "source": [
    "\n",
    "\n",
    "\n",
    "**Zadanie 6:** Skorzystaj z modułu `os` (system operacyjny). Zaimportuj go (np. `import os`) i wypisz bieżący katalog roboczy za pomocą funkcji `os.getcwd()`. Następnie wyświetl listę plików i folderów w tym katalogu za pomocą `os.listdir()`. (Jeśli wykonujesz to w notatniku Jupyter, bieżącym katalogiem będzie najczęściej folder z notatnikiem).\n"
   ]
  },
  {
   "cell_type": "code",
   "execution_count": null,
   "id": "5d43e8bf",
   "metadata": {},
   "outputs": [],
   "source": []
  },
  {
   "cell_type": "markdown",
   "id": "63d6cbae",
   "metadata": {},
   "source": [
    "\n",
    "**Zadanie 7:** Wykorzystaj moduł `statistics` (wbudowany w Pythonie) do obliczenia podstawowych statystyk dla listy danych. Zaimportuj moduł (lub konkretne funkcje) i oblicz średnią (`mean`) oraz medianę (`median`) dla przykładowej listy liczb, np. `[2, 5, 7, 4, 2, 9]`. Wyniki wyświetl na ekranie."
   ]
  },
  {
   "cell_type": "code",
   "execution_count": null,
   "id": "13ae42e5",
   "metadata": {},
   "outputs": [],
   "source": []
  },
  {
   "cell_type": "markdown",
   "id": "1e3e0a11",
   "metadata": {},
   "source": [
    "\n",
    "\n",
    "**Zadanie 8:** Python posiada kilka ciekawych \"ukrytych\" modułów. Zaimportuj moduł `this` i zobacz jego wynik. (Jest to tak zwany \"Zen of Python\" – zbiór zasad pisania dobrego kodu w Pythonie). Spróbuj zinterpretować pierwszą z zasad."
   ]
  },
  {
   "cell_type": "code",
   "execution_count": null,
   "id": "30916569",
   "metadata": {},
   "outputs": [],
   "source": []
  },
  {
   "cell_type": "markdown",
   "id": "98a551d3",
   "metadata": {},
   "source": [
    "\n",
    "**Zadanie 9:** Skorzystaj z modułu `collections`. Zaimportuj z niego klasę `Counter` (`from collections import Counter`). Utwórz listę, która zawiera powtarzające się elementy, na przykład `fruits = [\"apple\", \"banana\", \"apple\", \"orange\", \"banana\", \"apple\"]`. Następnie użyj `Counter`, aby zliczyć wystąpienia poszczególnych elementów w liście i wyświetl wyniki.\n"
   ]
  },
  {
   "cell_type": "code",
   "execution_count": null,
   "id": "1728784e",
   "metadata": {},
   "outputs": [],
   "source": []
  },
  {
   "cell_type": "markdown",
   "id": "acdc8d68",
   "metadata": {},
   "source": [
    "\n",
    "**Zadanie 10:** Wykorzystaj moduł `itertools`. Zaimportuj funkcję `product` z `itertools` (`from itertools import product`). Użyj jej do wygenerowania iloczynu kartezjańskiego dwóch list, np. `list1 = [1, 2]` oraz `list2 = [\"A\", \"B\"]`. Wynik (wszystkie pary łączące element z pierwszej listy z elementem z drugiej listy) wypisz na ekranie."
   ]
  },
  {
   "cell_type": "code",
   "execution_count": null,
   "id": "2b81dc13",
   "metadata": {},
   "outputs": [],
   "source": []
  },
  {
   "cell_type": "markdown",
   "id": "dd6e0409",
   "metadata": {},
   "source": [
    "\n",
    "\n",
    "## Temat 6: Programowanie obiektowe (klasy, atrybuty, metody, dziedziczenie, polimorfizm)\n",
    "\n",
    "**Zadanie 1:** Zdefiniuj klasę `Animal`, która będzie reprezentować zwierzę. Każdy obiekt tej klasy powinien mieć atrybut `name` (nazwa zwierzęcia) ustawiany przy tworzeniu obiektu (w metodzie `__init__`). Dodaj również metodę `speak()`, która będzie wypisywać domyślny komunikat (np. \"*\\<name> makes a sound.*\"). Następnie utwórz instancję klasy `Animal` (np. `animal = Animal(\"Zwierz\")`) i wywołaj jej metodę `speak()`.\n"
   ]
  },
  {
   "cell_type": "code",
   "execution_count": null,
   "id": "4916446c",
   "metadata": {},
   "outputs": [],
   "source": []
  },
  {
   "cell_type": "markdown",
   "id": "5db716a2",
   "metadata": {},
   "source": [
    "\n",
    "\n",
    "**Zadanie 2:** Zdefiniuj klasę `Dog`, która dziedziczy po klasie `Animal` (utworzonej w poprzednim zadaniu). W metodzie `speak()` klasy `Dog` zaimplementuj wypisanie komunikatu specyficznego dla psa, np. \"*\\<name> szczeka: Hau hau!*\". Upewnij się, że metoda `speak()` w klasie `Dog` przesłania metodę z klasy bazowej `Animal` (czyli polimorficznie zachowuje się inaczej dla obiektów Dog). Utwórz obiekt klasy `Dog` i wywołaj jego metodę `speak()`."
   ]
  },
  {
   "cell_type": "code",
   "execution_count": null,
   "id": "cd922c0a",
   "metadata": {},
   "outputs": [],
   "source": []
  },
  {
   "cell_type": "markdown",
   "id": "e91df359",
   "metadata": {},
   "source": [
    "\n",
    "\n",
    "**Zadanie 3:** Zdefiniuj analogicznie klasę `Cat`, również dziedziczącą po `Animal`. Przedefiniuj w niej metodę `speak()`, aby wypisywała komunikat dla kota, np. \"*\\<name> miauczy: Miau!*\". Utwórz obiekt klasy `Cat` i sprawdź, czy wywołanie `speak()` daje właściwy rezultat."
   ]
  },
  {
   "cell_type": "code",
   "execution_count": null,
   "id": "3f452349",
   "metadata": {},
   "outputs": [],
   "source": []
  },
  {
   "cell_type": "markdown",
   "id": "9f2bcf5b",
   "metadata": {},
   "source": [
    "\n",
    "\n",
    "**Zadanie 4:** Pokaż polimorfizm w praktyce. Utwórz listę zwierząt zawierającą obiekty różnych klas, np. `animals = [Animal(\"Zwierz\"), Dog(\"Azor\"), Cat(\"Filemon\")]`. Następnie przeiteruj po tej liście i dla każdego zwierzęcia wywołaj metodę `speak()`. Powinieneś zaobserwować, że mimo wywoływania tej samej metody, efekt jest różny w zależności od konkretnego typu obiektu (dzięki polimorfizmowi)."
   ]
  },
  {
   "cell_type": "code",
   "execution_count": null,
   "id": "ea0be97b",
   "metadata": {},
   "outputs": [],
   "source": []
  },
  {
   "cell_type": "markdown",
   "id": "6362394a",
   "metadata": {},
   "source": [
    "\n",
    "\n",
    "**Zadanie 5:** Dodaj do klasy `Animal` atrybut klasowy (statyczny) `species_count`, który będzie zliczał liczbę utworzonych obiektów. Inkrementuj tę zmienną w konstruktorze `__init__`. Dodatkowo, dodaj metodę klasową `get_species_count()`, która zwróci aktualną wartość `species_count`. Przetestuj, tworząc kilka obiektów różnych klas (Animal, Dog, Cat) i wywołując `Animal.get_species_count()`."
   ]
  },
  {
   "cell_type": "code",
   "execution_count": null,
   "id": "c57062dc",
   "metadata": {},
   "outputs": [],
   "source": []
  },
  {
   "cell_type": "markdown",
   "id": "aaa68327",
   "metadata": {},
   "source": [
    "\n",
    "\n",
    "**Zadanie 6:** Dodaj do klasy `Animal` metodę specjalną `__str__`, która zwróci czytelny opis obiektu (np. `\"Animal(name=<nazwa>)\"`). Dzięki temu wydrukowanie obiektu (funkcją `print(obiekt)`) spowoduje wyświetlenie przyjaznej informacji. Przetestuj tę funkcjonalność, drukując obiekt klasy Animal oraz obiekt klasy Dog lub Cat."
   ]
  },
  {
   "cell_type": "code",
   "execution_count": null,
   "id": "cc40f6e3",
   "metadata": {},
   "outputs": [],
   "source": []
  },
  {
   "cell_type": "markdown",
   "id": "71c40fa9",
   "metadata": {},
   "source": [
    "\n",
    "\n",
    "**Zadanie 7:** Zdefiniuj klasę `Rectangle`, która ma atrybuty `width` i `height` (ustawiane w konstruktorze). Dodaj do niej metodę `area()`, która oblicza i zwraca pole prostokąta oraz metodę `perimeter()`, która zwraca obwód. Następnie utwórz instancję `Rectangle` (np. o wymiarach 3 x 4) i wyświetl wynik działania metod `area()` i `perimeter()`."
   ]
  },
  {
   "cell_type": "code",
   "execution_count": null,
   "id": "f5a0eec1",
   "metadata": {},
   "outputs": [],
   "source": []
  },
  {
   "cell_type": "markdown",
   "id": "14f5979f",
   "metadata": {},
   "source": [
    "\n",
    "\n",
    "**Zadanie 8:** Dodaj do klasy `Rectangle` metodę statyczną `is_square(width, height)`, która przyjmuje dwie wartości (szerokość i wysokość) i zwraca `True` jeśli z podanych wymiarów można utworzyć kwadrat (czyli jeśli `width == height`), w przeciwnym razie `False`. Następnie skorzystaj z tej metody, aby sprawdzić parę przykładowych wymiarów, np. (5, 5) oraz (3, 4)."
   ]
  },
  {
   "cell_type": "code",
   "execution_count": null,
   "id": "c0b58ec6",
   "metadata": {},
   "outputs": [],
   "source": []
  },
  {
   "cell_type": "markdown",
   "id": "4f3db525",
   "metadata": {},
   "source": [
    "\n",
    "\n",
    "**Zadanie 9:** Zdefiniuj klasę `Square`, która dziedziczy po klasie `Rectangle`. Konstruktor klasy `Square` powinien przyjmować jeden argument `side` (długość boku kwadratu) i wywoływać konstruktor klasy `Rectangle` za pomocą funkcji `super()`, przekazując do niego `width` i `height` o tej samej wartości `side`. Dzięki dziedziczeniu, klasa `Square` automatycznie posiada metody `area()` i `perimeter()`. Utwórz obiekt klasy `Square` i pokaż, że metody `area()` i `perimeter()` działają poprawnie."
   ]
  },
  {
   "cell_type": "code",
   "execution_count": null,
   "id": "38fcdd91",
   "metadata": {},
   "outputs": [],
   "source": []
  },
  {
   "cell_type": "markdown",
   "id": "903562fe",
   "metadata": {},
   "source": [
    "\n",
    "**Zadanie 10:** Dodaj do klasy `Rectangle` metodę specjalną `__eq__`, która porównuje dwa prostokąty pod względem ich wymiarów (szerokości i wysokości). Metoda powinna zwracać `True`, jeśli oba prostokąty mają taką samą szerokość i wysokość (niezależnie od kolejności porównania, czyli prostokąty 3x4 i 3x4 są równe). Przetestuj działanie przeciążonego operatora `==` tworząc dwa prostokąty o takich samych wymiarach i porównując je.\n"
   ]
  },
  {
   "cell_type": "code",
   "execution_count": null,
   "id": "028584e1",
   "metadata": {},
   "outputs": [],
   "source": []
  },
  {
   "cell_type": "markdown",
   "id": "c8253f4e",
   "metadata": {},
   "source": [
    "\n",
    "## Temat 7: Czysty i efektywny kod (PEP8, refaktoryzacja, list comprehensions, idiomy pythoniczne)"
   ]
  },
  {
   "cell_type": "markdown",
   "id": "7be66730",
   "metadata": {},
   "source": [
    "**Zadanie 1:** Poniższy kod nie jest zgodny z konwencjami PEP8 dotyczącymi nazewnictwa i formatowania:\n"
   ]
  },
  {
   "cell_type": "code",
   "execution_count": null,
   "id": "37bde0b6",
   "metadata": {},
   "outputs": [],
   "source": [
    "def SumElements(List):\n",
    "    total=0\n",
    "    for X in List:\n",
    "       total+=X\n",
    "    return total\n"
   ]
  },
  {
   "cell_type": "markdown",
   "id": "a7b76479",
   "metadata": {},
   "source": [
    "Popraw go, stosując nazewnictwo zmiennych i funkcji zgodne z PEP8 (małe litery, podkreślenia), odpowiednie wcięcia oraz spacje wokół operatorów. Następnie podaj przykład wywołania tej funkcji.\n"
   ]
  },
  {
   "cell_type": "code",
   "execution_count": null,
   "id": "8a10f76e",
   "metadata": {},
   "outputs": [],
   "source": []
  },
  {
   "cell_type": "markdown",
   "id": "0fd2704c",
   "metadata": {},
   "source": [
    "\n",
    "\n",
    "**Zadanie 2:** Zrefaktoryzuj poniższy kod, zamieniając pętlę na **list comprehension**:"
   ]
  },
  {
   "cell_type": "code",
   "execution_count": null,
   "id": "13b565b5",
   "metadata": {},
   "outputs": [],
   "source": [
    "numbers = [1, 2, 3, 4, 5]\n",
    "squares = []\n",
    "for i in numbers:\n",
    "    squares.append(i * i)\n",
    "print(squares)\n"
   ]
  },
  {
   "cell_type": "code",
   "execution_count": null,
   "id": "72523301",
   "metadata": {},
   "outputs": [],
   "source": []
  },
  {
   "cell_type": "markdown",
   "id": "8a04d13c",
   "metadata": {},
   "source": [
    "**Zadanie 3:** Podany kod filtruje listę liczb, zostawiając tylko liczby parzyste. Zastąp go wyrażeniem list comprehension z warunkiem (tzw. **conditional comprehension**), aby osiągnąć ten sam efekt w jednej linii:"
   ]
  },
  {
   "cell_type": "code",
   "execution_count": null,
   "id": "22806b82",
   "metadata": {},
   "outputs": [],
   "source": [
    "numbers = [10, 3, 4, 7, 8, 11, 14]\n",
    "even_numbers = []\n",
    "for n in numbers:\n",
    "    if n % 2 == 0:\n",
    "        even_numbers.append(n)\n",
    "print(even_numbers)\n"
   ]
  },
  {
   "cell_type": "code",
   "execution_count": null,
   "id": "cd7d4e83",
   "metadata": {},
   "outputs": [],
   "source": []
  },
  {
   "cell_type": "markdown",
   "id": "061db92d",
   "metadata": {},
   "source": [
    "\n",
    "\n",
    "**Zadanie 4:** Częstym idiomem w Pythonie jest zamiana dwóch zmiennych miejscami bez użycia zmiennej tymczasowej. Mając zmienne:\n",
    "\n",
    "```python\n",
    "\n",
    "a = 5\n",
    "b = 7\n",
    "\n",
    "\n",
    "```\n",
    "\n",
    "zamień ich wartości miejscami za pomocą jednej instrukcji (wykorzystując **tuple unpacking**) i wypisz nowe wartości `a` i `b`. (Przed refaktoryzacją załóżmy, że był użyty kod z zmienną tymczasową, np. `temp = a; a = b; b = temp` – teraz zamienimy to na Pythonic way).\n"
   ]
  },
  {
   "cell_type": "code",
   "execution_count": null,
   "id": "608f87e2",
   "metadata": {},
   "outputs": [],
   "source": []
  },
  {
   "cell_type": "markdown",
   "id": "13475b82",
   "metadata": {},
   "source": [
    "\n",
    "\n",
    "**Zadanie 5:** Poniższy kod wypisuje elementy listy wraz z ich indeksami, jednak nie jest napisany w \"Pythonic\" sposób:\n",
    "\n",
    "```python\n",
    "\n",
    "names = [\"Alice\", \"Bob\", \"Charlie\"]\n",
    "index = 0\n",
    "for name in names:\n",
    "    print(index, \"-\", name)\n",
    "    index += 1\n",
    "\n",
    "Zrefaktoryzuj go, wykorzystując funkcję wbudowaną **`enumerate()`**, która ułatwia iterowanie po indeksach i wartościach jednocześnie.\n",
    "```"
   ]
  },
  {
   "cell_type": "code",
   "execution_count": null,
   "id": "7da9c720",
   "metadata": {},
   "outputs": [],
   "source": []
  },
  {
   "cell_type": "markdown",
   "id": "d78af94f",
   "metadata": {},
   "source": [
    "\n",
    "**Zadanie 6:** Masz dwie listy:\n",
    "\n",
    "```python\n",
    "\n",
    "ids = [1, 2, 3]\n",
    "colors = [\"red\", \"green\", \"blue\"]\n",
    "\n",
    "\n",
    "```\n",
    "\n",
    "Chcesz wypisać pary `(id, color)` dla odpowiadających sobie elementów obu list. Początkowy kod może używać indeksowania:\n",
    "\n",
    "```python\n",
    "\n",
    "for i in range(len(ids)):\n",
    "    print(ids[i], \"-\", colors[i])\n",
    "\n",
    "\n",
    "```\n",
    "\n",
    "Zrefaktoryzuj go, używając funkcji **`zip()`**, aby iterować po obu listach jednocześnie w sposób czytelniejszy."
   ]
  },
  {
   "cell_type": "code",
   "execution_count": null,
   "id": "9b03072f",
   "metadata": {},
   "outputs": [],
   "source": []
  },
  {
   "cell_type": "markdown",
   "id": "b8326893",
   "metadata": {},
   "source": [
    "\n",
    "**Zadanie 7:** Rozważ kod, który konkatenuje (łączy) ciąg znaków w pętli:\n",
    "\n",
    "```python\n",
    "\n",
    "\n",
    "words = [\"Python\", \"jest\", \"super\"]\n",
    "sentence = \"\"\n",
    "for w in words:\n",
    "    sentence += w + \" \"\n",
    "print(sentence)\n",
    "\n",
    "\n",
    "```\n",
    "\n",
    "Choć kod działa, nie jest to wydajny sposób łączenia napisów w Pythonie. Zrefaktoryzuj go, wykorzystując metodę stringów **`join()`**, aby połączyć listę słów w jedno zdanie."
   ]
  },
  {
   "cell_type": "code",
   "execution_count": null,
   "id": "dd054262",
   "metadata": {},
   "outputs": [],
   "source": []
  },
  {
   "cell_type": "markdown",
   "id": "7b1325c1",
   "metadata": {},
   "source": [
    "\n",
    "**Zadanie 8:** Poniższy kod buduje słownik kwadratów liczb przy użyciu pętli:\n",
    "\n",
    "```python\n",
    "\n",
    "numbers = [1, 2, 3, 4]\n",
    "squares_dict = {}\n",
    "for n in numbers:\n",
    "    squares_dict[n] = n * n\n",
    "print(squares_dict)\n",
    "\n",
    "\n",
    "```\n",
    "\n",
    "Przepisz go, używając **dictionary comprehension**, aby utworzyć słownik w jednej linijce."
   ]
  },
  {
   "cell_type": "code",
   "execution_count": null,
   "id": "c49b597f",
   "metadata": {},
   "outputs": [],
   "source": []
  },
  {
   "cell_type": "markdown",
   "id": "4dd7980f",
   "metadata": {},
   "source": [
    "\n",
    "\n",
    "**Zadanie 9:** Zamiast ręcznie otwierać i zamykać plik przy pomocy `open()` i `close()`, lepiej jest wykorzystać konstrukcję **with (context manager)**, która zadba o automatyczne zamknięcie pliku. Zrefaktoryzuj kod:\n"
   ]
  },
  {
   "cell_type": "markdown",
   "id": "1311e5a0",
   "metadata": {},
   "source": [
    "```python\n",
    "\n",
    "f = open(\"test.txt\", \"w\")\n",
    "f.write(\"Hello\\\\n\")\n",
    "f.write(\"World\\\\n\")\n",
    "f.close()\n",
    "\n",
    "\n",
    "```\n",
    "\n",
    "na wersję z użyciem `with`, zakładając, że chcemy zapisać do pliku \"test.txt\" dwa wiersze: \"Hello\" i \"World\"."
   ]
  },
  {
   "cell_type": "code",
   "execution_count": null,
   "id": "ec390a9b",
   "metadata": {},
   "outputs": [],
   "source": []
  },
  {
   "cell_type": "markdown",
   "id": "4812cb3b",
   "metadata": {},
   "source": [
    "\n",
    "**Zadanie 10:** Zrefaktoryzuj poniższy fragment kodu, zamieniając konstrukcję if/else na **wyrażenie warunkowe (ternary operator)** w Pythonie:\n",
    "\n",
    "```python\n",
    "\n",
    "a = 10\n",
    "b = 20\n",
    "if a > b:\n",
    "    max_val = a\n",
    "else:\n",
    "    max_val = b\n",
    "print(max_val)\n",
    "\n",
    "\n",
    "```\n",
    "\n",
    "Po zmianie kod powinien być zapisany w jednej linii (przypisanie z użyciem ternary) i dawać ten sam wynik."
   ]
  },
  {
   "cell_type": "code",
   "execution_count": null,
   "id": "b2c97636",
   "metadata": {},
   "outputs": [],
   "source": []
  }
 ],
 "metadata": {
  "kernelspec": {
   "display_name": "Python 3",
   "language": "python",
   "name": "python3"
  },
  "language_info": {
   "codemirror_mode": {
    "name": "ipython",
    "version": 3
   },
   "file_extension": ".py",
   "mimetype": "text/x-python",
   "name": "python",
   "nbconvert_exporter": "python",
   "pygments_lexer": "ipython3",
   "version": "3.12.9"
  }
 },
 "nbformat": 4,
 "nbformat_minor": 5
}
