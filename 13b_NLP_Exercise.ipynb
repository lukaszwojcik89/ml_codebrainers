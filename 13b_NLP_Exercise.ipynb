{
 "cells": [
  {
   "cell_type": "markdown",
   "metadata": {},
   "source": [
    "### Zadanie: Automatyczne wykrywanie cyberprzemocy (Binary Classification)\n",
    "\n",
    "&#x20;\n",
    "\n",
    "#### 1. Cel i kontekst zadania\n",
    "\n",
    "W dobie dynamicznego rozwoju mediów społecznościowych problem cyberprzemocy nabiera szczególnego znaczenia. Cyberprzemoc, czyli nękanie i szkalowanie osób poprzez internet, wpływa negatywnie na zdrowie psychiczne użytkowników, zwłaszcza młodzieży. Celem tego zadania jest opracowanie systemu, który automatycznie rozróżnia tweety zawierające przekazy cyberprzemocy od tych nieszkodliwych. \n",
    "\n",
    "* **Pozytywna klasa:** Tweet zawiera elementy cyberprzemocy (szkodliwe).\n",
    "* **Negatywna klasa:** Tweet nie zawiera elementów cyberprzemocy (nieszkodliwe).\n",
    "\n",
    "#### 2. Opis danych\n",
    "\n",
    "* **Źródło:** Tweety pobrane z publicznych dyskusji na Twitterze.\n",
    "* **Przetwarzanie wstępne:** Dane są dostarczone z minimalnym przetwarzaniem – zachowano oryginalną formę tweetów z wyjątkiem niezbędnego usunięcia danych umożliwiających identyfikację osób.\n",
    "* **Cel:** Klasyfikacja każdego tweeta jako zawierający cyberprzemoc lub nie.\n",
    "\n",
    "#### 3. Wymagania techniczne i zadania do wykonania\n",
    "\n",
    "1. **Analiza eksploracyjna danych (EDA):**\n",
    "\n",
    "   * Zapoznaj się ze strukturą danych, sprawdź rozkład klas oraz podstawowe statystyki.\n",
    "   * Przeprowadź wizualizacje, które pozwolą zidentyfikować ewentualne problemy, takie jak nierównomierny rozkład klas.\n",
    "2. **Przetwarzanie tekstu:**\n",
    "\n",
    "   * Wykonaj dodatkowe czyszczenie tekstu, jeśli to konieczne (np. tokenizacja, usuwanie stop-słów, lematyzacja).\n",
    "   * Upewnij się, że wszelkie dane osobowe są odpowiednio zamaskowane lub usunięte.\n",
    "3. **Inżynieria cech:**\n",
    "\n",
    "   * Przetestuj różne metody reprezentacji tekstu, np. TF-IDF, word embeddings lub modele językowe typu BERT.\n",
    "   * Zadbaj o właściwą selekcję cech, aby poprawić jakość klasyfikacji.\n",
    "4. **Budowa modelu klasyfikacyjnego:**\n",
    "\n",
    "   * Utwórz pipeline, który obejmuje wszystkie etapy: przetwarzanie danych, ekstrakcję cech i klasyfikator.\n",
    "   * Wypróbuj różne algorytmy klasyfikacji (np. regresję logistyczną, SVM, drzewa decyzyjne, modele ensemble lub sieci neuronowe).\n",
    "   * Zoptymalizuj parametry modelu przy użyciu walidacji krzyżowej lub zbioru walidacyjnego.\n",
    "5. **Ewaluacja modelu:**\n",
    "\n",
    "   * Oceniaj model, stosując miary: Precision, Recall, F-score oraz Accuracy.\n",
    "   * Przeanalizuj błędy klasyfikacji i zidentyfikuj obszary do ewentualnych usprawnień.\n",
    "6. **Prezentacja wyników:**\n",
    "\n",
    "   * Przygotuj raport (np. w formie notebooka lub prezentacji), w którym przedstawisz cały proces – od analizy danych, przez etapy przetwarzania tekstu, aż po wyniki modelowania i wnioski.\n",
    "   * W raporcie omów, jakie metody i techniki sprawdziły się najlepiej oraz jakie napotkano wyzwania podczas realizacji zadania.\n"
   ]
  },
  {
   "cell_type": "markdown",
   "metadata": {},
   "source": []
  },
  {
   "cell_type": "code",
   "execution_count": null,
   "metadata": {},
   "outputs": [],
   "source": [
    "import pandas as pd\n",
    "from pathlib import Path\n",
    "\n",
    "# Definicja ścieżek do plików\n",
    "text_file = Path('datasets/nlp_training_set_clean_only_text.txt')\n",
    "tags_file = Path('datasets/nlp_training_set_clean_only_tags.txt')\n",
    "\n",
    "\n",
    "# Wczytywanie danych tekstowych\n",
    "with text_file.open('r', encoding='utf-8') as file:\n",
    "    text_data = file.read().splitlines()\n",
    "\n",
    "# Wczytywanie etykiet\n",
    "with tags_file.open('r', encoding='utf-8') as file:\n",
    "    labels = file.read().splitlines()\n",
    "\n",
    "# Sprawdzenie, czy liczba rekordów jest zgodna\n",
    "if len(text_data) != len(labels):\n",
    "    raise ValueError(\"Liczba wierszy w pliku tekstowym nie zgadza się z liczbą etykiet.\")\n",
    "\n",
    "# Konwersja etykiet na typ całkowity\n",
    "labels = [int(label) for label in labels]\n",
    "\n",
    "# Tworzenie DataFrame\n",
    "df = pd.DataFrame({\n",
    "    'text': text_data,\n",
    "    'label': labels\n",
    "})\n",
    "\n",
    "print(df.head())\n"
   ]
  },
  {
   "cell_type": "code",
   "execution_count": null,
   "metadata": {},
   "outputs": [],
   "source": []
  }
 ],
 "metadata": {
  "kernelspec": {
   "display_name": "Python 3",
   "language": "python",
   "name": "python3"
  },
  "language_info": {
   "codemirror_mode": {
    "name": "ipython",
    "version": 3
   },
   "file_extension": ".py",
   "mimetype": "text/x-python",
   "name": "python",
   "nbconvert_exporter": "python",
   "pygments_lexer": "ipython3",
   "version": "3.12.9"
  }
 },
 "nbformat": 4,
 "nbformat_minor": 2
}
